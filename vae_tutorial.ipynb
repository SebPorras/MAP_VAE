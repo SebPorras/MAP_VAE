{
 "cells": [
  {
   "cell_type": "code",
   "execution_count": 13,
   "id": "9a12f803-0adc-4249-8965-8091a905a621",
   "metadata": {},
   "outputs": [],
   "source": [
    "import numpy as np\n",
    "import matplotlib.pyplot as plt\n",
    "import matplotlib.colors as col"
   ]
  },
  {
   "cell_type": "code",
   "execution_count": 16,
   "id": "c55e702d-77bc-4075-9fa4-c1283baec3a1",
   "metadata": {},
   "outputs": [
    {
     "name": "stdout",
     "output_type": "stream",
     "text": [
      "Collecting regex\n",
      "  Using cached regex-2023.12.25-cp39-cp39-manylinux_2_17_x86_64.manylinux2014_x86_64.whl.metadata (40 kB)\n",
      "Using cached regex-2023.12.25-cp39-cp39-manylinux_2_17_x86_64.manylinux2014_x86_64.whl (773 kB)\n",
      "Installing collected packages: regex\n",
      "Successfully installed regex-2023.12.25\n"
     ]
    }
   ],
   "source": [
    "!pip install regex"
   ]
  },
  {
   "cell_type": "code",
   "execution_count": 6,
   "id": "a60e838b-aeb5-4472-8282-8868d82a82ea",
   "metadata": {},
   "outputs": [],
   "source": [
    "def plot_gt(data):\n",
    "    limit = 0.5\n",
    "    step = 1/1024.0\n",
    "    pixels = int(2*limit/step)\n",
    "    grid = np.array([[a, b] for a in np.arange(-limit, limit, step) for b in np.arange(-limit, limit, step)])\n",
    "\n",
    "    if data =='checkerboard':\n",
    "        l=[0,2,1,3,0,2,1,3]\n",
    "        color = np.zeros((pixels,pixels,3))\n",
    "        for i in range(8):\n",
    "            y=i//2*256\n",
    "            x=l[i]*256\n",
    "            color[x:x+256, y:y+256,0]=i/8.0\n",
    "            color[x:x+256, y:y+256,2]=1\n",
    "\n",
    "    color = color.reshape((pixels,pixels,3))\n",
    "\n",
    "    color[:,:,0]/=(color[:,:,2]+1e-12)\n",
    "    color[:,:,1]=1\n",
    "    prob = color[:,:,2].reshape((pixels,pixels))\n",
    "    prob = prob / np.sum(prob) #normalize the data\n",
    "    prob+=1e-20\n",
    "    entropy = - prob * np.log(prob)/np.log(2)\n",
    "    entropy = np.sum(entropy)\n",
    "    max_prob = np.max(prob)\n",
    "\n",
    "    color[:,:,2]/=np.max(color[:,:,2])\n",
    "    color[:,:,1]=color[:,:,2]\n",
    "    color = np.clip(color, 0, 1)\n",
    "    color = col.hsv_to_rgb(color)\n",
    "\n",
    "    fig = plt.figure(figsize=(18, 18))\n",
    "\n",
    "    ax1 = fig.add_subplot(1,2,1)\n",
    "    ax1.axis('off')\n",
    "    ax1.imshow(prob, extent=(-limit, limit, -limit, limit))\n",
    "\n",
    "    ax2 = fig.add_subplot(1,2,2)\n",
    "    ax2.axis('off')\n",
    "    ax2.imshow(color, extent=(-limit, limit, -limit, limit))\n",
    "\n",
    "    fig.tight_layout()\n",
    "\n",
    "    return entropy-20, max_prob, prob, color"
   ]
  },
  {
   "cell_type": "code",
   "execution_count": 7,
   "id": "ea4dded6-5ac3-4ab7-bfd2-eabdc42afd34",
   "metadata": {},
   "outputs": [
    {
     "name": "stdout",
     "output_type": "stream",
     "text": [
      "Entropy for Checkerboard: -1.000000\n"
     ]
    },
    {
     "data": {
      "image/png": "[encoded data removed]",
      "text/plain": [
       "<Figure size 1800x1800 with 2 Axes>"
      ]
     },
     "metadata": {},
     "output_type": "display_data"
    }
   ],
   "source": [
    "entropyc, max_probc, probc, colorc =plot_gt('checkerboard')\n",
    "print('Entropy for Checkerboard: {:f}'.format( entropyc))\n",
    "#print('Max probability for Checkerboard: {:e}'.format(max_probc))\n"
   ]
  },
  {
   "cell_type": "code",
   "execution_count": 8,
   "id": "08f8d22b-f4f6-4569-a778-2b81d9ff0140",
   "metadata": {},
   "outputs": [],
   "source": [
    "def sample2d(data, batch_size=200):\n",
    "    #code largely taken from https://github.com/nicola-decao/BNAF/blob/master/data/generate2d.py\n",
    "\n",
    "    rng = np.random.RandomState()\n",
    "\n",
    "    if data == '8gaussians':\n",
    "        scale = 4\n",
    "        centers = [(1, 0), (-1, 0), (0, 1), (0, -1), (1. / np.sqrt(2), 1. / np.sqrt(2)),\n",
    "                   (1. / np.sqrt(2), -1. / np.sqrt(2)), (-1. / np.sqrt(2),\n",
    "                                                         1. / np.sqrt(2)), (-1. / np.sqrt(2), -1. / np.sqrt(2))]\n",
    "        centers = [(scale * x, scale * y) for x, y in centers]\n",
    "\n",
    "        dataset = []\n",
    "        #dataset = np.zeros((batch_size, 2))\n",
    "        for i in range(batch_size):\n",
    "            point = rng.randn(2) * 0.5\n",
    "            idx = rng.randint(8)\n",
    "            center = centers[idx]\n",
    "            point[0] += center[0]\n",
    "            point[1] += center[1]\n",
    "            dataset.append(point)\n",
    "            #dataset[i]=point\n",
    "        dataset = np.array(dataset, dtype='float32')\n",
    "        dataset /= 1.414\n",
    "        return dataset/8.0\n",
    "\n",
    "    elif data == '2spirals':\n",
    "        n = np.sqrt(np.random.rand(batch_size, 1)) * 540 * (2 * np.pi) / 360\n",
    "        d1x = -np.cos(n) * n\n",
    "        d1y = np.sin(n) * n \n",
    "        x = np.hstack((d1x, d1y)) / 3 * (np.random.randint(0, 2, (batch_size,1)) * 2 -1)\n",
    "        x += np.random.randn(*x.shape) * 0.1\n",
    "        return x/8.0\n",
    "\n",
    "    elif data == 'checkerboard':\n",
    "        x1 = np.random.rand(batch_size) * 4 - 2\n",
    "        x2_ = np.random.rand(batch_size) - np.random.randint(0, 2, batch_size) * 2\n",
    "        x2 = x2_ + (np.floor(x1) % 2)\n",
    "        return np.concatenate([x1[:, None], x2[:, None]], 1) * 2 / 8.0\n",
    "\n",
    "    else:\n",
    "        raise RuntimeError"
   ]
  },
  {
   "cell_type": "code",
   "execution_count": 505,
   "id": "723f5ac1-6d62-4a14-b4ab-47e050fef176",
   "metadata": {},
   "outputs": [
    {
     "data": {
      "text/plain": [
       "numpy.ndarray"
      ]
     },
     "execution_count": 505,
     "metadata": {},
     "output_type": "execute_result"
    }
   ],
   "source": [
    "data = sample2d(\"checkerboard\")\n"
   ]
  },
  {
   "cell_type": "code",
   "execution_count": null,
   "id": "92880907-790e-4d4d-9e20-2b98784b2a79",
   "metadata": {},
   "outputs": [],
   "source": [
    "from torchvision.datasets import MNIST\n",
    "import torchvision.transforms as transforms\n",
    "from torch.utils.data import DataLoader\n",
    "\n",
    "\n",
    "mnist_transform = transforms.Compose([\n",
    "        transforms.ToTensor(),\n",
    "])\n",
    "\n",
    "kwargs = {'num_workers': 1, 'pin_memory': True} \n",
    "\n",
    "train_dataset = MNIST(dataset_path, transform=mnist_transform, train=True, download=True)\n",
    "test_dataset  = MNIST(dataset_path, transform=mnist_transform, train=False, download=True)\n",
    "\n",
    "train_loader = DataLoader(dataset=train_dataset, batch_size=batch_size, shuffle=True, **kwargs)\n",
    "test_loader  = DataLoader(dataset=test_dataset,  batch_size=batch_size, shuffle=False, **kwargs)"
   ]
  },
  {
   "cell_type": "code",
   "execution_count": 467,
   "id": "94ed666e-7d42-4035-9080-41b470e9f957",
   "metadata": {},
   "outputs": [],
   "source": [
    "import math\n",
    "import torch\n",
    "import torch.nn.functional as F\n",
    "from torch.optim import Adam"
   ]
  },
  {
   "cell_type": "code",
   "execution_count": 517,
   "id": "53ff4a9a-c2d9-4e83-8c40-37e7a48521e3",
   "metadata": {},
   "outputs": [],
   "source": [
    "class Encoder(nn.Module):\n",
    "    \n",
    "    def __init__(self, inputDim: int, bottleNeckDim: int) -> None:\n",
    "        super(Encoder, self).__init__()\n",
    "    \n",
    "        self.inputDim = inputDim\n",
    "\n",
    "        # hyper parameters\n",
    "        self.bottleNeckDim  = bottleNeckDim\n",
    "\n",
    "        # encoder layers\n",
    "        self.linearReluStack = nn.Sequential(\n",
    "            nn.Linear(inputDim, bottleNeckDim),\n",
    "            nn.ReLU(),\n",
    "            nn.Linear(bottleNeckDim, bottleNeckDim),\n",
    "            nn.ReLU()\n",
    "        )\n",
    "    \n",
    "    def forward(self, rawInput: torch.Tensor) -> torch.Tensor:\n",
    "        return self.linearReluStack(rawInput)\n",
    "\n",
    "class Decoder(nn.Module):\n",
    "\n",
    "    def __init__(self, inputDim: int, bottleNeckDim: int, outputDim: int) -> None:\n",
    "        super(Decoder, self).__init__()\n",
    "\n",
    "        self.inputDim = inputDim\n",
    "        self.bottleNeckDim = bottleNeckDim\n",
    "        self.outputDim = outputDim\n",
    "\n",
    "        # decoder layers\n",
    "        self.linearReluStack = nn.Sequential(\n",
    "            nn.Linear(inputDim, bottleNeckDim),\n",
    "            nn.ReLU(),\n",
    "            nn.Linear(bottleNeckDim, outputDim),\n",
    "            nn.Softmax()\n",
    "        )\n",
    "\n",
    "    def forward(self, latentInput: torch.Tensor) -> torch.Tensor:\n",
    "        xHat = self.linearReluStack(latentInput)\n",
    "        return xHat\n",
    "\n",
    "class VAE(nn.Module):\n",
    "    \"\"\"Base VAE implementation\"\"\"\n",
    "    def __init__(self, bottleNeckDim: int, latentDim: int, \n",
    "                 encoder: nn.Module, decoder: nn.Module) -> None:\n",
    "        \n",
    "        super(VAE, self).__init__()\n",
    "\n",
    "        # hyper-parameters\n",
    "        self.latent_dim = latentDim\n",
    "        self.bottleNeckDim = bottleNeckDim\n",
    "        \n",
    "        # will transform to an initial SD of 1 for gaussian likelihood \n",
    "        self.logStandardDeviation = nn.Parameter(torch.Tensor([0.0])) \n",
    "\n",
    "        self.encoder = encoder\n",
    "        self.decoder = decoder\n",
    "\n",
    "        # extract Mu and logVar (log variance)\n",
    "        self.zMuSampler = nn.Linear(bottleNeckDim, latentDim)\n",
    "        self.zLogvarSampler = nn.Linear(bottleNeckDim, latentDim)\n",
    "\n",
    "        # restructure latent sample to be passed to decoder\n",
    "        self.latentUpscaler = nn.Linear(latentDim, bottleNeckDim)\n",
    "\n",
    "    def reparameterise(self, zMu: torch.Tensor, zLogvar: torch.Tensor) -> torch.Tensor:\n",
    "        \"\"\"Construct a Gaussian distribution from learnt values of \n",
    "        Mu and sigma and sample a vector Z from this distribution\"\"\"\n",
    "        \n",
    "        # convert Log(variance) to standard deviation \n",
    "        std = zLogvar.mul(0.5).exp()\n",
    "        qPhi = torch.distributions.Normal(zMu, std)\n",
    "        \n",
    "        return qPhi.rsample()\n",
    "\n",
    "    def encode(self, rawInput: torch.Tensor) -> torch.Tensor:\n",
    "        \"\"\"Take the rawInput and encode into a bottle neck dimension \n",
    "        specified by the encoder. Transform this into Mu and log variance\n",
    "        values to construct a distribution. i.e. P_phi(Z|X)\n",
    "        \"\"\"\n",
    "\n",
    "        # find qPhi encoding of the raw input \n",
    "        encoderOutput = self.encoder(rawInput)\n",
    "\n",
    "        # sample out the gaussian parameters \n",
    "        zMu = self.zMuSampler(encoderOutput)\n",
    "        zLogvar = self.zLogvarSampler(encoderOutput)\n",
    "\n",
    "        return zMu, zLogvar\n",
    "\n",
    "    def decode(self, zSample: torch.Tensor) -> torch.Tensor:\n",
    "        \"\"\"Sample a latent vector, Z, and \n",
    "        learn the parameters from which reconstructions \n",
    "        can be sampled from. I.e. we are learning P_sigma(X|Z)\n",
    "        \"\"\"\n",
    "        upscaledZ = self.latentUpscaler(zSample)\n",
    "        xHat = self.decoder(upscaledZ)\n",
    "        \n",
    "        return xHat\n",
    "        \n",
    "    def forward(self, rawInput: torch.Tensor) -> tuple[\n",
    "        torch.Tensor, torch.Tensor,\n",
    "        torch.Tensor, torch.Tensor\n",
    "    ]:\n",
    "\n",
    "        zMu, zLogvar = self.encode(rawInput)\n",
    "    \n",
    "        # construct a gaussian distribution and sample\n",
    "        zSample = self.reparameterise(zMu, zLogvar)\n",
    "\n",
    "        # learn q_theta parameters \n",
    "        xHat = self.decode(zSample)\n",
    "\n",
    "        return xHat, zSample, zMu, zLogvar\n",
    "\n",
    "  \n",
    "    def setup_optimiser(self, learningRate : int = 1e-4):\n",
    "        return Adam(self.parameters(), lr=learningRate)\n",
    "\n",
    "        "
   ]
  },
  {
   "cell_type": "code",
   "execution_count": 527,
   "id": "7b54f5ca-7740-4b28-bcc9-fd223755be0e",
   "metadata": {},
   "outputs": [],
   "source": [
    "latentDim = 2\n",
    "inputDim = 2\n",
    "bottleNeckDim = 32\n",
    "input = torch.rand([3,inputDim])\n",
    "input.shape\n",
    "\n",
    "encoder = Encoder(inputDim=inputDim, bottleNeckDim=bottleNeckDim)\n",
    "decoder = Decoder(inputDim=bottleNeckDim, bottleNeckDim=bottleNeckDim, outputDim=inputDim)\n",
    "vae = VAE(bottleNeckDim=bottleNeckDim, latentDim=latentDim, encoder=encoder, decoder=decoder)\n",
    "\n",
    "#encoder, decoder, vae"
   ]
  },
  {
   "cell_type": "code",
   "execution_count": 486,
   "id": "2bd9ea21-0325-4d67-a1b9-a128ef957161",
   "metadata": {},
   "outputs": [
    {
     "data": {
      "text/plain": [
       "torch.Size([3, 1024])"
      ]
     },
     "execution_count": 486,
     "metadata": {},
     "output_type": "execute_result"
    }
   ],
   "source": []
  },
  {
   "cell_type": "code",
   "execution_count": 553,
   "id": "debda4e3-5aa7-40ab-85a2-596493c935a8",
   "metadata": {},
   "outputs": [],
   "source": [
    "def KL_divergence(zMu: torch.Tensor, zLogvar: torch.Tensor, zSample: torch.Tensor):\n",
    "    \"\"\"Based off a Monte Carlo estimation of KL divergence. \n",
    "    Above batch sizes of 128 it is generally fairly accurate.\"\"\"\n",
    "\n",
    "    # Define the distribution we are regularising the encoder with\n",
    "    p_theta = torch.distributions.Normal(torch.zeros_like(zMu), torch.ones_like(zMu))\n",
    "    \n",
    "    # now define a distribution from our learned parameters\n",
    "    zStd = zLogvar.mul(0.5).exp()\n",
    "\n",
    "    q_phi = torch.distributions.Normal(zMu, zStd)\n",
    "\n",
    "    # find the probability of our sample Z under each distribution \n",
    "    log_qzx = q_phi.log_prob(zSample)\n",
    "    log_pz = p_theta.log_prob(zSample)\n",
    "\n",
    "    kl = log_qzx - log_pz\n",
    "\n",
    "    # sum over all dimensions get the average \n",
    "    return kl.sum(dim=tuple(range(1,kl.ndim))).mean(dim=0)\n",
    "\n",
    "def gaussian_likelihood(xHat: torch.Tensor, globalLogSD: torch.Tensor, x : torch.Tensor) -> torch.Tensor:\n",
    "    \"\"\"Build a distribution from parameters estimated from the decoder and the global log variance \n",
    "    which is another model parameter. Calculate the log probability of the original input x under this \n",
    "    distribution and return the average across all samples.\"\"\"\n",
    "\n",
    "    globalStd = globalLogSD.exp()\n",
    "    qPhi = torch.distributions.Normal(xHat, globalStd)\n",
    "\n",
    "    log_pxz = qPhi.log_prob(x)\n",
    "\n",
    "    # sum up across all dims and then average \n",
    "    return log_pxz.sum(dim=tuple(range(1, log_pxz.ndim))).mean(dim=0)\n",
    "\n",
    "def elbo_loss(modelOutputs: tuple[torch.Tensor, torch.Tensor, torch.Tensor, torch.Tensor],\n",
    "             globalLogSD: torch.Tensor, input: torch.Tensor):\n",
    "    \n",
    "    xHat, zSample, zMu, zLogvar = modelOutputs\n",
    "\n",
    "    kl = KL_divergence(zMu, zLogvar, zSample)\n",
    "    \n",
    "    likelihood = gaussian_likelihood(xHat, globalLogSD, input)\n",
    "\n",
    "    elbo = kl - likelihood\n",
    "\n",
    "    return elbo, kl, likelihood\n",
    "    "
   ]
  },
  {
   "cell_type": "code",
   "execution_count": 540,
   "id": "b35bc5a3-dd6e-43b3-8110-415bd17bafa5",
   "metadata": {},
   "outputs": [],
   "source": [
    "data = sample2d(\"checkerboard\")\n",
    "input = torch.tensor(data).float()"
   ]
  },
  {
   "cell_type": "code",
   "execution_count": 542,
   "id": "70d460eb-c9cb-4f47-9cd7-6b6676844f9d",
   "metadata": {},
   "outputs": [
    {
     "name": "stdout",
     "output_type": "stream",
     "text": [
      "Adam (\n",
      "Parameter Group 0\n",
      "    amsgrad: False\n",
      "    betas: (0.9, 0.999)\n",
      "    capturable: False\n",
      "    differentiable: False\n",
      "    eps: 1e-08\n",
      "    foreach: None\n",
      "    fused: None\n",
      "    lr: 0.0001\n",
      "    maximize: False\n",
      "    weight_decay: 0\n",
      ")\n"
     ]
    },
    {
     "data": {
      "text/plain": [
       "tensor(2.1668, grad_fn=<SubBackward0>)"
      ]
     },
     "execution_count": 542,
     "metadata": {},
     "output_type": "execute_result"
    }
   ],
   "source": [
    "modelOutputs = vae(input)\n",
    "xHat.size()\n",
    "optimiser = vae.setup_optimiser()\n",
    "print(optimiser)\n",
    "\n",
    "\n",
    "elbo = elbo_loss(modelOutputs, vae.logStandardDeviation, input)\n",
    "elbo"
   ]
  },
  {
   "cell_type": "code",
   "execution_count": 577,
   "id": "c85bc9eb-46a8-4f78-a202-284f73eeb918",
   "metadata": {},
   "outputs": [],
   "source": [
    "import time\n",
    "\n",
    "def s2hms(s) -> tuple[int, int, int]:\n",
    "    h = s // 3600\n",
    "    m = (s - h * 3600) // 60\n",
    "    s = int((s-h*3600-m*60))\n",
    "    return h,m,s\n",
    "\n",
    "\n",
    "def print_progress(time, cur_iter, total_iter) -> None:\n",
    "  h,m,s = s2hms(time)\n",
    "  h2,m2,s2 = s2hms(time*total_iter/cur_iter - time)\n",
    "  return f\"Time Elapsed: {h} hours {m} minutes {s} seconds. Time Remaining: {h2} hours {m2} minutes {s2} seconds.\\n\"\n",
    "\n",
    "def train(dataset: str, outpath: str, model=None, epochs=60000, print_freq=1000):\n",
    "\n",
    "    if model is None: \n",
    "        latentDim = 2\n",
    "        inputDim = 2\n",
    "        bottleNeckDim = 1024\n",
    "        \n",
    "        encoder = Encoder(inputDim=inputDim, bottleNeckDim=bottleNeckDim)\n",
    "        decoder = Decoder(inputDim=bottleNeckDim, bottleNeckDim=bottleNeckDim,\n",
    "                          outputDim=inputDim)\n",
    "        \n",
    "        model = VAE(bottleNeckDim=bottleNeckDim, latentDim=latentDim,\n",
    "                    encoder=encoder, decoder=decoder) #.cuda()\n",
    "\n",
    "    start=time.time()\n",
    "    optimiser = model.setup_optimiser()\n",
    "    loss_est=0\n",
    "    best_est = 1e9\n",
    "    model.train(True)\n",
    "    log=\"\"\n",
    "    for iteration in range(epochs):\n",
    "        data = torch.tensor(sample2d(dataset, 40000)).float() #.cuda()\n",
    "        print(data.size())\n",
    "\n",
    "        # forward step \n",
    "        modelOutputs = model(data)\n",
    "\n",
    "        # calculate loss \n",
    "        loss, kl, likelihood = elbo_loss(modelOutputs, model.logStandardDeviation, data)\n",
    "        loss.backward()\n",
    "        optimiser.step()\n",
    "        optimiser.zero_grad()\n",
    "        loss_est = 0.999*loss_est + 0.001*loss\n",
    "        data=None\n",
    "        if iteration%print_freq == 0:\n",
    "            with torch.no_grad():\n",
    "                iter = f\"Iteration {iteration}. EMA: {loss_est} ELBO: {loss} L_rec: {likelihood} L_reg: {kl}\\n\"\n",
    "                stats = print_progress(time.time()-start, iteration+1, epochs)\n",
    "                log+=iter\n",
    "                log+=stats\n",
    "\n",
    "    with open(outpath, 'w') as file:\n",
    "        file.write(log)\n",
    "    \n",
    "        \n",
    "        "
   ]
  },
  {
   "cell_type": "code",
   "execution_count": 578,
   "id": "cc6e1626-aecc-49d5-9ce8-615a788f47af",
   "metadata": {},
   "outputs": [
    {
     "name": "stdout",
     "output_type": "stream",
     "text": [
      "torch.Size([40000, 2])\n",
      "torch.Size([40000, 2])\n",
      "torch.Size([40000, 2])\n",
      "torch.Size([40000, 2])\n",
      "torch.Size([40000, 2])\n",
      "torch.Size([40000, 2])\n",
      "torch.Size([40000, 2])\n",
      "torch.Size([40000, 2])\n",
      "torch.Size([40000, 2])\n",
      "torch.Size([40000, 2])\n"
     ]
    }
   ],
   "source": [
    "\n",
    "modelc = train_vae('checkerboard',None,60000,100) #should take ~20 minutes to train\n",
    "   "
   ]
  },
  {
   "cell_type": "markdown",
   "id": "6c7321e0-b4c8-4f80-8fc0-6f3cff231bbe",
   "metadata": {},
   "source": [
    "# Loss results"
   ]
  },
  {
   "cell_type": "code",
   "execution_count": 22,
   "id": "07879fbf-9138-41a9-94a0-9ce204e59229",
   "metadata": {},
   "outputs": [],
   "source": [
    "x = []\n",
    "y = []\n",
    "\n",
    "with open(\"iter_loss.txt\", \"r\") as file:\n",
    "    lines = file.readlines()\n",
    "    for line in lines:\n",
    "        line = line.strip().split(\".\")\n",
    "\n",
    "        iter = int(line[0])\n",
    "        loss = float(line[1] + '.' + line[2])\n",
    "\n",
    "        x.append(iter)\n",
    "        y.append(loss)\n",
    "        "
   ]
  },
  {
   "cell_type": "code",
   "execution_count": 23,
   "id": "fba1a0d9-1387-4a56-a5d8-a3ebf70b7eb7",
   "metadata": {},
   "outputs": [
    {
     "data": {
      "text/plain": [
       "<matplotlib.collections.PathCollection at 0x11dd702c0>"
      ]
     },
     "execution_count": 23,
     "metadata": {},
     "output_type": "execute_result"
    },
    {
     "data": {
      "image/png": "[encoded data removed]",
      "text/plain": [
       "<Figure size 640x480 with 1 Axes>"
      ]
     },
     "metadata": {},
     "output_type": "display_data"
    }
   ],
   "source": [
    "plt.scatter(x,y)"
   ]
  },
  {
   "cell_type": "code",
   "execution_count": null,
   "id": "34735142-644c-4471-be2a-1e78ac9337b1",
   "metadata": {},
   "outputs": [],
   "source": []
  }
 ],
 "metadata": {
  "kernelspec": {
   "display_name": "Python 3 (ipykernel)",
   "language": "python",
   "name": "python3"
  },
  "language_info": {
   "codemirror_mode": {
    "name": "ipython",
    "version": 3
   },
   "file_extension": ".py",
   "mimetype": "text/x-python",
   "name": "python",
   "nbconvert_exporter": "python",
   "pygments_lexer": "ipython3",
   "version": "3.12.1"
  }
 },
 "nbformat": 4,
 "nbformat_minor": 5
}
