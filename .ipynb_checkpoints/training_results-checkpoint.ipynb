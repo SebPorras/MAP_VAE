{
 "cells": [
  {
   "cell_type": "code",
   "execution_count": 37,
   "id": "a95b2326",
   "metadata": {},
   "outputs": [],
   "source": [
    "import torch\n",
    "from evoVAE.models.standardVAE import StandardVAE\n",
    "from evoVAE.encoders.minimal_encoder import MinEncoder\n",
    "from evoVAE.decoders.minimal_decoder import MinDecoder\n",
    "from torch.utils.data import DataLoader\n",
    "from torchvision import datasets\n",
    "from torchvision.transforms import ToTensor\n",
    "import matplotlib.pyplot as plt"
   ]
  },
  {
   "cell_type": "code",
   "execution_count": 7,
   "id": "4a058ae4",
   "metadata": {},
   "outputs": [],
   "source": [
    "inputDim = 28 * 28\n",
    "\n",
    "bottleNeckDim = 512\n",
    "latentDim = 2\n",
    "\n",
    "encoder = MinEncoder(inputDim=inputDim, bottleNeckDim=bottleNeckDim)\n",
    "decoder = MinDecoder(\n",
    "    inputDim=bottleNeckDim, bottleNeckDim=bottleNeckDim, outputDim=inputDim\n",
    ")\n",
    "\n",
    "model = StandardVAE(\n",
    "    inputDims=inputDim,\n",
    "    bottleNeckDim=bottleNeckDim,\n",
    "    latentDim=latentDim,\n",
    "    encoder=encoder,\n",
    "    decoder=decoder,\n",
    ")"
   ]
  },
  {
   "cell_type": "code",
   "execution_count": 126,
   "id": "3ff62c65",
   "metadata": {},
   "outputs": [
    {
     "data": {
      "text/plain": [
       "StandardVAE(\n",
       "  (encoder): MinEncoder(\n",
       "    (linearReluStack): Sequential(\n",
       "      (0): Linear(in_features=784, out_features=512, bias=True)\n",
       "      (1): ReLU()\n",
       "      (2): Linear(in_features=512, out_features=512, bias=True)\n",
       "      (3): ReLU()\n",
       "    )\n",
       "  )\n",
       "  (zMuSampler): Linear(in_features=512, out_features=2, bias=True)\n",
       "  (zLogvarSampler): Linear(in_features=512, out_features=2, bias=True)\n",
       "  (latentUpscaler): Linear(in_features=2, out_features=512, bias=True)\n",
       "  (decoder): MinDecoder(\n",
       "    (linearReluStack): Sequential(\n",
       "      (0): Linear(in_features=512, out_features=512, bias=True)\n",
       "      (1): ReLU()\n",
       "      (2): Linear(in_features=512, out_features=784, bias=True)\n",
       "      (3): Softmax(dim=None)\n",
       "    )\n",
       "  )\n",
       ")"
      ]
     },
     "execution_count": 126,
     "metadata": {},
     "output_type": "execute_result"
    }
   ],
   "source": [
    "model.load_state_dict(torch.load(\"model_weights.pth\", map_location=torch.device('cpu')))\n",
    "model.eval()"
   ]
  },
  {
   "cell_type": "code",
   "execution_count": 127,
   "id": "c31ca494",
   "metadata": {},
   "outputs": [],
   "source": [
    "training_data = datasets.FashionMNIST(\n",
    "    root=\"data\", train=True, download=False, transform=ToTensor()\n",
    ")\n",
    "\n",
    "test_data = datasets.FashionMNIST(\n",
    "    root=\"data\", train=False, download=False, transform=ToTensor()\n",
    ")\n",
    "\n",
    "train_loader = torch.utils.data.DataLoader(training_data, batch_size=128)\n",
    "test_loader = torch.utils.data.DataLoader(test_data, batch_size=128)"
   ]
  },
  {
   "cell_type": "code",
   "execution_count": 14,
   "id": "c64ab959",
   "metadata": {},
   "outputs": [
    {
     "data": {
      "text/plain": [
       "79"
      ]
     },
     "execution_count": 14,
     "metadata": {},
     "output_type": "execute_result"
    }
   ],
   "source": [
    "len(test_loader)"
   ]
  },
  {
   "cell_type": "code",
   "execution_count": 20,
   "id": "400f9648-893f-4df8-9827-d3cc67fd7006",
   "metadata": {},
   "outputs": [],
   "source": [
    "x, y = test_data[0]"
   ]
  },
  {
   "cell_type": "code",
   "execution_count": 28,
   "id": "2abee34f-a5fc-46e0-9878-8c02f7e99cc5",
   "metadata": {},
   "outputs": [],
   "source": [
    "flat_x = x.reshape(-1, 28 * 28).shape"
   ]
  },
  {
   "cell_type": "code",
   "execution_count": 141,
   "id": "b68e5fc6-d3a4-4bfd-a856-87d2d4e9c0ac",
   "metadata": {},
   "outputs": [
    {
     "name": "stdout",
     "output_type": "stream",
     "text": [
      "tensor([[-0.2271, -1.2512]])\n"
     ]
    },
    {
     "data": {
      "image/png": "[encoded data removed]",
      "text/plain": [
       "<Figure size 640x480 with 2 Axes>"
      ]
     },
     "metadata": {},
     "output_type": "display_data"
    }
   ],
   "source": [
    "with torch.no_grad():\n",
    "    for data, _ in train_loader:\n",
    "\n",
    "        sample_idx = torch.randint(len(test_loader), size=(1,)).item()\n",
    "        sample = data[sample_idx].reshape(-1, 28 * 28)\n",
    "        modelOutput = model(sample)\n",
    "        z = modelOutput[1]\n",
    "        print(z)\n",
    "        xHat = modelOutputs[0].reshape(1, 28, 28)   \n",
    "        \n",
    "        fig, axs = plt.subplots(1, 2)\n",
    "        axs[0].imshow(data[sample_idx][0], cmap='gray')\n",
    "        axs[0].set_title(\"Original\")\n",
    "\n",
    "        axs[1].imshow(xHat[0].numpy(), cmap='gray')\n",
    "        axs[1].set_title(\"Reconstruction\")\n",
    "        break \n"
   ]
  },
  {
   "cell_type": "code",
   "execution_count": null,
   "id": "da1fc96d-594e-4931-8641-ecaed9a18f87",
   "metadata": {},
   "outputs": [],
   "source": []
  },
  {
   "cell_type": "code",
   "execution_count": null,
   "id": "f2bf559c-ae57-4d51-9777-4862de024392",
   "metadata": {},
   "outputs": [],
   "source": []
  }
 ],
 "metadata": {
  "kernelspec": {
   "display_name": "Python 3 (ipykernel)",
   "language": "python",
   "name": "python3"
  },
  "language_info": {
   "codemirror_mode": {
    "name": "ipython",
    "version": 3
   },
   "file_extension": ".py",
   "mimetype": "text/x-python",
   "name": "python",
   "nbconvert_exporter": "python",
   "pygments_lexer": "ipython3",
   "version": "3.8.18"
  }
 },
 "nbformat": 4,
 "nbformat_minor": 5
}
