{
 "cells": [
  {
   "cell_type": "code",
   "execution_count": null,
   "id": "a95b2326",
   "metadata": {},
   "outputs": [],
   "source": [
    "import torch\n",
    "from evoVAE.models.convoVAE import ConvoVAE\n",
    "from torchvision import datasets\n",
    "from torchvision.transforms import ToTensor\n",
    "import matplotlib.pyplot as plt\n",
    "from evoVAE.trainer.checkerboard_train import train\n",
    "\n",
    "\n",
    "training_data = datasets.FashionMNIST(\n",
    "    root=\"data\", train=True, download=False, transform=ToTensor()\n",
    ")\n",
    "\n",
    "test_data = datasets.FashionMNIST(\n",
    "    root=\"data\", train=False, download=False, transform=ToTensor()\n",
    ")\n",
    "\n",
    "train_loader = torch.utils.data.DataLoader(training_data, batch_size=20)\n",
    "test_loader = torch.utils.data.DataLoader(test_data, batch_size=20)\n"
   ]
  },
  {
   "cell_type": "code",
   "execution_count": null,
   "id": "c31ca494",
   "metadata": {},
   "outputs": [],
   "source": [
    "test_model = ConvoVAE(in_channels=1,latentDims=10)\n",
    "test_model.load_state_dict(torch.load(\"model_weights_3.pth\", map_location=torch.device('cpu')))\n",
    "test_model.eval()"
   ]
  },
  {
   "cell_type": "code",
   "execution_count": null,
   "id": "421b747d",
   "metadata": {},
   "outputs": [],
   "source": [
    "examples = 0\n",
    "with torch.no_grad():\n",
    "    for data, _ in train_loader:\n",
    "       \n",
    "        modelOutput = test_model(data)\n",
    "        reconstruction  = modelOutput[0]\n",
    "        \n",
    "        sample_idx = torch.randint(len(reconstruction), size=(1,)).item()   \n",
    "\n",
    "        fig, axs = plt.subplots(1, 2)\n",
    "        axs[0].imshow(data[sample_idx][0], cmap='gray')\n",
    "        axs[0].set_title(\"Original\")\n",
    "\n",
    "        axs[1].imshow(reconstruction[sample_idx][0], cmap='gray')\n",
    "        axs[1].set_title(\"Reconstruction\")\n",
    "        \n",
    "        examples += 1\n",
    "        if examples == 5:\n",
    "            break \n"
   ]
  },
  {
   "cell_type": "code",
   "execution_count": null,
   "id": "b68e5fc6-d3a4-4bfd-a856-87d2d4e9c0ac",
   "metadata": {},
   "outputs": [],
   "source": [
    "\n",
    "examples = 0\n",
    "with torch.no_grad():\n",
    "    for data, _ in train_loader:\n",
    "       \n",
    "        modelOutput = test_model(data)\n",
    "        reconstruction  = modelOutput[0]\n",
    "        \n",
    "        sample_idx = torch.randint(len(reconstruction), size=(1,)).item()   \n",
    "\n",
    "        fig, axs = plt.subplots(1, 2)\n",
    "        axs[0].imshow(data[sample_idx][0], cmap='gray')\n",
    "        axs[0].set_title(\"Original\")\n",
    "\n",
    "        axs[1].imshow(reconstruction[sample_idx][0], cmap='gray')\n",
    "        axs[1].set_title(\"Reconstruction\")\n",
    "        \n",
    "        examples += 1\n",
    "        if examples == 5:\n",
    "            break \n"
   ]
  },
  {
   "cell_type": "code",
   "execution_count": null,
   "id": "b0e5cb13",
   "metadata": {},
   "outputs": [],
   "source": []
  }
 ],
 "metadata": {
  "kernelspec": {
   "display_name": "Python 3 (ipykernel)",
   "language": "python",
   "name": "python3"
  },
  "language_info": {
   "codemirror_mode": {
    "name": "ipython",
    "version": 3
   },
   "file_extension": ".py",
   "mimetype": "text/x-python",
   "name": "python",
   "nbconvert_exporter": "python",
   "pygments_lexer": "ipython3",
   "version": "3.8.18"
  }
 },
 "nbformat": 4,
 "nbformat_minor": 5
}
