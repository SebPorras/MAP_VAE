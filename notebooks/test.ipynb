{
 "cells": [
  {
   "cell_type": "code",
   "execution_count": 1,
   "metadata": {},
   "outputs": [],
   "source": [
    "from evoVAE.utils.datasets import MSA_Dataset\n",
    "import evoVAE.utils.seq_tools as st\n",
    "import evoVAE.utils.metrics as mt\n",
    "from evoVAE.models.seqVAETest import SeqVAETest\n",
    "import pandas as pd\n",
    "import torch\n",
    "import numpy as np\n",
    "\n",
    "pd.set_option(\"display.max_rows\", None)"
   ]
  },
  {
   "cell_type": "code",
   "execution_count": 5,
   "metadata": {},
   "outputs": [],
   "source": [
    "extants_aln = pd.read_pickle(\"/Users/sebs_mac/uni_OneDrive/honours/data/gb1/SPG1_STRSG_full_b0.1_filt_encoded_weighted.pkl\")\n",
    "\n"
   ]
  },
  {
   "cell_type": "code",
   "execution_count": 7,
   "metadata": {},
   "outputs": [
    {
     "data": {
      "text/plain": [
       "((3084, 4), Index(['id', 'sequence', 'encoding', 'weights'], dtype='object'))"
      ]
     },
     "execution_count": 7,
     "metadata": {},
     "output_type": "execute_result"
    }
   ],
   "source": [
    "extants_aln.shape, extants_aln.columns"
   ]
  },
  {
   "cell_type": "code",
   "execution_count": 8,
   "metadata": {},
   "outputs": [],
   "source": [
    "train_dataset = MSA_Dataset(extants_aln[\"encoding\"], extants_aln[\"weights\"], extants_aln[\"id\"])\n",
    "train_loader = torch.utils.data.DataLoader(\n",
    "    train_dataset, batch_size=32, shuffle=False\n",
    ")\n",
    "\n",
    "SEQ_LEN = 0\n",
    "BATCH_ZERO = 0\n",
    "SEQ_ZERO = 0\n",
    "seq_len = train_dataset[BATCH_ZERO][SEQ_ZERO].shape[SEQ_LEN]\n",
    "input_dims = seq_len * 21\n"
   ]
  },
  {
   "cell_type": "code",
   "execution_count": 9,
   "metadata": {},
   "outputs": [
    {
     "data": {
      "text/plain": [
       "9408"
      ]
     },
     "execution_count": 9,
     "metadata": {},
     "output_type": "execute_result"
    }
   ],
   "source": [
    "input_dims"
   ]
  },
  {
   "cell_type": "code",
   "execution_count": null,
   "metadata": {},
   "outputs": [],
   "source": [
    "config={\n",
    "            # Dataset info\n",
    "            \"alignment\": f\"../data/gfp_samples/GFP_AEQVI_encoded_weighted_0.25_rejection_r{i}_ancestors_no_syn.pkl\",\n",
    "            \"seq_theta\": 0.2,  # reweighting\n",
    "            \"AA_count\": 21,  # standard AA + gap\n",
    "            \"test_split\": 0.2,\n",
    "            \"max_mutation\": 4,  # how many mutations the model will test up to\n",
    "            # ADAM\n",
    "            \"learning_rate\": 1e-2,  # ADAM\n",
    "            \"weight_decay\": 1e-4,  # ADAM\n",
    "            # Hidden units\n",
    "            \"momentum\": None,\n",
    "            \"dropout\": None,\n",
    "            # Training loop\n",
    "            \"epochs\": 500,\n",
    "            \"batch_size\": 128,\n",
    "            \"max_norm\": 10,  # gradient clipping\n",
    "            \"patience\": 3,\n",
    "            # Model info - default settings\n",
    "            \"architecture\": f\"SeqVAE_0.25_ancestors_R{i}\",\n",
    "            \"latent_dims\": 10,\n",
    "            \"hidden_dims\": [256, 128, 64],\n",
    "            # DMS data\n",
    "            \"dms_file\": \"../data/GFP_AEQVI_Sarkisyan_2016_dms_encoded.pkl\",\n",
    "            \"dms_metadata\": \"../data/DMS_substitutions.csv\",\n",
    "            \"dms_id\": \"GFP_AEQVI_Sarkisyan_2016\",\n",
    "}\n",
    "\n",
    "model = SeqVAETest(input_dims, 10, hidden_dims=config[\"hidden_dims\"], config)"
   ]
  }
 ],
 "metadata": {
  "kernelspec": {
   "display_name": "embed",
   "language": "python",
   "name": "python3"
  },
  "language_info": {
   "codemirror_mode": {
    "name": "ipython",
    "version": 3
   },
   "file_extension": ".py",
   "mimetype": "text/x-python",
   "name": "python",
   "nbconvert_exporter": "python",
   "pygments_lexer": "ipython3",
   "version": "3.8.18"
  }
 },
 "nbformat": 4,
 "nbformat_minor": 2
}
