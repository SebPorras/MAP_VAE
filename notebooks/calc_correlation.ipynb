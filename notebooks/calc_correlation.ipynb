{
 "cells": [
  {
   "cell_type": "code",
   "execution_count": 2,
   "metadata": {},
   "outputs": [],
   "source": [
    "import evoVAE.utils.seq_tools as st\n",
    "import evoVAE.utils.statistics as stats\n",
    "import pandas as pd\n",
    "\n",
    "\n",
    "pd.set_option(\"display.max_rows\", None)"
   ]
  },
  {
   "cell_type": "code",
   "execution_count": 3,
   "metadata": {},
   "outputs": [
    {
     "name": "stdout",
     "output_type": "stream",
     "text": [
      "Reading the alignment: ../data/pair_test.aln\n",
      "Checking for bad characters: ['B', 'J', 'X', 'Z']\n",
      "Performing one hot encoding\n",
      "Number of seqs: 8\n"
     ]
    },
    {
     "data": {
      "text/html": [
       "<div>\n",
       "<style scoped>\n",
       "    .dataframe tbody tr th:only-of-type {\n",
       "        vertical-align: middle;\n",
       "    }\n",
       "\n",
       "    .dataframe tbody tr th {\n",
       "        vertical-align: top;\n",
       "    }\n",
       "\n",
       "    .dataframe thead th {\n",
       "        text-align: right;\n",
       "    }\n",
       "</style>\n",
       "<table border=\"1\" class=\"dataframe\">\n",
       "  <thead>\n",
       "    <tr style=\"text-align: right;\">\n",
       "      <th></th>\n",
       "      <th>id</th>\n",
       "      <th>sequence</th>\n",
       "      <th>encoding</th>\n",
       "    </tr>\n",
       "  </thead>\n",
       "  <tbody>\n",
       "    <tr>\n",
       "      <th>0</th>\n",
       "      <td>seq_1</td>\n",
       "      <td>LTRAALYEDC</td>\n",
       "      <td>[[0.0, 0.0, 0.0, 0.0, 0.0, 0.0, 0.0, 0.0, 0.0,...</td>\n",
       "    </tr>\n",
       "    <tr>\n",
       "      <th>1</th>\n",
       "      <td>seq_2</td>\n",
       "      <td>LTRATLYEDC</td>\n",
       "      <td>[[0.0, 0.0, 0.0, 0.0, 0.0, 0.0, 0.0, 0.0, 0.0,...</td>\n",
       "    </tr>\n",
       "    <tr>\n",
       "      <th>2</th>\n",
       "      <td>seq_3</td>\n",
       "      <td>LTRCTLPEDC</td>\n",
       "      <td>[[0.0, 0.0, 0.0, 0.0, 0.0, 0.0, 0.0, 0.0, 0.0,...</td>\n",
       "    </tr>\n",
       "    <tr>\n",
       "      <th>3</th>\n",
       "      <td>seq_4</td>\n",
       "      <td>LRRATLPDDC</td>\n",
       "      <td>[[0.0, 0.0, 0.0, 0.0, 0.0, 0.0, 0.0, 0.0, 0.0,...</td>\n",
       "    </tr>\n",
       "    <tr>\n",
       "      <th>4</th>\n",
       "      <td>seq_5</td>\n",
       "      <td>LRRATLPDDA</td>\n",
       "      <td>[[0.0, 0.0, 0.0, 0.0, 0.0, 0.0, 0.0, 0.0, 0.0,...</td>\n",
       "    </tr>\n",
       "    <tr>\n",
       "      <th>5</th>\n",
       "      <td>seq_6</td>\n",
       "      <td>LVRATKPWDA</td>\n",
       "      <td>[[0.0, 0.0, 0.0, 0.0, 0.0, 0.0, 0.0, 0.0, 0.0,...</td>\n",
       "    </tr>\n",
       "    <tr>\n",
       "      <th>6</th>\n",
       "      <td>seq_7</td>\n",
       "      <td>LVRATLPWDA</td>\n",
       "      <td>[[0.0, 0.0, 0.0, 0.0, 0.0, 0.0, 0.0, 0.0, 0.0,...</td>\n",
       "    </tr>\n",
       "    <tr>\n",
       "      <th>7</th>\n",
       "      <td>seq_8</td>\n",
       "      <td>LVRATLPWDA</td>\n",
       "      <td>[[0.0, 0.0, 0.0, 0.0, 0.0, 0.0, 0.0, 0.0, 0.0,...</td>\n",
       "    </tr>\n",
       "  </tbody>\n",
       "</table>\n",
       "</div>"
      ],
      "text/plain": [
       "      id    sequence                                           encoding\n",
       "0  seq_1  LTRAALYEDC  [[0.0, 0.0, 0.0, 0.0, 0.0, 0.0, 0.0, 0.0, 0.0,...\n",
       "1  seq_2  LTRATLYEDC  [[0.0, 0.0, 0.0, 0.0, 0.0, 0.0, 0.0, 0.0, 0.0,...\n",
       "2  seq_3  LTRCTLPEDC  [[0.0, 0.0, 0.0, 0.0, 0.0, 0.0, 0.0, 0.0, 0.0,...\n",
       "3  seq_4  LRRATLPDDC  [[0.0, 0.0, 0.0, 0.0, 0.0, 0.0, 0.0, 0.0, 0.0,...\n",
       "4  seq_5  LRRATLPDDA  [[0.0, 0.0, 0.0, 0.0, 0.0, 0.0, 0.0, 0.0, 0.0,...\n",
       "5  seq_6  LVRATKPWDA  [[0.0, 0.0, 0.0, 0.0, 0.0, 0.0, 0.0, 0.0, 0.0,...\n",
       "6  seq_7  LVRATLPWDA  [[0.0, 0.0, 0.0, 0.0, 0.0, 0.0, 0.0, 0.0, 0.0,...\n",
       "7  seq_8  LVRATLPWDA  [[0.0, 0.0, 0.0, 0.0, 0.0, 0.0, 0.0, 0.0, 0.0,..."
      ]
     },
     "execution_count": 3,
     "metadata": {},
     "output_type": "execute_result"
    }
   ],
   "source": [
    "test_aln = st.read_aln_file(\"../data/pair_test.aln\")\n",
    "test_aln\n"
   ]
  },
  {
   "cell_type": "code",
   "execution_count": 4,
   "metadata": {},
   "outputs": [
    {
     "name": "stdout",
     "output_type": "stream",
     "text": [
      "Sequence weight numpy array created with shape (num_seqs, columns):  (8, 10)\n"
     ]
    },
    {
     "data": {
      "text/plain": [
       "array([0., 0., 0., 0., 0., 0., 0., 0., 0., 0., 0., 0., 0., 0., 0., 0., 8.,\n",
       "       0., 0., 0., 0.])"
      ]
     },
     "execution_count": 4,
     "metadata": {},
     "output_type": "execute_result"
    }
   ],
   "source": [
    "pfm = stats.calc_position_freq_matrix(test_aln)\n",
    "pfm[:, 0]"
   ]
  },
  {
   "cell_type": "code",
   "execution_count": 5,
   "metadata": {},
   "outputs": [
    {
     "name": "stdout",
     "output_type": "stream",
     "text": [
      "Sequence weight numpy array created with shape (num_seqs, columns):  (8, 10)\n"
     ]
    },
    {
     "data": {
      "text/plain": [
       "array([0., 0., 0., 0., 0., 0., 0., 0., 0., 0., 0., 0., 0., 0., 0., 0., 1.,\n",
       "       0., 0., 0., 0.])"
      ]
     },
     "execution_count": 5,
     "metadata": {},
     "output_type": "execute_result"
    }
   ],
   "source": [
    "ppm = stats.calc_position_prob_matrix(test_aln)\n",
    "ppm[:, 0]"
   ]
  },
  {
   "cell_type": "code",
   "execution_count": 6,
   "metadata": {},
   "outputs": [
    {
     "name": "stdout",
     "output_type": "stream",
     "text": [
      "Sequence weight numpy array created with shape (num_seqs, columns):  (8, 10)\n"
     ]
    }
   ],
   "source": [
    "H = stats.calc_shannon_entropy(test_aln)\n"
   ]
  },
  {
   "cell_type": "code",
   "execution_count": 193,
   "metadata": {},
   "outputs": [
    {
     "name": "stdout",
     "output_type": "stream",
     "text": [
      "Sequence weight numpy array created with shape (num_seqs, columns):  (8, 10)\n"
     ]
    }
   ],
   "source": [
    "\n",
    "\n",
    "from evoVAE.utils.seq_tools import AA_TO_IDX, GAPPY_ALPHABET_LEN\n",
    "import numpy as np\n",
    "\n",
    "def pair_wise_covariances(msa):\n",
    "\n",
    "    SEQ_COUNT = 0\n",
    "    COLS = 1\n",
    "\n",
    "    pairs = []\n",
    "    for i in range(st.GAPPY_ALPHABET_LEN):\n",
    "        pairs.extend([(i, j) for j in range(i + 1, st.GAPPY_ALPHABET_LEN)])\n",
    "\n",
    "    # the number of unique ways we can compare columns in the MSA \n",
    "    column_combinations = (GAPPY_ALPHABET_LEN * (GAPPY_ALPHABET_LEN - 1) // 2)\n",
    "    # number of different residue combinations we can have \n",
    "    aa_combinations = GAPPY_ALPHABET_LEN ** 2\n",
    "\n",
    "    num_seqs = msa.shape[SEQ_COUNT]\n",
    "    num_columns = msa.shape[COLS]\n",
    "\n",
    "    # each column has aa_combinations many ways to combine residues\n",
    "    # this is an upper triangular matrix but we will store it in a linear format. \n",
    "    covariances = np.zeros(column_combinations * aa_combinations)\n",
    "\n",
    "    # keep track of which column combination we're up to \n",
    "    col_combination_count = 0\n",
    "    for i in range(num_columns - 1):\n",
    "        for j in range(i + 1, num_columns):\n",
    "            col_i = msa[:, i]\n",
    "            col_j = msa[:, j]\n",
    "\n",
    "            for a, b in pairs:\n",
    "      \n",
    "                # find how many sequences have residues a and b\n",
    "                col_i_res = np.where(col_i == a)[0]\n",
    "                col_j_res = np.where(col_j == b)[0]\n",
    "\n",
    "                # find how many sequences have this combination \n",
    "                intersect = np.intersect1d(col_i_res, col_j_res, assume_unique=True).shape[SEQ_COUNT]\n",
    "                # make a frequency based on number of sequences \n",
    "                freq_Ai_Bj = intersect / num_seqs\n",
    "                \n",
    "                # just count how many sequences have these residues \n",
    "                freq_Ai = col_i_res.shape[0] / num_seqs\n",
    "                freq_Bj = col_j_res.shape[0] / num_seqs\n",
    "\n",
    "                # get correct position: (which column combination we're at) + (which residue combination we're at)\n",
    "                covar_index = col_combination_count * aa_combinations + a * st.GAPPY_ALPHABET_LEN + b\n",
    "\n",
    "                # useful in case you want to find a specific cov score based on column and residue indices in the upper tri matrix\n",
    "                #col_combination_count = (num_cols*(num_cols-1)/2) - (num_cols-col_1_idx)*((num_cols-col_1_idx)-1)/2 + col_2_idx - col_1_idx - 1\n",
    "                #covar_index = int(col_combination_count * aa_combinations + a_idx * st.GAPPY_ALPHABET_LEN + b_idx)\n",
    "\n",
    "                # (joint occurances of residues a & b at thi) - (occurence of A at col i * occurence of B at col j)\n",
    "                covariances[covar_index] = freq_Ai_Bj - (freq_Ai * freq_Bj)\n",
    "\n",
    "            # keep track of how many column combinations we've seen \n",
    "            col_combination_count += 1\n",
    "\n",
    "    \n",
    "    return covariances\n",
    "\n",
    "msa, _, _ = st.convert_msa_numpy_array(test_aln)\n",
    "pairs = pair_wise_covariances(msa)\n",
    "\n",
    "\n",
    "#pairs.shape"
   ]
  },
  {
   "cell_type": "code",
   "execution_count": 195,
   "metadata": {},
   "outputs": [
    {
     "name": "stdout",
     "output_type": "stream",
     "text": [
      "10\n",
      "343\n",
      "0.0\n"
     ]
    }
   ],
   "source": [
    "col_1_idx = 0\n",
    "col_2_idx = 1\n",
    "aa_combinations = GAPPY_ALPHABET_LEN ** 2\n",
    "num_cols = msa.shape[1]\n",
    "\n",
    "a_idx = st.AA_TO_IDX['L']\n",
    "b_idx = st.AA_TO_IDX['T']\n",
    "\n",
    "\n",
    "col_combination_count = (num_cols*(num_cols-1)/2) - (num_cols-col_1_idx)*((num_cols-col_1_idx)-1)/2 + col_2_idx - col_1_idx - 1\n",
    "covar_index = int(col_combination_count * aa_combinations + a_idx * st.GAPPY_ALPHABET_LEN + b_idx)\n",
    "print(covar_index)\n",
    "print(pairs[covar_index])"
   ]
  },
  {
   "cell_type": "code",
   "execution_count": 139,
   "metadata": {},
   "outputs": [
    {
     "data": {
      "text/plain": [
       "441"
      ]
     },
     "execution_count": 139,
     "metadata": {},
     "output_type": "execute_result"
    }
   ],
   "source": [
    "GAPPY_ALPHABET_LEN ** 2"
   ]
  },
  {
   "cell_type": "code",
   "execution_count": null,
   "metadata": {},
   "outputs": [],
   "source": []
  }
 ],
 "metadata": {
  "kernelspec": {
   "display_name": "embed",
   "language": "python",
   "name": "python3"
  },
  "language_info": {
   "codemirror_mode": {
    "name": "ipython",
    "version": 3
   },
   "file_extension": ".py",
   "mimetype": "text/x-python",
   "name": "python",
   "nbconvert_exporter": "python",
   "pygments_lexer": "ipython3",
   "version": "3.8.18"
  }
 },
 "nbformat": 4,
 "nbformat_minor": 4
}
