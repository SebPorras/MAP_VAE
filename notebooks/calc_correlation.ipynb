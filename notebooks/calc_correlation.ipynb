{
 "cells": [
  {
   "cell_type": "code",
   "execution_count": 2,
   "metadata": {},
   "outputs": [],
   "source": [
    "import evoVAE.utils.seq_tools as st\n",
    "from evoVAE.utils.datasets import MSA_Dataset\n",
    "from evoVAE.models.seqVAETest import SeqVAETest\n",
    "import evoVAE.utils.statistics as stats\n",
    "import pandas as pd\n",
    "import torch\n",
    "\n",
    "\n",
    "pd.set_option(\"display.max_rows\", None)"
   ]
  },
  {
   "cell_type": "code",
   "execution_count": 5,
   "metadata": {},
   "outputs": [
    {
     "name": "stdout",
     "output_type": "stream",
     "text": [
      "(14276, 4)\n"
     ]
    }
   ],
   "source": []
  },
  {
   "cell_type": "code",
   "execution_count": 3,
   "metadata": {
    "scrolled": true
   },
   "outputs": [
    {
     "name": "stdout",
     "output_type": "stream",
     "text": [
      "Reading the alignment: ../data/pair_test.aln\n",
      "Checking for bad characters: ['B', 'J', 'X', 'Z']\n",
      "Performing one hot encoding\n",
      "Number of seqs: 8\n"
     ]
    },
    {
     "data": {
      "text/html": [
       "<div>\n",
       "<style scoped>\n",
       "    .dataframe tbody tr th:only-of-type {\n",
       "        vertical-align: middle;\n",
       "    }\n",
       "\n",
       "    .dataframe tbody tr th {\n",
       "        vertical-align: top;\n",
       "    }\n",
       "\n",
       "    .dataframe thead th {\n",
       "        text-align: right;\n",
       "    }\n",
       "</style>\n",
       "<table border=\"1\" class=\"dataframe\">\n",
       "  <thead>\n",
       "    <tr style=\"text-align: right;\">\n",
       "      <th></th>\n",
       "      <th>id</th>\n",
       "      <th>sequence</th>\n",
       "      <th>encoding</th>\n",
       "    </tr>\n",
       "  </thead>\n",
       "  <tbody>\n",
       "    <tr>\n",
       "      <th>0</th>\n",
       "      <td>seq_1</td>\n",
       "      <td>LTRAALYEDC</td>\n",
       "      <td>[[0.0, 0.0, 0.0, 0.0, 0.0, 0.0, 0.0, 0.0, 0.0,...</td>\n",
       "    </tr>\n",
       "    <tr>\n",
       "      <th>1</th>\n",
       "      <td>seq_2</td>\n",
       "      <td>LTRATLYEDC</td>\n",
       "      <td>[[0.0, 0.0, 0.0, 0.0, 0.0, 0.0, 0.0, 0.0, 0.0,...</td>\n",
       "    </tr>\n",
       "    <tr>\n",
       "      <th>2</th>\n",
       "      <td>seq_3</td>\n",
       "      <td>LTRCTLPEDC</td>\n",
       "      <td>[[0.0, 0.0, 0.0, 0.0, 0.0, 0.0, 0.0, 0.0, 0.0,...</td>\n",
       "    </tr>\n",
       "    <tr>\n",
       "      <th>3</th>\n",
       "      <td>seq_4</td>\n",
       "      <td>LRRATLPDDC</td>\n",
       "      <td>[[0.0, 0.0, 0.0, 0.0, 0.0, 0.0, 0.0, 0.0, 0.0,...</td>\n",
       "    </tr>\n",
       "    <tr>\n",
       "      <th>4</th>\n",
       "      <td>seq_5</td>\n",
       "      <td>LRRATLPDDA</td>\n",
       "      <td>[[0.0, 0.0, 0.0, 0.0, 0.0, 0.0, 0.0, 0.0, 0.0,...</td>\n",
       "    </tr>\n",
       "  </tbody>\n",
       "</table>\n",
       "</div>"
      ],
      "text/plain": [
       "      id    sequence                                           encoding\n",
       "0  seq_1  LTRAALYEDC  [[0.0, 0.0, 0.0, 0.0, 0.0, 0.0, 0.0, 0.0, 0.0,...\n",
       "1  seq_2  LTRATLYEDC  [[0.0, 0.0, 0.0, 0.0, 0.0, 0.0, 0.0, 0.0, 0.0,...\n",
       "2  seq_3  LTRCTLPEDC  [[0.0, 0.0, 0.0, 0.0, 0.0, 0.0, 0.0, 0.0, 0.0,...\n",
       "3  seq_4  LRRATLPDDC  [[0.0, 0.0, 0.0, 0.0, 0.0, 0.0, 0.0, 0.0, 0.0,...\n",
       "4  seq_5  LRRATLPDDA  [[0.0, 0.0, 0.0, 0.0, 0.0, 0.0, 0.0, 0.0, 0.0,..."
      ]
     },
     "execution_count": 3,
     "metadata": {},
     "output_type": "execute_result"
    }
   ],
   "source": [
    "test_aln = st.read_aln_file(\"../data/pair_test.aln\")\n",
    "#test_aln = pd.read_pickle(\"../data/gb1/gb1_ancestors_extants_encoded_weighted_no_dupes.pkl\")\n",
    "test_aln.head()\n"
   ]
  },
  {
   "cell_type": "code",
   "execution_count": 4,
   "metadata": {
    "scrolled": true
   },
   "outputs": [
    {
     "ename": "KeyError",
     "evalue": "'weights'",
     "output_type": "error",
     "traceback": [
      "\u001b[0;31m---------------------------------------------------------------------------\u001b[0m",
      "\u001b[0;31mKeyError\u001b[0m                                  Traceback (most recent call last)",
      "File \u001b[0;32m~/miniconda3/envs/embed/lib/python3.8/site-packages/pandas/core/indexes/base.py:3653\u001b[0m, in \u001b[0;36mIndex.get_loc\u001b[0;34m(self, key)\u001b[0m\n\u001b[1;32m   3652\u001b[0m \u001b[38;5;28;01mtry\u001b[39;00m:\n\u001b[0;32m-> 3653\u001b[0m     \u001b[38;5;28;01mreturn\u001b[39;00m \u001b[38;5;28;43mself\u001b[39;49m\u001b[38;5;241;43m.\u001b[39;49m\u001b[43m_engine\u001b[49m\u001b[38;5;241;43m.\u001b[39;49m\u001b[43mget_loc\u001b[49m\u001b[43m(\u001b[49m\u001b[43mcasted_key\u001b[49m\u001b[43m)\u001b[49m\n\u001b[1;32m   3654\u001b[0m \u001b[38;5;28;01mexcept\u001b[39;00m \u001b[38;5;167;01mKeyError\u001b[39;00m \u001b[38;5;28;01mas\u001b[39;00m err:\n",
      "File \u001b[0;32m~/miniconda3/envs/embed/lib/python3.8/site-packages/pandas/_libs/index.pyx:147\u001b[0m, in \u001b[0;36mpandas._libs.index.IndexEngine.get_loc\u001b[0;34m()\u001b[0m\n",
      "File \u001b[0;32m~/miniconda3/envs/embed/lib/python3.8/site-packages/pandas/_libs/index.pyx:176\u001b[0m, in \u001b[0;36mpandas._libs.index.IndexEngine.get_loc\u001b[0;34m()\u001b[0m\n",
      "File \u001b[0;32mpandas/_libs/hashtable_class_helper.pxi:7080\u001b[0m, in \u001b[0;36mpandas._libs.hashtable.PyObjectHashTable.get_item\u001b[0;34m()\u001b[0m\n",
      "File \u001b[0;32mpandas/_libs/hashtable_class_helper.pxi:7088\u001b[0m, in \u001b[0;36mpandas._libs.hashtable.PyObjectHashTable.get_item\u001b[0;34m()\u001b[0m\n",
      "\u001b[0;31mKeyError\u001b[0m: 'weights'",
      "\nThe above exception was the direct cause of the following exception:\n",
      "\u001b[0;31mKeyError\u001b[0m                                  Traceback (most recent call last)",
      "Cell \u001b[0;32mIn[4], line 1\u001b[0m\n\u001b[0;32m----> 1\u001b[0m train_dataset \u001b[38;5;241m=\u001b[39m MSA_Dataset(test_aln[\u001b[38;5;124m\"\u001b[39m\u001b[38;5;124mencoding\u001b[39m\u001b[38;5;124m\"\u001b[39m], \u001b[43mtest_aln\u001b[49m\u001b[43m[\u001b[49m\u001b[38;5;124;43m\"\u001b[39;49m\u001b[38;5;124;43mweights\u001b[39;49m\u001b[38;5;124;43m\"\u001b[39;49m\u001b[43m]\u001b[49m, test_aln[\u001b[38;5;124m\"\u001b[39m\u001b[38;5;124mid\u001b[39m\u001b[38;5;124m\"\u001b[39m])\n\u001b[1;32m      2\u001b[0m train_loader \u001b[38;5;241m=\u001b[39m torch\u001b[38;5;241m.\u001b[39mutils\u001b[38;5;241m.\u001b[39mdata\u001b[38;5;241m.\u001b[39mDataLoader(\n\u001b[1;32m      3\u001b[0m     train_dataset, batch_size\u001b[38;5;241m=\u001b[39m\u001b[38;5;241m8\u001b[39m, shuffle\u001b[38;5;241m=\u001b[39m\u001b[38;5;28;01mFalse\u001b[39;00m\n\u001b[1;32m      4\u001b[0m )\n\u001b[1;32m      6\u001b[0m SEQ_LEN \u001b[38;5;241m=\u001b[39m \u001b[38;5;241m0\u001b[39m\n",
      "File \u001b[0;32m~/miniconda3/envs/embed/lib/python3.8/site-packages/pandas/core/frame.py:3761\u001b[0m, in \u001b[0;36mDataFrame.__getitem__\u001b[0;34m(self, key)\u001b[0m\n\u001b[1;32m   3759\u001b[0m \u001b[38;5;28;01mif\u001b[39;00m \u001b[38;5;28mself\u001b[39m\u001b[38;5;241m.\u001b[39mcolumns\u001b[38;5;241m.\u001b[39mnlevels \u001b[38;5;241m>\u001b[39m \u001b[38;5;241m1\u001b[39m:\n\u001b[1;32m   3760\u001b[0m     \u001b[38;5;28;01mreturn\u001b[39;00m \u001b[38;5;28mself\u001b[39m\u001b[38;5;241m.\u001b[39m_getitem_multilevel(key)\n\u001b[0;32m-> 3761\u001b[0m indexer \u001b[38;5;241m=\u001b[39m \u001b[38;5;28;43mself\u001b[39;49m\u001b[38;5;241;43m.\u001b[39;49m\u001b[43mcolumns\u001b[49m\u001b[38;5;241;43m.\u001b[39;49m\u001b[43mget_loc\u001b[49m\u001b[43m(\u001b[49m\u001b[43mkey\u001b[49m\u001b[43m)\u001b[49m\n\u001b[1;32m   3762\u001b[0m \u001b[38;5;28;01mif\u001b[39;00m is_integer(indexer):\n\u001b[1;32m   3763\u001b[0m     indexer \u001b[38;5;241m=\u001b[39m [indexer]\n",
      "File \u001b[0;32m~/miniconda3/envs/embed/lib/python3.8/site-packages/pandas/core/indexes/base.py:3655\u001b[0m, in \u001b[0;36mIndex.get_loc\u001b[0;34m(self, key)\u001b[0m\n\u001b[1;32m   3653\u001b[0m     \u001b[38;5;28;01mreturn\u001b[39;00m \u001b[38;5;28mself\u001b[39m\u001b[38;5;241m.\u001b[39m_engine\u001b[38;5;241m.\u001b[39mget_loc(casted_key)\n\u001b[1;32m   3654\u001b[0m \u001b[38;5;28;01mexcept\u001b[39;00m \u001b[38;5;167;01mKeyError\u001b[39;00m \u001b[38;5;28;01mas\u001b[39;00m err:\n\u001b[0;32m-> 3655\u001b[0m     \u001b[38;5;28;01mraise\u001b[39;00m \u001b[38;5;167;01mKeyError\u001b[39;00m(key) \u001b[38;5;28;01mfrom\u001b[39;00m \u001b[38;5;21;01merr\u001b[39;00m\n\u001b[1;32m   3656\u001b[0m \u001b[38;5;28;01mexcept\u001b[39;00m \u001b[38;5;167;01mTypeError\u001b[39;00m:\n\u001b[1;32m   3657\u001b[0m     \u001b[38;5;66;03m# If we have a listlike key, _check_indexing_error will raise\u001b[39;00m\n\u001b[1;32m   3658\u001b[0m     \u001b[38;5;66;03m#  InvalidIndexError. Otherwise we fall through and re-raise\u001b[39;00m\n\u001b[1;32m   3659\u001b[0m     \u001b[38;5;66;03m#  the TypeError.\u001b[39;00m\n\u001b[1;32m   3660\u001b[0m     \u001b[38;5;28mself\u001b[39m\u001b[38;5;241m.\u001b[39m_check_indexing_error(key)\n",
      "\u001b[0;31mKeyError\u001b[0m: 'weights'"
     ]
    }
   ],
   "source": [
    "\n",
    "train_dataset = MSA_Dataset(test_aln[\"encoding\"], test_aln[\"weights\"], test_aln[\"id\"])\n",
    "train_loader = torch.utils.data.DataLoader(\n",
    "    train_dataset, batch_size=8, shuffle=False\n",
    ")\n",
    "\n",
    "SEQ_LEN = 0\n",
    "BATCH_ZERO = 0\n",
    "SEQ_ZERO = 0\n",
    "seq_len = train_dataset[BATCH_ZERO][SEQ_ZERO].shape[SEQ_LEN]\n",
    "input_dims = seq_len * 21\n",
    "\n",
    "\n",
    "config={\n",
    "            # Dataset info\n",
    "            \"alignment\": \"tets\",\n",
    "            \"seq_theta\": 0.2,  # reweighting\n",
    "            \"AA_count\": 21,  # standard AA + gap\n",
    "            \"test_split\": 0.2,\n",
    "            \"max_mutation\": 4,  # how many mutations the model will test up to\n",
    "            # ADAM\n",
    "            \"learning_rate\": 1e-2,  # ADAM\n",
    "            \"weight_decay\": 1e-4,  # ADAM\n",
    "            # Hidden units\n",
    "            \"momentum\": None,\n",
    "            \"dropout\": None,\n",
    "            # Training loop\n",
    "            \"epochs\": 500,\n",
    "            \"batch_size\": 128,\n",
    "            \"max_norm\": 10,  # gradient clipping\n",
    "            \"patience\": 3,\n",
    "            # Model info - default settings\n",
    "            \"architecture\": f\"SeqVAE_0.25_ancestors_R\",\n",
    "            \"latent_dims\": 2,\n",
    "            \"hidden_dims\": [256, 128, 64],\n",
    "            # DMS data\n",
    "            \"dms_file\": \"../data/SPG1_STRSG_Wu_2016.pkl\",\n",
    "            \"dms_metadata\": \"../data/DMS_substitutions.csv\",\n",
    "            \"dms_id\": \"SPG1_STRSG_Wu_2016\",\n",
    "}\n",
    "\n",
    "\n",
    "\n",
    "SEQ_LEN = 0\n",
    "BATCH_ZERO = 0\n",
    "SEQ_ZERO = 0\n",
    "seq_len = train_dataset[BATCH_ZERO][SEQ_ZERO].shape[SEQ_LEN]\n",
    "input_dims = seq_len * 21\n",
    "\n",
    "\n",
    "good_weights = \"../data/gfp/model_weights/ancestors_extants_no_duplicates_gfp_model_state.pt\"\n",
    "gb1_good = \"../data/gb1/model_weights/gb1_ancestors_extants_no_dupes_model_state.pt\"\n",
    "bad_weights = \"../data/gfp/model_weights/bad_loss/gfp_ancestors_extants_no_duplicates_model_state.pt\"\n",
    "model = SeqVAETest(input_dims, 2, hidden_dims=config[\"hidden_dims\"], config=config)\n",
    "model.load_state_dict(torch.load(gb1_good))\n",
    "model.eval()"
   ]
  },
  {
   "cell_type": "code",
   "execution_count": 21,
   "metadata": {},
   "outputs": [
    {
     "name": "stdout",
     "output_type": "stream",
     "text": [
      "14276\n",
      "14276\n"
     ]
    },
    {
     "data": {
      "text/html": [
       "<div>\n",
       "<style scoped>\n",
       "    .dataframe tbody tr th:only-of-type {\n",
       "        vertical-align: middle;\n",
       "    }\n",
       "\n",
       "    .dataframe tbody tr th {\n",
       "        vertical-align: top;\n",
       "    }\n",
       "\n",
       "    .dataframe thead th {\n",
       "        text-align: right;\n",
       "    }\n",
       "</style>\n",
       "<table border=\"1\" class=\"dataframe\">\n",
       "  <thead>\n",
       "    <tr style=\"text-align: right;\">\n",
       "      <th></th>\n",
       "      <th>taxa</th>\n",
       "      <th>z</th>\n",
       "    </tr>\n",
       "  </thead>\n",
       "  <tbody>\n",
       "    <tr>\n",
       "      <th>14271</th>\n",
       "      <td>UniRef100_UPI000768A238/12-386</td>\n",
       "      <td>[0.0941095, 0.60755223]</td>\n",
       "    </tr>\n",
       "    <tr>\n",
       "      <th>14272</th>\n",
       "      <td>UniRef100_UPI001959AF38/4-600</td>\n",
       "      <td>[-0.01640377, -1.0976197]</td>\n",
       "    </tr>\n",
       "    <tr>\n",
       "      <th>14273</th>\n",
       "      <td>UniRef100_UPI000765255D/5-423</td>\n",
       "      <td>[-0.005554657, 0.9799295]</td>\n",
       "    </tr>\n",
       "    <tr>\n",
       "      <th>14274</th>\n",
       "      <td>UniRef100_UPI001454C06F/5-327</td>\n",
       "      <td>[0.04587064, 0.8399803]</td>\n",
       "    </tr>\n",
       "    <tr>\n",
       "      <th>14275</th>\n",
       "      <td>UniRef100_A0A1B3PUX7/506-955</td>\n",
       "      <td>[-0.0063712858, -0.40507004]</td>\n",
       "    </tr>\n",
       "  </tbody>\n",
       "</table>\n",
       "</div>"
      ],
      "text/plain": [
       "                                 taxa                             z\n",
       "14271  UniRef100_UPI000768A238/12-386       [0.0941095, 0.60755223]\n",
       "14272   UniRef100_UPI001959AF38/4-600     [-0.01640377, -1.0976197]\n",
       "14273   UniRef100_UPI000765255D/5-423     [-0.005554657, 0.9799295]\n",
       "14274   UniRef100_UPI001454C06F/5-327       [0.04587064, 0.8399803]\n",
       "14275    UniRef100_A0A1B3PUX7/506-955  [-0.0063712858, -0.40507004]"
      ]
     },
     "execution_count": 21,
     "metadata": {},
     "output_type": "execute_result"
    }
   ],
   "source": [
    "\n",
    "names = []\n",
    "z_vals = []\n",
    "\n",
    "num_samples = 50\n",
    "for encoding, weights, name in train_loader:\n",
    "\n",
    "    encoding = encoding.float()\n",
    "    encoding = torch.flatten(encoding, start_dim=1)\n",
    "    #print(encoding.shape)\n",
    "\n",
    "    encoding = encoding.expand(num_samples, encoding.shape[0], encoding.shape[1])\n",
    "    #print(encoding.shape)\n",
    "    #print(encoding.shape)\n",
    "    z_mu, z_logvar = model.encode(encoding.float())\n",
    "    z_samples = model.reparameterise(z_mu, z_logvar)\n",
    "    #print(z_samples.shape)\n",
    "    #print(z_samples[:, 0, :])\n",
    "    mean_z = torch.mean(z_samples, dim=0)\n",
    "    \n",
    "    names.extend(name)\n",
    "    z_vals.extend(mean_z.detach().numpy())\n",
    "\n",
    "\n",
    "print(len(names))\n",
    "print(len(z_vals))\n",
    "id_to_z = pd.DataFrame({\"taxa\": names, \"z\": z_vals})\n",
    "id_to_z.tail()"
   ]
  },
  {
   "cell_type": "code",
   "execution_count": 23,
   "metadata": {},
   "outputs": [
    {
     "name": "stdout",
     "output_type": "stream",
     "text": [
      "14276\n",
      "14276\n"
     ]
    }
   ],
   "source": [
    "import torch.nn.functional as F\n",
    "import evoVAE.utils.seq_tools as st\n",
    "import evoVAE.utils.metrics as mt\n",
    "\n",
    "count = 0\n",
    "inputs = []\n",
    "recons = []\n",
    "# EVALUATE DIFFERENCES BETWEEN THE RECONSTRUCTIONS AND INPUT \n",
    "for id, z in zip(id_to_z['taxa'], id_to_z['z']):\n",
    "\n",
    "    # decode the Z sample and get it into a PPM shape \n",
    "    x_hat = model.decode(torch.tensor(z))\n",
    "    x_hat = x_hat.unsqueeze(-1)\n",
    "    #print(x_hat.shape)\n",
    "\n",
    "    x = test_aln[test_aln['id'] == id]['sequence'].values[0]\n",
    "    x_one_hot = torch.tensor(st.seq_to_one_hot(x))\n",
    "    #print(x_one_hot.shape)\n",
    "\n",
    "    orig_shape = tuple(x_one_hot.shape)\n",
    "    x_hat = x_hat.view(orig_shape)\n",
    "\n",
    "    indices = x_hat.max(dim=-1).indices.tolist()\n",
    "    \n",
    "    orig = test_aln[test_aln['id'] == id]['sequence'].values[0]\n",
    "    inputs.append(orig)\n",
    "    recon = \"\".join([st.GAPPY_PROTEIN_ALPHABET[x] for x in indices])\n",
    "    recons.append(recon)\n",
    "\n",
    "    #hamming_dist += mt.hamming_distance(orig, recon)\n",
    "    #count += 1\n",
    "\n",
    "print(len(recons))\n",
    "print(len(inputs))"
   ]
  },
  {
   "cell_type": "code",
   "execution_count": 6,
   "metadata": {
    "scrolled": true
   },
   "outputs": [
    {
     "name": "stdout",
     "output_type": "stream",
     "text": [
      "Sequence weight numpy array created with shape (num_seqs, columns):  (8, 10)\n"
     ]
    }
   ],
   "source": [
    "H = stats.calc_shannon_entropy(test_aln)\n"
   ]
  },
  {
   "cell_type": "code",
   "execution_count": 27,
   "metadata": {},
   "outputs": [
    {
     "name": "stdout",
     "output_type": "stream",
     "text": [
      "Sequence weight numpy array created with shape (num_seqs, columns):  (14276, 448)\n"
     ]
    },
    {
     "ename": "KeyboardInterrupt",
     "evalue": "",
     "output_type": "error",
     "traceback": [
      "\u001b[0;31m---------------------------------------------------------------------------\u001b[0m",
      "\u001b[0;31mKeyboardInterrupt\u001b[0m                         Traceback (most recent call last)",
      "Cell \u001b[0;32mIn[27], line 64\u001b[0m\n\u001b[1;32m     61\u001b[0m     \u001b[38;5;28;01mreturn\u001b[39;00m covariances\n\u001b[1;32m     63\u001b[0m msa, _, _ \u001b[38;5;241m=\u001b[39m st\u001b[38;5;241m.\u001b[39mconvert_msa_numpy_array(test_aln)\n\u001b[0;32m---> 64\u001b[0m pairs \u001b[38;5;241m=\u001b[39m \u001b[43mpair_wise_covariances\u001b[49m\u001b[43m(\u001b[49m\u001b[43mmsa\u001b[49m\u001b[43m)\u001b[49m\n\u001b[1;32m     65\u001b[0m \u001b[38;5;28mprint\u001b[39m(pairs\u001b[38;5;241m.\u001b[39mshape)\n\u001b[1;32m     66\u001b[0m \u001b[38;5;66;03m#pairs.shape\u001b[39;00m\n",
      "Cell \u001b[0;32mIn[27], line 35\u001b[0m, in \u001b[0;36mpair_wise_covariances\u001b[0;34m(msa)\u001b[0m\n\u001b[1;32m     30\u001b[0m col_j \u001b[38;5;241m=\u001b[39m msa[:, j]\n\u001b[1;32m     32\u001b[0m \u001b[38;5;28;01mfor\u001b[39;00m a, b \u001b[38;5;129;01min\u001b[39;00m pairs:\n\u001b[1;32m     33\u001b[0m \n\u001b[1;32m     34\u001b[0m     \u001b[38;5;66;03m# find how many sequences have residues a and b\u001b[39;00m\n\u001b[0;32m---> 35\u001b[0m     col_i_res \u001b[38;5;241m=\u001b[39m \u001b[43mnp\u001b[49m\u001b[38;5;241;43m.\u001b[39;49m\u001b[43mwhere\u001b[49m\u001b[43m(\u001b[49m\u001b[43mcol_i\u001b[49m\u001b[43m \u001b[49m\u001b[38;5;241;43m==\u001b[39;49m\u001b[43m \u001b[49m\u001b[43ma\u001b[49m\u001b[43m)\u001b[49m[\u001b[38;5;241m0\u001b[39m]\n\u001b[1;32m     36\u001b[0m     col_j_res \u001b[38;5;241m=\u001b[39m np\u001b[38;5;241m.\u001b[39mwhere(col_j \u001b[38;5;241m==\u001b[39m b)[\u001b[38;5;241m0\u001b[39m]\n\u001b[1;32m     38\u001b[0m     \u001b[38;5;66;03m# find how many sequences have this combination \u001b[39;00m\n",
      "\u001b[0;31mKeyboardInterrupt\u001b[0m: "
     ]
    }
   ],
   "source": [
    "\n",
    "\n",
    "from evoVAE.utils.seq_tools import AA_TO_IDX, GAPPY_ALPHABET_LEN\n",
    "import numpy as np\n",
    "\n",
    "def pair_wise_covariances(msa):\n",
    "\n",
    "    SEQ_COUNT = 0\n",
    "    COLS = 1\n",
    "\n",
    "    pairs = []\n",
    "    for i in range(st.GAPPY_ALPHABET_LEN):\n",
    "        pairs.extend([(i, j) for j in range(i + 1, st.GAPPY_ALPHABET_LEN)])\n",
    "\n",
    "    # the number of unique ways we can compare columns in the MSA \n",
    "    column_combinations = (msa.shape[COLS] * (msa.shape[COLS] - 1) // 2)\n",
    "    # number of different residue combinations we can have \n",
    "    aa_combinations = GAPPY_ALPHABET_LEN ** 2\n",
    "\n",
    "    num_seqs = msa.shape[SEQ_COUNT]\n",
    "    num_columns = msa.shape[COLS]\n",
    "\n",
    "    # each column has aa_combinations many ways to combine residues\n",
    "    # this is an upper triangular matrix but we will store it in a linear format. \n",
    "    covariances = np.zeros(column_combinations * aa_combinations)\n",
    "\n",
    "    # keep track of which column combination we're up to \n",
    "    col_combination_count = 0\n",
    "    for i in range(num_columns - 1):\n",
    "        for j in range(i + 1, num_columns):\n",
    "            col_i = msa[:, i]\n",
    "            col_j = msa[:, j]\n",
    "\n",
    "            for a, b in pairs:\n",
    "      \n",
    "                # find how many sequences have residues a and b\n",
    "                col_i_res = np.where(col_i == a)[0]\n",
    "                col_j_res = np.where(col_j == b)[0]\n",
    "\n",
    "                # find how many sequences have this combination \n",
    "                intersect = np.intersect1d(col_i_res, col_j_res, assume_unique=True).shape[SEQ_COUNT]\n",
    "                # make a frequency based on number of sequences \n",
    "                freq_Ai_Bj = intersect / num_seqs\n",
    "                \n",
    "                # just count how many sequences have these residues \n",
    "                freq_Ai = col_i_res.shape[0] / num_seqs\n",
    "                freq_Bj = col_j_res.shape[0] / num_seqs\n",
    "\n",
    "                # get correct position: (which column combination we're at) + (which residue combination we're at)\n",
    "                covar_index = col_combination_count * aa_combinations + a * st.GAPPY_ALPHABET_LEN + b\n",
    "\n",
    "                # useful in case you want to find a specific cov score based on column and residue indices in the upper tri matrix\n",
    "                #col_combination_count = (num_cols*(num_cols-1)/2) - (num_cols-col_1_idx)*((num_cols-col_1_idx)-1)/2 + col_2_idx - col_1_idx - 1\n",
    "                #covar_index = int(col_combination_count * aa_combinations + a_idx * st.GAPPY_ALPHABET_LEN + b_idx)\n",
    "\n",
    "                # (joint occurances of residues a & b at thi) - (occurence of A at col i * occurence of B at col j)\n",
    "                covariances[covar_index] = freq_Ai_Bj - (freq_Ai * freq_Bj)\n",
    "\n",
    "            # keep track of how many column combinations we've seen \n",
    "            col_combination_count += 1\n",
    "\n",
    "    \n",
    "    return covariances\n",
    "\n",
    "msa, _, _ = st.convert_msa_numpy_array(test_aln)\n",
    "pairs = pair_wise_covariances(msa)\n",
    "print(pairs.shape)\n",
    "#pairs.shape"
   ]
  },
  {
   "cell_type": "code",
   "execution_count": 1,
   "metadata": {},
   "outputs": [
    {
     "data": {
      "text/html": [
       "<div>\n",
       "<style scoped>\n",
       "    .dataframe tbody tr th:only-of-type {\n",
       "        vertical-align: middle;\n",
       "    }\n",
       "\n",
       "    .dataframe tbody tr th {\n",
       "        vertical-align: top;\n",
       "    }\n",
       "\n",
       "    .dataframe thead th {\n",
       "        text-align: right;\n",
       "    }\n",
       "</style>\n",
       "<table border=\"1\" class=\"dataframe\">\n",
       "  <thead>\n",
       "    <tr style=\"text-align: right;\">\n",
       "      <th></th>\n",
       "      <th>Unnamed: 0</th>\n",
       "      <th>actual</th>\n",
       "      <th>prediction</th>\n",
       "    </tr>\n",
       "  </thead>\n",
       "  <tbody>\n",
       "    <tr>\n",
       "      <th>0</th>\n",
       "      <td>0</td>\n",
       "      <td>0.000000</td>\n",
       "      <td>0.000000</td>\n",
       "    </tr>\n",
       "    <tr>\n",
       "      <th>1</th>\n",
       "      <td>1</td>\n",
       "      <td>0.000000</td>\n",
       "      <td>0.000000</td>\n",
       "    </tr>\n",
       "    <tr>\n",
       "      <th>2</th>\n",
       "      <td>2</td>\n",
       "      <td>0.000000</td>\n",
       "      <td>0.000000</td>\n",
       "    </tr>\n",
       "    <tr>\n",
       "      <th>3</th>\n",
       "      <td>3</td>\n",
       "      <td>0.004469</td>\n",
       "      <td>0.004503</td>\n",
       "    </tr>\n",
       "    <tr>\n",
       "      <th>4</th>\n",
       "      <td>4</td>\n",
       "      <td>0.000000</td>\n",
       "      <td>0.000000</td>\n",
       "    </tr>\n",
       "  </tbody>\n",
       "</table>\n",
       "</div>"
      ],
      "text/plain": [
       "   Unnamed: 0    actual  prediction\n",
       "0           0  0.000000    0.000000\n",
       "1           1  0.000000    0.000000\n",
       "2           2  0.000000    0.000000\n",
       "3           3  0.004469    0.004503\n",
       "4           4  0.000000    0.000000"
      ]
     },
     "execution_count": 1,
     "metadata": {},
     "output_type": "execute_result"
    }
   ],
   "source": [
    "import pandas as pd\n",
    "gb1_corv_data = pd.read_csv(\"../data/gb1_3000_corv.csv\")\n",
    "gb1_corv_data.head()"
   ]
  },
  {
   "cell_type": "code",
   "execution_count": 7,
   "metadata": {},
   "outputs": [
    {
     "data": {
      "image/png": "[encoded data removed]",
      "text/plain": [
       "<Figure size 640x480 with 1 Axes>"
      ]
     },
     "metadata": {},
     "output_type": "display_data"
    }
   ],
   "source": [
    "import numpy as np\n",
    "import matplotlib.pyplot as plt\n",
    "\n",
    "plt.scatter(gb1_corv_data['actual'], gb1_corv_data['prediction'])\n",
    "plt.xlabel(\"MSA covariance\")\n",
    "plt.ylabel(\"VAE covariance\")\n",
    "slope, intercept = np.polyfit(gb1_corv_data['actual'], gb1_corv_data['prediction'], 1)\n",
    "x = np.arange(min(gb1_corv_data['actual']),max(gb1_corv_data['actual']) + 0.1, 0.1)\n",
    "regression_line = slope * x + intercept\n",
    "\n",
    "# Calculate correlation coefficient\n",
    "correlation_coefficient = np.corrcoef(gb1_corv_data['actual'], gb1_corv_data['prediction'])[0, 1]\n",
    "\n",
    "# Display correlation value\n",
    "plt.text(plt.xlim()[0], plt.ylim()[1], f'Pearson\\'s correlation: {correlation_coefficient:.2f}', va='top')\n",
    "\n",
    "# Plot regression line\n",
    "plt.plot(x, regression_line, color='red')\n",
    "plt.title(\"GB1 3000 random extants/ancestors\")\n",
    "plt.show()"
   ]
  },
  {
   "cell_type": "code",
   "execution_count": 9,
   "metadata": {},
   "outputs": [
    {
     "data": {
      "text/plain": [
       "'testing_asdfajsdflka'"
      ]
     },
     "execution_count": 9,
     "metadata": {},
     "output_type": "execute_result"
    }
   ],
   "source": [
    "dataset = \"../../asdfajsdflka\"\n",
    "\n",
    "test = f\"testing_{dataset.split('/')[-1]}\"\n",
    "test"
   ]
  },
  {
   "cell_type": "code",
   "execution_count": null,
   "metadata": {},
   "outputs": [],
   "source": []
  }
 ],
 "metadata": {
  "kernelspec": {
   "display_name": "Python 3",
   "language": "python",
   "name": "python3"
  },
  "language_info": {
   "codemirror_mode": {
    "name": "ipython",
    "version": 3
   },
   "file_extension": ".py",
   "mimetype": "text/x-python",
   "name": "python",
   "nbconvert_exporter": "python",
   "pygments_lexer": "ipython3",
   "version": "3.8.18"
  }
 },
 "nbformat": 4,
 "nbformat_minor": 4
}
