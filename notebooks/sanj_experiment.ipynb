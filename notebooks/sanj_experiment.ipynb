{
 "cells": [
  {
   "cell_type": "code",
   "execution_count": null,
   "id": "ac3a727f-afc9-44a0-9afe-5c5ed89ea959",
   "metadata": {},
   "outputs": [],
   "source": [
    "import pandas as pd \n",
    "import numpy as np \n",
    "import evoVAE.utils.metrics as mt \n",
    "import evoVAE.utils.seq_tools as st\n",
    "from numba import njit, prange, jit\n",
    "import random\n",
    "#pd.set_option('display.max_rows', None)\n",
    "import matplotlib.pyplot as plt\n",
    "import random\n",
    "import os\n",
    "from PIL import Image"
   ]
  },
  {
   "cell_type": "code",
   "execution_count": 21,
   "id": "c2c85f4c",
   "metadata": {},
   "outputs": [
    {
     "ename": "SyntaxError",
     "evalue": "invalid syntax (1846159841.py, line 27)",
     "output_type": "error",
     "traceback": [
      "\u001b[0;36m  Cell \u001b[0;32mIn[21], line 27\u001b[0;36m\u001b[0m\n\u001b[0;31m    image_path = dirs[col] + f\"{groups[col].split(\"_\")[0]}_extants_r{to_show}/loss.png\"\u001b[0m\n\u001b[0m                                                   ^\u001b[0m\n\u001b[0;31mSyntaxError\u001b[0m\u001b[0;31m:\u001b[0m invalid syntax\n"
     ]
    }
   ],
   "source": [
    "\n",
    "def process_file_path(file_path):\n",
    "    groups = [x for x in os.listdir(file_path) if x != \".DS_Store\"]\n",
    "    dirs = [file_path + x + \"/\" for x in os.listdir(file_path) if x != \".DS_Store\"]\n",
    "\n",
    "    return groups, dirs\n",
    "\n",
    "\n",
    "def plot_clustering_loss(file_path, figure_name, rows, columns, replicates: int = 10):\n",
    "\n",
    "    groups, dirs = process_file_path(file_path)\n",
    "\n",
    "    # Prepare the figure\n",
    "    fig, axes = plt.subplots(rows, columns, figsize=(4, 2))  # 2 rows, 5 columns\n",
    "\n",
    "    # Loop through groups and images\n",
    "    # Two rows\n",
    "    for col in range(columns):  # Five columns\n",
    "        sampled = []\n",
    "        for row in range(rows):\n",
    "\n",
    "            to_show = random.randint(1, replicates)\n",
    "            while to_show in sampled:\n",
    "                to_show = random.randint(1, replicates)\n",
    "            \n",
    "            sampled.append(to_show)\n",
    "            \n",
    "            image_path = dirs[col] + f\"{groups[col]}_extants_r{to_show}/loss.png\"\n",
    "            \n",
    "            # Load and display the image\n",
    "            img = Image.open(image_path)\n",
    "            axes[row, col].imshow(img)\n",
    "            axes[row, col].axis('off')\n",
    "\n",
    "    # Adjust layout\n",
    "    # Reduce vertical space between subplots\n",
    "    plt.subplots_adjust(hspace=0.01, wspace=0.01)  # Adjust vertical space between subplots (default is 0.2)\n",
    "    plt.savefig(figure_name, dpi=800, bbox_inches='tight')\n",
    "    plt.show()\n",
    "\n",
    "def plot_standard_loss(file_path, figure_name, rows = 3, columns = 3, max_reps: int = 15):\n",
    "\n",
    "    groups, dirs = process_file_path(file_path)\n",
    "\n",
    "    # Prepare the figure\n",
    "    fig, axes = plt.subplots(rows, columns, figsize=(4, 2)) \n",
    "\n",
    "    # Loop through groups and images\n",
    "    # Two rows\n",
    "    for col in range(columns):  # Five columns\n",
    "        sampled = []\n",
    "        for row in range(rows):\n",
    "\n",
    "            to_show = random.randint(1, max_reps)\n",
    "            while to_show in sampled:\n",
    "                to_show = random.randint(1, max_reps)\n",
    "            \n",
    "            sampled.append(to_show)\n",
    "            image_path = dirs[col] + f\"{groups[col]}_r{to_show}/loss.png\"\n",
    "            \n",
    "            # Load and display the image\n",
    "            img = Image.open(image_path)\n",
    "            axes[row, col].imshow(img)\n",
    "            axes[row, col].axis('off')\n",
    "\n",
    "    # Adjust layout\n",
    "    # Reduce vertical space between subplots\n",
    "    plt.subplots_adjust(hspace=0.01, wspace=0.01)  # Adjust vertical space between subplots (default is 0.2)\n",
    "    plt.savefig(figure_name, dpi=800, bbox_inches='tight')\n",
    "    plt.show()\n",
    "\n",
    "def combine_standard_replicates(file_path, max_reps: int = 15):\n",
    "    \n",
    "    groups, dirs = process_file_path(file_path)\n",
    "\n",
    "    df_list = []\n",
    "    for r in range(1, max_reps + 1):\n",
    "        for g, group in enumerate(groups):\n",
    "            file = dirs[g] + f\"{groups[g]}_r{r}/zero_shot_all_variants_final_metrics.csv\"\n",
    "            df_list.append(pd.read_csv(file))\n",
    "\n",
    "    # #all_data = pd.read_csv(\"gb1_cluster_sampling_results.csv\")\n",
    "    results = pd.concat(df_list, ignore_index=True)\n",
    "\n",
    "    print(results.shape)\n",
    "    return results\n",
    "\n",
    "def combine_clustering_replicates(file_path, max_reps: int = 15):\n",
    "\n",
    "    groups, dirs = process_file_path(file_path)\n",
    "\n",
    "    df_list = []\n",
    "    for r in range(1, max_reps + 1):\n",
    "        for g, group in enumerate(groups):\n",
    "            file = f\"{file_path + groups[g]}/{groups[g]}_extants_r{r}/zero_shot_all_variants_final_metrics.csv\"\n",
    "            df_list.append(pd.read_csv(file))\n",
    "\n",
    "    # #all_data = pd.read_csv(\"gb1_cluster_sampling_results.csv\")\n",
    "    cluster_results = pd.concat(df_list, ignore_index=True)\n",
    "    print(cluster_results.shape)\n",
    "\n",
    "    return cluster_results\n",
    "\n",
    "def get_standard_label(lab):\n",
    "        data = lab.split(\"/\")[1].split(\"_\")\n",
    "        if len(data) == 3:\n",
    "            # anc or extant\n",
    "            return data[1]\n",
    "        else:\n",
    "            return \"_\".join(data[1:-1])\n",
    "        \n",
    "\n",
    "def plot_standard_metrics(std_results, protein_name):\n",
    "\n",
    "    # use unique id to work out which sample it is \n",
    "    # get which replicate it is \n",
    "    get_rep = lambda x: int(x.split(\"/\")[1].split(\"_\")[-1][1:])\n",
    "    # get extants, ancestor or anc_extant label in sample\n",
    "   \n",
    "\n",
    "    rep = std_results[\"unique_id\"].apply(get_rep)\n",
    "\n",
    "    ext_prop = std_results[\"unique_id\"].apply(get_standard_label)\n",
    "\n",
    "    std_results[\"replicate\"] = rep\n",
    "    std_results[\"sample\"] = ext_prop\n",
    "\n",
    "    labels = std_results[\"sample\"].unique()\n",
    "    labels.sort()\n",
    "    \n",
    "    points = [std_results.loc[std_results[\"sample\"] == prop] for prop in labels]\n",
    "\n",
    "    metrics = [\"spearman_rho\", \"top_k_recall\", \"ndcg\", \"roc_auc\", \"pearson\"]\n",
    "    for m in metrics:\n",
    "\n",
    "        \n",
    "        means = [point[m].mean() for point in points]\n",
    "        std_devs = [point[m].std() for point in points] \n",
    "\n",
    "        x_pos = np.arange(len(labels))\n",
    "\n",
    "        fig, ax = plt.subplots()\n",
    "\n",
    "        # Create bars\n",
    "        bars = ax.bar(x_pos, means, yerr=std_devs, align='center', alpha=0.7, ecolor='black', capsize=10)\n",
    "\n",
    "        for i, point in enumerate(points):\n",
    "            ax.scatter([i]*len(point), point[m], color='red', zorder=3, alpha=0.5)\n",
    "\n",
    "\n",
    "        # Add labels\n",
    "        ax.set_xlabel('Extant sample proportion')\n",
    "        ax.set_ylabel(f'Mean {m}')\n",
    "        ax.set_xticks(x_pos)\n",
    "        ax.set_xticklabels(labels)\n",
    "\n",
    "        #ax.set_title('Average Spearman\\'s Rank Correlation with Ancestor/Extant samples')\n",
    "        if m == \"pearson\":\n",
    "            ax.set_title(f'{protein_name}: Average parwise covariance Pearson\\'s correlation')\n",
    "        else: \n",
    "            ax.set_title(f'{protein_name}: Average {m}')\n",
    "\n",
    "\n",
    "        # Add a grid for better readability\n",
    "        ax.yaxis.grid(True)\n",
    "\n",
    "        # Save the figure and show\n",
    "        plt.tight_layout()\n",
    "        plt.show()\n",
    "\n",
    "    \n",
    "\n",
    "def plot_clustering_metrics(cluster_results, protein_name):\n",
    "\n",
    "    # get which replicate it is \n",
    "    get_rep = lambda x: int(x.split(\"/\")[1].split(\"_\")[-1][1:])\n",
    "    # get proportion of extants in sample\n",
    "    get_ex = lambda x: float(x.split(\"/\")[1].split(\"_\")[1]) \n",
    "\n",
    "\n",
    "    rep = cluster_results[\"unique_id\"].apply(get_rep)\n",
    "\n",
    "    ext_prop = cluster_results[\"unique_id\"].apply(get_ex)\n",
    "\n",
    "    cluster_results[\"replicate\"] = rep\n",
    "    cluster_results[\"sample\"] = ext_prop\n",
    "\n",
    "    labels = cluster_results[\"sample\"].unique()\n",
    "    labels.sort()\n",
    "    \n",
    "    points = [cluster_results.loc[cluster_results[\"sample\"] == prop] for prop in labels]\n",
    "\n",
    "    metrics = [\"spearman_rho\", \"top_k_recall\", \"ndcg\", \"roc_auc\", \"pearson\"]\n",
    "    for m in metrics:\n",
    "\n",
    "        \n",
    "        means = [point[m].mean() for point in points]\n",
    "        std_devs = [point[m].std() for point in points] \n",
    "\n",
    "        x_pos = np.arange(len(labels))\n",
    "\n",
    "        fig, ax = plt.subplots()\n",
    "\n",
    "        # Create bars\n",
    "        bars = ax.bar(x_pos, means, yerr=std_devs, align='center', alpha=0.7, ecolor='black', capsize=10)\n",
    "\n",
    "        for i, point in enumerate(points):\n",
    "            ax.scatter([i]*len(point), point[m], color='red', zorder=3, alpha=0.5)\n",
    "\n",
    "\n",
    "        # Add labels\n",
    "        ax.set_xlabel('Extant sample proportion')\n",
    "        ax.set_ylabel(f'Mean {m}')\n",
    "        ax.set_xticks(x_pos)\n",
    "        ax.set_xticklabels(labels)\n",
    "\n",
    "        #ax.set_title('Average Spearman\\'s Rank Correlation with Ancestor/Extant samples')\n",
    "        if m == \"pearson\":\n",
    "            ax.set_title(f'{protein_name}: Average parwise covariance Pearson\\'s correlation')\n",
    "        else: \n",
    "            ax.set_title(f'{protein_name}: Average {m}')\n",
    "\n",
    "\n",
    "        # Add a grid for better readability\n",
    "        ax.yaxis.grid(True)\n",
    "\n",
    "        # Save the figure and show\n",
    "        plt.tight_layout()\n",
    "        plt.show()\n",
    "\n"
   ]
  },
  {
   "cell_type": "markdown",
   "id": "1852d8e8",
   "metadata": {},
   "source": [
    "# GB1 clustering "
   ]
  },
  {
   "cell_type": "markdown",
   "id": "24aa0982",
   "metadata": {},
   "source": [
    "#### GB1 clustering results - loss"
   ]
  },
  {
   "cell_type": "code",
   "execution_count": 18,
   "id": "bdf0b31e",
   "metadata": {},
   "outputs": [
    {
     "name": "stdout",
     "output_type": "stream",
     "text": [
      "gb1_0.0_sanjana\n"
     ]
    },
    {
     "ename": "FileNotFoundError",
     "evalue": "[Errno 2] No such file or directory: '/Users/sebs_mac/sanj_round_1/gb1/gb1_0.0_sanjana/gb1_0.0_sanjana_r1/loss.png'",
     "output_type": "error",
     "traceback": [
      "\u001b[0;31m---------------------------------------------------------------------------\u001b[0m",
      "\u001b[0;31mFileNotFoundError\u001b[0m                         Traceback (most recent call last)",
      "Cell \u001b[0;32mIn[18], line 4\u001b[0m\n\u001b[1;32m      1\u001b[0m gb1_file_path \u001b[38;5;241m=\u001b[39m \u001b[38;5;124m'\u001b[39m\u001b[38;5;124m/Users/sebs_mac/sanj_round_1/gb1/\u001b[39m\u001b[38;5;124m'\u001b[39m\n\u001b[1;32m      2\u001b[0m figure_name \u001b[38;5;241m=\u001b[39m \u001b[38;5;124m\"\u001b[39m\u001b[38;5;124mgb1_sanj_cluster_loss.png\u001b[39m\u001b[38;5;124m\"\u001b[39m\n\u001b[0;32m----> 4\u001b[0m \u001b[43mplot_clustering_loss\u001b[49m\u001b[43m(\u001b[49m\u001b[43mgb1_file_path\u001b[49m\u001b[43m,\u001b[49m\u001b[43m \u001b[49m\u001b[43mfigure_name\u001b[49m\u001b[43m,\u001b[49m\u001b[43m \u001b[49m\u001b[43mrows\u001b[49m\u001b[38;5;241;43m=\u001b[39;49m\u001b[38;5;241;43m2\u001b[39;49m\u001b[43m,\u001b[49m\u001b[43m \u001b[49m\u001b[43mcolumns\u001b[49m\u001b[38;5;241;43m=\u001b[39;49m\u001b[38;5;241;43m5\u001b[39;49m\u001b[43m,\u001b[49m\u001b[43m \u001b[49m\u001b[43mreplicates\u001b[49m\u001b[38;5;241;43m=\u001b[39;49m\u001b[38;5;241;43m5\u001b[39;49m\u001b[43m)\u001b[49m\n",
      "Cell \u001b[0;32mIn[17], line 31\u001b[0m, in \u001b[0;36mplot_clustering_loss\u001b[0;34m(file_path, figure_name, rows, columns, replicates)\u001b[0m\n\u001b[1;32m     28\u001b[0m image_path \u001b[38;5;241m=\u001b[39m dirs[col] \u001b[38;5;241m+\u001b[39m \u001b[38;5;124mf\u001b[39m\u001b[38;5;124m\"\u001b[39m\u001b[38;5;132;01m{\u001b[39;00mgroups[col]\u001b[38;5;132;01m}\u001b[39;00m\u001b[38;5;124m_r\u001b[39m\u001b[38;5;132;01m{\u001b[39;00mto_show\u001b[38;5;132;01m}\u001b[39;00m\u001b[38;5;124m/loss.png\u001b[39m\u001b[38;5;124m\"\u001b[39m\n\u001b[1;32m     30\u001b[0m \u001b[38;5;66;03m# Load and display the image\u001b[39;00m\n\u001b[0;32m---> 31\u001b[0m img \u001b[38;5;241m=\u001b[39m \u001b[43mImage\u001b[49m\u001b[38;5;241;43m.\u001b[39;49m\u001b[43mopen\u001b[49m\u001b[43m(\u001b[49m\u001b[43mimage_path\u001b[49m\u001b[43m)\u001b[49m\n\u001b[1;32m     32\u001b[0m axes[row, col]\u001b[38;5;241m.\u001b[39mimshow(img)\n\u001b[1;32m     33\u001b[0m axes[row, col]\u001b[38;5;241m.\u001b[39maxis(\u001b[38;5;124m'\u001b[39m\u001b[38;5;124moff\u001b[39m\u001b[38;5;124m'\u001b[39m)\n",
      "File \u001b[0;32m~/miniconda3/envs/embed/lib/python3.8/site-packages/PIL/Image.py:3247\u001b[0m, in \u001b[0;36mopen\u001b[0;34m(fp, mode, formats)\u001b[0m\n\u001b[1;32m   3244\u001b[0m     filename \u001b[38;5;241m=\u001b[39m fp\n\u001b[1;32m   3246\u001b[0m \u001b[38;5;28;01mif\u001b[39;00m filename:\n\u001b[0;32m-> 3247\u001b[0m     fp \u001b[38;5;241m=\u001b[39m \u001b[43mbuiltins\u001b[49m\u001b[38;5;241;43m.\u001b[39;49m\u001b[43mopen\u001b[49m\u001b[43m(\u001b[49m\u001b[43mfilename\u001b[49m\u001b[43m,\u001b[49m\u001b[43m \u001b[49m\u001b[38;5;124;43m\"\u001b[39;49m\u001b[38;5;124;43mrb\u001b[39;49m\u001b[38;5;124;43m\"\u001b[39;49m\u001b[43m)\u001b[49m\n\u001b[1;32m   3248\u001b[0m     exclusive_fp \u001b[38;5;241m=\u001b[39m \u001b[38;5;28;01mTrue\u001b[39;00m\n\u001b[1;32m   3250\u001b[0m \u001b[38;5;28;01mtry\u001b[39;00m:\n",
      "\u001b[0;31mFileNotFoundError\u001b[0m: [Errno 2] No such file or directory: '/Users/sebs_mac/sanj_round_1/gb1/gb1_0.0_sanjana/gb1_0.0_sanjana_r1/loss.png'"
     ]
    },
    {
     "data": {
      "image/png": "[encoded data removed]",
      "text/plain": [
       "<Figure size 400x200 with 10 Axes>"
      ]
     },
     "metadata": {},
     "output_type": "display_data"
    }
   ],
   "source": [
    "gb1_file_path = '/Users/sebs_mac/sanj_round_1/gb1/'\n",
    "figure_name = \"gb1_sanj_cluster_loss.png\"\n",
    "\n",
    "plot_clustering_loss(gb1_file_path, figure_name, rows=2, columns=5, replicates=5)"
   ]
  },
  {
   "cell_type": "markdown",
   "id": "b78ad2cb",
   "metadata": {},
   "source": [
    "#### GB1 clustering results - metrics: 14 replicates"
   ]
  },
  {
   "cell_type": "code",
   "execution_count": null,
   "id": "a40cc1ec",
   "metadata": {},
   "outputs": [],
   "source": [
    "gb1_all_cluster_results = combine_clustering_replicates(gb1_file_path)\n",
    "gb1_all_cluster_results.tail()\n"
   ]
  },
  {
   "cell_type": "code",
   "execution_count": null,
   "id": "ae17980e",
   "metadata": {},
   "outputs": [],
   "source": [
    "plot_clustering_metrics(gb1_all_cluster_results, \"GB1\")"
   ]
  },
  {
   "cell_type": "markdown",
   "id": "4ee6bf93",
   "metadata": {},
   "source": [
    "#### GB1 Standard - loss"
   ]
  },
  {
   "cell_type": "code",
   "execution_count": null,
   "id": "8993748d",
   "metadata": {},
   "outputs": [],
   "source": [
    "gb1_std_file_path = '/Users/sebs_mac/round_3/gb1/standard/'\n",
    "plot_standard_loss(gb1_std_file_path, \"gb1_std_loss.png\")"
   ]
  },
  {
   "cell_type": "markdown",
   "id": "25fad772",
   "metadata": {},
   "source": [
    "#### GB1 - standard results - metrics: 14 replicates"
   ]
  },
  {
   "cell_type": "code",
   "execution_count": null,
   "id": "96e7b0c7",
   "metadata": {},
   "outputs": [],
   "source": [
    "# #all_data = pd.read_csv(\"gb1_cluster_sampling_results.csv\")\n",
    "gb1_all_std_results =combine_standard_replicates(gb1_std_file_path)\n",
    "gb1_all_std_results.head()"
   ]
  },
  {
   "cell_type": "code",
   "execution_count": null,
   "id": "3377bd35",
   "metadata": {},
   "outputs": [],
   "source": [
    "gb1_all_std_results[gb1_all_std_results[\"unique_id\"].str.contains(\"extants\") & ~gb1_all_std_results[\"unique_id\"].str.contains(\"anc\")]"
   ]
  },
  {
   "cell_type": "code",
   "execution_count": null,
   "id": "dc164214",
   "metadata": {},
   "outputs": [],
   "source": [
    "plot_standard_metrics(gb1_all_std_results, \"GB1\")"
   ]
  },
  {
   "cell_type": "markdown",
   "id": "0ff158a6",
   "metadata": {},
   "source": [
    "# A4 human clustering "
   ]
  },
  {
   "cell_type": "markdown",
   "id": "65b4adfb",
   "metadata": {},
   "source": [
    "#### Getting cluster replicates"
   ]
  },
  {
   "cell_type": "code",
   "execution_count": null,
   "id": "2e5b3175",
   "metadata": {},
   "outputs": [],
   "source": [
    "# this is the dataframe where all sampling will take place from, indices that are sampled will refer to this dataset\n",
    "a4_aln: pd.DataFrame = pd.read_pickle(\"/Users/sebs_mac/uni_OneDrive/honours/data/a4/encoded_weighted/a4_ancestors_extants_encoded_weighted_no_dupes.pkl\")\n",
    "#aln = aln.sample(frac=0.2)\n",
    "print(a4_aln.shape)\n",
    "a4_aln.head()\n",
    "\n",
    "# get into numeric form for quicker processing \n",
    "a4_msa, seq_key, key_label = st.convert_msa_numpy_array(a4_aln)\n",
    "a4_msa.shape\n"
   ]
  },
  {
   "cell_type": "code",
   "execution_count": null,
   "id": "e7f99dd6",
   "metadata": {},
   "outputs": [],
   "source": [
    "# read the mmSeqs clustering output \n",
    "results = pd.read_csv(\"/Users/sebs_mac/uni_OneDrive/honours/data/a4/mmseqs_clustering/a4_an_ex_cluster.tsv\", sep=\"\\t\", header=None)\n",
    "results.columns = [\"cluster\", \"sequence\"]\n",
    "mark_ancestors = lambda x: 1 if \"tree\" in x else 0\n",
    "is_ancestor = results[\"sequence\"].apply(mark_ancestors)\n",
    "results[\"is_ancestor\"] = is_ancestor\n",
    "\n",
    "representative_ids = results[\"cluster\"].unique()\n",
    "# subsets of the dataframes based on the cluster it belongs too \n",
    "clusters = [results.loc[results[\"cluster\"] == cluster] for cluster in representative_ids]\n",
    "representative_ids.shape"
   ]
  },
  {
   "cell_type": "code",
   "execution_count": null,
   "id": "7cabf81c",
   "metadata": {},
   "outputs": [],
   "source": [
    "\n",
    "SAMPLE_SIZE = 10000\n",
    "extant_proportions = [0.0, 0.05, 0.1, 0.15, 0.2]\n",
    "\n",
    "\n",
    "aln = pd.read_pickle(\"/Users/sebs_mac/uni_OneDrive/honours/data/a4/alns/a4_ancestors_extants_no_dupes.pkl\")\n",
    "\n",
    "random.seed(42)\n",
    "\n",
    "for p in extant_proportions:\n",
    "        \n",
    "    test = pd.DataFrame()\n",
    "\n",
    "    for r in range(1, 16):\n",
    "        sample_ids = st.sample_extant_ancestors(clusters, SAMPLE_SIZE, extant_proportion=p)\n",
    "        sample_seqs = aln.loc[aln[\"id\"].isin(sample_ids)]\n",
    "        indices =  list(sample_seqs.index)\n",
    "        test[f\"rep_{r}\"] = indices\n",
    "\n",
    "    test.to_csv(f\"a4_{p}_replicates.csv\", index=False)\n",
    "#st.write_fasta_file(f\"./clusters/gb1_ancestors_extants_no_dupes_clustered_r{r}_extant_{p}.fasta\", sample_seqs)"
   ]
  },
  {
   "cell_type": "markdown",
   "id": "b685f720",
   "metadata": {},
   "source": [
    "#### A4 clustering results - loss"
   ]
  },
  {
   "cell_type": "code",
   "execution_count": null,
   "id": "95fa4513",
   "metadata": {},
   "outputs": [],
   "source": [
    "a4_file_path = '/Users/sebs_mac/round_3/a4/clustering/'\n",
    "figure_name = \"a4_cluster_loss.png\"\n",
    "\n",
    "plot_clustering_loss(a4_file_path, figure_name, rows=2, columns=5)"
   ]
  },
  {
   "cell_type": "markdown",
   "id": "d77ce2f2",
   "metadata": {},
   "source": [
    "#### A4 clustering results - metrics: 15 replicates"
   ]
  },
  {
   "cell_type": "code",
   "execution_count": null,
   "id": "a0c9b4e2",
   "metadata": {},
   "outputs": [],
   "source": [
    "a4_all_cluster_results = combine_clustering_replicates(a4_file_path)\n",
    "a4_all_cluster_results"
   ]
  },
  {
   "cell_type": "code",
   "execution_count": null,
   "id": "2b019f62",
   "metadata": {},
   "outputs": [],
   "source": [
    "plot_clustering_metrics(a4_all_cluster_results, \"A4\")"
   ]
  },
  {
   "cell_type": "markdown",
   "id": "3c3274e2",
   "metadata": {},
   "source": [
    "#### A4 Standard results - loss"
   ]
  },
  {
   "cell_type": "code",
   "execution_count": null,
   "id": "21531b59",
   "metadata": {},
   "outputs": [],
   "source": [
    "a4_std_file_path = '/Users/sebs_mac/round_3/a4/standard/'\n",
    "plot_standard_loss(a4_std_file_path, \"a4_std_loss.png\")"
   ]
  },
  {
   "cell_type": "markdown",
   "id": "47d46e42",
   "metadata": {},
   "source": [
    "#### A4 Standard results - metrics: 15 replicates"
   ]
  },
  {
   "cell_type": "code",
   "execution_count": null,
   "id": "f57a87ae",
   "metadata": {},
   "outputs": [],
   "source": [
    "a4_all_std_results = combine_standard_replicates(a4_std_file_path)\n",
    "a4_all_std_results.head()"
   ]
  },
  {
   "cell_type": "code",
   "execution_count": null,
   "id": "37e54de9",
   "metadata": {},
   "outputs": [],
   "source": [
    "plot_standard_metrics(a4_all_std_results, \"A4\")"
   ]
  },
  {
   "cell_type": "markdown",
   "id": "6e9810d7",
   "metadata": {},
   "source": [
    "# GCN4 clustering"
   ]
  },
  {
   "cell_type": "markdown",
   "id": "d55c4a1d",
   "metadata": {},
   "source": [
    "#### GCN4 - getting cluster replicates"
   ]
  },
  {
   "cell_type": "code",
   "execution_count": null,
   "id": "ff08e52e",
   "metadata": {},
   "outputs": [],
   "source": [
    "clustering_results = pd.read_csv(\"/Users/sebs_mac/uni_OneDrive/honours/data/gcn4/mmseqs_clustering/gcn4_an_ex_cluster.tsv\", sep=\"\\t\", header=None)\n",
    "clustering_results.columns = [\"cluster\", \"sequence\"]\n",
    "\n",
    "mark_ancestors = lambda x: 1 if \"tree\" in x else 0\n",
    "is_ancestor = clustering_results[\"sequence\"].apply(mark_ancestors)\n",
    "clustering_results[\"is_ancestor\"] = is_ancestor\n",
    "\n",
    "representative_ids = clustering_results[\"cluster\"].unique()\n",
    "\n",
    "clustering_results\n",
    "# divide the sequences into their clusters\n",
    "clusters = [clustering_results.loc[clustering_results[\"cluster\"] == rep] for rep in representative_ids]\n",
    "len(clusters)"
   ]
  },
  {
   "cell_type": "code",
   "execution_count": null,
   "id": "44180eae",
   "metadata": {},
   "outputs": [],
   "source": [
    "import random\n",
    "import evoVAE.utils.seq_tools as st\n",
    "\n",
    "\n",
    "SAMPLE_SIZE = 5000\n",
    "extant_proportions = [0.06, 0.04, 0.02, 0.0]\n",
    "\n",
    "\n",
    "aln = pd.read_pickle(\"/Users/sebs_mac/uni_OneDrive/honours/data/gcn4/alns/gcn4_ancestors_extants_no_dupes.pkl\")\n",
    "\n",
    "random.seed(42)\n",
    "\n",
    "for p in extant_proportions:\n",
    "        \n",
    "    test = pd.DataFrame()\n",
    "\n",
    "    for r in range(1, 16):\n",
    "        sample_ids = st.sample_extant_ancestors(clusters, SAMPLE_SIZE, extant_proportion=p)\n",
    "        sample_seqs = aln.loc[aln[\"id\"].isin(sample_ids)]\n",
    "        indices =  list(sample_seqs.index)\n",
    "        test[f\"rep_{r}\"] = indices\n",
    "\n",
    "\n",
    "    test.to_csv(f\"gcn4_{p}_replicates.csv\", index=False)\n",
    "       \n"
   ]
  },
  {
   "cell_type": "code",
   "execution_count": null,
   "id": "f50c70d7",
   "metadata": {},
   "outputs": [],
   "source": [
    "import os\n",
    "import pandas as pd\n",
    "\n",
    "DATA_PATH = \"/Users/sebs_mac/uni_OneDrive/honours/data/clustering_data/gcn4/\"\n",
    "\n",
    "#df_list = [pd.read_csv(file + \"/_zero_shot.csv\") for file in os.listdir(DATA_PATH)]\n",
    "df_list = [pd.read_csv((DATA_PATH + str(file) + \"/_zero_shot.csv\")) for file in os.listdir(DATA_PATH) if str(file) != \".DS_Store\"]\n",
    "\n",
    "all_data = pd.read_csv(\"gcn4_cluster_sampling_results.csv\")\n",
    "all_data.drop(columns=[\"Unnamed: 0\"], inplace=True)\n",
    "\n",
    "get_rep = lambda x: x.split(\"_\")[1] \n",
    "get_ex = lambda x: x.split(\"_\")[11] \n",
    "\n",
    "rep = all_data[\"unique_id\"].apply(get_rep)\n",
    "ext_prop = all_data[\"unique_id\"].apply(get_ex)\n",
    "all_data[\"replicate\"] = rep\n",
    "all_data[\"extant_prop\"] = ext_prop\n",
    "\n",
    "a4_extant_proportions = all_data[\"extant_prop\"].unique()\n",
    "a4_extant_proportions.sort()\n",
    "\n",
    "subsets = [all_data.loc[all_data[\"extant_prop\"] == prop] for prop in a4_extant_proportions]\n",
    "\n"
   ]
  },
  {
   "cell_type": "markdown",
   "id": "14fcd8e8",
   "metadata": {},
   "source": [
    "#### GCN4 clustering results - loss"
   ]
  },
  {
   "cell_type": "code",
   "execution_count": null,
   "id": "648084a0",
   "metadata": {},
   "outputs": [],
   "source": [
    "gcn4_file_path = '/Users/sebs_mac/round_5/gcn4/clustering/'\n",
    "figure_name = \"gcn4_cluster_loss.png\"\n",
    "\n",
    "plot_clustering_loss(gcn4_file_path, figure_name, rows=2, columns=4)"
   ]
  },
  {
   "cell_type": "markdown",
   "id": "46ac7a8b",
   "metadata": {},
   "source": [
    "#### GCN4 clustering results - metrics: 15 replicates"
   ]
  },
  {
   "cell_type": "code",
   "execution_count": null,
   "id": "c519acef",
   "metadata": {},
   "outputs": [],
   "source": [
    "gcn4_all_cluster_results = combine_clustering_replicates(gcn4_file_path)\n",
    "gcn4_all_cluster_results.head()"
   ]
  },
  {
   "cell_type": "code",
   "execution_count": null,
   "id": "b4368468",
   "metadata": {},
   "outputs": [],
   "source": [
    "plot_clustering_metrics(gcn4_all_cluster_results, \"GCN4\")"
   ]
  },
  {
   "cell_type": "markdown",
   "id": "8f4c2c71",
   "metadata": {},
   "source": [
    "#### GCN4 Standard results - loss"
   ]
  },
  {
   "cell_type": "code",
   "execution_count": null,
   "id": "9e31bb45",
   "metadata": {},
   "outputs": [],
   "source": [
    "gcn4_std_file_path = '/Users/sebs_mac/round_5/gcn4/standard/'\n",
    "plot_standard_loss(gcn4_std_file_path, \"gcn4_std_loss.png\")"
   ]
  },
  {
   "cell_type": "markdown",
   "id": "d75e0c7b",
   "metadata": {},
   "source": [
    "#### GCN4 Standard results - metrics: 15 replicates"
   ]
  },
  {
   "cell_type": "code",
   "execution_count": null,
   "id": "2ecb839c",
   "metadata": {},
   "outputs": [],
   "source": [
    "gcn4_all_std_results = combine_standard_replicates(gcn4_std_file_path)\n",
    "gcn4_all_std_results.head()"
   ]
  },
  {
   "cell_type": "code",
   "execution_count": null,
   "id": "fe5bf890",
   "metadata": {},
   "outputs": [],
   "source": [
    "plot_standard_metrics(gcn4_all_std_results, \"GCN4\")"
   ]
  },
  {
   "cell_type": "markdown",
   "id": "36d18dce",
   "metadata": {},
   "source": [
    "# GFP"
   ]
  },
  {
   "cell_type": "markdown",
   "id": "c5d2c344",
   "metadata": {},
   "source": [
    "##### GFP - standard"
   ]
  },
  {
   "cell_type": "code",
   "execution_count": null,
   "id": "9b60a2b6",
   "metadata": {},
   "outputs": [],
   "source": [
    "gfp_std_file_path = '/Users/sebs_mac/round_5/gfp/standard/'\n",
    "plot_standard_loss(gfp_std_file_path, \"gfp_std_loss.png\", max_reps=3)"
   ]
  },
  {
   "cell_type": "code",
   "execution_count": null,
   "id": "05788526",
   "metadata": {},
   "outputs": [],
   "source": [
    "gfp_all_std_results = combine_standard_replicates(gfp_std_file_path, max_reps=3)\n",
    "gfp_all_std_results[\"pearson\"] = [np.nan] * 9\n",
    "gfp_all_std_results.head()"
   ]
  },
  {
   "cell_type": "code",
   "execution_count": null,
   "id": "9c7d5177",
   "metadata": {},
   "outputs": [],
   "source": [
    "plot_standard_metrics(gfp_all_std_results, \"GFP\")"
   ]
  },
  {
   "cell_type": "code",
   "execution_count": null,
   "id": "e6935cf0",
   "metadata": {},
   "outputs": [],
   "source": []
  }
 ],
 "metadata": {
  "kernelspec": {
   "display_name": "embed",
   "language": "python",
   "name": "python3"
  },
  "language_info": {
   "codemirror_mode": {
    "name": "ipython",
    "version": 3
   },
   "file_extension": ".py",
   "mimetype": "text/x-python",
   "name": "python",
   "nbconvert_exporter": "python",
   "pygments_lexer": "ipython3",
   "version": "3.8.18"
  }
 },
 "nbformat": 4,
 "nbformat_minor": 5
}
