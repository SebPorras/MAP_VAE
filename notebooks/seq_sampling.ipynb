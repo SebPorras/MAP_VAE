{
 "cells": [
  {
   "cell_type": "markdown",
   "metadata": {},
   "source": [
    "### This notebook will demonstrate how to subset a MSA into random samples for the generation of multiple trees"
   ]
  },
  {
   "cell_type": "code",
   "execution_count": 1,
   "metadata": {},
   "outputs": [],
   "source": [
    "import evoVAE.utils.seq_tools as st"
   ]
  },
  {
   "cell_type": "markdown",
   "metadata": {},
   "source": [
    "##### Reading in alignment and filtering "
   ]
  },
  {
   "cell_type": "code",
   "execution_count": 14,
   "metadata": {},
   "outputs": [
    {
     "name": "stdout",
     "output_type": "stream",
     "text": [
      "Reading the alignment: ../data/dms_data/GFP_AEQVI_full_04-29-2022_b08.a2m\n",
      "Checking for bad characters: ['X']\n",
      "Removed 16 sequences\n",
      "Performing one hot encoding\n",
      "Number of seqs: 380\n"
     ]
    }
   ],
   "source": [
    "aln = st.read_aln_file('../data/dms_data/GFP_AEQVI_full_04-29-2022_b08.a2m')\n",
    "st.write_fasta_file(f\"../data/alignments/gfp_alns/GFP_AEQVI_full_04-29-2022_b08.aln\", aln)\n",
    "\n",
    "draws = []\n",
    "for draw in range(100):\n",
    "    draws.append(aln.sample(n=250, random_state=draw, replace=False))"
   ]
  },
  {
   "cell_type": "code",
   "execution_count": 15,
   "metadata": {},
   "outputs": [],
   "source": [
    "for i, seqs in enumerate(draws):\n",
    "    st.write_fasta_file(f\"../data/alignments/gfp_alns/GFP_AEQVI_full_04-29-2022_b08_rand_subset_{i}.aln\", seqs)"
   ]
  },
  {
   "cell_type": "code",
   "execution_count": null,
   "metadata": {},
   "outputs": [],
   "source": []
  }
 ],
 "metadata": {
  "kernelspec": {
   "display_name": "embed",
   "language": "python",
   "name": "python3"
  },
  "language_info": {
   "codemirror_mode": {
    "name": "ipython",
    "version": 3
   },
   "file_extension": ".py",
   "mimetype": "text/x-python",
   "name": "python",
   "nbconvert_exporter": "python",
   "pygments_lexer": "ipython3",
   "version": "3.8.18"
  }
 },
 "nbformat": 4,
 "nbformat_minor": 2
}
