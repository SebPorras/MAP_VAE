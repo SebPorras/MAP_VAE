{
 "cells": [
  {
   "cell_type": "markdown",
   "metadata": {},
   "source": [
    "### GFP_AEQV processing"
   ]
  },
  {
   "cell_type": "code",
   "execution_count": 5,
   "metadata": {},
   "outputs": [
    {
     "name": "stdout",
     "output_type": "stream",
     "text": [
      "Reading the alignment: /Users/sebs_mac/uni_OneDrive/honours/data/gb1/SPG1_STRSG_full_b0.1.fasta\n",
      "Checking for bad characters: ['B', 'J', 'X', 'Z']\n",
      "Removed 25 sequences\n",
      "Number of seqs: 3084\n"
     ]
    }
   ],
   "source": [
    "import evoVAE.utils.seq_tools as st\n",
    "from evoVAE.utils.webservice import get_sequence_batch\n",
    "import numpy as np\n",
    "import pandas as pd\n",
    "pd.set_option(\"display.max_rows\", None)\n",
    "from ete3 import Tree\n",
    "from sequence import *\n",
    "\n",
    "DATA_DIR = '/Users/sebs_mac/uni_OneDrive/honours/data/gb1/'\n",
    "\n",
    "aln = st.read_aln_file(DATA_DIR + 'SPG1_STRSG_full_b0.1.fasta', encode=False)"
   ]
  },
  {
   "cell_type": "markdown",
   "metadata": {},
   "source": []
  },
  {
   "cell_type": "markdown",
   "metadata": {},
   "source": [
    "# Reading in alignment "
   ]
  },
  {
   "cell_type": "code",
   "execution_count": null,
   "metadata": {},
   "outputs": [],
   "source": [
    "\n",
    "#st.write_fasta_file(f\"../data/alignments/gfp_alns/GFP_AEQVI_full_04-29-2022_b08.aln\", aln)\n",
    "\n",
    "#draws = []\n",
    "#for draw in range(100):\n",
    "#    draws.append(aln.sample(n=250, random_state=draw, replace=False))\n",
    "\n",
    "#for i, seqs in enumerate(draws):\n",
    "#    st.write_fasta_file(f\"../data/alignments/gfp_alns/GFP_AEQVI_full_04-29-2022_b08_rand_subset_{i}.aln\", seqs)\n",
    "#aln"
   ]
  },
  {
   "cell_type": "markdown",
   "metadata": {},
   "source": [
    "# Collecting annotations about sequences"
   ]
  },
  {
   "cell_type": "code",
   "execution_count": null,
   "metadata": {},
   "outputs": [],
   "source": [
    "ids = aln['id']\n",
    "ids = [x for x in ids.apply(lambda x: x.split('/')[0]).values]\n",
    "\n",
    "print( [x.split('_')[1] for x in ids])\n",
    "# Sequences found in the very distant branch of the tree. \n",
    "outgroup = [\"UniRef100_Q6RYS7/1-232\",\n",
    "\"UniRef100_UPI000B5ABD49/2-234\",\n",
    "\"UniRef100_A0A5J6CYI5/1-229\",\n",
    "\"UniRef100_Q6RYS6/40-259\",\n",
    "\"UniRef100_Q6RYS5/2-223\",\n",
    "\"UniRef100_J9PIH6/6-230\",\n",
    "\"UniRef100_J9PJD5/7-231\",\n",
    "\"UniRef100_A0A7M5TYI8/7-231\",\n",
    "\"UniRef100_A0A5J6CYV7/1-229\",\n",
    "\"UniRef100_A0A5J6CYI7/1-229\",\n",
    "\"UniRef100_A0A5J6CYT5/1-229\",\n",
    "\"UniRef100_A0A5J6CYV4/1-229\",\n",
    "\"UniRef100_A0A5J6CYK8/1-229\",\n",
    "\"UniRef100_A0A7M5TUN8/3-229\",\n",
    "\"UniRef100_A0A7M5UKF9/3-229\",\n",
    "\"UniRef100_A0A7M5WQI9/3-229\",\n",
    "\"UniRef100_A0A7M5UPI8/3-229\",\n",
    "\"UniRef100_A0A7M5V224/3-229\",\n",
    "\"UniRef100_J9PGT0/3-229\",\n",
    "\"UniRef100_A0A7M5WWU1/3-229\",\n",
    "\"UniRef100_A0A7M5XGN4/3-229\",\n",
    "\"UniRef100_G1JSF2/3-231\",\n",
    "\"UniRef100_G1JSF3/3-231\",\n",
    "\"UniRef100_G1JSF4/3-231\",\n",
    "\"UniRef100_A0A7M5WWD0/7-234\",\n",
    "\"UniRef100_A0A7M5V407/7-234\",\n",
    "\"UniRef100_A0A7M6DMT2/54-281\",\n",
    "\"UniRef100_J9PGG2/7-234\",\n",
    "\"UniRef100_A0A7M5X361/50-277\",\n",
    "\"UniRef100_D7PM05/5-232\",\n",
    "\"UniRef100_D7PM10/5-232\",\n",
    "\"UniRef100_D7PM12/5-232\",\n",
    "\"UniRef100_D7PM04/5-232\",\n",
    "\"UniRef100_D7PM06/5-232\",]\n",
    "\n",
    "ID = 0 \n",
    "SPECIES = 1\n",
    "# in-group sequences \n",
    "outgroup = [x.split('/')[ID] for x in outgroup]\n",
    "print(len(outgroup))\n",
    "# FIX ME, querying for uniref seqs is still broken, skipping first uniprot entry \n",
    "ingroup = [x for x in ids[1:] if x not in outgroup]\n",
    "print(len(ingroup))\n",
    "\n",
    "uniprot_cols =  [\"id\", \"organism\"]\n",
    "outgroup_query = get_sequence_batch(outgroup, uniprot_cols, query_field = \"id\", database=\"uniref\")\n",
    "ingroup_query = get_sequence_batch(ingroup, uniprot_cols, query_field = \"id\", database=\"uniref\")\n",
    "\n",
    "outgroup_species = pd.Series([x[SPECIES] for x in outgroup_query]).value_counts()\n",
    "ingroup_species = pd.Series([x[SPECIES] for x in ingroup_query]).value_counts()"
   ]
  },
  {
   "cell_type": "markdown",
   "metadata": {},
   "source": [
    "# Removing synthetic sequences"
   ]
  },
  {
   "cell_type": "code",
   "execution_count": null,
   "metadata": {},
   "outputs": [],
   "source": [
    "synthetic_seqs = [x for x,y in ingroup_query if y == 'synthetic construct']\n",
    "\n",
    "no_syn_aln_seqs = []\n",
    "all_seqs = []\n",
    "for name, seq in zip(aln['id'], aln['sequence']):\n",
    "\n",
    "    if name.split('/')[0] not in synthetic_seqs:\n",
    "        x = Sequence(seq, name=name, gappy=True)\n",
    "        no_syn_aln_seqs.append(x)\n",
    "\n",
    "    x = Sequence(seq, name=name, gappy=True)\n",
    "    all_seqs.append(x)\n",
    "\n",
    "print(len(no_syn_aln_seqs), len(all_seqs))\n",
    "writeFastaFile(filename='no_synthetic_GFP_AEQVI_full_04-29-2022_b08.aln', seqs=no_syn_aln_seqs)"
   ]
  },
  {
   "cell_type": "code",
   "execution_count": null,
   "metadata": {},
   "outputs": [],
   "source": [
    "all_aln = Alignment(all_seqs)\n",
    "no_syn_aln = Alignment(no_syn_aln_seqs)\n",
    "\n",
    "con_all = all_aln.getConsensus() \n",
    "no_syn_con = no_syn_aln.getConsensus()\n",
    "count = 0 \n",
    "for x, y in zip(no_syn_con, con_all):\n",
    "    \n",
    "    if x != y:\n",
    "        print(f\"Difference at : {count}\")\n",
    "\n",
    "    count += 1\n"
   ]
  },
  {
   "cell_type": "code",
   "execution_count": null,
   "metadata": {},
   "outputs": [],
   "source": [
    "outgroup_species"
   ]
  },
  {
   "cell_type": "code",
   "execution_count": null,
   "metadata": {},
   "outputs": [],
   "source": [
    "ingroup_species"
   ]
  },
  {
   "cell_type": "markdown",
   "metadata": {},
   "source": [
    "# Rooting tree"
   ]
  },
  {
   "cell_type": "markdown",
   "metadata": {},
   "source": [
    "Minimum ancestor deviation (MAD) will be used to root the tree as all sequences are assumed to be homologs. "
   ]
  },
  {
   "cell_type": "markdown",
   "metadata": {},
   "source": [
    "# Placing ancestors and extants in one file"
   ]
  },
  {
   "cell_type": "code",
   "execution_count": null,
   "metadata": {},
   "outputs": [],
   "source": [
    "ANC_DIR = '/Users/sebs_mac/OneDrive - The University of Queensland/honours/data/gfp_alns/independent_runs/no_synthetic/ancestors/auto_rooted/'\n",
    "DATA_DIR = '/Users/sebs_mac/OneDrive - The University of Queensland/honours/data/gfp_alns/independent_runs/no_synthetic/alns/'\n",
    "\n",
    "# trees rejected by AU test or failed run\n",
    "bad_trees = [11, 31, 48, 60, 78, 63]\n",
    "# don't use ancestors from the outgroup. \n",
    "#bad_ancestors = ['N' + str(i) for i in range(0,34)]\n",
    "anc_extants = []\n",
    "anc_only = []\n",
    "\n",
    "\n",
    "\n",
    "\n",
    "# EXTANTS \n",
    "aln = st.read_aln_file(DATA_DIR + 'GFP_AEQVI_full_04-29-2022_b08_extants_no_syn.aln')\n",
    "for name, seq in zip(aln['id'], aln['sequence']):\n",
    "    x = Sequence(seq, name=name, gappy=True)\n",
    "    anc_extants.append(x)\n",
    "\n",
    "# ANCESTORS\n",
    "for i in range(1,101):\n",
    "\n",
    "    if i in bad_trees:\n",
    "        continue \n",
    "\n",
    "    aln = st.read_aln_file(ANC_DIR + f'/ancestors/run_{i}_ancestors.fa', encode=False)\n",
    "    for name, seq in zip(aln['id'], aln['sequence']):\n",
    "      \n",
    "        seq_name = name + f\"_tree_{i}\"\n",
    "        x = Sequence(seq, name=seq_name, gappy=True)\n",
    "        anc_extants.append(x)\n",
    "        anc_only.append(x)\n",
    "\n",
    "OUT_DIR = \"/Users/sebs_mac/OneDrive - The University of Queensland/honours/data/gfp_alns/independent_runs/no_synthetic/alns/\"\n",
    "writeFastaFile(OUT_DIR + 'GFP_AEQVI_full_04-29-2022_b08_ancestors_extants_no_syn.aln', anc_extants)\n",
    "writeFastaFile(OUT_DIR + 'GFP_AEQVI_full_04-29-2022_b08_ancestors_no_syn.aln', anc_only)\n"
   ]
  },
  {
   "cell_type": "code",
   "execution_count": null,
   "metadata": {},
   "outputs": [],
   "source": []
  }
 ],
 "metadata": {
  "kernelspec": {
   "display_name": "embed",
   "language": "python",
   "name": "python3"
  },
  "language_info": {
   "codemirror_mode": {
    "name": "ipython",
    "version": 3
   },
   "file_extension": ".py",
   "mimetype": "text/x-python",
   "name": "python",
   "nbconvert_exporter": "python",
   "pygments_lexer": "ipython3",
   "version": "3.8.18"
  }
 },
 "nbformat": 4,
 "nbformat_minor": 2
}
