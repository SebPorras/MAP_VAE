{
 "cells": [
  {
   "cell_type": "markdown",
   "metadata": {},
   "source": [
    "### GFP_AEQV processing"
   ]
  },
  {
   "cell_type": "code",
   "execution_count": 2,
   "metadata": {},
   "outputs": [],
   "source": [
    "import evoVAE.utils.seq_tools as st\n",
    "from evoVAE.utils.webservice import get_sequence_batch\n",
    "import numpy as np\n",
    "import pandas as pd\n",
    "pd.set_option(\"display.max_rows\", None)\n",
    "from ete3 import Tree\n",
    "from sequence import *"
   ]
  },
  {
   "cell_type": "markdown",
   "metadata": {},
   "source": [
    "# Reading in alignment "
   ]
  },
  {
   "cell_type": "code",
   "execution_count": 2,
   "metadata": {},
   "outputs": [
    {
     "name": "stdout",
     "output_type": "stream",
     "text": [
      "Reading the alignment: ../data/dms_data/GFP_AEQVI_full_04-29-2022_b08.a2m\n",
      "Checking for bad characters: ['B', 'J', 'X', 'Z']\n",
      "Removed 16 sequences\n",
      "Performing one hot encoding\n",
      "Number of seqs: 380\n"
     ]
    }
   ],
   "source": [
    "aln = st.read_aln_file('../data/dms_data/GFP_AEQVI_full_04-29-2022_b08.a2m')\n",
    "#st.write_fasta_file(f\"../data/alignments/gfp_alns/GFP_AEQVI_full_04-29-2022_b08.aln\", aln)\n",
    "\n",
    "#draws = []\n",
    "#for draw in range(100):\n",
    "#    draws.append(aln.sample(n=250, random_state=draw, replace=False))\n",
    "\n",
    "#for i, seqs in enumerate(draws):\n",
    "#    st.write_fasta_file(f\"../data/alignments/gfp_alns/GFP_AEQVI_full_04-29-2022_b08_rand_subset_{i}.aln\", seqs)\n",
    "#aln"
   ]
  },
  {
   "cell_type": "markdown",
   "metadata": {},
   "source": [
    "# Collecting annotations about sequences"
   ]
  },
  {
   "cell_type": "code",
   "execution_count": 3,
   "metadata": {},
   "outputs": [
    {
     "name": "stdout",
     "output_type": "stream",
     "text": [
      "['AEQVI', 'UPI0011C34247', 'UPI0011C34247', 'UPI0011C3426C', 'UPI0011C3426C', 'UPI001C2E920B', 'UPI0000EA3547', 'UPI000B5ABD33', 'UPI000B5ABDBE', 'UPI000B5ABD69', 'UPI000B5ABD53', 'UPI0009795733', 'UPI00135F1855', 'P42212', 'W6KDG8', 'UPI000B5ABDBC', 'UPI0001986815', 'A0A2V2QXC3', 'UPI0002A54BBC', 'Q8GHE4', 'UPI000B5ABD1A', 'UPI000B5ABD2E', 'UPI000067C63B', 'A0A8E6TY54', 'UPI000B5ABD28', 'A0A6S7E9W3', 'UPI000B5DBA18', 'UPI000B5ABD5D', 'A0A5P9VSM6', 'A0A0U3A3D8', 'UPI001C63CC57', 'UPI0001D1F7C5', 'UPI001D0CF09B', 'UPI000C173AFD', 'A0A1V0D974', 'A0A7G8ZY66', 'UPI000B5ABD97', 'UPI00157E3332', 'UPI000B5ABD72', 'UPI001CB8BAD1', 'UPI000B5ABDB8', 'UPI000B8BB2ED', 'UPI0001AB2972', 'UPI00001118CE', 'UPI000B5ABD8B', 'A0A6N6XNT4', 'A0A193CK14', 'UPI000B5ABD25', 'UPI000B5ABD67', 'UPI0018D5A8B2', 'UPI0006891DAB', 'J8VIQ3', 'UPI0010706A2B', 'UPI000F7351CB', 'UPI00157A33EC', 'UPI00027B2CE5', 'UPI0001AB2973', 'UPI000DF72107', 'A0A6M3ZKY0', 'UPI0001986814', 'A0A193DTF7', 'A0A059PIQ0', 'UPI0010A1F85E', 'Q8GHE3', 'UPI0001AF80B1', 'UPI0001BEF289', 'UPI0007414E7C', 'UPI0010FFADAB', 'A0A059PIR9', 'UPI0000154552', 'A0A4D6FW43', 'A0A6M5E0N3', 'UPI0003F4A88A', 'UPI0015C551DC', 'UPI00090CD099', 'UPI0001A48A3B', 'K0NYR4', 'A0A1S5SHT2', 'UPI000B5ABD1C', 'UPI0001A48A9C', 'UPI000B5ABDA7', 'UPI000745F1F2', 'UPI00100D9C0B', 'UPI0001986816', 'UPI00019D0371', 'UPI00003E7814', 'UPI0001AF80B2', 'UPI000B5ABD86', 'UPI001262AC63', 'UPI0000458519', 'UPI00001556FA', 'UPI0019697F3C', 'UPI0014612D4E', 'UPI00137470B2', 'UPI001374707D', 'UPI000B5ABD65', 'UPI0003C712F7', 'B7UCZ6', 'A0A059PIU2', 'A0A5J6XWW3', 'UPI000C255C2F', 'UPI0001A48A37', 'A0A125NTU3', 'UPI0007414E7B', 'UPI001E1C222E', 'UPI00026BAC74', 'UPI000C81099F', 'UPI0000F58EE9', 'UPI0004D1BB55', 'UPI00001556F9', 'UPI000B5ABD6A', 'UPI0001AB2976', 'UPI001C9A2BD2', 'UPI00194ADA79', 'UPI000718AB89', 'A0A5J6CYR6', 'UPI0002A54BF8', 'UPI0001AB2977', 'UPI0001A48AA0', 'A0A7S7YQ80', 'UPI0002A54BB4', 'UPI000175260A', 'UPI000718AB72', 'UPI001CC3329B', 'UPI0001AF80B3', 'UPI001C717BE3', 'UPI0001AB2962', 'U6GSR1', 'B6F2F5', 'UPI0018FE02FF', 'UPI0007414E42', 'UPI00142F3CA5', 'UPI00026BAC78', 'UPI000B5ABD56', 'UPI000C255C22', 'UPI0013F595F6', 'UPI000153639E', 'UPI000259F50B', 'UPI00194ADAB5', 'UPI001D198A42', 'W8GG88', 'UPI0008595909', 'UPI0013F595FA', 'UPI00076F13AC', 'UPI00028BC7E8', 'UPI000B5ABD24', 'UPI00194ADAC1', 'UPI000B5ABD84', 'UPI0006AD099E', 'UPI000255FF86', 'UPI00194ADAD2', 'UPI0002250D5D', 'UPI000292D3B7', 'UPI00194ADA9D', 'UPI00194ADA50', 'UPI000C81095A', 'UPI00194ADA2C', 'UPI00194ADA88', 'UPI000277548C', 'UPI000255FF87', 'UPI00026BAC72', 'UPI00194ADA6B', 'A0A6I4B616', 'UPI000B5ABD91', 'UPI000C210336', 'UPI00194ADA7E', 'UPI00194ADA8C', 'UPI00194ADA9B', 'UPI0007A93650', 'UPI000255FFC7', 'UPI00194ADA74', 'UPI00004CCFAC', 'UPI001D0F4A03', 'UPI00194ADA57', 'UPI00004CCFAB', 'UPI0001AB296D', 'UPI00194ADAC5', 'UPI0001AB2961', 'UPI001C0A674F', 'UPI00194ADA7C', 'UPI0018D5A8E2', 'UPI00194ADAC0', 'UPI00004CCFAD', 'UPI00052E4983', 'UPI0010C76176', 'UPI0010C76139', 'UPI0003AFF93F', 'UPI00194ADA1D', 'UPI0001AB296E', 'UPI00194ADA90', 'UPI00025C06C1', 'A0A7S7YQ81', 'UPI0001F2FE6F', 'UPI00194ADAA6', 'UPI000225A884', 'I1YZZ9', 'UPI00194ADACE', 'UPI00051FF3EB', 'UPI00194ADA40', 'Q17105', 'UPI0001C67B2F', 'UPI000C810988', 'UPI000C6C8871', 'UPI000F044F5E', 'UPI0002AA2169', 'UPI00006833D0', 'UPI00027B2CE7', 'UPI000B5ABD7B', 'UPI001CEFB137', 'U6M5D0', 'UPI00194ADA6C', 'UPI000B5ABD22', 'UPI00194ADA5D', 'UPI000B5ABD9E', 'UPI0006526442', 'UPI00028BC767', 'UPI000E5587D0', 'UPI0009E0E32B', 'UPI00194ADA6A', 'UPI0001E30607', 'UPI00194ADAD4', 'UPI000B5ABDC0', 'UPI00078AF321', 'UPI0002B4DC8D', 'UPI00078AF337', 'UPI00082357E6', 'UPI00052E496B', 'UPI000B5ABD32', 'UPI001E1C2253', 'UPI0004F13DBB', 'UPI000E558788', 'UPI0010933757', 'UPI000E6AE39A', 'UPI00035AC992', 'UPI0006730543', 'Q17106', 'UPI0001A48AA1', 'UPI0001A48A3A', 'UPI000766E156', 'UPI00109337F7', 'UPI000B5ABD3F', 'UPI000E6AE36D', 'UPI00001CE540', 'UPI0002D257B2', 'UPI000745F1EF', 'UPI0008101732', 'UPI000789C189', 'UPI00187D6E10', 'UPI000B5ABDA4', 'Q6YGZ0', 'UPI0001AB295F', 'UPI0004DB2145', 'UPI00003E569F', 'UPI000B5ABD71', 'UPI00001CE53F', 'UPI0000D5BE2E', 'UPI0005841C9D', 'UPI00065B461A', 'UPI000B5ABD27', 'UPI0012B50503', 'UPI0010FFCD2E', 'UPI0010FFCD76', 'UPI00142F3CBD', 'UPI0002A54BFD', 'UPI000FF8754F', 'UPI000B5ABD2C', 'UPI00001BFB56', 'UPI00142602D2', 'UPI0001A48A9D', 'A0A348GST3', 'UPI000B5ABDA3', 'UPI0003B05A3D', 'UPI000FF8750E', 'UPI00022F83CA', 'UPI0005AECEC6', 'UPI000B5ABD99', 'UPI001CEFB14C', 'UPI000B5ABD96', 'UPI000B4966A5', 'UPI001A9A2C15', 'UPI000B4E83C3', 'UPI000B496691', 'UPI000B4E83E8', 'UPI0015882A93', 'UPI001CFD2F21', 'UPI000B4E83A9', 'UPI00085D8333', 'UPI000B496687', 'UPI000B4E8406', 'UPI0001DBAF3C', 'UPI000B49668F', 'UPI000B4E8377', 'UPI000B4966E4', 'UPI001D05C22D', 'UPI001D05C245', 'UPI00143F05B1', 'UPI000F45EFA4', 'UPI0009636567', 'UPI001D05C28B', 'UPI000745F231', 'D3TI87', 'UPI00178D0790', 'Q8WTC4', 'UPI0006AB76F2', 'UPI000745F1EA', 'Q8WTC6', 'UPI000745F236', 'Q8WTC5', 'UPI0001E3061D', 'UPI0001E3061E', 'UPI000745F255', 'UPI0005B2EBED', 'UPI0005C1213E', 'UPI0005B2EBAB', 'Q8WP95', 'UPI00142F3CE3', 'UPI000B4966D1', 'UPI0005CDCEA1', 'Q8WTC8', 'UPI0006418883', 'Q8WTD0', 'Q8WTC9', 'Q8WTC7', 'UPI00142F3CB0', 'UPI0005CDCEC1', 'UPI0005B2EBCD', 'UPI0019203BD9', 'UPI00022B80BB', 'UPI000745F249', 'UPI000FF874E1', 'UPI0005B2EBD1', 'UPI000D503263', 'UPI0006AB76EC', 'A0A5J6CYR9', 'A0A5J6CYN9', 'UPI001493DEA5', 'UPI00114D3DC4', 'UPI000C6F4430', 'A0A6N9ZS35', 'UPI0008FCAB2F', 'UPI000C6F4465', 'UPI001302D406', 'UPI000B5ABD1D', 'A0A1V4T0E4', 'A0A5J6CYI5', 'UPI000B5ABD49', 'Q6RYS7', 'A0A7M5UPI8', 'G1JSF2', 'A0A5J6CYK8', 'A0A7M5V224', 'A0A5J6CYV4', 'A0A7M5WQI9', 'A0A7M5XGN4', 'J9PGT0', 'A0A5J6CYT5', 'A0A7M5UKF9', 'G1JSF4', 'A0A7M5WWU1', 'G1JSF3', 'D7PM05', 'D7PM12', 'A0A7M5V407', 'D7PM10', 'D7PM06', 'D7PM04', 'A0A7M6DMT2', 'A0A7M5TUN8', 'A0A7M5WWD0', 'A0A7M5X361', 'J9PGG2', 'A0A5J6CYI7', 'UPI0000D5BE58', 'A0A5J6CYV7', 'UPI0000D5BE55', 'Q6RYS5', 'Q6RYS6', 'J9PIH6', 'A0A7M5TYI8', 'J9PJD5']\n",
      "34\n",
      "345\n",
      "34/34\n",
      "322/322\n"
     ]
    }
   ],
   "source": [
    "ids = aln['id']\n",
    "ids = [x for x in ids.apply(lambda x: x.split('/')[0]).values]\n",
    "\n",
    "print( [x.split('_')[1] for x in ids])\n",
    "# Sequences found in the very distant branch of the tree. \n",
    "outgroup = [\"UniRef100_Q6RYS7/1-232\",\n",
    "\"UniRef100_UPI000B5ABD49/2-234\",\n",
    "\"UniRef100_A0A5J6CYI5/1-229\",\n",
    "\"UniRef100_Q6RYS6/40-259\",\n",
    "\"UniRef100_Q6RYS5/2-223\",\n",
    "\"UniRef100_J9PIH6/6-230\",\n",
    "\"UniRef100_J9PJD5/7-231\",\n",
    "\"UniRef100_A0A7M5TYI8/7-231\",\n",
    "\"UniRef100_A0A5J6CYV7/1-229\",\n",
    "\"UniRef100_A0A5J6CYI7/1-229\",\n",
    "\"UniRef100_A0A5J6CYT5/1-229\",\n",
    "\"UniRef100_A0A5J6CYV4/1-229\",\n",
    "\"UniRef100_A0A5J6CYK8/1-229\",\n",
    "\"UniRef100_A0A7M5TUN8/3-229\",\n",
    "\"UniRef100_A0A7M5UKF9/3-229\",\n",
    "\"UniRef100_A0A7M5WQI9/3-229\",\n",
    "\"UniRef100_A0A7M5UPI8/3-229\",\n",
    "\"UniRef100_A0A7M5V224/3-229\",\n",
    "\"UniRef100_J9PGT0/3-229\",\n",
    "\"UniRef100_A0A7M5WWU1/3-229\",\n",
    "\"UniRef100_A0A7M5XGN4/3-229\",\n",
    "\"UniRef100_G1JSF2/3-231\",\n",
    "\"UniRef100_G1JSF3/3-231\",\n",
    "\"UniRef100_G1JSF4/3-231\",\n",
    "\"UniRef100_A0A7M5WWD0/7-234\",\n",
    "\"UniRef100_A0A7M5V407/7-234\",\n",
    "\"UniRef100_A0A7M6DMT2/54-281\",\n",
    "\"UniRef100_J9PGG2/7-234\",\n",
    "\"UniRef100_A0A7M5X361/50-277\",\n",
    "\"UniRef100_D7PM05/5-232\",\n",
    "\"UniRef100_D7PM10/5-232\",\n",
    "\"UniRef100_D7PM12/5-232\",\n",
    "\"UniRef100_D7PM04/5-232\",\n",
    "\"UniRef100_D7PM06/5-232\",]\n",
    "\n",
    "ID = 0 \n",
    "SPECIES = 1\n",
    "# in-group sequences \n",
    "outgroup = [x.split('/')[ID] for x in outgroup]\n",
    "print(len(outgroup))\n",
    "# FIX ME, querying for uniref seqs is still broken, skipping first uniprot entry \n",
    "ingroup = [x for x in ids[1:] if x not in outgroup]\n",
    "print(len(ingroup))\n",
    "\n",
    "uniprot_cols =  [\"id\", \"organism\"]\n",
    "outgroup_query = get_sequence_batch(outgroup, uniprot_cols, query_field = \"id\", database=\"uniref\")\n",
    "ingroup_query = get_sequence_batch(ingroup, uniprot_cols, query_field = \"id\", database=\"uniref\")\n",
    "\n",
    "outgroup_species = pd.Series([x[SPECIES] for x in outgroup_query]).value_counts()\n",
    "ingroup_species = pd.Series([x[SPECIES] for x in ingroup_query]).value_counts()"
   ]
  },
  {
   "cell_type": "markdown",
   "metadata": {},
   "source": [
    "# Removing synthetic sequences"
   ]
  },
  {
   "cell_type": "code",
   "execution_count": 4,
   "metadata": {},
   "outputs": [
    {
     "name": "stdout",
     "output_type": "stream",
     "text": [
      "360 380\n"
     ]
    }
   ],
   "source": [
    "synthetic_seqs = [x for x,y in ingroup_query if y == 'synthetic construct']\n",
    "\n",
    "no_syn_aln_seqs = []\n",
    "all_seqs = []\n",
    "for name, seq in zip(aln['id'], aln['sequence']):\n",
    "\n",
    "    if name.split('/')[0] not in synthetic_seqs:\n",
    "        x = Sequence(seq, name=name, gappy=True)\n",
    "        no_syn_aln_seqs.append(x)\n",
    "\n",
    "    x = Sequence(seq, name=name, gappy=True)\n",
    "    all_seqs.append(x)\n",
    "\n",
    "print(len(no_syn_aln_seqs), len(all_seqs))\n",
    "writeFastaFile(filename='no_synthetic_GFP_AEQVI_full_04-29-2022_b08.aln', seqs=no_syn_aln_seqs)"
   ]
  },
  {
   "cell_type": "code",
   "execution_count": 5,
   "metadata": {},
   "outputs": [
    {
     "name": "stdout",
     "output_type": "stream",
     "text": [
      "Difference at : 162\n"
     ]
    }
   ],
   "source": [
    "all_aln = Alignment(all_seqs)\n",
    "no_syn_aln = Alignment(no_syn_aln_seqs)\n",
    "\n",
    "con_all = all_aln.getConsensus() \n",
    "no_syn_con = no_syn_aln.getConsensus()\n",
    "count = 0 \n",
    "for x, y in zip(no_syn_con, con_all):\n",
    "    \n",
    "    if x != y:\n",
    "        print(f\"Difference at : {count}\")\n",
    "\n",
    "    count += 1\n"
   ]
  },
  {
   "cell_type": "code",
   "execution_count": 6,
   "metadata": {},
   "outputs": [
    {
     "data": {
      "text/plain": [
       "Clytia hemisphaerica                      16\n",
       "Clytia gregaria (Gregarious jellyfish)     5\n",
       "Aequorea australis                         4\n",
       "Obelia sp. MH-2011                         3\n",
       "Phialidium sp. SL-2003                     2\n",
       "Aequorea victoria (Water jellyfish)        2\n",
       "Anthomedusae sp. SL-2003                   2\n",
       "Name: count, dtype: int64"
      ]
     },
     "execution_count": 6,
     "metadata": {},
     "output_type": "execute_result"
    }
   ],
   "source": [
    "outgroup_species"
   ]
  },
  {
   "cell_type": "code",
   "execution_count": 7,
   "metadata": {},
   "outputs": [
    {
     "data": {
      "text/plain": [
       "Aequorea victoria                                                                                                                                                                           189\n",
       "synthetic construct                                                                                                                                                                          20\n",
       "Homo sapiens                                                                                                                                                                                 14\n",
       "Rattus norvegicus                                                                                                                                                                            11\n",
       "Aequorea macrodactyla                                                                                                                                                                         9\n",
       "Aequorea victoria (Water jellyfish)                                                                                                                                                           7\n",
       "Escherichia coli                                                                                                                                                                              5\n",
       "Thermoanaerobacter sp. X513                                                                                                                                                                   3\n",
       "Entacmaea quadricolor                                                                                                                                                                         3\n",
       "Aequorea coerulescens                                                                                                                                                                         3\n",
       "Eimeria acervulina                                                                                                                                                                            2\n",
       "Mus musculus                                                                                                                                                                                  2\n",
       "Opsanus tau                                                                                                                                                                                   2\n",
       "cfp marker plasmid pWM1009                                                                                                                                                                    2\n",
       "Bacillus subtilis                                                                                                                                                                             1\n",
       "Nicotiana benthamiana; Azotobacter vinelandii                                                                                                                                                 1\n",
       "Eimeria maxima (Coccidian parasite)                                                                                                                                                           1\n",
       "Saccharomyces cerevisiae                                                                                                                                                                      1\n",
       "unclassified Pseudomonas                                                                                                                                                                      1\n",
       "Oryctolagus cuniculus                                                                                                                                                                         1\n",
       "Gallus gallus                                                                                                                                                                                 1\n",
       "Achromobacter denitrificans; Sinorhizobium fredii                                                                                                                                             1\n",
       "Helicobacter pylori                                                                                                                                                                           1\n",
       "Aspergillus niger                                                                                                                                                                             1\n",
       "Arabidopsis thaliana                                                                                                                                                                          1\n",
       "Hepacivirus hominis; Hepatitis C virus subtype 2a; Glutamicibacter soli; Pseudomonas fluorescens; Qipengyuania pelagi; Escherichia coli; Aequorea victoria                                    1\n",
       "Vibrio vulnificus                                                                                                                                                                             1\n",
       "Oceanospirillum multiglobuliferum                                                                                                                                                             1\n",
       "Camelus dromedarius                                                                                                                                                                           1\n",
       "Recombinant vesicular stomatitis Indiana virus rVSV-G/GFP; Vesicular stomatitis virus; Vibrio agarilyticus; Vesicular stomatitis Indiana virus strain Mudd-Summers; Shewanella intestini      1\n",
       "Babesia bovis                                                                                                                                                                                 1\n",
       "Aequorea victoria (Water jellyfish); Azotobacter vinelandii                                                                                                                                   1\n",
       "Azomonas agilis                                                                                                                                                                               1\n",
       "Human enterovirus 71 (EV71); Enterovirus A; Trichinella nativa                                                                                                                                1\n",
       "Eimeria acervulina (Coccidian parasite)                                                                                                                                                       1\n",
       "Microbacterium sp. AR7-10                                                                                                                                                                     1\n",
       "Aldersladia magnificus                                                                                                                                                                        1\n",
       "Hyphomicrobium sulfonivorans                                                                                                                                                                  1\n",
       "Achromobacter anxifer                                                                                                                                                                         1\n",
       "Rhizobium laguerreae; Bacteria                                                                                                                                                                1\n",
       "Human adenovirus C serotype 2 (HAdV-2)                                                                                                                                                        1\n",
       "Aequorea coerulescens (belt jellyfish)                                                                                                                                                        1\n",
       "Azotobacter vinelandii                                                                                                                                                                        1\n",
       "Bacilli                                                                                                                                                                                       1\n",
       "Escherichia coli O157:H7                                                                                                                                                                      1\n",
       "Sus scrofa; Bacillus anthracis                                                                                                                                                                1\n",
       "Blattella germanica                                                                                                                                                                           1\n",
       "Plasmodium falciparum 3D7                                                                                                                                                                     1\n",
       "unclassified Streptomyces                                                                                                                                                                     1\n",
       "Zaire ebolavirus; Sacbrood virus; synthetic recombinant Chikungunya virus strain LS3-GFP; Human immunodeficiency virus 1; Homo sapiens                                                        1\n",
       "Human respiratory syncytial virus                                                                                                                                                             1\n",
       "Streptomyces sp. FT05W; Streptomyces sp. ZEA17I; Ectothiorhodospiraceae bacterium WFHF3C12                                                                                                    1\n",
       "Aequorea australis                                                                                                                                                                            1\n",
       "Vicugna pacos                                                                                                                                                                                 1\n",
       "Pseudoalteromonas luteoviolacea                                                                                                                                                               1\n",
       "Bos taurus                                                                                                                                                                                    1\n",
       "Nicotiana benthamiana                                                                                                                                                                         1\n",
       "Recombinant vesicular stomatitis Indiana virus rVSV-G/GFP                                                                                                                                     1\n",
       "Homo sapiens; Bacillus subtilis; Mycobacterium tuberculosis                                                                                                                                   1\n",
       "Novosphingobium profundi                                                                                                                                                                      1\n",
       "Escherichia coli str. K-12 substr. MG1655; Pantoea agglomerans; Aeromonas australiensis                                                                                                       1\n",
       "Mesorhizobium japonicum                                                                                                                                                                       1\n",
       "Bacillus subtilis (strain 168)                                                                                                                                                                1\n",
       "Escherichia coli; Vibrio harveyi                                                                                                                                                              1\n",
       "Name: count, dtype: int64"
      ]
     },
     "execution_count": 7,
     "metadata": {},
     "output_type": "execute_result"
    }
   ],
   "source": [
    "ingroup_species"
   ]
  },
  {
   "cell_type": "markdown",
   "metadata": {},
   "source": [
    "# Rooting tree"
   ]
  },
  {
   "cell_type": "markdown",
   "metadata": {},
   "source": [
    "Looking at the run trees, the sequence UniRef100_A0A5J6CYI5/1-229 is consistently placed by itself and this will be used to help root the tree. The ancestor two nodes up will be used to place the root. "
   ]
  },
  {
   "cell_type": "code",
   "execution_count": 73,
   "metadata": {},
   "outputs": [],
   "source": [
    "# grab the node, returns a list so get first value\n",
    "TREE_DIR = '../data/alignments/trees/'\n",
    "for i in range(1,101):\n",
    "    tree_path = TREE_DIR + f'run_{i}.treefile'\n",
    "    t = Tree(tree_path)\n",
    "    start_node = t.get_leaves_by_name(name=\"UniRef100_A0A5J6CYI5/1-229\")[0]\n",
    "\n",
    "    ancestor = start_node.up.up\n",
    "    t.set_outgroup(ancestor)\n",
    "    t.write(outfile=f\"rooted_run_{i}.nwk\")"
   ]
  },
  {
   "cell_type": "code",
   "execution_count": 52,
   "metadata": {},
   "outputs": [
    {
     "data": {
      "text/plain": [
       "'(((UniRef100_A0A5J6CYI5/1-229:0.170122,(((((UniRef100_A0A7M5UPI8/3-229:2.0185e-06,UniRef100_A0A7M5WQI9/3-229:0.0270395)1:0.00825733,(UniRef100_A0A7M5V224/3-229:2.1096e-06,((UniRef100_A0A7M5XGN4/3-229:0.00443338,UniRef100_A0A7M5WWU1/3-229:0.032247)1:0.0179585,UniRef100_J9PGT0/3-229:2.9211e-06)1:0.0225424)1:0.0141129)1:0.0368597,(UniRef100_A0A7M5UKF9/3-229:0.0117844,UniRef100_A0A7M5TUN8/3-229:0.164498)1:0.0366635)1:0.288264,((UniRef100_G1JSF2/3-231:0.0151093,(UniRef100_G1JSF4/3-231:0.027975,UniRef100_G1JSF3/3-231:0.0136302)1:0.0514318)1:0.282053,(((UniRef100_D7PM05/5-232:2.0139e-06,((UniRef100_D7PM12/5-232:2.0949e-06,(UniRef100_D7PM06/5-232:0.00443406,UniRef100_D7PM04/5-232:0.00443116)1:1.0091e-06)1:2.0768e-06,UniRef100_D7PM10/5-232:0.00443483)1:0.00444638)1:0.0278798,(UniRef100_A0A7M6DMT2/54-281:0.00611566,(UniRef100_A0A7M5X361/50-277:2.0402e-06,UniRef100_J9PGG2/7-234:0.00887849)1:0.0209102)1:0.0432411)1:0.0454175,(UniRef100_A0A7M5V407/7-234:0.0103643,UniRef100_A0A7M5WWD0/7-234:0.0277482)1:0.0673716)1:0.45459)1:0.0996656)1:0.0950959,((((UniRef100_A0A5J6CYK8/1-229:0.00623653,UniRef100_A0A5J6CYV4/1-229:0.0324515)1:0.033585,(UniRef100_A0A5J6CYT5/1-229:0.0195222,UniRef100_A0A5J6CYI7/1-229:0.111549)1:0.0479789)1:0.0795923,UniRef100_A0A5J6CYV7/1-229:0.257207)1:0.242536,((UniRef100_Q6RYS5/2-223:0.146497,UniRef100_Q6RYS6/40-259:0.145341)1:0.490355,(UniRef100_J9PIH6/6-230:0.226028,(UniRef100_A0A7M5TYI8/7-231:0.013328,UniRef100_J9PJD5/7-231:0.00953137)1:0.458626)1:0.615426)1:0.227641)1:0.138867)1:0.109424)1:0.0858335,(UniRef100_UPI000B5ABD49/2-234:0.0444567,UniRef100_Q6RYS7/1-232:0.0102204)1:0.325746)1:0.278542,(((((UniRef100_UPI000745F231/1-233:2.8163e-06,UniRef100_UPI0005B2EBAB/1-233:0.00415815)1:0.00422898,((((UniRef100_UPI000745F1EA/1-233:0.0042235,UniRef100_UPI000745F255/1-233:0.00430964)1:1.9874e-06,UniRef100_UPI000745F236/1-233:0.00421913)1:2.351e-06,UniRef100_UPI0005B2EBED/1-233:0.0042097)1:2.0068e-06,((UniRef100_UPI0005CDCEC1/2-231:2.8084e-06,UniRef100_UPI0005B2EBCD/2-231:0.00431088)1:0.00870032,(UniRef100_UPI000745F249/2-231:2.1541e-06,UniRef100_UPI0005B2EBD1/2-231:0.00429512)1:0.00863338)1:2.5291e-06)1:0.00415039)1:2.8144e-06,(UniRef100_UPI0005C1213E/2-231:2.2247e-06,UniRef100_UPI0005CDCEA1/2-231:0.00432383)1:0.00868129)1:0.012456,UniRef100_UPI000B5ABD1D/1-196:2.384e-06)1:0.0489697,(UniRef100_UPI0010C76176/1-233:0.00412918,(UniRef100_UPI000745F1EF/1-233:0.00840341,(UniRef100_UPI000FF8750E/1-234:0.0578629,(UniRef100_UPI000E6AE36D/1-230:0.00429487,(UniRef100_UPI000E6AE39A/1-230:0.00429894,(UniRef100_UPI000C6C8871/1-236:0.0206864,(UniRef100_UPI000766E156/1-229:0.00430899,(UniRef100_UPI001E1C2253/878-1109:2.8855e-06,(((UniRef100_UPI000B5ABD1A/1-238:0,UniRef100_UPI00157E3332/1-238:0)1:1.0091e-06,(UniRef100_UPI000B5DBA18/20-257:1.0091e-06,(((((((((((UniRef100_UPI0010A1F85E/14-251:2.0179e-06,UniRef100_UPI0005AECEC6/4-241:0.0950284)1:0.00410594,(UniRef100_UPI00194ADAB5/35-272:2.0177e-06,((((((((UniRef100_UPI00194ADAC1/35-272:0.00409356,UniRef100_UPI0006AD099E/35-272:2.0323e-06)1:0.0041463,UniRef100_UPI00194ADAC0/35-272:0.00410307)1:2.973e-06,(UniRef100_UPI00194ADACE/35-272:0.00410579,UniRef100_UPI00194ADA40/35-272:0.00410018)1:2.5276e-06)1:2.4123e-06,UniRef100_UPI00194ADAD2/35-272:2.1307e-06)1:2.3935e-06,((((UniRef100_UPI00194ADA9D/35-272:0.00409586,UniRef100_UPI00194ADA2C/35-272:2.0758e-06)1:2.134e-06,((UniRef100_UPI00194ADA6B/35-272:0.00323678,UniRef100_UPI00194ADA7E/35-272:0.00105223)1:0.00331604,((UniRef100_UPI00194ADA9B/35-272:0.00409231,UniRef100_UPI00194ADA74/35-272:2.2995e-06)1:2.2266e-06,UniRef100_UPI00194ADA57/35-272:0.00406579)1:0.00174625)1:0.00292554)1:0.00407563,(UniRef100_UPI00194ADA8C/35-272:2.7617e-06,((UniRef100_UPI00194ADA6C/35-272:2.9353e-06,(UniRef100_UPI00194ADA6A/35-272:2.366e-06,UniRef100_UPI00194ADAD4/35-272:0.00417584)1:0.00824918)1:0.00413652,UniRef100_UPI00194ADA5D/35-272:2.7571e-06)1:0.020669)1:2.451e-06)1:0.00410098,(UniRef100_UPI00194ADA7C/35-272:2.0152e-06,(UniRef100_UPI00194ADA1D/35-272:0.00431934,UniRef100_UPI00194ADAA6/35-272:0.00412006)1:2.4606e-06)1:0.00416108)1:2.6112e-06)1:2.3619e-06,UniRef100_UPI00194ADA90/35-272:0.00409631)1:0.00327931,UniRef100_UPI00194ADAC5/35-272:0.0038986)1:0.00106043,(UniRef100_UPI00194ADA50/35-272:0.00135543,UniRef100_UPI00194ADA88/35-272:0.00392362)1:0.00301262)1:2.0031e-06)1:0.0208472)1:0.0041176,(UniRef100_UPI000B5ABD56/12-248:0.00406447,UniRef100_UPI000B5ABD24/12-248:2.0445e-06)1:0.00407017)1:2.7126e-06,(UniRef100_UPI000C81099F/23-260:2.495e-06,(UniRef100_UPI000C81095A/4-241:2.4246e-06,UniRef100_UPI000C810988/4-241:0.0132719)1:0.00845004)1:0.0175101)1:0.00817436,(UniRef100_UPI000745F1F2/25-262:0.012695,(UniRef100_UPI000C255C2F/13-249:1.9908e-06,UniRef100_UPI000C255C22/13-249:0.0042051)1:0.00414134)1:0.00408941)1:2.7195e-06,(UniRef100_UPI0007414E7C/2-239:2.753e-06,(UniRef100_UPI0007414E7B/2-239:0.00436965,UniRef100_UPI0007414E42/2-239:2.1639e-06)1:0.00415687)1:0.00436628)1:0.00407075,UniRef100_UPI000E5587D0/1-231:0.00418492)1:1.8504e-06,UniRef100_UPI0006730543/151-379:1.0091e-06)1:1.2774e-06,UniRef100_UPI001CEFB137/4-234:1.0091e-06)1:2.4139e-06,UniRef100_UPI001C9A2BD2/625-861:1.0091e-06)1:1.0892e-06,(UniRef100_UPI001D198A42/1-238:0.0123651,UniRef100_UPI000E558788/1-231:2.7705e-06)1:0.0041423)1:2.5883e-06)1:1.0091e-06)1:2.0263e-06,(((((((UniRef100_A0A059PIQ0/1-238:2.0851e-06,UniRef100_A0A059PIR9/1-238:0.00414923)1:2.8312e-06,UniRef100_A0A059PIU2/1-238:0.00811695)1:0.0108761,UniRef100_UPI001CFD2F21/1-223:0.00428743)1:2.332e-06,UniRef100_UPI00090CD099/2-237:2.8245e-06)1:0.00547442,(UniRef100_UPI0005841C9D/1-238:0.0517818,UniRef100_UPI000FF874E1/3-239:0.14591)1:0.00492977)1:0.00406242,(((UniRef100_A0A6I4B616/1-238:1.9971e-06,UniRef100_UPI001A9A2C15/2-230:0.0042531)1:0.016697,(UniRef100_UPI0003B05A3D/3-241:0.0248831,((UniRef100_UPI00178D0790/9-198:2.4761e-06,((UniRef100_UPI00142F3CE3/8-197:2.0796e-06,UniRef100_UPI00142F3CB0/8-197:0.00507541)1:2.9322e-06,UniRef100_UPI0006418883/9-198:0.00480251)1:0.0048853)1:0.00972348,((UniRef100_UPI00114D3DC4/64-255:2.1199e-06,UniRef100_UPI000C6F4465/53-245:2.4642e-06)1:0.00542723,UniRef100_UPI000C6F4430/26-238:2.3863e-06)1:0.0143809)1:0.00412138)1:2.4253e-06)1:0.0127526,(UniRef100_UPI000D503263/4-240:0.123239,UniRef100_UPI001493DEA5/4-231:0.0298405)1:0.085896)1:0.0162639)1:2.9104e-06,(UniRef100_UPI0006526442/9-258:2.0756e-06,((UniRef100_UPI0012B50503/200-369:0.00961871,(UniRef100_UPI000FF8754F/176-345:2.0355e-06,(UniRef100_UPI001CEFB14C/190-359:2.4199e-06,UniRef100_UPI0015882A93/212-381:0.0138089)1:0.0137529)1:0.0122109)1:0.179705,(UniRef100_UPI00135F1855/1-238:2.4579e-06,(UniRef100_UPI000B5ABD99/2-229:0.0176694,(((UniRef100_UPI000B5ABD53/1-238:1.0091e-06,(UniRef100_UPI000067C63B/3-239:1.0091e-06,(UniRef100_UPI000DF72107/17-253:0.0125981,UniRef100_UPI001C717BE3/687-922:1.0091e-06)1:2.4674e-06)1:2.2492e-06)1:1.0091e-06,UniRef100_K0NYR4/1-238:0.00407126)1:2.8238e-06,((UniRef100_UPI00019D0371/1-238:0.0042344,UniRef100_UPI000B5ABDA4/3-230:2.2318e-06)1:0.00404013,((UniRef100_UPI000B5ABD33/4-241:1.0091e-06,(((((((((UniRef100_A0A8E6TY54/1-238:1.0091e-06,((((UniRef100_UPI0010706A2B/2-238:0.00408847,UniRef100_UPI00022B80BB/2-184:0.0102681)1:2.955e-06,UniRef100_UPI0014612D4E/4-241:0.00405251)1:0.00409214,UniRef100_UPI000B5ABD32/2-231:0.00875787)1:2.5284e-06,((UniRef100_A0A193DTF7/1-238:0.00407255,UniRef100_UPI0001BEF289/1-238:2.7469e-06)1:2.2373e-06,UniRef100_UPI0008FCAB2F/3-212:0.0179628)1:0.00404665)1:2.9959e-06)1:2.4017e-06,((((UniRef100_A0A193CK14/36-273:0.00402241,UniRef100_I1YZZ9/32-266:0.00821891)1:0.00409805,UniRef100_UPI0010933757/1-230:0.00422109)1:2.2241e-06,(UniRef100_UPI00109337F7/1-230:2.0257e-06,UniRef100_UPI0004DB2145/2-230:0.00420678)1:0.00418686)1:2.7282e-06,(UniRef100_UPI0001A48AA1/13-247:0.0300877,UniRef100_UPI0009636567/3-220:1.0091e-06)1:2.379e-06)1:2.6016e-06)1:0.00404513,UniRef100_UPI00027B2CE7/1-237:0.0292477)1:2.5452e-06,UniRef100_UPI00027B2CE5/1-238:0.00403011)1:2.0148e-06,((UniRef100_UPI0001AF80B2/3-239:1.9956e-06,UniRef100_UPI0001AF80B3/3-239:0.00407559)1:2.4476e-06,(((UniRef100_UPI0001AB2976/3-239:2.4866e-06,UniRef100_UPI00004CCFAC/3-239:0.00405108)1:2.8783e-06,((UniRef100_UPI000175260A/1-238:0.00410262,UniRef100_UPI00004CCFAB/3-239:0.0041484)1:0.00405565,UniRef100_UPI00006833D0/3-237:2.0297e-06)1:2.8617e-06)1:0.00402817,(UniRef100_UPI0001AB2962/3-239:2.2723e-06,(UniRef100_UPI0001AB2961/3-239:0.00415984,UniRef100_UPI00004CCFAD/3-239:0.00406277)1:2.9652e-06)1:2.8593e-06)1:0.00404558)1:0.00810222)1:0.00404102,UniRef100_UPI000B5ABD8B/2-238:2.5059e-06)1:2.8128e-06,UniRef100_UPI0000D5BE55/2-172:1.0091e-06)1:0.00404056,UniRef100_UPI000B5ABD86/1-238:0.00822776)1:2.7261e-06,(((UniRef100_UPI0000F58EE9/3-239:0.0040661,(UniRef100_UPI00001CE540/1-229:2.5816e-06,(UniRef100_UPI00001CE53F/3-230:1.0091e-06,UniRef100_UPI000B5ABD2C/3-230:0.00430997)1:2.8857e-06)1:2.2232e-06)1:0.00271169,UniRef100_UPI0000D5BE2E/3-230:0.00297852)1:0.0025792,UniRef100_UPI000B5ABD3F/3-230:2.7532e-06)1:0.00403793)1:2.2748e-06)1:2.993e-06,(UniRef100_UPI0002A54BBC/3-239:2.5661e-06,(((UniRef100_UPI0001AB2977/3-239:2.1821e-06,UniRef100_UPI0001A48AA0/3-239:0.00410189)1:0.0083515,UniRef100_UPI0000D5BE58/2-173:1.0091e-06)1:2.7113e-06,(UniRef100_UPI0001AF80B1/3-239:0.00406727,((UniRef100_UPI000B5ABD71/2-231:0.0222128,(UniRef100_UPI000B5ABDA3/1-172:0.131227,(UniRef100_UPI00022F83CA/311-492:0.16387,((((UniRef100_UPI000B5ABD96/122-308:1.0091e-06,((((UniRef100_UPI000B4966A5/159-346:0.0120301,(((UniRef100_UPI000B4E83A9/158-343:2.7051e-06,UniRef100_UPI00085D8333/158-343:1.0091e-06)1:2.2903e-06,UniRef100_UPI000B496687/158-344:1.0091e-06)1:3.08844e-05,UniRef100_UPI00143F05B1/120-294:0.0867962)1:0.013033)1:2.5323e-06,UniRef100_UPI000B496691/159-345:1.0091e-06)1:2.1412e-06,UniRef100_UPI000B4E83E8/159-346:1.0091e-06)1:2.4517e-06,UniRef100_UPI000B4E8377/159-346:1.0091e-06)1:1.0091e-06)1:2.4566e-06,((((UniRef100_UPI000B4E83C3/160-345:0,UniRef100_UPI0001DBAF3C/158-343:0)1:0,UniRef100_UPI000B49668F/158-343:0)1:0,UniRef100_UPI000B4966D1/159-350:0)1:0,UniRef100_UPI000B4966E4/159-344:0)1:2.2894e-06)1:2.2092e-06,UniRef100_UPI000B4E8406/158-343:2.3471e-06)1:2.3984e-06,((UniRef100_UPI001D05C22D/124-311:1.0091e-06,(UniRef100_UPI001D05C245/124-297:1.0091e-06,UniRef100_UPI001D05C28B/124-309:2.3693e-06)1:2.5419e-06)1:0.00720981,(UniRef100_UPI0001E3061D/126-310:0.00616302,UniRef100_UPI0001E3061E/126-310:2.0319e-06)1:0.0437906)1:0.0049912)1:0.234152)1:0.062679)1:0.0794269)1:2.1956e-06,((((((((((((((UniRef100_UPI0011C34247/2-231:2.4282e-06,UniRef100_UPI0011C3426C/2-231:2.1998e-06)1:0.0136135,UniRef100_UPI0002D257B2/20-257:0.00377207)1:0.0220147,(UniRef100_UPI0008101732/13-250:2.2392e-06,(UniRef100_UPI0006AB76F2/13-249:2.7084e-06,UniRef100_UPI0006AB76EC/13-241:2.4931e-06)1:0.0556457)1:0.0125475)1:0.00403426,UniRef100_A0A7S7YQ81/252-489:2.0576e-06)1:0.00412748,UniRef100_UPI0002250D5D/19-256:0.00823344)1:2.8916e-06,UniRef100_UPI000292D3B7/2-239:2.342e-06)1:2.5802e-06,UniRef100_UPI000C210336/2-239:0.00409138)1:0.00409842,UniRef100_UPI0007A93650/2-239:2.8444e-06)1:0.00420718,UniRef100_UPI000255FF86/2-239:2.375e-06)1:2.2437e-06,(((UniRef100_UPI000277548C/2-239:0.00416891,(UniRef100_UPI000255FFC7/2-239:2.2582e-06,UniRef100_UPI0018D5A8E2/3-239:1.0091e-06)1:0.00413818)1:2.7325e-06,UniRef100_UPI000255FF87/2-239:2.4224e-06)1:2.5943e-06,UniRef100_UPI00025C06C1/2-239:0.00838431)1:0.00413643)1:0.0126133,((UniRef100_UPI0001F2FE6F/2-239:2.6004e-06,UniRef100_UPI0001C67B2F/7-244:0.00420657)1:0.0297597,((UniRef100_UPI0001AB295F/1-229:0.00433698,UniRef100_UPI0001A48A9D/1-228:0.00874073)1:0.00434735,UniRef100_UPI0002A54BFD/1-227:2.1618e-06)1:2.0756e-06)1:2.7627e-06)1:0.00409912,UniRef100_UPI0001A48A37/1-238:0.00863577)1:0.00410991,((((UniRef100_UPI0011C34247/384-556:2.8709e-06,UniRef100_UPI0011C3426C/384-556:0.00707779)1:0.0193455,((UniRef100_UPI001D0F4A03/2-239:1.0091e-06,UniRef100_UPI00052E4983/54-291:2.2152e-06)1:2.3202e-06,UniRef100_UPI00052E496B/54-291:0.00422136)1:2.9513e-06)1:0.00427568,UniRef100_UPI000153639E/2-239:0.00425945)1:0.00418344,(UniRef100_UPI0010FFCD2E/5-243:2.6445e-06,UniRef100_UPI0010FFCD76/5-243:0.00429154)1:0.0262837)1:0.0223222)1:2.3987e-06,(UniRef100_A0A1V0D974/2-239:2.0204e-06,(UniRef100_UPI000F044F5E/103-335:0.00839481,(((((((UniRef100_A0A5P9VSM6/2-239:0,UniRef100_UPI001374707D/44-281:0)1:0,UniRef100_UPI001E1C222E/748-985:0)1:0,UniRef100_UPI00137470B2/44-281:0)1:1.0091e-06,UniRef100_A0A1S5SHT2/198-435:2.0082e-06)1:2.0517e-06,(UniRef100_UPI001262AC63/15-252:0.00410016,UniRef100_UPI00194ADA79/35-272:0.00824556)1:0.00844239)1:2.8005e-06,UniRef100_UPI000B5ABD65/4-241:0.0298751)1:0.00413371,((UniRef100_UPI000B5ABD67/7-244:0.00418682,(((UniRef100_UPI0018D5A8B2/15-252:2.5639e-06,UniRef100_UPI00100D9C0B/15-252:0.00406107)1:2.2073e-06,UniRef100_UPI0001A48A3A/1-228:0.00437373)1:2.6517e-06,UniRef100_UPI000F45EFA4/1-226:1.0091e-06)1:0.00407944)1:2.1712e-06,(UniRef100_UPI000B5ABD91/2-238:2.1122e-06,(UniRef100_UPI001C63CC57/4-241:1.0091e-06,((((((((((((((UniRef100_A0A0U3A3D8/2-239:0,UniRef100_UPI000B5ABD97/12-249:0)1:0,UniRef100_UPI001CB8BAD1/17-254:0)1:0,UniRef100_W8GG88/2357-2594:0)1:0,UniRef100_UPI0006891DAB/22-259:0)1:0,UniRef100_A0A7G8ZY66/2-239:0)1:0,UniRef100_B6F2F5/4-241:0)1:0,UniRef100_UPI0019697F3C/380-617:0)1:0,UniRef100_UPI000C173AFD/6-243:0)1:0,UniRef100_UPI001CC3329B/1591-1828:0)1:0,UniRef100_B7UCZ6/513-750:0)1:0,UniRef100_UPI000B5ABD72/15-252:0)1:0,UniRef100_UPI001D0CF09B/6-243:0)1:1.0091e-06,(UniRef100_UPI000718AB72/2-238:1.0091e-06,(UniRef100_UPI0013F595F6/37-274:0.00409505,UniRef100_UPI0013F595FA/37-274:0.00409527)1:0.00409404)1:1.0091e-06)1:1.0091e-06,((UniRef100_UPI000718AB89/4-238:0.00414608,UniRef100_UPI000B5ABD7B/13-243:0.00420171)1:2.0261e-06,(UniRef100_A0A6M5E0N3/2-239:0.00408874,(UniRef100_UPI0000EA3547/2-239:2.9799e-06,(UniRef100_A0A2V2QXC3/1-238:0.00410361,((UniRef100_UPI000B5ABD69/1-238:0.00408884,UniRef100_UPI000B5ABD25/1-238:0.00406277)1:2.0977e-06,(UniRef100_UPI001C2E920B/3-240:1.0091e-06,(UniRef100_UPI000B5ABD5D/1-238:0.00411381,(GFP_AEQVI/1-238:0.00405614,((((((UniRef100_UPI000B5ABDBE/1-238:0.00418775,UniRef100_UPI000B5ABD2E/1-238:2.9764e-06)1:0.00416224,(UniRef100_UPI000B5ABD28/1-238:1.0091e-06,UniRef100_UPI000B5ABDA7/1-238:0.00423769)1:2.8055e-06)1:0.00416743,(((((UniRef100_P42212/1-238:2.4484e-06,(((((UniRef100_A0A6N6XNT4/1-238:1.0091e-06,((UniRef100_UPI0010FFADAB/4-240:2.7478e-06,((((((((((UniRef100_UPI0003C712F7/1-238:0.00419721,UniRef100_A0A125NTU3/3-239:2.4346e-06)1:2.7829e-06,UniRef100_UPI000259F50B/2-239:0.00421854)1:2.8522e-06,(UniRef100_UPI0018FE02FF/25-262:0.00425823,UniRef100_UPI001C0A674F/14-251:0.00424117)1:2.8161e-06)1:2.7663e-06,((((UniRef100_A0A5J6XWW3/2-239:0,UniRef100_UPI0003AFF93F/1-239:0)1:0,UniRef100_UPI0002AA2169/1-241:0)1:0,UniRef100_UPI0010C76139/1264-1501:0)1:1.0091e-06,UniRef100_UPI00142F3CA5/37-274:1.0091e-06)1:1.0091e-06)1:2.8465e-06,(((UniRef100_A0A7S7YQ80/2-239:0.00424435,UniRef100_UPI000225A884/15-252:0.0169201)1:2.039e-06,(UniRef100_UPI0002A54BB4/6-243:1.0091e-06,UniRef100_U6GSR1/2-239:1.0091e-06)1:1.0091e-06)1:2.8465e-06,UniRef100_U6M5D0/29-266:0.0085261)1:0.00419938)1:2.9275e-06,UniRef100_UPI0002A54BF8/22-259:0.00418941)1:0.00840115,UniRef100_UPI00026BAC78/2-239:0.00843824)1:2.8168e-06,UniRef100_UPI00026BAC74/2-239:2.5096e-06)1:2.9408e-06,UniRef100_UPI00026BAC72/2-239:0.00418481)1:0.00421015,UniRef100_UPI00028BC7E8/817-1054:2.9121e-06)1:0.0127534)1:2.2946e-06,(UniRef100_A0A4D6FW43/1-238:0.00412297,UniRef100_UPI0015C551DC/1-238:0.00411527)1:2.7867e-06)1:1.0091e-06)1:2.3892e-06,UniRef100_UPI0000458519/1-238:0.00412399)1:2.1554e-06,(((UniRef100_UPI00028BC767/4-234:1.0091e-06,((UniRef100_UPI0001E30607/4-234:1.0091e-06,(UniRef100_UPI0002B4DC8D/4-235:0.00423804,(UniRef100_UPI00082357E6/1-231:1.0091e-06,UniRef100_UPI0004F13DBB/4-234:1.0091e-06)1:2.8693e-06)1:0.00438345)1:2.4729e-06,UniRef100_UPI00078AF337/4-235:2.7729e-06)1:2.2262e-06)1:0.00261795,UniRef100_UPI00078AF321/4-233:1.0091e-06)1:3.24837e-05,(((UniRef100_UPI00035AC992/4-234:1.0091e-06,UniRef100_UPI000789C189/4-233:2.8692e-06)1:2.7667e-06,UniRef100_UPI00187D6E10/27-254:0.00439382)1:0.00730772,UniRef100_UPI001302D406/1-199:0.00542213)1:2.0156e-06)1:0.0072709)1:0.0026663,(((UniRef100_J8VIQ3/1-238:1.0091e-06,UniRef100_UPI000F7351CB/7-244:1.0091e-06)1:2.2486e-06,UniRef100_UPI0008595909/1-236:0.00409381)1:2.6801e-06,(UniRef100_A0A6M3ZKY0/1-238:2.0586e-06,(((UniRef100_UPI000B5ABD1C/4-241:0.00622744,UniRef100_UPI000B5ABD27/1-227:1.9946e-06)1:0.00626829,((UniRef100_UPI00001556FA/1-238:2.8722e-06,UniRef100_UPI00001556F9/1-238:0.0042804)1:0.00417738,UniRef100_UPI0004D1BB55/1-238:0.0084449)1:0.00416472)1:2.0835e-06,(UniRef100_UPI000B5ABD84/1-238:2.8164e-06,UniRef100_UPI00051FF3EB/1-238:0.00423967)1:0.0173321)1:0.00414697)1:0.00418014)1:0.00683116)1:0.00688206,((UniRef100_A0A5J6CYR6/1-238:2.9062e-06,(UniRef100_Q17105/1-238:0.0122904,UniRef100_Q17106/1-238:0.0289756)1:0.00401312)1:0.0152664,((UniRef100_Q6YGZ0/1-238:0.00514598,(UniRef100_UPI00003E569F/1-238:2.6609e-06,(UniRef100_UPI00001BFB56/1-238:2.9833e-06,UniRef100_A0A348GST3/2-239:0.00403669)1:0.00402403)1:0.0110254)1:0.0382599,(((UniRef100_D3TI87/1-237:0.0155713,((((((UniRef100_Q8WTC4/1-238:0.00433435,UniRef100_Q8WTC5/1-238:2.053e-06)1:0.017088,UniRef100_Q8WTC8/1-238:2.028e-06)1:2.9346e-06,(UniRef100_Q8WTD0/1-238:0.00424462,UniRef100_Q8WTC9/1-238:2.7058e-06)1:0.00423283)1:0.00802496,(UniRef100_Q8WTC7/1-238:2.166e-06,UniRef100_UPI0019203BD9/8-244:2.3062e-06)1:0.00744333)1:0.00158837,UniRef100_Q8WTC6/1-238:2.6232e-06)1:0.00412583,UniRef100_Q8WP95/1-238:2.038e-06)1:0.0668394)1:0.0513913,UniRef100_A0A5J6CYR9/1-238:0.120874)1:0.0588833,UniRef100_A0A5J6CYN9/6-241:0.137103)1:0.0260162)1:0.0215053)1:0.0102949)1:2.5024e-06)1:0.00405976,UniRef100_UPI00076F13AC/1-235:0.00412629)1:2.8699e-06,((UniRef100_W6KDG8/1-238:1.0091e-06,((UniRef100_Q8GHE4/1-238:0.00406718,UniRef100_UPI0001A48A9C/1-238:0.00811813)1:2.1529e-06,UniRef100_UPI00001118CE/2-238:2.8363e-06)1:1.9869e-06)1:2.1719e-06,((UniRef100_UPI0001AB2973/1-238:0.00411421,UniRef100_UPI0003F4A88A/1-238:0.00405883)1:2.6159e-06,UniRef100_Q8GHE3/1-238:0.00405906)1:1.0091e-06)1:2.6099e-06)1:2.3505e-06,((UniRef100_A0A6S7E9W3/1-238:2.9743e-06,(UniRef100_UPI0001D1F7C5/1-237:2.0214e-06,(UniRef100_UPI0001986814/3-238:2.1819e-06,(UniRef100_UPI0000154552/3-238:0.00415079,(UniRef100_UPI00142F3CBD/2-229:0.00424222,UniRef100_UPI00142602D2/2-229:2.1213e-06)1:0.00850555)1:2.2059e-06)1:2.8831e-06)1:0.00406992)1:2.901e-06,((UniRef100_UPI000B5ABD9E/790-1025:0.00412862,UniRef100_UPI00065B461A/790-1021:2.0519e-06)1:0.0167071,UniRef100_UPI0009E0E32B/8-244:0.0407513)1:0.00827272)1:0.00406711)1:0.00407579,UniRef100_UPI0001AB2972/1-238:0.00406765)1:2.8024e-06)1:2.761e-06,(UniRef100_UPI0009795733/1-238:1.0091e-06,UniRef100_UPI000B8BB2ED/13-249:1.0091e-06)1:2.0161e-06)1:2.838e-06,((UniRef100_UPI000B5ABDBC/1-238:0.00381533,UniRef100_UPI000B5ABDB8/1-238:0.0049855)1:0.00355671,UniRef100_A0A1V4T0E4/6-189:2.8095e-06)1:2.419e-06)1:0.00407612,((((UniRef100_UPI0001986815/3-239:2.0441e-06,(UniRef100_UPI0001986816/3-239:2.5167e-06,UniRef100_UPI00003E7814/3-239:0.00407763)1:0.00407933)1:0.00410345,(UniRef100_UPI000B5ABD6A/1-238:2.1956e-06,((UniRef100_UPI0001AB296D/1-238:0.00411208,UniRef100_UPI0001AB296E/1-238:0.00413615)1:0.01252,(UniRef100_UPI000B5ABD22/13-250:0.00302513,UniRef100_UPI000B5ABDC0/13-250:0.00654291)1:0.015872)1:2.1578e-06)1:0.0125254)1:2.5596e-06,UniRef100_UPI0001A48A3B/1-238:0.00410115)1:2.3318e-06,(UniRef100_UPI00157A33EC/1-238:0.00407868,UniRef100_A0A6N9ZS35/1-208:1.0091e-06)1:2.804e-06)1:2.9181e-06)1:0.00407849)1:2.0172e-06)1:1.9959e-06)1:2.7142e-06)1:2.069e-06)1:0.00407017)1:0.00410871)1:2.8304e-06)1:2.0134e-06)1:1.0091e-06)1:1.0091e-06)1:2.6096e-06)1:2.8742e-06)1:0.00408317)1:2.013e-06)1:0.00409248)1:2.3864e-06)1:0.0124116)1:2.0032e-06)1:2.7107e-06)1:2.1469e-06)1:1.9997e-06)1:0.00406435)1:0.00398371)1:0.00830461)1:0.00817054)1:2.2291e-06)1:0.00406029)1:2.3467e-06)1:2.958e-06)1:0.000971917)1:0.000113891)1:0.00360995)1:2.0655e-06)1:1.4908e-06)1:0.00414212)1:2.0641e-06)1:0.00759167)1:0.278542);'"
      ]
     },
     "execution_count": 52,
     "metadata": {},
     "output_type": "execute_result"
    }
   ],
   "source": []
  },
  {
   "cell_type": "code",
   "execution_count": 63,
   "metadata": {},
   "outputs": [
    {
     "data": {
      "text/plain": [
       "'((((A0A3N1NMM4_PhoQ_UniRef90:0.636274,((((A0A935YSN4_PhoQ_UniRef90:0.538667,A0A3D4Q711_PhoQ_UniRef90:0.351407)1:0.118795,A0A4Q5V9R2_PhoQ_UniRef90:0.454298)1:0.134457,A0A1Y0G129_PhoQ_UniRef90:0.279168)1:0.118439,A0A928V440_PhoQ_UniRef90:0.510323)1:0.249848)1:0.102478,A0A9J7A4I5_PhoQ_UniRef90:1.01864)1:0.132461,((((A0A545STM0_PhoQ_UniRef90:0.586993,(Q21FC0_PhoQ_UniRef90:0.790908,A0A952ID09_PhoQ_UniRef90:0.735006)1:0.421092)1:0.107525,(A0AA37T4F5_PhoQ_UniRef90:0.735303,A0A2U3B9L0_PhoQ_UniRef90:1.17527)1:0.126644)1:0.0263925,A0A845FVC5_PhoQ_UniRef90:1.17435)1:0.12817,(((((A0A8J7JWZ1_PhoQ_UniRef90:0.420511,A0A2G6JAY7_PhoQ_UniRef90:0.571774)1:0.257319,(A0A1A9ETM3_PhoQ_UniRef90:0.527635,((((A0A063Y6P3_PhoQ_UniRef90:0.406274,W9UYP3_PhoQ_UniRef90:0.393823)1:0.368164,A0A2P8EWV8_PhoQ_UniRef90:0.543418)1:0.0658743,A0A1H6DBX6_PhoQ_UniRef90:0.430626)1:0.0736177,A0A9Q5C7B1_PhoQ_UniRef90:0.808418)1:0.158676)1:0.0727464)1:0.0340602,(A0A437QAL5_PhoQ_UniRef90:0.440854,A0A1I2M0F7_PhoQ_UniRef90:0.28293)1:0.446698)1:0.0572626,A0A3P1SPC4_PhoQ_UniRef90:0.526349)1:0.464022,((((A0A4Z0M5Y9_PhoQ_UniRef90:0.637207,(A0A2E7C1L5_PhoQ_UniRef90:0.540903,((A0A4R2KV47_PhoQ_UniRef90:0.571657,A0A3C7VZT8_PhoQ_UniRef90:0.498606)1:0.0912579,A0A2D5F9G0_PhoQ_UniRef90:0.805448)1:0.0723067)1:0.108357)1:0.0642434,(A0A7Y2EPM4_PhoQ_UniRef90:0.582083,A0A9E1P3J6_PhoQ_UniRef90:0.568625)1:0.121429)1:0.498748,((((A0A0F7M720_PhoQ_UniRef90:0.67242,(A0A7T4UNP9_PhoQ_UniRef90:0.51913,A0A948CSE6_PhoQ_UniRef90:0.514041)1:0.114063)1:0.0811471,A0A927GVU4_PhoQ_UniRef90:0.599217)1:0.271685,A0A2E7IVI6_PhoQ_UniRef90:0.705118)1:0.499404,A0A1Y0IF62_PhoQ_UniRef90:1.37385)1:0.0509569)1:0.0818765,(A0A657ALL1_PhoQ_UniRef90:1.43446,(((((((A0A2E7XKT6_PhoQ_UniRef90:0.479028,(A0A972VTC2_PhoQ_UniRef90:0.486676,A0A962NIP7_PhoQ_UniRef90:0.511809)1:0.148302)1:0.0961095,A0A2E8K5P7_PhoQ_UniRef90:0.41195)1:0.141756,((A0A9D8V9E0_PhoQ_UniRef90:0.471053,A0A7C7S9Q8_PhoQ_UniRef90:0.52018)1:0.342032,A0A1Z8RA43_PhoQ_UniRef90:0.904817)1:0.124192)1:0.203372,A0A2D7FZV6_PhoQ_UniRef90:1.44799)1:0.252234,(((A0A946VP91_PhoQ_UniRef90:0.377609,(A0A1G0JBQ6_PhoQ_UniRef90:0.32408,(A0A9C8RH99_PhoQ_UniRef90:0.330558,(A0A2E6BBQ6_PhoQ_UniRef90:0.326612,A0A916QM22_PhoQ_UniRef90:0.533926)1:0.109113)1:0.290856)1:0.142913)1:0.100899,((((A0A6B1AU77_PhoQ_UniRef90:0.479987,A0A349SDE3_PhoQ_UniRef90:0.807335)1:0.0799928,A0A964LUJ9_PhoQ_UniRef90:0.309183)1:0.0632697,A0A356S5J7_PhoQ_UniRef90:0.462919)1:0.0549897,A0A920UTS5_PhoQ_UniRef90:0.359895)1:0.0822257)1:0.291059,(A0A2A5CH43_PhoQ_UniRef90:0.51033,A0A832R7E9_PhoQ_UniRef90:0.623611)1:0.392101)1:0.191643)1:0.0733676,F3KH28_PhoQ_UniRef90:1.08034)1:0.10011,((((((((((((((A0A7C2JVW2_PhoQ_UniRef90:0.529701,A0A8T6ZTN5_PhoQ_UniRef90:0.632248)1:0.474976,A0A5Q4EWU4_PhoQ_UniRef90:1.05349)1:0.177543,(A0A9E5MR54_PhoQ_UniRef90:0.33712,A0A661FUL1_PhoQ_UniRef90:0.444227)1:0.508792)1:0.104455,((((A0A2W4SUG9_PhoQ_UniRef90:0.372474,(A0A952ZP73_PhoQ_UniRef90:0.482856,A0A2W4Q8E0_PhoQ_UniRef90:0.768416)1:0.123813)1:0.108255,A0A925SZH5_PhoQ_UniRef90:0.683151)1:0.288647,A0A2W4PHS5_PhoQ_UniRef90:0.696662)1:0.169863,(A0A5J4E9F0_PhoQ_UniRef90:1.0047,(A0A2N6CQU1_PhoQ_UniRef90:0.894215,A0A0S7Z3W7_PhoQ_UniRef90:1.00124)1:0.114196)1:0.082365)1:0.0814563)1:0.0671554,((A0A8T7CIN6_PhoQ_UniRef90:0.37862,A0A8T7AXX3_PhoQ_UniRef90:0.479801)1:0.249043,A0A8T7A3F1_PhoQ_UniRef90:1.11898)1:0.190555)1:0.0855538,A0A524KJK3_PhoQ_UniRef90:1.11056)1:0.244254,(A0A9C9KR66_PhoQ_UniRef90:1.01595,A0A6L3EI65_PhoQ_UniRef90:1.13449)1:0.239688)1:0.094771,(((A0A9D0II18_PhoQ_UniRef90:0.72378,(A0A2N2AGI3_PhoQ_UniRef90:0.442896,A0A1G5QV77_PhoQ_UniRef90:0.388104)1:0.204207)1:0.280169,(((A0A317H5M5_PhoQ_UniRef90:0.717448,(A0A840MN51_PhoQ_UniRef90:0.772652,A0A6F8V6F3_PhoQ_UniRef90:0.566691)1:0.119062)1:0.0540823,((A0A4R3XVR8_PhoQ_UniRef90:0.515125,A0A8T7CMY5_PhoQ_UniRef90:0.833505)1:0.107344,((((((A0A9C9GGY6_PhoQ_UniRef90:0.477875,A0A7C5Q3Y0_PhoQ_UniRef90:0.396022)1:0.123165,A0A8T7DPS1_PhoQ_UniRef90:0.384455)1:0.361778,A0A661DRW4_PhoQ_UniRef90:1.48013)1:0.155572,A0A1H3MUP2_PhoQ_UniRef90:0.850307)1:0.0526979,A0A522VBA8_PhoQ_UniRef90:0.967196)1:0.0464939,A0A972LPN4_PhoQ_UniRef90:0.939495)1:0.0429582)1:0.0919445)1:0.091588,((((A0A1H2ZIM7_PhoQ_UniRef90:0.564576,A0A9E0UDX3_PhoQ_UniRef90:0.544813)1:0.0310642,L0H0Y4_PhoQ_UniRef90:0.640553)1:0.0832636,A0A2K8UBM2_PhoQ_UniRef90:0.62128)1:0.168098,A0A5C7EJD1_PhoQ_UniRef90:0.531105)1:0.213542)1:0.0608127)1:0.082799,((G4E5H6_PhoQ_UniRef90:0.564143,B8GTY3_PhoQ_UniRef90:0.391718)1:0.10482,A0A1H9BC06_PhoQ_UniRef90:0.467255)1:0.474716)1:0.164413)1:0.0390614,(((A0A3M1DNU3_PhoQ_UniRef90:0.891873,(A0A970V8B9_PhoQ_UniRef90:0.860365,A0A6H0ISN4_PhoQ_UniRef90:1.07318)1:0.277082)1:0.137084,((A0A2E9D6Q3_PhoQ_UniRef90:0.632564,A0A3M1RSI9_PhoQ_UniRef90:0.590182)1:0.556242,A0A369C970_PhoQ_UniRef90:0.892586)1:0.00570914)1:0.0421745,(((((A0A1B4XJA0_PhoQ_UniRef90:0.677677,A0A0S8GKX6_PhoQ_UniRef90:0.668633)1:0.117529,(A0A7V2JQW5_PhoQ_UniRef90:0.844069,(A0A0S8BLF4_PhoQ_UniRef90:0.683381,A0A7C3CKH5_PhoQ_UniRef90:0.979822)1:0.241024)1:0.143817)1:0.114202,(A0A8T3PQ08_PhoQ_UniRef90:0.655562,(A0A8T7E3F3_PhoQ_UniRef90:1.09116,A0A433I363_PhoQ_UniRef90:0.436526)1:0.139677)1:0.245089)1:0.0350213,((((A0A7C5NEB9_PhoQ_UniRef90:0.424744,A0A7C3LD72_PhoQ_UniRef90:0.417623)1:0.248494,A0A9C9Z8A1_PhoQ_UniRef90:0.895228)1:0.0438175,(((A0A7C1TYL4_PhoQ_UniRef90:0.738725,A0A1G0F8P6_PhoQ_UniRef90:0.974129)1:0.11683,(A0A9D0R9A8_PhoQ_UniRef90:0.603788,A0A8S9E0S0_PhoQ_UniRef90:0.688035)1:2.8982e-06)1:0.0406888,A0A933Y7Y4_PhoQ_UniRef90:1.218)1:0.0835571)1:0.152292,A0A7V7SXY2_PhoQ_UniRef90:0.827718)1:0.0666269)1:0.101039,((((A0A944MDS5_PhoQ_UniRef90:0.439793,(G2DD72_PhoQ_UniRef90:0.49096,A0A370DT25_PhoQ_UniRef90:0.513937)1:0.101636)1:0.265928,(((A0A7C5GGV7_PhoQ_UniRef90:0.480208,A0A0M1J8D2_PhoQ_UniRef90:0.859125)1:0.204272,A0A962MSQ9_PhoQ_UniRef90:1.1033)1:0.0794387,(((A0A831W4D8_PhoQ_UniRef90:0.463127,((A0A963FCD6_PhoQ_UniRef90:0.449426,A0A962SJI3_PhoQ_UniRef90:0.792955)1:0.119831,A0A963F2W5_PhoQ_UniRef90:0.640018)1:0.0619476)1:0.163955,((A0A2N6GDI6_PhoQ_UniRef90:0.60745,A0A657PTJ7_PhoQ_UniRef90:0.591743)1:0.17366,A0A2N6D1T3_PhoQ_UniRef90:0.713799)1:0.109446)1:0.0868804,(A0A7C5N385_PhoQ_UniRef90:0.732893,A0A7U6GID1_PhoQ_UniRef90:0.645566)1:0.344184)1:0.0738915)1:0.0629244)1:0.19027,(A0A963FL43_PhoQ_UniRef90:1.08192,(((A0A2G2QD64_PhoQ_UniRef90:0.275747,A0A944XQH5_PhoQ_UniRef90:0.784054)1:0.195157,M7PPE7_PhoQ_UniRef90:0.242911)1:0.789782,(A0A5C8KJD8_PhoQ_UniRef90:0.550935,(A0A1I3ZNA9_PhoQ_UniRef90:0.634469,A0A940KT26_PhoQ_UniRef90:0.471472)1:0.103113)1:0.518164)1:0.0627919)1:0.079025)1:0.0894194,(A0A933VL85_PhoQ_UniRef90:0.55104,A0A976KLQ6_PhoQ_UniRef90:0.693944)1:0.261233)1:0.0446417)1:0.0481558)1:0.0595727)1:0.0845359,A0A972KW14_PhoQ_UniRef90:0.997789)1:0.0241695,(A0A426QJ54_PhoQ_UniRef90:0.754067,A0A7V2T6P8_PhoQ_UniRef90:0.745541)1:0.445807)1:0.057158,(((((A0A3N0V9U5_PhoQ_UniRef90:0.732461,(A0A969WC12_PhoQ_UniRef90:0.590712,A0A4R7PDD5_PhoQ_UniRef90:0.569118)1:0.135272)1:0.252005,A4BSS5_PhoQ_UniRef90:0.805878)1:0.0718823,(A0A2D4SC18_PhoQ_UniRef90:0.402535,A0A3A5J7U5_PhoQ_UniRef90:0.58414)1:0.356874)1:0.125828,(A0A952M0B6_PhoQ_UniRef90:0.653754,A0A952LS43_PhoQ_UniRef90:0.846088)1:0.794531)1:0.0913204,((A0A8T7BWT8_PhoQ_UniRef90:0.592032,A0A946DBR0_PhoQ_UniRef90:0.516599)1:0.786286,A0A836S0G9_PhoQ_UniRef90:1.16518)1:0.141099)1:0.1894)1:0.111009,(((((A0A938PNT5_PhoQ_UniRef90:0.54858,A0A6L7LZ74_PhoQ_UniRef90:0.644535)1:0.0791512,A0A2E0Y926_PhoQ_UniRef90:0.469019)1:0.306203,A0A523M9R4_PhoQ_UniRef90:0.92)1:0.173696,A0A6L7MYA0_PhoQ_UniRef90:1.27045)1:0.49984,A0A7Y1T9Z0_PhoQ_UniRef90:1.71603)1:0.141741)1:0.0873906,((((((((A0A0F6RC43_PhoQ_UniRef90:0.300837,(A0A850L2K9_PhoQ_UniRef90:0.33743,A0A6L5QQZ3_PhoQ_UniRef90:0.433824)1:0.171591)1:0.795415,(A0A545TDD7_PhoQ_UniRef90:0.404115,A0A2A4WLI1_PhoQ_UniRef90:0.574108)1:0.899494)1:0.151627,A0A8T7ICJ9_PhoQ_UniRef90:1.08623)1:0.118662,A0A661E6H9_PhoQ_UniRef90:1.24492)1:0.073466,(A0A839IMZ1_PhoQ_UniRef90:1.57632,A0A261GS02_PhoQ_UniRef90:1.41182)1:0.18678)1:0.0940848,((A0A2A4V2I8_PhoQ_UniRef90:0.999433,A0A949P5X1_PhoQ_UniRef90:0.958005)1:0.289639,(A0A5P9B7Z3_PhoQ_UniRef90:2.79126,((A0A973CZQ8_PhoQ_UniRef90:0.83996,(A0A9J7AFH0_PhoQ_UniRef90:0.74586,A0A558NH61_PhoQ_UniRef90:0.69552)1:0.126371)1:0.188069,A0A222FGI5_PhoQ_UniRef90:0.935408)1:0.242241)1:0.109374)1:0.143635)1:0.0427603,A0A5P9EZ64_PhoQ_UniRef90:1.10094)1:0.067414,(((A0A1X9NGE2_PhoQ_UniRef90:0.65633,A0A9J6RHM9_PhoQ_UniRef90:0.639021)1:0.717269,(((((A0A0F6A3S5_PhoQ_UniRef90:0.380954,((A0A290T2W9_PhoQ_UniRef90:0.608825,A0A1I1R721_PhoQ_UniRef90:0.243428)1:0.157846,A0A244CVP9_PhoQ_UniRef90:0.433117)1:0.104342)1:0.458313,((A0A948N8G2_PhoQ_UniRef90:0.317266,A0A0T5PM85_PhoQ_UniRef90:0.446834)1:0.110866,A0A5C7TJS1_PhoQ_UniRef90:0.315012)1:0.477338)1:0.466709,(((K6YAL2_PhoQ_UniRef90:0.377027,K6YDI3_PhoQ_UniRef90:0.405539)1:0.16682,(A0A1L8MA55_PhoQ_UniRef90:0.537234,A0A346NKH5_PhoQ_UniRef90:0.514469)1:0.56313)1:0.157195,A0A8J6M0F3_PhoQ_UniRef90:0.608259)1:0.54261)1:0.158596,((((((((A0A106BWH5_PhoQ_UniRef90:0.324527,A0A411PED4_PhoQ_UniRef90:0.56469)1:0.121096,(((A1SRN2_PhoQ_UniRef90:0.30658,D4ZHJ6_PhoQ_UniRef90:0.296273)1:0.0607734,A0A972JI78_PhoQ_UniRef90:0.413506)1:0.064541,A0A1N6UX00_PhoQ_UniRef90:0.360782)1:0.0757274)1:0.0776689,A0A1E5IVW3_PhoQ_UniRef90:0.490537)1:0.0987158,(A0A974XMK8_PhoQ_UniRef90:0.686506,A0A094LMQ7_PhoQ_UniRef90:0.664431)1:0.265786)1:0.126795,A0AA52DJ40_PhoQ_UniRef90:0.57583)1:0.104902,A0A0D8DBE0_PhoQ_UniRef90:0.555036)1:0.0848703,(A0A1H7K982_PhoQ_UniRef90:0.655721,A0A2N1BVZ5_PhoQ_UniRef90:0.509637)1:0.115566)1:0.0751242,A0A502L690_PhoQ_UniRef90:0.609874)1:0.470853)1:0.178413,A0A2E2VS88_PhoQ_UniRef90:1.22653)1:0.199052)1:0.116087,(A0A2E6LZZ8_PhoQ_UniRef90:1.49569,(((A0A175VJ20_PhoQ_UniRef90:0.290488,A0A1N6NP51_PhoQ_UniRef90:0.458724)1:0.92422,(((A0A1I5X483_PhoQ_UniRef90:0.694698,A0A2T3P3Q9_PhoQ_UniRef90:0.652962)1:0.636242,(A0A4U1B893_PhoQ_UniRef90:0.666478,E1SVL4_PhoQ_UniRef90:1.09299)1:0.274849)1:0.0906229,(A0A7X6BYR3_PhoQ_UniRef90:0.461156,A0A3A6TPJ4_PhoQ_UniRef90:1.05106)1:0.318766)1:0.674)1:0.485992,(K2JDX3_PhoQ_UniRef90:1.27679,(A0A081KEW3_PhoQ_UniRef90:1.15942,((A0A081NDH4_PhoQ_UniRef90:0.474363,A0A142BIF9_PhoQ_UniRef90:0.489036)1:0.555819,(A0A1H7K6F9_PhoQ_UniRef90:1.35175,((A0A1G5NTZ2_PhoQ_UniRef90:0.56206,A0A2Z3I5F3_PhoQ_UniRef90:0.847221)1:0.341908,((A0A7L5RTL8_PhoQ_UniRef90:0.317446,(A0A1V0B4G2_PhoQ_UniRef90:0.328791,A0A078MB21_PhoQ_UniRef90:0.576979)1:0.097745)1:0.0858707,(A0A5E6VX41_PhoQ_UniRef90:0.374204,(A0A9Q3W520_PhoQ_UniRef90:0.475484,((S6ADR9_PhoQ_UniRef90:0.309762,A0A5J6Q945_PhoQ_UniRef90:0.42957)1:0.142084,A0A654AK60_PhoQ_UniRef90:0.380094)1:0.0337173)1:0.0465264)1:0.0817929)1:0.275854)1:0.194762)1:0.181489)1:0.142771)1:0.0972095)1:0.174549)1:0.218289)1:0.0683162)1:0.0640897)1:0.130641)1:0.053351)1:0.124394)1:0.0467657)1:0.085234)1:0.0548799)1:0.184708)1:2.88969,(O30348_PehS_UniProtKB:0.0353259,Q8XVM2_PehS_UniProtKB:0.0491737)1:2.88969);'"
      ]
     },
     "execution_count": 63,
     "metadata": {},
     "output_type": "execute_result"
    }
   ],
   "source": []
  },
  {
   "cell_type": "code",
   "execution_count": null,
   "metadata": {},
   "outputs": [],
   "source": []
  }
 ],
 "metadata": {
  "kernelspec": {
   "display_name": "embed",
   "language": "python",
   "name": "python3"
  },
  "language_info": {
   "codemirror_mode": {
    "name": "ipython",
    "version": 3
   },
   "file_extension": ".py",
   "mimetype": "text/x-python",
   "name": "python",
   "nbconvert_exporter": "python",
   "pygments_lexer": "ipython3",
   "version": "3.8.18"
  }
 },
 "nbformat": 4,
 "nbformat_minor": 2
}
