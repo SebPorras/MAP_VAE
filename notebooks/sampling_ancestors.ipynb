{
 "cells": [
  {
   "cell_type": "code",
   "execution_count": 2,
   "id": "ac3a727f-afc9-44a0-9afe-5c5ed89ea959",
   "metadata": {},
   "outputs": [],
   "source": [
    "import evoVAE.utils.seq_tools as st\n",
    "import pandas as pd\n",
    "import os\n",
    "from numpy import linalg"
   ]
  },
  {
   "cell_type": "code",
   "execution_count": 2,
   "id": "63433a9b-11ca-4329-84ae-ab55c3f7c691",
   "metadata": {},
   "outputs": [],
   "source": []
  },
  {
   "cell_type": "code",
   "execution_count": 2,
   "id": "ce7d7d7a-6b31-4de9-816b-f4b155bc462d",
   "metadata": {},
   "outputs": [
    {
     "data": {
      "text/plain": [
       "'/scratch/user/s4646506/evoVAE/notebooks'"
      ]
     },
     "execution_count": 2,
     "metadata": {},
     "output_type": "execute_result"
    }
   ],
   "source": [
    "os.getcwd()"
   ]
  },
  {
   "cell_type": "code",
   "execution_count": 5,
   "id": "9ad24432-1a2a-4f9c-ab2f-e6d859b66ee9",
   "metadata": {},
   "outputs": [],
   "source": [
    "ancestors = pd.read_pickle(\"../data/GFP_AEQVI_full_04-29-2022_b08_ancestors_no_syn.pkl\")\n",
    "ancestors = ancestors.drop(columns=['encodings'])"
   ]
  },
  {
   "cell_type": "code",
   "execution_count": 7,
   "id": "a849bbb1-065e-41c1-89f6-68b88e89dbbb",
   "metadata": {},
   "outputs": [],
   "source": [
    "ancestors.to_pickle(\"GFP_AEQVI_full_04-29-2022_b08_ancestors_no_syn.pkl\")"
   ]
  },
  {
   "cell_type": "code",
   "execution_count": 8,
   "id": "6328570a-e967-4e18-abf2-c3cae56dcff1",
   "metadata": {},
   "outputs": [
    {
     "data": {
      "text/html": [
       "<div>\n",
       "<style scoped>\n",
       "    .dataframe tbody tr th:only-of-type {\n",
       "        vertical-align: middle;\n",
       "    }\n",
       "\n",
       "    .dataframe tbody tr th {\n",
       "        vertical-align: top;\n",
       "    }\n",
       "\n",
       "    .dataframe thead th {\n",
       "        text-align: right;\n",
       "    }\n",
       "</style>\n",
       "<table border=\"1\" class=\"dataframe\">\n",
       "  <thead>\n",
       "    <tr style=\"text-align: right;\">\n",
       "      <th></th>\n",
       "      <th>id</th>\n",
       "      <th>sequence</th>\n",
       "      <th>encoding</th>\n",
       "      <th>weights</th>\n",
       "    </tr>\n",
       "  </thead>\n",
       "  <tbody>\n",
       "    <tr>\n",
       "      <th>0</th>\n",
       "      <td>GFP_AEQVI/1-238</td>\n",
       "      <td>MSKGEELFTGVVPILVELDGDVNGHKFSVSGEGEGDATYGKLTLKF...</td>\n",
       "      <td>[[0.0, 0.0, 0.0, 0.0, 0.0, 0.0, 0.0, 0.0, 0.0,...</td>\n",
       "      <td>0.000036</td>\n",
       "    </tr>\n",
       "    <tr>\n",
       "      <th>1</th>\n",
       "      <td>UniRef100_UPI0011C34247/2-231</td>\n",
       "      <td>VSKGEELFTGVVPILVELDGDVNGHKFSVSGEGEGDATYGKLTLKF...</td>\n",
       "      <td>[[0.0, 0.0, 0.0, 0.0, 0.0, 0.0, 0.0, 0.0, 0.0,...</td>\n",
       "      <td>0.000037</td>\n",
       "    </tr>\n",
       "    <tr>\n",
       "      <th>2</th>\n",
       "      <td>UniRef100_UPI0011C34247/384-556</td>\n",
       "      <td>VSKGEELFTGVVPILVELDGDVNGHKFSVRGEGEGDATNGKLTLKL...</td>\n",
       "      <td>[[0.0, 0.0, 0.0, 0.0, 0.0, 0.0, 0.0, 0.0, 0.0,...</td>\n",
       "      <td>0.001091</td>\n",
       "    </tr>\n",
       "    <tr>\n",
       "      <th>3</th>\n",
       "      <td>UniRef100_UPI0011C3426C/2-231</td>\n",
       "      <td>VSKGEELFTGVVPILVELDGDVNGHKFSVSGEGEGDATYGKLTLKF...</td>\n",
       "      <td>[[0.0, 0.0, 0.0, 0.0, 0.0, 0.0, 0.0, 0.0, 0.0,...</td>\n",
       "      <td>0.000037</td>\n",
       "    </tr>\n",
       "    <tr>\n",
       "      <th>4</th>\n",
       "      <td>UniRef100_UPI0011C3426C/384-556</td>\n",
       "      <td>VSKGEELFTGVVPILVELDGDVNGHKFSVRGEGEGDATNGKLTLKL...</td>\n",
       "      <td>[[0.0, 0.0, 0.0, 0.0, 0.0, 0.0, 0.0, 0.0, 0.0,...</td>\n",
       "      <td>0.001091</td>\n",
       "    </tr>\n",
       "    <tr>\n",
       "      <th>...</th>\n",
       "      <td>...</td>\n",
       "      <td>...</td>\n",
       "      <td>...</td>\n",
       "      <td>...</td>\n",
       "    </tr>\n",
       "    <tr>\n",
       "      <th>34101</th>\n",
       "      <td>N354_tree_100</td>\n",
       "      <td>VSKGEELFTGVVPILVELDGDVNGHKFSVSGEGEGDATYGKLTLKF...</td>\n",
       "      <td>[[0.0, 0.0, 0.0, 0.0, 0.0, 0.0, 0.0, 0.0, 0.0,...</td>\n",
       "      <td>0.000036</td>\n",
       "    </tr>\n",
       "    <tr>\n",
       "      <th>34102</th>\n",
       "      <td>N355_tree_100</td>\n",
       "      <td>VSKGEELFTGVVPILVELDGDVNGHKFSVSGEGEGDATYGKLTLKF...</td>\n",
       "      <td>[[0.0, 0.0, 0.0, 0.0, 0.0, 0.0, 0.0, 0.0, 0.0,...</td>\n",
       "      <td>0.000036</td>\n",
       "    </tr>\n",
       "    <tr>\n",
       "      <th>34103</th>\n",
       "      <td>N356_tree_100</td>\n",
       "      <td>VSKGEELFTGVVPILVELDGDVNGHKFSVSGEGEGDATYGKLTLKF...</td>\n",
       "      <td>[[0.0, 0.0, 0.0, 0.0, 0.0, 0.0, 0.0, 0.0, 0.0,...</td>\n",
       "      <td>0.000036</td>\n",
       "    </tr>\n",
       "    <tr>\n",
       "      <th>34104</th>\n",
       "      <td>N357_tree_100</td>\n",
       "      <td>VSKGEELFTGVVPILVELDGDVNGHKFSVSGEGEGDATYGKLTLKF...</td>\n",
       "      <td>[[0.0, 0.0, 0.0, 0.0, 0.0, 0.0, 0.0, 0.0, 0.0,...</td>\n",
       "      <td>0.000036</td>\n",
       "    </tr>\n",
       "    <tr>\n",
       "      <th>34105</th>\n",
       "      <td>N358_tree_100</td>\n",
       "      <td>VSKGEELFTGVVPILVELDGDVNGHKFSVSGEGEGDATYGKLTLKF...</td>\n",
       "      <td>[[0.0, 0.0, 0.0, 0.0, 0.0, 0.0, 0.0, 0.0, 0.0,...</td>\n",
       "      <td>0.000036</td>\n",
       "    </tr>\n",
       "  </tbody>\n",
       "</table>\n",
       "<p>34106 rows × 4 columns</p>\n",
       "</div>"
      ],
      "text/plain": [
       "                                    id  \\\n",
       "0                      GFP_AEQVI/1-238   \n",
       "1        UniRef100_UPI0011C34247/2-231   \n",
       "2      UniRef100_UPI0011C34247/384-556   \n",
       "3        UniRef100_UPI0011C3426C/2-231   \n",
       "4      UniRef100_UPI0011C3426C/384-556   \n",
       "...                                ...   \n",
       "34101                    N354_tree_100   \n",
       "34102                    N355_tree_100   \n",
       "34103                    N356_tree_100   \n",
       "34104                    N357_tree_100   \n",
       "34105                    N358_tree_100   \n",
       "\n",
       "                                                sequence  \\\n",
       "0      MSKGEELFTGVVPILVELDGDVNGHKFSVSGEGEGDATYGKLTLKF...   \n",
       "1      VSKGEELFTGVVPILVELDGDVNGHKFSVSGEGEGDATYGKLTLKF...   \n",
       "2      VSKGEELFTGVVPILVELDGDVNGHKFSVRGEGEGDATNGKLTLKL...   \n",
       "3      VSKGEELFTGVVPILVELDGDVNGHKFSVSGEGEGDATYGKLTLKF...   \n",
       "4      VSKGEELFTGVVPILVELDGDVNGHKFSVRGEGEGDATNGKLTLKL...   \n",
       "...                                                  ...   \n",
       "34101  VSKGEELFTGVVPILVELDGDVNGHKFSVSGEGEGDATYGKLTLKF...   \n",
       "34102  VSKGEELFTGVVPILVELDGDVNGHKFSVSGEGEGDATYGKLTLKF...   \n",
       "34103  VSKGEELFTGVVPILVELDGDVNGHKFSVSGEGEGDATYGKLTLKF...   \n",
       "34104  VSKGEELFTGVVPILVELDGDVNGHKFSVSGEGEGDATYGKLTLKF...   \n",
       "34105  VSKGEELFTGVVPILVELDGDVNGHKFSVSGEGEGDATYGKLTLKF...   \n",
       "\n",
       "                                                encoding   weights  \n",
       "0      [[0.0, 0.0, 0.0, 0.0, 0.0, 0.0, 0.0, 0.0, 0.0,...  0.000036  \n",
       "1      [[0.0, 0.0, 0.0, 0.0, 0.0, 0.0, 0.0, 0.0, 0.0,...  0.000037  \n",
       "2      [[0.0, 0.0, 0.0, 0.0, 0.0, 0.0, 0.0, 0.0, 0.0,...  0.001091  \n",
       "3      [[0.0, 0.0, 0.0, 0.0, 0.0, 0.0, 0.0, 0.0, 0.0,...  0.000037  \n",
       "4      [[0.0, 0.0, 0.0, 0.0, 0.0, 0.0, 0.0, 0.0, 0.0,...  0.001091  \n",
       "...                                                  ...       ...  \n",
       "34101  [[0.0, 0.0, 0.0, 0.0, 0.0, 0.0, 0.0, 0.0, 0.0,...  0.000036  \n",
       "34102  [[0.0, 0.0, 0.0, 0.0, 0.0, 0.0, 0.0, 0.0, 0.0,...  0.000036  \n",
       "34103  [[0.0, 0.0, 0.0, 0.0, 0.0, 0.0, 0.0, 0.0, 0.0,...  0.000036  \n",
       "34104  [[0.0, 0.0, 0.0, 0.0, 0.0, 0.0, 0.0, 0.0, 0.0,...  0.000036  \n",
       "34105  [[0.0, 0.0, 0.0, 0.0, 0.0, 0.0, 0.0, 0.0, 0.0,...  0.000036  \n",
       "\n",
       "[34106 rows x 4 columns]"
      ]
     },
     "execution_count": 8,
     "metadata": {},
     "output_type": "execute_result"
    }
   ],
   "source": [
    "an_ex = pd.read_pickle(\"../data/GFP_AEQVI_full_04-29-2022_b08_ancestors_extants_no_syn.pkl\")\n",
    "an_ex = an_ex.drop(columns=['encodings'])\n",
    "an_ex"
   ]
  },
  {
   "cell_type": "code",
   "execution_count": 9,
   "id": "964eb437-f830-4561-9177-8824faa0cd5a",
   "metadata": {},
   "outputs": [],
   "source": [
    "an_ex.to_pickle(\"GFP_AEQVI_full_04-29-2022_b08_ancestors_extants_no_syn.pkl\")"
   ]
  },
  {
   "cell_type": "code",
   "execution_count": 10,
   "id": "84aabad8-3395-4278-ba27-7a90aa0375a2",
   "metadata": {},
   "outputs": [
    {
     "data": {
      "text/html": [
       "<div>\n",
       "<style scoped>\n",
       "    .dataframe tbody tr th:only-of-type {\n",
       "        vertical-align: middle;\n",
       "    }\n",
       "\n",
       "    .dataframe tbody tr th {\n",
       "        vertical-align: top;\n",
       "    }\n",
       "\n",
       "    .dataframe thead th {\n",
       "        text-align: right;\n",
       "    }\n",
       "</style>\n",
       "<table border=\"1\" class=\"dataframe\">\n",
       "  <thead>\n",
       "    <tr style=\"text-align: right;\">\n",
       "      <th></th>\n",
       "      <th>id</th>\n",
       "      <th>sequence</th>\n",
       "      <th>encoding</th>\n",
       "      <th>weights</th>\n",
       "    </tr>\n",
       "  </thead>\n",
       "  <tbody>\n",
       "    <tr>\n",
       "      <th>0</th>\n",
       "      <td>GFP_AEQVI/1-238</td>\n",
       "      <td>MSKGEELFTGVVPILVELDGDVNGHKFSVSGEGEGDATYGKLTLKF...</td>\n",
       "      <td>[[0.0, 0.0, 0.0, 0.0, 0.0, 0.0, 0.0, 0.0, 0.0,...</td>\n",
       "      <td>0.003484</td>\n",
       "    </tr>\n",
       "    <tr>\n",
       "      <th>1</th>\n",
       "      <td>UniRef100_UPI0011C34247/2-231</td>\n",
       "      <td>VSKGEELFTGVVPILVELDGDVNGHKFSVSGEGEGDATYGKLTLKF...</td>\n",
       "      <td>[[0.0, 0.0, 0.0, 0.0, 0.0, 0.0, 0.0, 0.0, 0.0,...</td>\n",
       "      <td>0.003690</td>\n",
       "    </tr>\n",
       "    <tr>\n",
       "      <th>2</th>\n",
       "      <td>UniRef100_UPI0011C34247/384-556</td>\n",
       "      <td>VSKGEELFTGVVPILVELDGDVNGHKFSVRGEGEGDATNGKLTLKL...</td>\n",
       "      <td>[[0.0, 0.0, 0.0, 0.0, 0.0, 0.0, 0.0, 0.0, 0.0,...</td>\n",
       "      <td>0.062500</td>\n",
       "    </tr>\n",
       "    <tr>\n",
       "      <th>3</th>\n",
       "      <td>UniRef100_UPI0011C3426C/2-231</td>\n",
       "      <td>VSKGEELFTGVVPILVELDGDVNGHKFSVSGEGEGDATYGKLTLKF...</td>\n",
       "      <td>[[0.0, 0.0, 0.0, 0.0, 0.0, 0.0, 0.0, 0.0, 0.0,...</td>\n",
       "      <td>0.003690</td>\n",
       "    </tr>\n",
       "    <tr>\n",
       "      <th>4</th>\n",
       "      <td>UniRef100_UPI0011C3426C/384-556</td>\n",
       "      <td>VSKGEELFTGVVPILVELDGDVNGHKFSVRGEGEGDATNGKLTLKL...</td>\n",
       "      <td>[[0.0, 0.0, 0.0, 0.0, 0.0, 0.0, 0.0, 0.0, 0.0,...</td>\n",
       "      <td>0.062500</td>\n",
       "    </tr>\n",
       "    <tr>\n",
       "      <th>...</th>\n",
       "      <td>...</td>\n",
       "      <td>...</td>\n",
       "      <td>...</td>\n",
       "      <td>...</td>\n",
       "    </tr>\n",
       "    <tr>\n",
       "      <th>355</th>\n",
       "      <td>UniRef100_Q6RYS5/2-223</td>\n",
       "      <td>----AEYFEKPLPYKVELEGDVDGQKFTVIGEGQGDASTGRVEGKY...</td>\n",
       "      <td>[[1.0, 0.0, 0.0, 0.0, 0.0, 0.0, 0.0, 0.0, 0.0,...</td>\n",
       "      <td>1.000000</td>\n",
       "    </tr>\n",
       "    <tr>\n",
       "      <th>356</th>\n",
       "      <td>UniRef100_Q6RYS6/40-259</td>\n",
       "      <td>-----ETFQKKLPYKLELDGDVDGQTFKVIGEGVGDATTGVIEGKY...</td>\n",
       "      <td>[[1.0, 0.0, 0.0, 0.0, 0.0, 0.0, 0.0, 0.0, 0.0,...</td>\n",
       "      <td>1.000000</td>\n",
       "    </tr>\n",
       "    <tr>\n",
       "      <th>357</th>\n",
       "      <td>UniRef100_J9PIH6/6-230</td>\n",
       "      <td>MNVGAMLFNKELPFVCELDGEINGHKFSVRGKGIGNSAQGLTHGIH...</td>\n",
       "      <td>[[0.0, 0.0, 0.0, 0.0, 0.0, 0.0, 0.0, 0.0, 0.0,...</td>\n",
       "      <td>1.000000</td>\n",
       "    </tr>\n",
       "    <tr>\n",
       "      <th>358</th>\n",
       "      <td>UniRef100_A0A7M5TYI8/7-231</td>\n",
       "      <td>-NVGALIFNKELPFVVEVDCDIDDHKFSIRGKGVGNAEKGLMVGKY...</td>\n",
       "      <td>[[1.0, 0.0, 0.0, 0.0, 0.0, 0.0, 0.0, 0.0, 0.0,...</td>\n",
       "      <td>0.500000</td>\n",
       "    </tr>\n",
       "    <tr>\n",
       "      <th>359</th>\n",
       "      <td>UniRef100_J9PJD5/7-231</td>\n",
       "      <td>-NVGALIFNKELPFVVEVDFDIDDHKFSIRGKGVGNAEKGLMVGKY...</td>\n",
       "      <td>[[1.0, 0.0, 0.0, 0.0, 0.0, 0.0, 0.0, 0.0, 0.0,...</td>\n",
       "      <td>0.500000</td>\n",
       "    </tr>\n",
       "  </tbody>\n",
       "</table>\n",
       "<p>360 rows × 4 columns</p>\n",
       "</div>"
      ],
      "text/plain": [
       "                                  id  \\\n",
       "0                    GFP_AEQVI/1-238   \n",
       "1      UniRef100_UPI0011C34247/2-231   \n",
       "2    UniRef100_UPI0011C34247/384-556   \n",
       "3      UniRef100_UPI0011C3426C/2-231   \n",
       "4    UniRef100_UPI0011C3426C/384-556   \n",
       "..                               ...   \n",
       "355           UniRef100_Q6RYS5/2-223   \n",
       "356          UniRef100_Q6RYS6/40-259   \n",
       "357           UniRef100_J9PIH6/6-230   \n",
       "358       UniRef100_A0A7M5TYI8/7-231   \n",
       "359           UniRef100_J9PJD5/7-231   \n",
       "\n",
       "                                              sequence  \\\n",
       "0    MSKGEELFTGVVPILVELDGDVNGHKFSVSGEGEGDATYGKLTLKF...   \n",
       "1    VSKGEELFTGVVPILVELDGDVNGHKFSVSGEGEGDATYGKLTLKF...   \n",
       "2    VSKGEELFTGVVPILVELDGDVNGHKFSVRGEGEGDATNGKLTLKL...   \n",
       "3    VSKGEELFTGVVPILVELDGDVNGHKFSVSGEGEGDATYGKLTLKF...   \n",
       "4    VSKGEELFTGVVPILVELDGDVNGHKFSVRGEGEGDATNGKLTLKL...   \n",
       "..                                                 ...   \n",
       "355  ----AEYFEKPLPYKVELEGDVDGQKFTVIGEGQGDASTGRVEGKY...   \n",
       "356  -----ETFQKKLPYKLELDGDVDGQTFKVIGEGVGDATTGVIEGKY...   \n",
       "357  MNVGAMLFNKELPFVCELDGEINGHKFSVRGKGIGNSAQGLTHGIH...   \n",
       "358  -NVGALIFNKELPFVVEVDCDIDDHKFSIRGKGVGNAEKGLMVGKY...   \n",
       "359  -NVGALIFNKELPFVVEVDFDIDDHKFSIRGKGVGNAEKGLMVGKY...   \n",
       "\n",
       "                                              encoding   weights  \n",
       "0    [[0.0, 0.0, 0.0, 0.0, 0.0, 0.0, 0.0, 0.0, 0.0,...  0.003484  \n",
       "1    [[0.0, 0.0, 0.0, 0.0, 0.0, 0.0, 0.0, 0.0, 0.0,...  0.003690  \n",
       "2    [[0.0, 0.0, 0.0, 0.0, 0.0, 0.0, 0.0, 0.0, 0.0,...  0.062500  \n",
       "3    [[0.0, 0.0, 0.0, 0.0, 0.0, 0.0, 0.0, 0.0, 0.0,...  0.003690  \n",
       "4    [[0.0, 0.0, 0.0, 0.0, 0.0, 0.0, 0.0, 0.0, 0.0,...  0.062500  \n",
       "..                                                 ...       ...  \n",
       "355  [[1.0, 0.0, 0.0, 0.0, 0.0, 0.0, 0.0, 0.0, 0.0,...  1.000000  \n",
       "356  [[1.0, 0.0, 0.0, 0.0, 0.0, 0.0, 0.0, 0.0, 0.0,...  1.000000  \n",
       "357  [[0.0, 0.0, 0.0, 0.0, 0.0, 0.0, 0.0, 0.0, 0.0,...  1.000000  \n",
       "358  [[1.0, 0.0, 0.0, 0.0, 0.0, 0.0, 0.0, 0.0, 0.0,...  0.500000  \n",
       "359  [[1.0, 0.0, 0.0, 0.0, 0.0, 0.0, 0.0, 0.0, 0.0,...  0.500000  \n",
       "\n",
       "[360 rows x 4 columns]"
      ]
     },
     "execution_count": 10,
     "metadata": {},
     "output_type": "execute_result"
    }
   ],
   "source": [
    "ex = pd.read_pickle(\"../data/GFP_AEQVI_full_04-29-2022_b08_extants_no_syn.pkl\")\n",
    "ex = ex.drop(columns=['encodings'])\n",
    "ex"
   ]
  },
  {
   "cell_type": "code",
   "execution_count": 11,
   "id": "b9b73f5c-d0a7-4fba-b12b-3e42047411f6",
   "metadata": {},
   "outputs": [],
   "source": [
    "ex.to_pickle(\"GFP_AEQVI_full_04-29-2022_b08_extants_no_syn.pkl\")"
   ]
  },
  {
   "cell_type": "code",
   "execution_count": 7,
   "id": "553593cf-7e3b-4f3c-8865-857f38d4ab2b",
   "metadata": {},
   "outputs": [],
   "source": [
    "ancestors.to_pickle(\"../data/GFP_AEQVI_full_04-29-2022_b08_encoded_weighted_ancestors_extants_no_syn.pkl\")"
   ]
  },
  {
   "cell_type": "code",
   "execution_count": 3,
   "id": "609f7c2c-0d8f-4ea1-82da-81e5539d2f88",
   "metadata": {},
   "outputs": [],
   "source": [
    "sampled_ancestors = st.sample_ancestor_trees(tree_count=100, rejection_threshold=0.55, invalid_trees=[11, 31, 48, 60, 78, 63],\n",
    "                                          tree_path=\"/scratch/user/s4646506/gfp_alns/ancestor_trees/\",\n",
    "                                          ancestor_pkl_path=\"../data/GFP_AEQVI_full_04-29-2022_b08_encoded_weighted_ancestors_no_syn.pkl\")\n",
    "weights = st.reweight_sequences(sampled_ancestors[\"sequence\"].to_numpy(), 0.2)\n",
    "sampled_ancestors['weights'] = weights\n",
    "sampled_ancestors.to_pickle(\"GFP_AEQVI_full_04-29-2022_b08_encoded_weighted_0.55rejection_ancestors_no_syn.pkl\")"
   ]
  },
  {
   "cell_type": "code",
   "execution_count": null,
   "id": "6791cd96-4bd4-4ddb-9cc3-b4d17038cae9",
   "metadata": {},
   "outputs": [],
   "source": []
  },
  {
   "cell_type": "code",
   "execution_count": 3,
   "id": "283b8d8a-fbaa-4d65-a6f1-1cd65546df03",
   "metadata": {},
   "outputs": [],
   "source": [
    "df = pd.read_pickle(\"GFP_AEQVI_full_04-29-2022_b08_encoded_weighted_0.55rejection_ancestors_no_syn.pkl\")"
   ]
  },
  {
   "cell_type": "code",
   "execution_count": 15,
   "id": "5f11a4f9-0e38-47de-917e-868dfdeb1ccf",
   "metadata": {},
   "outputs": [],
   "source": [
    "subsample_ppm = st.calc_position_prob_matrix(df)"
   ]
  },
  {
   "cell_type": "code",
   "execution_count": 16,
   "id": "314d6fa5-1ce8-47c2-bdbb-f17457c4bd72",
   "metadata": {},
   "outputs": [
    {
     "data": {
      "text/plain": [
       "(21, 238)"
      ]
     },
     "execution_count": 16,
     "metadata": {},
     "output_type": "execute_result"
    }
   ],
   "source": [
    "subsample_ppm.shape"
   ]
  },
  {
   "cell_type": "code",
   "execution_count": 17,
   "id": "cc34fe27-c6ca-4bf2-866b-8e7d732fd1bd",
   "metadata": {},
   "outputs": [
    {
     "data": {
      "text/plain": [
       "array([[0.24624292, 0.02901568, 0.01684991, 0.01418255, 0.01418255],\n",
       "       [0.        , 0.00494438, 0.00279748, 0.        , 0.        ],\n",
       "       [0.        , 0.        , 0.        , 0.        , 0.        ],\n",
       "       [0.        , 0.        , 0.88120487, 0.        , 0.        ],\n",
       "       [0.        , 0.        , 0.        , 0.        , 0.        ],\n",
       "       [0.        , 0.        , 0.02608809, 0.        , 0.8716414 ],\n",
       "       [0.        , 0.9124325 , 0.01040921, 0.        , 0.        ],\n",
       "       [0.        , 0.02608809, 0.        , 0.        , 0.        ],\n",
       "       [0.        , 0.01964739, 0.        , 0.        , 0.        ],\n",
       "       [0.        , 0.        , 0.00318782, 0.        , 0.        ],\n",
       "       [0.        , 0.        , 0.0107345 , 0.        , 0.        ],\n",
       "       [0.        , 0.00487932, 0.        , 0.98295492, 0.00286253],\n",
       "       [0.        , 0.        , 0.        , 0.        , 0.        ],\n",
       "       [0.        , 0.00299265, 0.04222237, 0.00286253, 0.11131351],\n",
       "       [0.37674842, 0.        , 0.00650576, 0.        , 0.        ],\n",
       "       [0.        , 0.        , 0.        , 0.        , 0.        ],\n",
       "       [0.        , 0.        , 0.        , 0.        , 0.        ],\n",
       "       [0.37700865, 0.        , 0.        , 0.        , 0.        ],\n",
       "       [0.        , 0.        , 0.        , 0.        , 0.        ],\n",
       "       [0.        , 0.        , 0.        , 0.        , 0.        ],\n",
       "       [0.        , 0.        , 0.        , 0.        , 0.        ]])"
      ]
     },
     "execution_count": 17,
     "metadata": {},
     "output_type": "execute_result"
    }
   ],
   "source": [
    "subsample_ppm[:, :5]"
   ]
  },
  {
   "cell_type": "code",
   "execution_count": 18,
   "id": "03f1620c-1c86-48c7-9c06-9058e030549a",
   "metadata": {},
   "outputs": [],
   "source": [
    "ancestors = pd.read_pickle(\"../data/GFP_AEQVI_full_04-29-2022_b08_encoded_weighted_ancestors_no_syn.pkl\")"
   ]
  },
  {
   "cell_type": "code",
   "execution_count": 20,
   "id": "7873690e-c82a-4eb8-a2a8-35b68cadebd9",
   "metadata": {},
   "outputs": [],
   "source": [
    "an_ppm = st.calc_position_prob_matrix(ancestors)\n",
    "#an_ppm[:, :5]"
   ]
  },
  {
   "cell_type": "code",
   "execution_count": 22,
   "id": "bc9c6112-6aa7-4556-844b-ec2364aaee49",
   "metadata": {},
   "outputs": [
    {
     "data": {
      "text/plain": [
       "array([[0.24444379, 0.02975167, 0.01763172, 0.0148462 , 0.0148462 ],\n",
       "       [0.        , 0.00557103, 0.00278552, 0.        , 0.        ],\n",
       "       [0.        , 0.        , 0.        , 0.        , 0.        ],\n",
       "       [0.        , 0.        , 0.88208973, 0.        , 0.        ],\n",
       "       [0.        , 0.        , 0.        , 0.        , 0.        ],\n",
       "       [0.        , 0.        , 0.02506964, 0.        , 0.87154033],\n",
       "       [0.        , 0.912197  , 0.01114206, 0.        , 0.        ],\n",
       "       [0.        , 0.02506964, 0.        , 0.        , 0.        ],\n",
       "       [0.        , 0.01949861, 0.        , 0.        , 0.        ],\n",
       "       [0.        , 0.        , 0.00278552, 0.        , 0.        ],\n",
       "       [0.        , 0.        , 0.01114206, 0.        , 0.        ],\n",
       "       [0.        , 0.00512653, 0.        , 0.98236828, 0.00278552],\n",
       "       [0.        , 0.        , 0.        , 0.        , 0.        ],\n",
       "       [0.        , 0.00278552, 0.04178273, 0.00278552, 0.11082795],\n",
       "       [0.3757186 , 0.        , 0.00557103, 0.        , 0.        ],\n",
       "       [0.        , 0.        , 0.        , 0.        , 0.        ],\n",
       "       [0.        , 0.        , 0.        , 0.        , 0.        ],\n",
       "       [0.37983761, 0.        , 0.        , 0.        , 0.        ],\n",
       "       [0.        , 0.        , 0.        , 0.        , 0.        ],\n",
       "       [0.        , 0.        , 0.        , 0.        , 0.        ],\n",
       "       [0.        , 0.        , 0.        , 0.        , 0.        ]])"
      ]
     },
     "execution_count": 22,
     "metadata": {},
     "output_type": "execute_result"
    }
   ],
   "source": []
  },
  {
   "cell_type": "code",
   "execution_count": null,
   "id": "f06c6fd3-41d7-4681-b741-a17357fc45a9",
   "metadata": {},
   "outputs": [],
   "source": [
    "linalg.norm"
   ]
  }
 ],
 "metadata": {
  "kernelspec": {
   "display_name": "seb_rocm",
   "language": "python",
   "name": "seb_rocm"
  },
  "language_info": {
   "codemirror_mode": {
    "name": "ipython",
    "version": 3
   },
   "file_extension": ".py",
   "mimetype": "text/x-python",
   "name": "python",
   "nbconvert_exporter": "python",
   "pygments_lexer": "ipython3",
   "version": "3.9.18"
  }
 },
 "nbformat": 4,
 "nbformat_minor": 5
}
