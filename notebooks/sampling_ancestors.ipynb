{
 "cells": [
  {
   "cell_type": "code",
   "execution_count": 1,
   "id": "ac3a727f-afc9-44a0-9afe-5c5ed89ea959",
   "metadata": {},
   "outputs": [],
   "source": [
    "import pandas as pd \n",
    "import numpy as np \n",
    "import evoVAE.utils.metrics as mt \n",
    "import evoVAE.utils.seq_tools as st\n",
    "from numba import njit, prange, jit\n",
    "import random\n",
    "\n"
   ]
  },
  {
   "cell_type": "code",
   "execution_count": 2,
   "id": "63433a9b-11ca-4329-84ae-ab55c3f7c691",
   "metadata": {},
   "outputs": [
    {
     "name": "stdout",
     "output_type": "stream",
     "text": [
      "(14276, 2)\n",
      "Sequence weight numpy array created with shape (num_seqs, columns):  (14276, 448)\n"
     ]
    },
    {
     "data": {
      "text/plain": [
       "(14276, 448)"
      ]
     },
     "execution_count": 2,
     "metadata": {},
     "output_type": "execute_result"
    }
   ],
   "source": [
    "aln: pd.DataFrame = pd.read_pickle(\"/Users/sebs_mac/uni_OneDrive/honours/data/gb1/encoded_weighted/gb1_ancestors_extants_encoded_weighted_no_dupes.pkl\")\n",
    "aln = aln.drop_duplicates(subset=['sequence'])\n",
    "#aln = aln.sample(frac=0.2)\n",
    "aln.drop(columns=[\"encoding\", \"weights\"], inplace=True)\n",
    "print(aln.shape)\n",
    "aln.head()\n",
    "\n",
    "msa, seq_key, key_label = st.convert_msa_numpy_array(aln)\n",
    "msa.shape"
   ]
  },
  {
   "cell_type": "code",
   "execution_count": 41,
   "id": "29b0012e",
   "metadata": {},
   "outputs": [],
   "source": [
    "st.write_fasta_file(\"gb1_ancestors_extants_no_dupes.fasta\", aln)"
   ]
  },
  {
   "cell_type": "code",
   "execution_count": 3,
   "id": "1634a3d5",
   "metadata": {},
   "outputs": [
    {
     "data": {
      "text/html": [
       "<div>\n",
       "<style scoped>\n",
       "    .dataframe tbody tr th:only-of-type {\n",
       "        vertical-align: middle;\n",
       "    }\n",
       "\n",
       "    .dataframe tbody tr th {\n",
       "        vertical-align: top;\n",
       "    }\n",
       "\n",
       "    .dataframe thead th {\n",
       "        text-align: right;\n",
       "    }\n",
       "</style>\n",
       "<table border=\"1\" class=\"dataframe\">\n",
       "  <thead>\n",
       "    <tr style=\"text-align: right;\">\n",
       "      <th></th>\n",
       "      <th>cluster</th>\n",
       "      <th>sequence</th>\n",
       "      <th>is_ancestor</th>\n",
       "    </tr>\n",
       "  </thead>\n",
       "  <tbody>\n",
       "    <tr>\n",
       "      <th>0</th>\n",
       "      <td>N21_gb1_tree_1</td>\n",
       "      <td>N21_gb1_tree_1</td>\n",
       "      <td>1</td>\n",
       "    </tr>\n",
       "    <tr>\n",
       "      <th>1</th>\n",
       "      <td>N21_gb1_tree_1</td>\n",
       "      <td>N22_gb1_tree_1</td>\n",
       "      <td>1</td>\n",
       "    </tr>\n",
       "    <tr>\n",
       "      <th>2</th>\n",
       "      <td>N21_gb1_tree_1</td>\n",
       "      <td>N23_gb1_tree_1</td>\n",
       "      <td>1</td>\n",
       "    </tr>\n",
       "    <tr>\n",
       "      <th>3</th>\n",
       "      <td>N21_gb1_tree_1</td>\n",
       "      <td>N24_gb1_tree_1</td>\n",
       "      <td>1</td>\n",
       "    </tr>\n",
       "    <tr>\n",
       "      <th>4</th>\n",
       "      <td>N21_gb1_tree_1</td>\n",
       "      <td>N25_gb1_tree_1</td>\n",
       "      <td>1</td>\n",
       "    </tr>\n",
       "    <tr>\n",
       "      <th>...</th>\n",
       "      <td>...</td>\n",
       "      <td>...</td>\n",
       "      <td>...</td>\n",
       "    </tr>\n",
       "    <tr>\n",
       "      <th>14271</th>\n",
       "      <td>N1356_gb1_tree_1</td>\n",
       "      <td>UniRef100_L7ZAY0/5-397</td>\n",
       "      <td>0</td>\n",
       "    </tr>\n",
       "    <tr>\n",
       "      <th>14272</th>\n",
       "      <td>N852_gb1_tree_8</td>\n",
       "      <td>N852_gb1_tree_8</td>\n",
       "      <td>1</td>\n",
       "    </tr>\n",
       "    <tr>\n",
       "      <th>14273</th>\n",
       "      <td>N852_gb1_tree_8</td>\n",
       "      <td>N851_gb1_tree_8</td>\n",
       "      <td>1</td>\n",
       "    </tr>\n",
       "    <tr>\n",
       "      <th>14274</th>\n",
       "      <td>N852_gb1_tree_8</td>\n",
       "      <td>N955_gb1_tree_11</td>\n",
       "      <td>1</td>\n",
       "    </tr>\n",
       "    <tr>\n",
       "      <th>14275</th>\n",
       "      <td>N852_gb1_tree_8</td>\n",
       "      <td>UniRef100_UPI001C8E5340/10-438</td>\n",
       "      <td>0</td>\n",
       "    </tr>\n",
       "  </tbody>\n",
       "</table>\n",
       "<p>14276 rows × 3 columns</p>\n",
       "</div>"
      ],
      "text/plain": [
       "                cluster                        sequence  is_ancestor\n",
       "0        N21_gb1_tree_1                  N21_gb1_tree_1            1\n",
       "1        N21_gb1_tree_1                  N22_gb1_tree_1            1\n",
       "2        N21_gb1_tree_1                  N23_gb1_tree_1            1\n",
       "3        N21_gb1_tree_1                  N24_gb1_tree_1            1\n",
       "4        N21_gb1_tree_1                  N25_gb1_tree_1            1\n",
       "...                 ...                             ...          ...\n",
       "14271  N1356_gb1_tree_1          UniRef100_L7ZAY0/5-397            0\n",
       "14272   N852_gb1_tree_8                 N852_gb1_tree_8            1\n",
       "14273   N852_gb1_tree_8                 N851_gb1_tree_8            1\n",
       "14274   N852_gb1_tree_8                N955_gb1_tree_11            1\n",
       "14275   N852_gb1_tree_8  UniRef100_UPI001C8E5340/10-438            0\n",
       "\n",
       "[14276 rows x 3 columns]"
      ]
     },
     "execution_count": 3,
     "metadata": {},
     "output_type": "execute_result"
    }
   ],
   "source": [
    "results = pd.read_csv(\"gb1_an_ex_cluster.tsv\", sep=\"\\t\", header=None)\n",
    "results.columns = [\"cluster\", \"sequence\"]\n",
    "mark_ancestors = lambda x: 1 if \"tree\" in x else 0\n",
    "is_ancestor = results[\"sequence\"].apply(mark_ancestors)\n",
    "results[\"is_ancestor\"] = is_ancestor\n",
    "\n",
    "results"
   ]
  },
  {
   "cell_type": "code",
   "execution_count": 4,
   "id": "21ad2ef1",
   "metadata": {},
   "outputs": [
    {
     "data": {
      "text/plain": [
       "(55,)"
      ]
     },
     "execution_count": 4,
     "metadata": {},
     "output_type": "execute_result"
    }
   ],
   "source": [
    "representative_ids = results[\"cluster\"].unique()\n",
    "representative_ids.shape"
   ]
  },
  {
   "cell_type": "code",
   "execution_count": 5,
   "id": "985e21c4",
   "metadata": {},
   "outputs": [],
   "source": [
    "clusters = [results.loc[results[\"cluster\"] == cluster] for cluster in representative_ids]"
   ]
  },
  {
   "cell_type": "code",
   "execution_count": 14,
   "id": "17e36883",
   "metadata": {},
   "outputs": [],
   "source": [
    "SAMPLE_SIZE = 7000\n",
    "extant_proportions = [0.22, 0.17, 0.12, 0.07, 0.02, 0.0]\n",
    "\n",
    "\n",
    "random.seed(42)\n",
    "\n",
    "for p in extant_proportions:\n",
    "    for r in range(1, 6):\n",
    "        sample_ids = st.sample_extant_ancestors(clusters, SAMPLE_SIZE, extant_proportion=p)\n",
    "        sample_seqs = aln.loc[aln[\"id\"].isin(sample_ids)]\n",
    "        st.write_fasta_file(f\"./clusters/gb1_ancestors_extants_no_dupes_clustered_r{r}_extant_{p}.fasta\", sample_seqs)"
   ]
  },
  {
   "cell_type": "code",
   "execution_count": 15,
   "id": "5f038a27",
   "metadata": {},
   "outputs": [
    {
     "name": "stdout",
     "output_type": "stream",
     "text": [
      "Reading the alignment: ./clusters/gb1_ancestors_extants_no_dupes_clustered_r1_extant_0.22.fasta\n",
      "Checking for bad characters: ['B', 'J', 'X', 'Z', 'U']\n",
      "Performing one hot encoding\n",
      "Number of seqs: 7000\n",
      "               id                                           sequence  \\\n",
      "0   N3_gb1_tree_1  MEKEKKVKYFLRKSAFGLASVSAAFLVGSTVFAVDSPIEDTPIIRN...   \n",
      "1   N9_gb1_tree_1  MEKNKKVSYFLRQSAVGLASVSAAFLVGTTSVGALDAEPTTAFIRE...   \n",
      "2  N21_gb1_tree_1  MEKEKKVKYFLRKSAFGLASVSAAFLVGTTSVNAADASADPATIQQ...   \n",
      "3  N22_gb1_tree_1  MEKEKKVKYFLRKSAFGLASVSAAFLVGTTSVNAADASAEPATIQA...   \n",
      "4  N23_gb1_tree_1  MEKEKKVKYFLRKSAFGLASVSAAFLVGTTLENTITVSAEPATIPA...   \n",
      "\n",
      "                                            encoding  \n",
      "0  [[0.0, 0.0, 0.0, 0.0, 0.0, 0.0, 0.0, 0.0, 0.0,...  \n",
      "1  [[0.0, 0.0, 0.0, 0.0, 0.0, 0.0, 0.0, 0.0, 0.0,...  \n",
      "2  [[0.0, 0.0, 0.0, 0.0, 0.0, 0.0, 0.0, 0.0, 0.0,...  \n",
      "3  [[0.0, 0.0, 0.0, 0.0, 0.0, 0.0, 0.0, 0.0, 0.0,...  \n",
      "4  [[0.0, 0.0, 0.0, 0.0, 0.0, 0.0, 0.0, 0.0, 0.0,...  \n"
     ]
    }
   ],
   "source": [
    "for p in extant_proportions:\n",
    "    for r in range(1, 6):\n",
    "        samp_aln = st.read_aln_file(f\"./clusters/gb1_ancestors_extants_no_dupes_clustered_r{r}_extant_{p}.fasta\")\n",
    "        weights = st.reweight_by_seq_similarity(samp_aln[\"sequence\"], 0.2)\n",
    "        samp_aln[\"weights\"] = weights\n",
    "        print(samp_aln.head())\n",
    "        break\n",
    "\n",
    "    break "
   ]
  },
  {
   "cell_type": "code",
   "execution_count": 16,
   "id": "5d01895e",
   "metadata": {},
   "outputs": [
    {
     "name": "stdout",
     "output_type": "stream",
     "text": [
      "Reading the alignment: ../data/pair_test.aln\n",
      "Checking for bad characters: ['B', 'J', 'X', 'Z', 'U']\n",
      "Performing one hot encoding\n",
      "Number of seqs: 3\n",
      "Sequence weight numpy array created with shape (num_seqs, columns):  (3, 4)\n"
     ]
    },
    {
     "data": {
      "text/plain": [
       "array([[1.  , 1.  , 0.25],\n",
       "       [1.  , 1.  , 0.25],\n",
       "       [0.25, 0.25, 1.  ]])"
      ]
     },
     "execution_count": 16,
     "metadata": {},
     "output_type": "execute_result"
    }
   ],
   "source": [
    "\n",
    "test = st.read_aln_file(\"../data/pair_test.aln\")\n",
    "test_msa, _, _ = st.convert_msa_numpy_array(test)\n",
    "\n",
    "@njit(parallel=True)\n",
    "def adj_matrix(msa) -> np.ndarray:\n",
    "\n",
    "    sim_matrix = np.ones((msa.shape[0], msa.shape[0]))\n",
    "    seq_len = len(msa[0])\n",
    "\n",
    "    for i in prange(msa.shape[0]):\n",
    "        for j in prange(i + 1, msa.shape[0]):\n",
    "            dist = 1 - (mt.hamming_distance(msa[i], msa[j]) / seq_len)\n",
    "            sim_matrix[i, j] = sim_matrix[j, i] = dist \n",
    "\n",
    "\n",
    "    return sim_matrix\n",
    "\n",
    "adj_matrix(test_msa)\n"
   ]
  },
  {
   "cell_type": "code",
   "execution_count": 17,
   "id": "a3a3fd5f",
   "metadata": {},
   "outputs": [],
   "source": [
    "mat = adj_matrix(msa)"
   ]
  },
  {
   "cell_type": "code",
   "execution_count": 33,
   "id": "5cd47ef1",
   "metadata": {},
   "outputs": [],
   "source": [
    "from sklearn.cluster import AgglomerativeClustering\n",
    "\n",
    "model = AgglomerativeClustering(metric=\"precomputed\", linkage=\"complete\")\n",
    "clustering = model.fit(mat)"
   ]
  },
  {
   "cell_type": "code",
   "execution_count": 38,
   "id": "d7604ba5",
   "metadata": {},
   "outputs": [
    {
     "data": {
      "text/plain": [
       "14276"
      ]
     },
     "execution_count": 38,
     "metadata": {},
     "output_type": "execute_result"
    }
   ],
   "source": [
    "clustering.n_leaves_"
   ]
  },
  {
   "cell_type": "code",
   "execution_count": null,
   "id": "d04ba30e",
   "metadata": {},
   "outputs": [],
   "source": []
  }
 ],
 "metadata": {
  "kernelspec": {
   "display_name": "embed",
   "language": "python",
   "name": "python3"
  },
  "language_info": {
   "codemirror_mode": {
    "name": "ipython",
    "version": 3
   },
   "file_extension": ".py",
   "mimetype": "text/x-python",
   "name": "python",
   "nbconvert_exporter": "python",
   "pygments_lexer": "ipython3",
   "version": "3.8.18"
  }
 },
 "nbformat": 4,
 "nbformat_minor": 5
}
