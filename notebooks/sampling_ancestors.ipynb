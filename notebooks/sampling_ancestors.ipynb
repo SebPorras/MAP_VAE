{
 "cells": [
  {
   "cell_type": "code",
   "execution_count": null,
   "id": "ac3a727f-afc9-44a0-9afe-5c5ed89ea959",
   "metadata": {},
   "outputs": [],
   "source": [
    "import pandas as pd \n",
    "import numpy as np \n",
    "import evoVAE.utils.metrics as mt \n",
    "import evoVAE.utils.seq_tools as st\n",
    "from numba import njit, prange, jit\n",
    "import random\n",
    "#pd.set_option('display.max_rows', None)"
   ]
  },
  {
   "cell_type": "code",
   "execution_count": null,
   "id": "2af9c5f9",
   "metadata": {},
   "outputs": [],
   "source": [
    "PATH = \"/Users/sebs_mac/git_repos/dms_data/DMS_ProteinGym_substitutions/A4_HUMAN_Seuma_2022.csv\"\n",
    "\n",
    "def split_by_mutations(dms_data):\n",
    "    \"\"\"\n",
    "    Create a subset of the mutation DataFrames based on how many mutations\n",
    "    are in the variant.\n",
    "\n",
    "    Return:\n",
    "    A dictionary mapping mutation count to subset dataframe\n",
    "    \"\"\"\n",
    "\n",
    "    # define a function for counting mutations\n",
    "    splitter = lambda x: len(x.split(\":\"))\n",
    "    dms_data[\"mut_count\"] = dms_data[\"mutant\"].apply(splitter)\n",
    "\n",
    "    subframes = dict()\n",
    "    for count in dms_data[\"mut_count\"].unique():\n",
    "        subframes[count] = dms_data.loc[dms_data[\"mut_count\"] == count]\n",
    "\n",
    "    return subframes\n",
    "\n",
    "dms = pd.read_csv(PATH)\n",
    "dms.head()\n",
    "\n",
    "subframe = split_by_mutations(dms)\n",
    "subframe[2].shape"
   ]
  },
  {
   "cell_type": "code",
   "execution_count": null,
   "id": "2792ac4b",
   "metadata": {},
   "outputs": [],
   "source": [
    "#aln = st.read_aln_file(\"/Users/sebs_mac/uni_OneDrive/honours/data/gcn4/alns/gcn4_extants_no_dupes.fasta\", encode=False)\n",
    "aln = st.read_aln_file(\"/Users/sebs_mac/uni_OneDrive/honours/data/a4_human/alns/a4_extants_no_dupes.fasta\", encode=False)\n",
    "#aln.drop(columns=[\"encoding\"], inplace=True)\n",
    "#aln.head()\n",
    "aln.to_pickle(\"/Users/sebs_mac/uni_OneDrive/honours/data/a4_human/alns/a4_extants_no_dupes.pkl\")"
   ]
  },
  {
   "cell_type": "code",
   "execution_count": null,
   "id": "db4be612",
   "metadata": {},
   "outputs": [],
   "source": [
    "aln = pd.read_pickle(\"/Users/sebs_mac/uni_OneDrive/honours/data/gcn4/alns/gcn4_ancestors_extants_no_dupes.pkl\")\n",
    "aln.head()"
   ]
  },
  {
   "cell_type": "markdown",
   "id": "1852d8e8",
   "metadata": {},
   "source": [
    "# GB1 clustering "
   ]
  },
  {
   "cell_type": "code",
   "execution_count": null,
   "id": "63433a9b-11ca-4329-84ae-ab55c3f7c691",
   "metadata": {},
   "outputs": [],
   "source": [
    "aln: pd.DataFrame = pd.read_pickle(\"/Users/sebs_mac/uni_OneDrive/honours/data/gb1/encoded_weighted/gb1_ancestors_extants_encoded_weighted_no_dupes.pkl\")\n",
    "aln = aln.drop_duplicates(subset=['sequence'])\n",
    "#aln = aln.sample(frac=0.2)\n",
    "aln.drop(columns=[\"encoding\", \"weights\"], inplace=True)\n",
    "print(aln.shape)\n",
    "aln.head()\n",
    "\n",
    "msa, seq_key, key_label = st.convert_msa_numpy_array(aln)\n",
    "msa.shape"
   ]
  },
  {
   "cell_type": "code",
   "execution_count": null,
   "id": "5c3f2c25",
   "metadata": {},
   "outputs": [],
   "source": [
    "aln.head()"
   ]
  },
  {
   "cell_type": "code",
   "execution_count": null,
   "id": "29b0012e",
   "metadata": {},
   "outputs": [],
   "source": [
    "st.write_fasta_file(\"gb1_ancestors_extants_no_dupes.fasta\", aln)"
   ]
  },
  {
   "cell_type": "code",
   "execution_count": null,
   "id": "1634a3d5",
   "metadata": {},
   "outputs": [],
   "source": [
    "results = pd.read_csv(\"/Users/sebs_mac/uni_OneDrive/honours/data/gb1/mmseqs_clustering/gb1_an_ex_cluster.tsv\", sep=\"\\t\", header=None)\n",
    "results.columns = [\"cluster\", \"sequence\"]\n",
    "mark_ancestors = lambda x: 1 if \"tree\" in x else 0\n",
    "is_ancestor = results[\"sequence\"].apply(mark_ancestors)\n",
    "results[\"is_ancestor\"] = is_ancestor\n",
    "\n",
    "representative_ids = results[\"cluster\"].unique()\n",
    "clusters = [results.loc[results[\"cluster\"] == cluster] for cluster in representative_ids]\n",
    "representative_ids.shape\n"
   ]
  },
  {
   "cell_type": "code",
   "execution_count": null,
   "id": "21ad2ef1",
   "metadata": {},
   "outputs": [],
   "source": [
    "results.loc[results[\"is_ancestor\"] == 0].shape"
   ]
  },
  {
   "cell_type": "code",
   "execution_count": null,
   "id": "17e36883",
   "metadata": {},
   "outputs": [],
   "source": [
    "SAMPLE_SIZE = 100\n",
    "extant_proportions = [0.15, 0.10, 0.05, 0.0]\n",
    "\n",
    "\n",
    "random.seed(42)\n",
    "\n",
    "for p in extant_proportions:\n",
    "    \n",
    "    all_indices = []\n",
    "    reps = []\n",
    "\n",
    "    for r in range(1, 5):\n",
    "        sample_ids = st.sample_extant_ancestors(clusters, SAMPLE_SIZE, extant_proportion=p)\n",
    "        sample_seqs = aln.loc[aln[\"id\"].isin(sample_ids)]\n",
    "        indices =  list(sample_seqs.index)\n",
    "        all_indices.append(indices)\n",
    "        reps.append(r)\n",
    "\n",
    "    test = pd.DataFrame({\"replicate\": reps, \"indices\": all_indices})\n",
    "    test.to_csv(f\"gb1_{p}_replicates.csv\", index=False)\n",
    "\n",
    "#st.write_fasta_file(f\"./clusters/gb1_ancestors_extants_no_dupes_clustered_r{r}_extant_{p}.fasta\", sample_seqs)"
   ]
  },
  {
   "cell_type": "code",
   "execution_count": null,
   "id": "a899d5e9",
   "metadata": {},
   "outputs": [],
   "source": [
    "test = pd.read_csv(\"gb1_0.0_replicates.csv\", )\n",
    "\n",
    "indices = test.loc[\n",
    "    test[\"replicate\"] == 3, \"indices\"\n",
    "].values[0]\n",
    "\n",
    "indices = [int(x.strip()) for x in indices[1:-1].split(\",\")]\n",
    "print(indices[:10])\n",
    "\n",
    "thing = aln.loc[indices]\n"
   ]
  },
  {
   "cell_type": "code",
   "execution_count": null,
   "id": "a9c18317",
   "metadata": {},
   "outputs": [],
   "source": [
    "numpy_aln, _, _ = st.convert_msa_numpy_array(thing)\n",
    "weights = st.reweight_by_seq_similarity(numpy_aln, 0.2)\n",
    "one_hot = thing[\"sequence\"].apply(st.seq_to_one_hot)\n",
    "thing[\"weights\"] = weights\n",
    "thing[\"encoding\"] = one_hot"
   ]
  },
  {
   "cell_type": "code",
   "execution_count": null,
   "id": "f900cf81",
   "metadata": {},
   "outputs": [],
   "source": [
    "thing.head()"
   ]
  },
  {
   "cell_type": "code",
   "execution_count": null,
   "id": "5f038a27",
   "metadata": {},
   "outputs": [],
   "source": [
    "for p in extant_proportions:\n",
    "    for r in range(1, 2):\n",
    "        samp_aln = aln.loc[indices]\n",
    "        numpy_aln, _, _ = st.convert_msa_numpy_array(samp_aln)\n",
    "        weights = st.reweight_by_seq_similarity(numpy_aln, 0.2)\n",
    "        samp_aln[\"weights\"] = weights\n",
    "        print(samp_aln.head())\n",
    "        #samp_aln.to_pickle(f\"./clusters/gb1_ancestors_extants_no_dupes_clustered_r{r}_extant_{p}_encoded_weighted.pkl\")\n"
   ]
  },
  {
   "cell_type": "code",
   "execution_count": null,
   "id": "8dd3be45",
   "metadata": {},
   "outputs": [],
   "source": [
    "test = pd.read_pickle(\"/Users/sebs_mac/uni_OneDrive/honours/data/gb1/mmseqs_clustering/replicate_encoded_weighted/gb1_ancestors_extants_no_dupes_clustered_r1_extant_0.12_encoded_weighted.pkl\")\n",
    "test.loc[~test[\"id\"].str.contains(\"tree\")]"
   ]
  },
  {
   "cell_type": "markdown",
   "id": "24aa0982",
   "metadata": {},
   "source": [
    "#### Results"
   ]
  },
  {
   "cell_type": "code",
   "execution_count": null,
   "id": "d7e2e707",
   "metadata": {},
   "outputs": [],
   "source": [
    "import os\n",
    "import pandas as pd\n",
    "\n",
    "DATA_PATH = \"/Users/sebs_mac/a4_cluster_rnd2/\"\n",
    "\n",
    "df_list = [pd.read_csv((DATA_PATH + str(file) + \"/zero_shot.csv\")) for file in os.listdir(DATA_PATH) if file != \".DS_Store\"]\n"
   ]
  },
  {
   "cell_type": "code",
   "execution_count": null,
   "id": "541af431",
   "metadata": {},
   "outputs": [],
   "source": [
    "df_list[0].head()"
   ]
  },
  {
   "cell_type": "code",
   "execution_count": null,
   "id": "31110264",
   "metadata": {},
   "outputs": [],
   "source": [
    "\n",
    "#all_data = pd.read_csv(\"gb1_cluster_sampling_results.csv\")\n",
    "all_data = pd.concat(df_list, ignore_index=True)\n",
    "all_data.drop(columns=[\"Unnamed: 0\"], inplace=True)\n",
    "\n",
    "get_rep = lambda x: x.split(\"/\")[1].split(\"_\")[3][1]\n",
    "get_ex = lambda x: x.split(\"/\")[1].split(\"_\")[1] \n",
    "\n",
    "rep = all_data[\"unique_id\"].apply(get_rep)\n",
    "ext_prop = all_data[\"unique_id\"].apply(get_ex)\n",
    "all_data[\"replicate\"] = rep\n",
    "all_data[\"extant_prop\"] = ext_prop\n",
    "\n",
    "all_proportions = all_data[\"extant_prop\"].unique()\n",
    "all_proportions.sort()\n",
    "\n",
    "subsets = [all_data.loc[all_data[\"extant_prop\"] == prop] for prop in all_proportions]"
   ]
  },
  {
   "cell_type": "code",
   "execution_count": null,
   "id": "9468bb59",
   "metadata": {},
   "outputs": [],
   "source": [
    "all_data.head()"
   ]
  },
  {
   "cell_type": "code",
   "execution_count": null,
   "id": "b73a6233",
   "metadata": {},
   "outputs": [],
   "source": [
    "all_proportions"
   ]
  },
  {
   "cell_type": "code",
   "execution_count": null,
   "id": "9ff22bce",
   "metadata": {},
   "outputs": [],
   "source": [
    "import numpy as np \n",
    "import matplotlib.pyplot as plt\n",
    "\n",
    "\n",
    "points = [all_data.loc[all_data[\"extant_prop\"] == prop] for prop in all_proportions]\n",
    "labels = all_proportions\n",
    "\n",
    "\n",
    "metrics = [\"spearman_rho\", \"top_k_recall\", \"ndcg\", \"roc_auc\"]#, \"covariance\"]\n",
    "for m in metrics:\n",
    "    means = [point[m].mean() for point in points]\n",
    "    std_devs = [point[m].std() for point in points] \n",
    "\n",
    "    x_pos = np.arange(len(labels))\n",
    "\n",
    "    fig, ax = plt.subplots()\n",
    "\n",
    "    # Create bars\n",
    "    bars = ax.bar(x_pos, means, yerr=std_devs, align='center', alpha=0.7, ecolor='black', capsize=10)\n",
    "\n",
    "    for i, point in enumerate(points):\n",
    "        ax.scatter([i]*len(point), point[m], color='red', zorder=3, alpha=0.5)\n",
    "\n",
    "\n",
    "    # Add labels\n",
    "    ax.set_xlabel('Extant sample proportion')\n",
    "    ax.set_ylabel(f'Mean {m}')\n",
    "    ax.set_xticks(x_pos)\n",
    "    ax.set_xticklabels(labels)\n",
    "\n",
    "    #ax.set_title('Average Spearman\\'s Rank Correlation with Ancestor/Extant samples')\n",
    "    ax.set_title(f'A4: Average {m} with Ancestor/Extant samples')\n",
    "\n",
    "\n",
    "    # Add a grid for better readability\n",
    "    ax.yaxis.grid(True)\n",
    "\n",
    "    # Save the figure and show\n",
    "    plt.tight_layout()\n",
    "    #plt.savefig('Average Spearman\\'s Rank Correlation with Ancestor samples')\n",
    "    plt.show()"
   ]
  },
  {
   "cell_type": "markdown",
   "id": "0ff158a6",
   "metadata": {},
   "source": [
    "# A4 human clustering "
   ]
  },
  {
   "cell_type": "code",
   "execution_count": null,
   "id": "2e5b3175",
   "metadata": {},
   "outputs": [],
   "source": [
    "clustering_results = pd.read_csv(\"/Users/sebs_mac/uni_OneDrive/honours/data/a4_human/mmseqs_clustering/a4_an_ex_cluster.tsv\", sep=\"\\t\", header=None)\n",
    "clustering_results.columns = [\"cluster\", \"sequence\"]\n",
    "\n",
    "mark_ancestors = lambda x: 1 if \"tree\" in x else 0\n",
    "is_ancestor = clustering_results[\"sequence\"].apply(mark_ancestors)\n",
    "clustering_results[\"is_ancestor\"] = is_ancestor\n",
    "\n",
    "representative_ids = clustering_results[\"cluster\"].unique()\n",
    "\n",
    "clustering_results\n"
   ]
  },
  {
   "cell_type": "code",
   "execution_count": null,
   "id": "deb3b62a",
   "metadata": {},
   "outputs": [],
   "source": [
    "aln = st.read_aln_file(\"/Users/sebs_mac/uni_OneDrive/honours/data/gcn4/alns/gcn4_extants.fasta\")\n",
    "\n",
    "encodings, weights = st.encode_and_weight_seqs(aln, 0.2)\n",
    "\n",
    "aln[\"encoding\"] = encodings\n",
    "aln[\"weights\"] = weights\n",
    "aln\n",
    "aln "
   ]
  },
  {
   "cell_type": "code",
   "execution_count": null,
   "id": "83b25bd8",
   "metadata": {},
   "outputs": [],
   "source": [
    "aln.to_pickle(\"/Users/sebs_mac/uni_OneDrive/honours/data/gcn4/alns/gcn4_extants_encoded_weighted.pkl\")"
   ]
  },
  {
   "cell_type": "code",
   "execution_count": null,
   "id": "647eb7a2",
   "metadata": {},
   "outputs": [],
   "source": [
    "aln.to_pickle(\"/Users/sebs_mac/uni_OneDrive/honours/data/a4_human/alns/a4_extants_encoded_weighted.pkl\")"
   ]
  },
  {
   "cell_type": "code",
   "execution_count": null,
   "id": "328101fb",
   "metadata": {},
   "outputs": [],
   "source": [
    "clustering_results[clustering_results[\"is_ancestor\"] == 0]"
   ]
  },
  {
   "cell_type": "code",
   "execution_count": null,
   "id": "4e853687",
   "metadata": {},
   "outputs": [],
   "source": [
    "clusters = [clustering_results.loc[clustering_results[\"cluster\"] == rep] for rep in representative_ids]\n",
    "len(clusters)"
   ]
  },
  {
   "cell_type": "code",
   "execution_count": null,
   "id": "e7f99dd6",
   "metadata": {},
   "outputs": [],
   "source": [
    "SAMPLE_SIZE = 10000\n",
    "extant_proportions = [0.2185, 0.15, 0.1, 0.05, 0.0]\n",
    "\n",
    "\n",
    "aln = st.read_aln_file(\"/Users/sebs_mac/uni_OneDrive/honours/data/a4_human/alns/a4_ancestors_extants_no_dupes.fasta\", encode=False)\n",
    "\n",
    "random.seed(42)\n",
    "\n",
    "for p in extant_proportions:\n",
    "    for r in range(1, 6):\n",
    "        sample_ids = st.sample_extant_ancestors(clusters, SAMPLE_SIZE, extant_proportion=p)\n",
    "        sample_seqs = aln.loc[aln[\"id\"].isin(sample_ids)]\n",
    "        st.write_fasta_file(f\"./a4_ancestors_extants_no_dupes_clustered_r{r}_extant_{p}.fasta\", sample_seqs)"
   ]
  },
  {
   "cell_type": "code",
   "execution_count": null,
   "id": "a5b5e660",
   "metadata": {},
   "outputs": [],
   "source": [
    "for p in extant_proportions:\n",
    "    for r in range(1, 6):\n",
    "        samp_aln = st.read_aln_file(f\"./a4_ancestors_extants_no_dupes_clustered_r{r}_extant_{p}.fasta\")\n",
    "        numpy_aln, _, _ = st.convert_msa_numpy_array(samp_aln)\n",
    "        weights = st.reweight_by_seq_similarity(numpy_aln, 0.2)\n",
    "        samp_aln[\"weights\"] = weights\n",
    "        samp_aln.to_pickle(f\"a4_ancestors_extants_no_dupes_clustered_r{r}_extant_{p}_encoded_weighted.pkl\")"
   ]
  },
  {
   "cell_type": "code",
   "execution_count": null,
   "id": "22d96bb1",
   "metadata": {},
   "outputs": [],
   "source": [
    "import os\n",
    "import pandas as pd\n",
    "\n",
    "DATA_PATH = \"/Users/sebs_mac/uni_OneDrive/honours/data/clustering_data/a4/\"\n",
    "\n",
    "df_list = [pd.read_csv((DATA_PATH + str(file) + \"/_zero_shot.csv\")) for file in os.listdir(DATA_PATH) if str(file) != \".DS_Store\"]\n",
    "\n",
    "all_data = pd.concat(df_list, ignore_index=True)\n",
    "\n",
    "#all_data = pd.read_csv(\"gcn4_cluster_sampling_results.csv\")\n",
    "all_data.drop(columns=[\"Unnamed: 0\"], inplace=True)\n",
    "\n",
    "\n",
    "get_rep = lambda x: x.split(\"_\")[1] \n",
    "get_ex = lambda x: x.split(\"_\")[11] \n",
    "\n",
    "rep = all_data[\"unique_id\"].apply(get_rep)\n",
    "ext_prop = all_data[\"unique_id\"].apply(get_ex)\n",
    "all_data[\"replicate\"] = rep\n",
    "all_data[\"extant_prop\"] = ext_prop\n",
    "\n",
    "all_proportions = all_data[\"extant_prop\"].unique()\n",
    "all_proportions.sort()\n",
    "\n",
    "subsets = [all_data.loc[all_data[\"extant_prop\"] == prop] for prop in all_proportions]\n"
   ]
  },
  {
   "cell_type": "code",
   "execution_count": null,
   "id": "ebb668e9",
   "metadata": {},
   "outputs": [],
   "source": [
    "all_data"
   ]
  },
  {
   "cell_type": "code",
   "execution_count": null,
   "id": "3f28bdef",
   "metadata": {},
   "outputs": [],
   "source": [
    "import numpy as np \n",
    "import matplotlib.pyplot as plt\n",
    "\n",
    "points = [all_data.loc[all_data[\"extant_prop\"] == prop] for prop in all_proportions]\n",
    "labels = all_proportions\n",
    "\n",
    "means = [point[\"roc_auc\"].mean() for point in points]\n",
    "std_devs = [point[\"roc_auc\"].std() for point in points] \n",
    "\n",
    "x_pos = np.arange(len(labels))\n",
    "\n",
    "fig, ax = plt.subplots()\n",
    "\n",
    "# Create bars\n",
    "bars = ax.bar(x_pos, means, yerr=std_devs, align='center', alpha=0.7, ecolor='black', capsize=10)\n",
    "\n",
    "for i, point in enumerate(points):\n",
    "    ax.scatter([i]*len(point), point[\"roc_auc\"], color='red', zorder=3, alpha=0.5)\n",
    "\n",
    "\n",
    "# Add labels\n",
    "ax.set_xlabel('Extant sample proportion (%)')\n",
    "ax.set_ylabel('Mean roc_auc')\n",
    "ax.set_xticks(x_pos)\n",
    "ax.set_xticklabels(labels)\n",
    "\n",
    "#ax.set_title('Average Spearman\\'s Rank Correlation with Ancestor/Extant samples')\n",
    "ax.set_title('Average roc_auc with Ancestor/Extant samples')\n",
    "\n",
    "\n",
    "# Add a grid for better readability\n",
    "ax.yaxis.grid(True)\n",
    "\n",
    "# Save the figure and show\n",
    "plt.tight_layout()\n",
    "#plt.savefig('Average Spearman\\'s Rank Correlation with Ancestor samples')\n",
    "plt.show()"
   ]
  },
  {
   "cell_type": "code",
   "execution_count": null,
   "id": "b58d314a",
   "metadata": {},
   "outputs": [],
   "source": [
    "import os\n",
    "import pandas as pd\n",
    "\n",
    "DATA_PATH = \"/Users/sebs_mac/gb1_standard_results/\"\n",
    "\n",
    "df_list = [pd.read_csv((DATA_PATH + str(file) + \"/zero_shot.csv\")) for file in os.listdir(DATA_PATH) if file != \".DS_Store\"]\n",
    "\n",
    "\n",
    "#all_data = pd.read_csv(\"gb1_cluster_sampling_results.csv\")\n",
    "all_data = pd.concat(df_list, ignore_index=True)\n",
    "all_data.drop(columns=[\"Unnamed: 0\"], inplace=True)\n",
    "all_data.head()"
   ]
  },
  {
   "cell_type": "code",
   "execution_count": null,
   "id": "a0c9b4e2",
   "metadata": {},
   "outputs": [],
   "source": [
    "\n",
    "get_rep = lambda x: x.split(\"/\")[1].split(\"_\")[-1] \n",
    "#get_ex = lambda x: x.split(\"/\")[1].split(\"_\")[1] \n",
    "\n",
    "rep = all_data[\"unique_id\"].apply(get_rep)\n",
    "\n",
    "def get_ex(thing):\n",
    "    data = thing.split(\"/\")[1].split(\"_\")\n",
    "\n",
    "    if len(data) == 3:\n",
    "        return data[1]\n",
    "    elif len(data) == 4:\n",
    "        return \"_\".join(data[1:3])\n",
    "\n",
    "ext_prop = all_data[\"unique_id\"].apply(get_ex)\n",
    "all_data[\"replicate\"] = rep\n",
    "all_data[\"sample\"] = ext_prop\n",
    "\n",
    "all_proportions = all_data[\"sample\"].unique()\n",
    "all_proportions.sort()\n",
    "\n",
    "subsets = [all_data.loc[all_data[\"sample\"] == prop] for prop in all_proportions]\n",
    "\n",
    "import numpy as np \n",
    "import matplotlib.pyplot as plt\n",
    "\n",
    "points = [all_data.loc[all_data[\"sample\"] == prop] for prop in all_proportions]\n",
    "labels = all_proportions\n",
    "\n",
    "\n",
    "metrics = [\"spearman_rho\", \"top_k_recall\", \"ndcg\", \"roc_auc\"]#, \"covariance\"]\n",
    "for m in metrics:\n",
    "    means = [point[m].mean() for point in points]\n",
    "    std_devs = [point[m].std() for point in points] \n",
    "\n",
    "    x_pos = np.arange(len(labels))\n",
    "\n",
    "    fig, ax = plt.subplots()\n",
    "\n",
    "    # Create bars\n",
    "    bars = ax.bar(x_pos, means, yerr=std_devs, align='center', alpha=0.7, ecolor='black', capsize=10)\n",
    "\n",
    "    for i, point in enumerate(points):\n",
    "        ax.scatter([i]*len(point), point[m], color='red', zorder=3, alpha=0.5)\n",
    "\n",
    "\n",
    "    # Add labels\n",
    "    ax.set_xlabel('Extant sample proportion')\n",
    "    ax.set_ylabel(f'Mean {m}')\n",
    "    ax.set_xticks(x_pos)\n",
    "    ax.set_xticklabels(labels)\n",
    "\n",
    "    #ax.set_title('Average Spearman\\'s Rank Correlation with Ancestor/Extant samples')\n",
    "    ax.set_title(f'GB1: Average {m} with Ancestor/Extant samples')\n",
    "\n",
    "\n",
    "    # Add a grid for better readability\n",
    "    ax.yaxis.grid(True)\n",
    "\n",
    "    # Save the figure and show\n",
    "    plt.tight_layout()\n",
    "    #plt.savefig('Average Spearman\\'s Rank Correlation with Ancestor samples')\n",
    "    plt.show()"
   ]
  },
  {
   "cell_type": "code",
   "execution_count": null,
   "id": "21531b59",
   "metadata": {},
   "outputs": [],
   "source": []
  },
  {
   "cell_type": "markdown",
   "id": "6e9810d7",
   "metadata": {},
   "source": [
    "# GCN4 clustering"
   ]
  },
  {
   "cell_type": "code",
   "execution_count": null,
   "id": "ff08e52e",
   "metadata": {},
   "outputs": [],
   "source": [
    "clustering_results = pd.read_csv(\"/Users/sebs_mac/uni_OneDrive/honours/data/gcn4/mmseqs_clustering/gcn4_an_ex_cluster.tsv\", sep=\"\\t\", header=None)\n",
    "clustering_results.columns = [\"cluster\", \"sequence\"]\n",
    "\n",
    "mark_ancestors = lambda x: 1 if \"tree\" in x else 0\n",
    "is_ancestor = clustering_results[\"sequence\"].apply(mark_ancestors)\n",
    "clustering_results[\"is_ancestor\"] = is_ancestor\n",
    "\n",
    "representative_ids = clustering_results[\"cluster\"].unique()\n",
    "\n",
    "clustering_results\n"
   ]
  },
  {
   "cell_type": "code",
   "execution_count": null,
   "id": "ee541531",
   "metadata": {},
   "outputs": [],
   "source": [
    "clustering_results[clustering_results[\"is_ancestor\"] == 0].shape, clustering_results[clustering_results[\"is_ancestor\"] == 1].shape "
   ]
  },
  {
   "cell_type": "code",
   "execution_count": null,
   "id": "0521d1b9",
   "metadata": {},
   "outputs": [],
   "source": [
    "# divide the sequences into their clusters\n",
    "clusters = [clustering_results.loc[clustering_results[\"cluster\"] == rep] for rep in representative_ids]\n",
    "len(clusters)"
   ]
  },
  {
   "cell_type": "code",
   "execution_count": null,
   "id": "610ba6be",
   "metadata": {},
   "outputs": [],
   "source": [
    "# remove duplcates \n",
    "\n",
    "# aln = st.read_aln_file(\"/Users/sebs_mac/uni_OneDrive/honours/data/gcn4/alns/gcn4_ancestors_extants.fasta\", encode=False)\n",
    "# aln = aln.drop_duplicates(subset=[\"sequence\"])\n",
    "# aln\n",
    "# st.write_fasta_file(\"/Users/sebs_mac/uni_OneDrive/honours/data/gcn4/alns/gcn4_ancestors_extants_no_dupes.fasta\", aln)"
   ]
  },
  {
   "cell_type": "code",
   "execution_count": null,
   "id": "32db40a7",
   "metadata": {},
   "outputs": [],
   "source": [
    "aln = pd.read_pickle(\"/Users/sebs_mac/uni_OneDrive/honours/data/gcn4/alns/gcn4_ancestors_extants_no_dupes.pkl\")\n",
    "\n"
   ]
  },
  {
   "cell_type": "code",
   "execution_count": null,
   "id": "44180eae",
   "metadata": {},
   "outputs": [],
   "source": [
    "import random\n",
    "import evoVAE.utils.seq_tools as st\n",
    "\n",
    "\n",
    "SAMPLE_SIZE = 5000\n",
    "extant_proportions = [0.06, 0.04, 0.02, 0.0]\n",
    "\n",
    "\n",
    "aln = pd.read_pickle(\"/Users/sebs_mac/uni_OneDrive/honours/data/gcn4/alns/gcn4_ancestors_extants_no_dupes.pkl\")\n",
    "\n",
    "random.seed(42)\n",
    "\n",
    "for p in extant_proportions:\n",
    "        \n",
    "    test = pd.DataFrame()\n",
    "\n",
    "    for r in range(1, 16):\n",
    "        sample_ids = st.sample_extant_ancestors(clusters, SAMPLE_SIZE, extant_proportion=p)\n",
    "        sample_seqs = aln.loc[aln[\"id\"].isin(sample_ids)]\n",
    "        indices =  list(sample_seqs.index)\n",
    "        test[f\"rep_{r}\"] = indices\n",
    "\n",
    "\n",
    "    test.to_csv(f\"gcn4_{p}_replicates.csv\", index=False)\n",
    "       \n"
   ]
  },
  {
   "cell_type": "code",
   "execution_count": null,
   "id": "aa0ec3f1",
   "metadata": {},
   "outputs": [],
   "source": [
    "for p in extant_proportions:\n",
    "    for r in range(1, 6):\n",
    "        samp_aln = st.read_aln_file(f\"./gcn4_ancestors_extants_no_dupes_clustered_r{r}_extant_{p}.fasta\")\n",
    "        numpy_aln, _, _ = st.convert_msa_numpy_array(samp_aln)\n",
    "        weights = st.reweight_by_seq_similarity(numpy_aln, 0.2)\n",
    "        samp_aln[\"weights\"] = weights\n",
    "        samp_aln.to_pickle(f\"gcn4_ancestors_extants_no_dupes_clustered_r{r}_extant_{p}_encoded_weighted.pkl\")"
   ]
  },
  {
   "cell_type": "code",
   "execution_count": null,
   "id": "f50c70d7",
   "metadata": {},
   "outputs": [],
   "source": [
    "import os\n",
    "import pandas as pd\n",
    "\n",
    "DATA_PATH = \"/Users/sebs_mac/uni_OneDrive/honours/data/clustering_data/gcn4/\"\n",
    "\n",
    "#df_list = [pd.read_csv(file + \"/_zero_shot.csv\") for file in os.listdir(DATA_PATH)]\n",
    "df_list = [pd.read_csv((DATA_PATH + str(file) + \"/_zero_shot.csv\")) for file in os.listdir(DATA_PATH) if str(file) != \".DS_Store\"]\n",
    "\n",
    "all_data = pd.read_csv(\"gcn4_cluster_sampling_results.csv\")\n",
    "all_data.drop(columns=[\"Unnamed: 0\"], inplace=True)\n",
    "\n",
    "get_rep = lambda x: x.split(\"_\")[1] \n",
    "get_ex = lambda x: x.split(\"_\")[11] \n",
    "\n",
    "rep = all_data[\"unique_id\"].apply(get_rep)\n",
    "ext_prop = all_data[\"unique_id\"].apply(get_ex)\n",
    "all_data[\"replicate\"] = rep\n",
    "all_data[\"extant_prop\"] = ext_prop\n",
    "\n",
    "all_proportions = all_data[\"extant_prop\"].unique()\n",
    "all_proportions.sort()\n",
    "\n",
    "subsets = [all_data.loc[all_data[\"extant_prop\"] == prop] for prop in all_proportions]\n",
    "\n"
   ]
  },
  {
   "cell_type": "code",
   "execution_count": null,
   "id": "648084a0",
   "metadata": {},
   "outputs": [],
   "source": []
  },
  {
   "cell_type": "code",
   "execution_count": null,
   "id": "c519acef",
   "metadata": {},
   "outputs": [],
   "source": [
    "import numpy as np \n",
    "import matplotlib.pyplot as plt\n",
    "\n",
    "points = [all_data.loc[all_data[\"extant_prop\"] == prop] for prop in all_proportions]\n",
    "labels = all_proportions\n",
    "\n",
    "means = [point[\"covariance\"].mean() for point in points]\n",
    "std_devs = [point[\"covariance\"].std() for point in points] \n",
    "\n",
    "x_pos = np.arange(len(labels))\n",
    "\n",
    "fig, ax = plt.subplots()\n",
    "\n",
    "# Create bars\n",
    "bars = ax.bar(x_pos, means, yerr=std_devs, align='center', alpha=0.7, ecolor='black', capsize=10)\n",
    "\n",
    "for i, point in enumerate(points):\n",
    "    ax.scatter([i]*len(point), point[\"covariance\"], color='red', zorder=3, alpha=0.5)\n",
    "\n",
    "\n",
    "# Add labels\n",
    "ax.set_xlabel('Extant sample proportion (%)')\n",
    "ax.set_ylabel('Mean pairwise_covariance')\n",
    "ax.set_xticks(x_pos)\n",
    "ax.set_xticklabels(labels)\n",
    "\n",
    "#ax.set_title('Average Spearman\\'s Rank Correlation with Ancestor/Extant samples')\n",
    "ax.set_title('Average pairwise covariance with Ancestor/Extant samples')\n",
    "\n",
    "\n",
    "# Add a grid for better readability\n",
    "ax.yaxis.grid(True)\n",
    "\n",
    "# Save the figure and show\n",
    "plt.tight_layout()\n",
    "#plt.savefig('Average Spearman\\'s Rank Correlation with Ancestor samples')\n",
    "plt.show()"
   ]
  },
  {
   "cell_type": "markdown",
   "id": "61aebe88",
   "metadata": {},
   "source": [
    "# Alternate clustering: incomplete"
   ]
  },
  {
   "cell_type": "code",
   "execution_count": null,
   "id": "5d01895e",
   "metadata": {},
   "outputs": [],
   "source": [
    "\n",
    "test = st.read_aln_file(\"../data/pair_test.aln\")\n",
    "test_msa, _, _ = st.convert_msa_numpy_array(test)\n",
    "\n",
    "@njit(parallel=True)\n",
    "def adj_matrix(msa) -> np.ndarray:\n",
    "\n",
    "    sim_matrix = np.ones((msa.shape[0], msa.shape[0]))\n",
    "    seq_len = len(msa[0])\n",
    "\n",
    "    for i in prange(msa.shape[0]):\n",
    "        for j in prange(i + 1, msa.shape[0]):\n",
    "            dist = 1 - (mt.hamming_distance(msa[i], msa[j]) / seq_len)\n",
    "            sim_matrix[i, j] = sim_matrix[j, i] = dist \n",
    "\n",
    "\n",
    "    return sim_matrix\n",
    "\n",
    "adj_matrix(test_msa)\n"
   ]
  },
  {
   "cell_type": "code",
   "execution_count": null,
   "id": "a3a3fd5f",
   "metadata": {},
   "outputs": [],
   "source": [
    "mat = adj_matrix(msa)"
   ]
  },
  {
   "cell_type": "code",
   "execution_count": null,
   "id": "d7604ba5",
   "metadata": {},
   "outputs": [],
   "source": [
    "clustering.n_leaves_"
   ]
  },
  {
   "cell_type": "code",
   "execution_count": null,
   "id": "4a5b7d49",
   "metadata": {},
   "outputs": [],
   "source": [
    "st.write_fasta_file(data+\"a4_ancestors_extants_no_dupes.fasta\", seqs)"
   ]
  },
  {
   "cell_type": "code",
   "execution_count": null,
   "id": "6d77e797",
   "metadata": {},
   "outputs": [],
   "source": [
    "data"
   ]
  },
  {
   "cell_type": "code",
   "execution_count": null,
   "id": "22b9efa4",
   "metadata": {},
   "outputs": [],
   "source": []
  },
  {
   "cell_type": "code",
   "execution_count": 1,
   "id": "b4368468",
   "metadata": {},
   "outputs": [
    {
     "data": {
      "text/html": [
       "<div>\n",
       "<style scoped>\n",
       "    .dataframe tbody tr th:only-of-type {\n",
       "        vertical-align: middle;\n",
       "    }\n",
       "\n",
       "    .dataframe tbody tr th {\n",
       "        vertical-align: top;\n",
       "    }\n",
       "\n",
       "    .dataframe thead th {\n",
       "        text-align: right;\n",
       "    }\n",
       "</style>\n",
       "<table border=\"1\" class=\"dataframe\">\n",
       "  <thead>\n",
       "    <tr style=\"text-align: right;\">\n",
       "      <th></th>\n",
       "      <th>unique_id</th>\n",
       "      <th>spearman_rho</th>\n",
       "      <th>top_k_recall</th>\n",
       "      <th>ndcg</th>\n",
       "      <th>roc_auc</th>\n",
       "    </tr>\n",
       "  </thead>\n",
       "  <tbody>\n",
       "    <tr>\n",
       "      <th>0</th>\n",
       "      <td>./11_dims/</td>\n",
       "      <td>0.098728</td>\n",
       "      <td>0.138327</td>\n",
       "      <td>0.622981</td>\n",
       "      <td>0.55247</td>\n",
       "    </tr>\n",
       "  </tbody>\n",
       "</table>\n",
       "</div>"
      ],
      "text/plain": [
       "    unique_id  spearman_rho  top_k_recall      ndcg  roc_auc\n",
       "0  ./11_dims/      0.098728      0.138327  0.622981  0.55247"
      ]
     },
     "execution_count": 1,
     "metadata": {},
     "output_type": "execute_result"
    }
   ],
   "source": [
    "import os\n",
    "import pandas as pd\n",
    "\n",
    "DATA_PATH = \"/Users/sebs_mac/a4_latent_test/\"\n",
    "\n",
    "df_list = [pd.read_csv((DATA_PATH + str(file) + \"/zero_shot_all_variants_final_metrics.csv\")) for file in os.listdir(DATA_PATH) if file != \".DS_Store\"]\n",
    "df_list[0]"
   ]
  },
  {
   "cell_type": "code",
   "execution_count": 2,
   "id": "fe5bf890",
   "metadata": {},
   "outputs": [
    {
     "data": {
      "text/html": [
       "<div>\n",
       "<style scoped>\n",
       "    .dataframe tbody tr th:only-of-type {\n",
       "        vertical-align: middle;\n",
       "    }\n",
       "\n",
       "    .dataframe tbody tr th {\n",
       "        vertical-align: top;\n",
       "    }\n",
       "\n",
       "    .dataframe thead th {\n",
       "        text-align: right;\n",
       "    }\n",
       "</style>\n",
       "<table border=\"1\" class=\"dataframe\">\n",
       "  <thead>\n",
       "    <tr style=\"text-align: right;\">\n",
       "      <th></th>\n",
       "      <th>unique_id</th>\n",
       "      <th>spearman_rho</th>\n",
       "      <th>top_k_recall</th>\n",
       "      <th>ndcg</th>\n",
       "      <th>roc_auc</th>\n",
       "      <th>replicate</th>\n",
       "    </tr>\n",
       "  </thead>\n",
       "  <tbody>\n",
       "    <tr>\n",
       "      <th>8</th>\n",
       "      <td>./3_dims/</td>\n",
       "      <td>0.161216</td>\n",
       "      <td>0.152497</td>\n",
       "      <td>0.647502</td>\n",
       "      <td>0.579191</td>\n",
       "      <td>3</td>\n",
       "    </tr>\n",
       "    <tr>\n",
       "      <th>6</th>\n",
       "      <td>./4_dims/</td>\n",
       "      <td>0.145590</td>\n",
       "      <td>0.163968</td>\n",
       "      <td>0.620286</td>\n",
       "      <td>0.572604</td>\n",
       "      <td>4</td>\n",
       "    </tr>\n",
       "    <tr>\n",
       "      <th>5</th>\n",
       "      <td>./5_dims/</td>\n",
       "      <td>0.131367</td>\n",
       "      <td>0.165317</td>\n",
       "      <td>0.659463</td>\n",
       "      <td>0.564677</td>\n",
       "      <td>5</td>\n",
       "    </tr>\n",
       "    <tr>\n",
       "      <th>3</th>\n",
       "      <td>./6_dims/</td>\n",
       "      <td>0.184977</td>\n",
       "      <td>0.153846</td>\n",
       "      <td>0.676009</td>\n",
       "      <td>0.596127</td>\n",
       "      <td>6</td>\n",
       "    </tr>\n",
       "    <tr>\n",
       "      <th>2</th>\n",
       "      <td>./7_dims/</td>\n",
       "      <td>0.216492</td>\n",
       "      <td>0.170715</td>\n",
       "      <td>0.624629</td>\n",
       "      <td>0.611091</td>\n",
       "      <td>7</td>\n",
       "    </tr>\n",
       "    <tr>\n",
       "      <th>7</th>\n",
       "      <td>./8_dims/</td>\n",
       "      <td>0.186227</td>\n",
       "      <td>0.168691</td>\n",
       "      <td>0.645336</td>\n",
       "      <td>0.589229</td>\n",
       "      <td>8</td>\n",
       "    </tr>\n",
       "    <tr>\n",
       "      <th>4</th>\n",
       "      <td>./9_dims/</td>\n",
       "      <td>0.167842</td>\n",
       "      <td>0.157895</td>\n",
       "      <td>0.658692</td>\n",
       "      <td>0.587877</td>\n",
       "      <td>9</td>\n",
       "    </tr>\n",
       "    <tr>\n",
       "      <th>1</th>\n",
       "      <td>./10_dims/</td>\n",
       "      <td>0.173395</td>\n",
       "      <td>0.172065</td>\n",
       "      <td>0.625322</td>\n",
       "      <td>0.582412</td>\n",
       "      <td>10</td>\n",
       "    </tr>\n",
       "    <tr>\n",
       "      <th>0</th>\n",
       "      <td>./11_dims/</td>\n",
       "      <td>0.098728</td>\n",
       "      <td>0.138327</td>\n",
       "      <td>0.622981</td>\n",
       "      <td>0.552470</td>\n",
       "      <td>11</td>\n",
       "    </tr>\n",
       "    <tr>\n",
       "      <th>9</th>\n",
       "      <td>./12_dims/</td>\n",
       "      <td>0.038709</td>\n",
       "      <td>0.148448</td>\n",
       "      <td>0.632259</td>\n",
       "      <td>0.507160</td>\n",
       "      <td>12</td>\n",
       "    </tr>\n",
       "  </tbody>\n",
       "</table>\n",
       "</div>"
      ],
      "text/plain": [
       "    unique_id  spearman_rho  top_k_recall      ndcg   roc_auc  replicate\n",
       "8   ./3_dims/      0.161216      0.152497  0.647502  0.579191          3\n",
       "6   ./4_dims/      0.145590      0.163968  0.620286  0.572604          4\n",
       "5   ./5_dims/      0.131367      0.165317  0.659463  0.564677          5\n",
       "3   ./6_dims/      0.184977      0.153846  0.676009  0.596127          6\n",
       "2   ./7_dims/      0.216492      0.170715  0.624629  0.611091          7\n",
       "7   ./8_dims/      0.186227      0.168691  0.645336  0.589229          8\n",
       "4   ./9_dims/      0.167842      0.157895  0.658692  0.587877          9\n",
       "1  ./10_dims/      0.173395      0.172065  0.625322  0.582412         10\n",
       "0  ./11_dims/      0.098728      0.138327  0.622981  0.552470         11\n",
       "9  ./12_dims/      0.038709      0.148448  0.632259  0.507160         12"
      ]
     },
     "execution_count": 2,
     "metadata": {},
     "output_type": "execute_result"
    }
   ],
   "source": [
    "\n",
    "#all_data = pd.read_csv(\"gb1_cluster_sampling_results.csv\")\n",
    "all_data = pd.concat(df_list, ignore_index=True)\n",
    "\n",
    "get_rep = lambda x: int(x.split(\"/\")[1].split(\"_\")[0])\n",
    "# get_ex = lambda x: x.split(\"/\")[1].split(\"_\")[1] \n",
    "\n",
    "rep = all_data[\"unique_id\"].apply(get_rep)\n",
    "# ext_prop = all_data[\"unique_id\"].apply(get_ex)\n",
    "all_data[\"replicate\"] = rep\n",
    "all_data.sort_values(by=\"replicate\", inplace=True)\n",
    "\n",
    "# all_data[\"extant_prop\"] = ext_prop\n",
    "\n",
    "# all_proportions = all_data[\"extant_prop\"].unique()\n",
    "# all_proportions.sort()\n",
    "\n",
    "#subsets = [all_data.loc[all_data[\"extant_prop\"] == prop] for prop in all_proportions]\n",
    "all_data"
   ]
  },
  {
   "cell_type": "code",
   "execution_count": 7,
   "id": "c1c9c854",
   "metadata": {},
   "outputs": [
    {
     "data": {
      "image/png": "[encoded data removed]",
      "text/plain": [
       "<Figure size 640x480 with 1 Axes>"
      ]
     },
     "metadata": {},
     "output_type": "display_data"
    },
    {
     "data": {
      "image/png": "[encoded data removed]",
      "text/plain": [
       "<Figure size 640x480 with 1 Axes>"
      ]
     },
     "metadata": {},
     "output_type": "display_data"
    },
    {
     "data": {
      "image/png": "[encoded data removed]",
      "text/plain": [
       "<Figure size 640x480 with 1 Axes>"
      ]
     },
     "metadata": {},
     "output_type": "display_data"
    },
    {
     "data": {
      "image/png": "[encoded data removed]",
      "text/plain": [
       "<Figure size 640x480 with 1 Axes>"
      ]
     },
     "metadata": {},
     "output_type": "display_data"
    }
   ],
   "source": [
    "import matplotlib.pyplot as plt\n",
    "\n",
    "plt.plot(all_data[\"replicate\"], all_data[\"roc_auc\"])\n",
    "plt.show()\n",
    "\n",
    "plt.plot(all_data[\"replicate\"], all_data[\"ndcg\"])\n",
    "plt.show()\n",
    "\n",
    "\n",
    "plt.plot(all_data[\"replicate\"], all_data[\"top_k_recall\"])\n",
    "plt.show()\n",
    "\n",
    "\n",
    "plt.plot(all_data[\"replicate\"], all_data[\"spearman_rho\"])\n",
    "plt.show()"
   ]
  },
  {
   "cell_type": "code",
   "execution_count": null,
   "id": "91ff738c",
   "metadata": {},
   "outputs": [],
   "source": []
  }
 ],
 "metadata": {
  "kernelspec": {
   "display_name": "embed",
   "language": "python",
   "name": "python3"
  },
  "language_info": {
   "codemirror_mode": {
    "name": "ipython",
    "version": 3
   },
   "file_extension": ".py",
   "mimetype": "text/x-python",
   "name": "python",
   "nbconvert_exporter": "python",
   "pygments_lexer": "ipython3",
   "version": "3.8.18"
  }
 },
 "nbformat": 4,
 "nbformat_minor": 5
}
