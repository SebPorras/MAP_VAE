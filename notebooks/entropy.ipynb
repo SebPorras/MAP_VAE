{
 "cells": [
  {
   "cell_type": "code",
   "execution_count": null,
   "metadata": {},
   "outputs": [],
   "source": [
    "import os\n",
    "import evoVAE.utils.seq_tools as st\n",
    "import evoVAE.utils.statistics as stats \n",
    "import numpy as np\n",
    "import pandas as pd\n",
    "print(os.getcwd())\n"
   ]
  },
  {
   "cell_type": "code",
   "execution_count": null,
   "metadata": {},
   "outputs": [],
   "source": [
    "PATH = \"/Users/sebs_mac/uni_OneDrive/honours/data/clustering_rnd_2_results/\"\n",
    "\n",
    "to_change = \"a4_0.0_replicates.csv\"\n",
    "\n",
    "df = pd.read_csv(PATH + to_change)\n",
    "\n",
    "new_df = pd.DataFrame({f\"rep_{i}\": [] for i in range(1,16)})\n",
    "df.head()"
   ]
  },
  {
   "cell_type": "code",
   "execution_count": null,
   "metadata": {},
   "outputs": [],
   "source": [
    "for idx, x in enumerate(df[\"indices\"]):\n",
    "    indices = [int(x.strip()) for x in x[1:-1].split(\",\")]\n",
    "    new_df[f\"rep_{idx + 1}\"] = indices\n",
    "\n",
    "new_df.head()"
   ]
  },
  {
   "cell_type": "code",
   "execution_count": null,
   "metadata": {},
   "outputs": [],
   "source": [
    "new_df.to_csv(\"\")"
   ]
  },
  {
   "cell_type": "code",
   "execution_count": null,
   "metadata": {},
   "outputs": [],
   "source": [
    "aln: pd.DataFrame = pd.read_pickle(\"/Users/sebs_mac/uni_OneDrive/honours/data/gb1/encoded_weighted/gb1_ancestors_extants_encoded_weighted_no_dupes.pkl\")\n",
    "aln = aln.drop_duplicates(subset=['sequence'])\n",
    "#aln = aln.sample(frac=0.2)\n",
    "aln.drop(columns=[\"encoding\", \"weights\"], inplace=True)\n",
    "aln.to_csv(\"/Users/sebs_mac/uni_OneDrive/honours/data/gb1/encoded_weighted/gb1_ancestors_extants_no_dupes.pkl\")"
   ]
  },
  {
   "cell_type": "code",
   "execution_count": null,
   "metadata": {},
   "outputs": [],
   "source": [
    "DATA_PATH = \"/Users/sebs_mac/git_repos/dms_data/DMS_msa_files/\"\n",
    "msa_files = os.listdir(DATA_PATH)\n",
    "metadata = \"/Users/sebs_mac/git_repos/dms_data/DMS_substitutions.csv\""
   ]
  },
  {
   "cell_type": "code",
   "execution_count": null,
   "metadata": {},
   "outputs": [],
   "source": [
    "meta = pd.read_csv(metadata)\n",
    "meta.head()"
   ]
  },
  {
   "cell_type": "code",
   "execution_count": null,
   "metadata": {},
   "outputs": [],
   "source": [
    "msa_files[0]"
   ]
  },
  {
   "cell_type": "code",
   "execution_count": null,
   "metadata": {},
   "outputs": [],
   "source": [
    "avg_entropies = []\n",
    "for msa in meta['MSA_filename']:\n",
    "    aln = st.read_aln_file(DATA_PATH + msa, encode=False)\n",
    "    h = stats.calc_shannon_entropy(aln)\n",
    "    avg_entropies.append(np.mean(h))    \n",
    "\n",
    "\n",
    "meta['entropy'] = avg_entropies"
   ]
  },
  {
   "cell_type": "code",
   "execution_count": null,
   "metadata": {},
   "outputs": [],
   "source": [
    "np.mean(h)"
   ]
  },
  {
   "cell_type": "code",
   "execution_count": null,
   "metadata": {},
   "outputs": [],
   "source": [
    "meta.to_csv(\"DMS_substitutions.csv\")"
   ]
  },
  {
   "cell_type": "code",
   "execution_count": null,
   "metadata": {},
   "outputs": [],
   "source": [
    "updated = pd.read_csv(\"../data/DMS_substitutions.csv\")\n",
    "updated[updated[\"DMS_id\"].str.contains(\"GFP\")][\"DMS_number_multiple_mutants\"]"
   ]
  },
  {
   "cell_type": "code",
   "execution_count": null,
   "metadata": {},
   "outputs": [],
   "source": [
    "import matplotlib.pyplot as plt\n",
    "\n",
    "\n",
    "small_msas = updated[(updated[\"MSA_num_seqs\"] < 30000) & (updated[\"MSA_num_seqs\"] >= 350)]\n",
    "sizes = (small_msas[\"DMS_number_multiple_mutants\"] + 1) * 0.1  # Adjust the multiplier as needed for better visualization\n",
    "\n",
    "fig = plt.figure(figsize=(12, 10))\n",
    "\n",
    "gb1 = updated[(updated[\"DMS_id\"] == \"SPG1_STRSG_Wu_2016\")]\n",
    "gfp = updated[(updated[\"DMS_id\"] == \"GFP_AEQVI_Sarkisyan_2016\")]\n",
    "a4_human = updated[(updated[\"DMS_id\"] == \"A4_HUMAN_Seuma_2022\")]\n",
    "mafg = updated[(updated[\"DMS_id\"] == \"MAFG_MOUSE_Tsuboyama_2023_1K1V\")]\n",
    "gcn4 = updated[(updated[\"DMS_id\"] == \"GCN4_YEAST_Staller_2018\")]\n",
    "\n",
    "\n",
    "size_gb1 = (gb1[\"DMS_number_multiple_mutants\"] + 1) * 0.1  # Adjust the multiplier as needed\n",
    "size_gfp = (gfp[\"DMS_number_multiple_mutants\"] + 1) * 0.1  # Adjust the multiplier as needed\n",
    "size_a4_human = (a4_human[\"DMS_number_multiple_mutants\"] + 1) * 0.1  # Adjust the multiplier as needed\n",
    "size_mafg = (mafg[\"DMS_number_multiple_mutants\"] + 1) * 0.1 # Adjust the multiplier as needed\n",
    "size_gcn4 = (gcn4[\"DMS_number_multiple_mutants\"] + 1) * 0.1 # Adjust the multiplier as needed\n",
    "\n",
    "\n",
    "\n",
    "plt.scatter(small_msas['MSA_num_seqs'], small_msas[\"entropy\"], s=sizes)\n",
    "\n",
    "\n",
    "#plt.scatter(gb1['MSA_num_seqs'], gb1[\"entropy\"], color='red', s=size_gb1, edgecolors='black')\n",
    "#plt.scatter(gfp['MSA_num_seqs'], gfp[\"entropy\"], color='green', s=size_gfp, edgecolors='black')\n",
    "#plt.scatter(a4_human['MSA_num_seqs'], a4_human[\"entropy\"], s=size_a4_human, color='yellow', edgecolors='black')\n",
    "#plt.scatter(mafg['MSA_num_seqs'], mafg[\"entropy\"], s=size_mafg, color='cyan', edgecolors='black')\n",
    "#plt.scatter(gcn4['MSA_num_seqs'], gcn4[\"entropy\"], s=size_gcn4, color='orange', edgecolors='black')\n",
    "\n",
    "\n",
    "# Custom legend entries with fixed sizes\n",
    "#plt.scatter([], [], color='red', label='GB1', s=100, edgecolors='black')\n",
    "#plt.scatter([], [], color='green', label='GFP', s=100, edgecolors='black')\n",
    "#plt.scatter([], [], color='yellow', label='A4_human', s=100, edgecolors='black')\n",
    "#plt.scatter([], [], color='cyan', label='MAFG_mouse', s=100, edgecolors='black')\n",
    "#plt.scatter([], [], color='orange', label='GCN4', s=100, edgecolors='black')\n",
    "\n",
    "plt.xlabel(\"MSA num seqs\")\n",
    "plt.ylabel(\"Entropy\")\n",
    "plt.title(\"Entropy vs Number of sequences (Size corresponds to number of multiple variants)\")\n",
    "plt.legend()\n",
    "plt.show()\n"
   ]
  },
  {
   "cell_type": "code",
   "execution_count": null,
   "metadata": {},
   "outputs": [],
   "source": [
    "test = small_msas[(small_msas['MSA_num_seqs'] > 300) & (small_msas['MSA_num_seqs'] < 10000)]\n",
    "test = test.drop(columns=[\"Unnamed: 0\"])\n",
    "test[[\"DMS_id\", \"MSA_num_seqs\", \"entropy\", \"seq_len\", \"DMS_number_multiple_mutants\", \"MSA_filename\"]].sort_values(by=\"entropy\")"
   ]
  },
  {
   "cell_type": "code",
   "execution_count": null,
   "metadata": {},
   "outputs": [],
   "source": [
    "import evoVAE.utils.seq_tools as st \n",
    "\n",
    "\n",
    "test = st.read_aln_file(\"/Users/sebs_mac/git_repos/dms_data/DMS_msa_files/A4_HUMAN_2023-08-07_b01.a2m\")"
   ]
  },
  {
   "cell_type": "code",
   "execution_count": null,
   "metadata": {},
   "outputs": [],
   "source": [
    "test.head()"
   ]
  },
  {
   "cell_type": "code",
   "execution_count": null,
   "metadata": {},
   "outputs": [],
   "source": [
    "st.write_fasta_file(\"A4_HUMAN.fasta\", test)"
   ]
  },
  {
   "cell_type": "code",
   "execution_count": null,
   "metadata": {},
   "outputs": [],
   "source": []
  },
  {
   "cell_type": "code",
   "execution_count": null,
   "metadata": {},
   "outputs": [],
   "source": [
    "point_1 = data[data[\"Sample\"].str.split(\"_\").str[0] == \"0.1\"]\n",
    "point_18 = data[data[\"Sample\"].str.split(\"_\").str[0] == \"0.18\"]\n",
    "point_3 = data[data[\"Sample\"].str.split(\"_\").str[0] == \"0.3\"]\n",
    "point_4 = data[data[\"Sample\"].str.split(\"_\").str[0] == \"0.4\"]\n",
    "point_5 = data[data[\"Sample\"].str.split(\"_\").str[0] == \"0.5\"]\n",
    "point_6 = data[data[\"Sample\"].str.split(\"_\").str[0] == \"0.6\"]\n",
    "point_7 = data[data[\"Sample\"].str.split(\"_\").str[0] == \"0.7\"]\n",
    "point_8 = data[data[\"Sample\"].str.split(\"_\").str[0] == \"0.8\"]\n",
    "point_9 = data[data[\"Sample\"].str.split(\"_\").str[0] == \"0.9\"]\n",
    "extant = data[data[\"Sample\"].str.contains(\"extants\")]\n"
   ]
  },
  {
   "cell_type": "code",
   "execution_count": null,
   "metadata": {},
   "outputs": [],
   "source": [
    "point_1"
   ]
  },
  {
   "cell_type": "code",
   "execution_count": null,
   "metadata": {},
   "outputs": [],
   "source": [
    "\n"
   ]
  },
  {
   "cell_type": "code",
   "execution_count": null,
   "metadata": {},
   "outputs": [],
   "source": []
  }
 ],
 "metadata": {
  "kernelspec": {
   "display_name": "embed",
   "language": "python",
   "name": "python3"
  },
  "language_info": {
   "codemirror_mode": {
    "name": "ipython",
    "version": 3
   },
   "file_extension": ".py",
   "mimetype": "text/x-python",
   "name": "python",
   "nbconvert_exporter": "python",
   "pygments_lexer": "ipython3",
   "version": "3.8.18"
  }
 },
 "nbformat": 4,
 "nbformat_minor": 2
}
