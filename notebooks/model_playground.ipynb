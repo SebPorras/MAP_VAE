{
 "cells": [
  {
   "cell_type": "code",
   "execution_count": 5,
   "metadata": {},
   "outputs": [],
   "source": [
    "import evoVAE.utils.seq_tools as st\n",
    "import evoVAE.utils.metrics as mt\n",
    "from evoVAE.models.seqVAE import SeqVAE\n",
    "from typing import List, Tuple\n",
    "from sklearn.model_selection import train_test_split\n",
    "import pandas as pd\n",
    "import torch\n",
    "import numpy as np\n",
    "import yaml\n",
    "from evoVAE.loss.standard_loss import KL_divergence, sequence_likelihood, elbo_importance_sampling\n"
   ]
  },
  {
   "cell_type": "markdown",
   "metadata": {},
   "source": []
  },
  {
   "cell_type": "markdown",
   "metadata": {},
   "source": [
    "This notebook can be used to test new features for a model without having to use the WandB service"
   ]
  },
  {
   "cell_type": "code",
   "execution_count": 2,
   "metadata": {},
   "outputs": [
    {
     "data": {
      "text/plain": [
       "SeqVAE(\n",
       "  (encoder): Sequential(\n",
       "    (0): Sequential(\n",
       "      (0): Linear(in_features=16170, out_features=256, bias=True)\n",
       "      (1): BatchNorm1d(256, eps=1e-05, momentum=0.1, affine=True, track_running_stats=True)\n",
       "      (2): Dropout(p=0.025, inplace=False)\n",
       "      (3): LeakyReLU(negative_slope=0.01)\n",
       "    )\n",
       "    (1): Sequential(\n",
       "      (0): Linear(in_features=256, out_features=128, bias=True)\n",
       "      (1): BatchNorm1d(128, eps=1e-05, momentum=0.1, affine=True, track_running_stats=True)\n",
       "      (2): Dropout(p=0.025, inplace=False)\n",
       "      (3): LeakyReLU(negative_slope=0.01)\n",
       "    )\n",
       "    (2): Sequential(\n",
       "      (0): Linear(in_features=128, out_features=64, bias=True)\n",
       "      (1): BatchNorm1d(64, eps=1e-05, momentum=0.1, affine=True, track_running_stats=True)\n",
       "      (2): Dropout(p=0.025, inplace=False)\n",
       "      (3): LeakyReLU(negative_slope=0.01)\n",
       "    )\n",
       "  )\n",
       "  (z_mu_sampler): Linear(in_features=64, out_features=3, bias=True)\n",
       "  (z_logvar_sampler): Linear(in_features=64, out_features=3, bias=True)\n",
       "  (upscale_z): Sequential(\n",
       "    (0): Linear(in_features=3, out_features=64, bias=True)\n",
       "    (1): BatchNorm1d(64, eps=1e-05, momentum=0.1, affine=True, track_running_stats=True)\n",
       "    (2): Dropout(p=0.025, inplace=False)\n",
       "    (3): LeakyReLU(negative_slope=0.01)\n",
       "  )\n",
       "  (decoder): Sequential(\n",
       "    (0): Sequential(\n",
       "      (0): Linear(in_features=64, out_features=128, bias=True)\n",
       "      (1): BatchNorm1d(128, eps=1e-05, momentum=0.1, affine=True, track_running_stats=True)\n",
       "      (2): Dropout(p=0.025, inplace=False)\n",
       "      (3): LeakyReLU(negative_slope=0.01)\n",
       "    )\n",
       "    (1): Sequential(\n",
       "      (0): Linear(in_features=128, out_features=256, bias=True)\n",
       "      (1): BatchNorm1d(256, eps=1e-05, momentum=0.1, affine=True, track_running_stats=True)\n",
       "      (2): Dropout(p=0.025, inplace=False)\n",
       "      (3): LeakyReLU(negative_slope=0.01)\n",
       "    )\n",
       "    (2): Sequential(\n",
       "      (0): Linear(in_features=256, out_features=16170, bias=True)\n",
       "      (1): BatchNorm1d(16170, eps=1e-05, momentum=0.1, affine=True, track_running_stats=True)\n",
       "      (2): LeakyReLU(negative_slope=0.01)\n",
       "    )\n",
       "  )\n",
       ")"
      ]
     },
     "execution_count": 2,
     "metadata": {},
     "output_type": "execute_result"
    }
   ],
   "source": [
    "with open(\"extant_config.yaml\", \"r\") as stream:\n",
    "    settings = yaml.safe_load(stream)\n",
    "\n",
    "seq_len = 770 # A4 Human length \n",
    "input_dims = seq_len * settings[\"AA_count\"]\n",
    "\n",
    "model = SeqVAE(\n",
    "    input_dims=input_dims,\n",
    "    latent_dims=settings[\"latent_dims\"],\n",
    "    hidden_dims=settings[\"hidden_dims\"],\n",
    "    config=settings,\n",
    ")\n",
    "\n",
    "device = \"cpu\"\n",
    "model.load_state_dict(torch.load(\"a4_extants_r1_model_state.pt\", map_location=device))\n",
    "model"
   ]
  },
  {
   "cell_type": "code",
   "execution_count": 3,
   "metadata": {},
   "outputs": [],
   "source": [
    "metadata = pd.read_csv(\"../data/DMS_substitutions.csv\")\n",
    "dms_data = pd.read_csv(\"A4_HUMAN_Seuma_2022.csv\")\n",
    "one_hot = dms_data[\"mutated_sequence\"].apply(st.seq_to_one_hot)\n",
    "dms_data[\"encoding\"] = one_hot\n",
    "\n"
   ]
  },
  {
   "cell_type": "markdown",
   "metadata": {},
   "source": []
  },
  {
   "cell_type": "code",
   "execution_count": 4,
   "metadata": {},
   "outputs": [],
   "source": [
    "from evoVAE.utils.datasets import DMS_Dataset\n",
    "\n",
    "dms_dataset = DMS_Dataset(dms_data[\"encoding\"], dms_data[\"mutant\"], dms_data[\"DMS_score\"], dms_data[\"DMS_score_bin\"])\n",
    "dms_loader = torch.utils.data.DataLoader(\n",
    "    dms_dataset, batch_size=1, shuffle=True\n",
    ")"
   ]
  },
  {
   "cell_type": "code",
   "execution_count": null,
   "metadata": {},
   "outputs": [
    {
     "data": {
      "text/plain": [
       "torch.Size([770, 21])"
      ]
     },
     "execution_count": 5,
     "metadata": {},
     "output_type": "execute_result"
    }
   ],
   "source": [
    "wild_type_hot = st.seq_to_one_hot(metadata[metadata[\"DMS_id\"] == \"A4_HUMAN_Seuma_2022\"][\"target_seq\"].values[0])\n",
    "# add dim to the front to allow model to process it\n",
    "wild_type_hot = torch.Tensor(wild_type_hot)\n",
    "wild_type_hot.shape"
   ]
  },
  {
   "cell_type": "code",
   "execution_count": null,
   "metadata": {},
   "outputs": [
    {
     "name": "stdout",
     "output_type": "stream",
     "text": [
      "torch.Size([3, 770, 21])\n",
      "torch.Size([3, 770, 21])\n",
      "torch.Size([3, 770, 21])\n",
      "torch.Size([3, 770, 21])\n",
      "torch.Size([3, 770, 21])\n"
     ]
    }
   ],
   "source": [
    "\n",
    "# encode the wild type\n",
    "n_samples = 3\n",
    "\n",
    "model.eval()\n",
    "actual_fitness = []\n",
    "actual_fitness_binned = []\n",
    "predicted_fitness = []\n",
    "ids = []\n",
    "count = 0\n",
    "with torch.no_grad():\n",
    "\n",
    "    wt_elbo_mean = elbo_importance_sampling(model, wild_type_hot, n_samples)\n",
    "\n",
    "    for variant_encoding, variant_id, score, score_bin in dms_loader:\n",
    "\n",
    "        variant_encoding = variant_encoding.float().to(device)\n",
    "        variant_elbo_mean = elbo_importance_sampling(\n",
    "            model, variant_encoding, n_samples\n",
    "        )\n",
    "\n",
    "        pred_fitness = variant_elbo_mean - wt_elbo_mean\n",
    "\n",
    "        predicted_fitness.append(pred_fitness.item())\n",
    "        actual_fitness.append(score.item())\n",
    "        actual_fitness_binned.append(score_bin.item())\n",
    "        ids.append(variant_id[0])\n",
    "\n",
    "\n",
    "\n",
    "\n"
   ]
  },
  {
   "cell_type": "code",
   "execution_count": null,
   "metadata": {},
   "outputs": [
    {
     "data": {
      "text/plain": [
       "([-5.13664821016175, -0.538036214384878, -5.29969629931686, -0.20128247286108],\n",
       " [-11.707142882755875,\n",
       "  -3.5574731605132683,\n",
       "  -16.21157337333318,\n",
       "  -8.225805559365085],\n",
       " [0, 1, 0, 1],\n",
       " 'G709V:I712L')"
      ]
     },
     "execution_count": 10,
     "metadata": {},
     "output_type": "execute_result"
    }
   ],
   "source": [
    "actual_fitness, predicted_fitness, actual_fitness_binned, ids[0]"
   ]
  },
  {
   "cell_type": "markdown",
   "metadata": {},
   "source": [
    "### Tanh VAE"
   ]
  },
  {
   "cell_type": "code",
   "execution_count": 8,
   "metadata": {},
   "outputs": [
    {
     "data": {
      "text/plain": [
       "torch.Size([770, 21])"
      ]
     },
     "execution_count": 8,
     "metadata": {},
     "output_type": "execute_result"
    }
   ],
   "source": [
    "from evoVAE.models.tanh_vae import tanhVAE\n",
    "\n",
    "metadata = pd.read_csv(\"../data/DMS_substitutions.csv\")\n",
    "dms_data = pd.read_csv(\"A4_HUMAN_Seuma_2022.csv\")\n",
    "one_hot = dms_data[\"mutated_sequence\"].apply(st.seq_to_one_hot)\n",
    "dms_data[\"encoding\"] = one_hot\n",
    "\n",
    "wild_type_hot = st.seq_to_one_hot(metadata[metadata[\"DMS_id\"] == \"A4_HUMAN_Seuma_2022\"][\"target_seq\"].values[0])\n",
    "# add dim to the front to allow model to process it\n",
    "wild_type_hot = torch.Tensor(wild_type_hot)\n",
    "wild_type_hot.shape"
   ]
  },
  {
   "cell_type": "code",
   "execution_count": 7,
   "metadata": {},
   "outputs": [
    {
     "data": {
      "text/plain": [
       "tanhVAE(\n",
       "  (encoder_linears): ModuleList(\n",
       "    (0): Linear(in_features=16170, out_features=150, bias=True)\n",
       "    (1): Linear(in_features=150, out_features=150, bias=True)\n",
       "  )\n",
       "  (encoder_mu): Linear(in_features=150, out_features=2, bias=True)\n",
       "  (encoder_logsigma): Linear(in_features=150, out_features=2, bias=True)\n",
       "  (decoder_linears): ModuleList(\n",
       "    (0): Linear(in_features=2, out_features=150, bias=True)\n",
       "    (1): Linear(in_features=150, out_features=150, bias=True)\n",
       "    (2): Linear(in_features=150, out_features=16170, bias=True)\n",
       "  )\n",
       ")"
      ]
     },
     "execution_count": 7,
     "metadata": {},
     "output_type": "execute_result"
    }
   ],
   "source": [
    "\n",
    "\n",
    "seq_len = 770 # A4 Human length \n",
    "input_dims = seq_len * 21 # Protein alpha + gap char \n",
    "\n",
    "model = tanhVAE(dim_latent_vars=2, dim_msa_vars=input_dims, num_hidden_units=[150, 150])\n",
    "model"
   ]
  },
  {
   "cell_type": "code",
   "execution_count": 18,
   "metadata": {},
   "outputs": [
    {
     "name": "stdout",
     "output_type": "stream",
     "text": [
      "()\n",
      "torch.Size([16170, 1])\n"
     ]
    }
   ],
   "source": [
    "x= wild_type_hot.flatten()\n",
    "\n",
    "final_shape = tuple(x.shape[0:-1])\n",
    "print(final_shape)\n",
    "x = torch.unsqueeze(x, -1)\n",
    "print(x.shape)\n",
    "x = x.view(final_shape + (-1, 21))"
   ]
  },
  {
   "cell_type": "code",
   "execution_count": 17,
   "metadata": {},
   "outputs": [
    {
     "data": {
      "text/plain": [
       "torch.Size([770, 21])"
      ]
     },
     "execution_count": 17,
     "metadata": {},
     "output_type": "execute_result"
    }
   ],
   "source": [
    "x.shape"
   ]
  },
  {
   "cell_type": "code",
   "execution_count": null,
   "metadata": {},
   "outputs": [],
   "source": []
  }
 ],
 "metadata": {
  "kernelspec": {
   "display_name": "embed",
   "language": "python",
   "name": "python3"
  },
  "language_info": {
   "codemirror_mode": {
    "name": "ipython",
    "version": 3
   },
   "file_extension": ".py",
   "mimetype": "text/x-python",
   "name": "python",
   "nbconvert_exporter": "python",
   "pygments_lexer": "ipython3",
   "version": "3.8.18"
  }
 },
 "nbformat": 4,
 "nbformat_minor": 2
}
