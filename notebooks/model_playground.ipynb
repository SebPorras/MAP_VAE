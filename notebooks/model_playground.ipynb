{
 "cells": [
  {
   "cell_type": "code",
   "execution_count": 1,
   "metadata": {},
   "outputs": [],
   "source": [
    "import evoVAE.utils.seq_tools as st\n",
    "import evoVAE.utils.metrics as mt\n",
    "from evoVAE.models.seqVAE import SeqVAE\n",
    "from typing import List, Tuple\n",
    "from sklearn.model_selection import train_test_split\n",
    "import pandas as pd\n",
    "import torch\n",
    "import numpy as np\n",
    "import yaml\n",
    "from evoVAE.loss.standard_loss import KL_divergence, sequence_likelihood\n"
   ]
  },
  {
   "cell_type": "markdown",
   "metadata": {},
   "source": []
  },
  {
   "cell_type": "markdown",
   "metadata": {},
   "source": [
    "This notebook can be used to test new features for a model without having to use the WandB service"
   ]
  },
  {
   "cell_type": "code",
   "execution_count": 2,
   "metadata": {},
   "outputs": [
    {
     "data": {
      "text/plain": [
       "SeqVAE(\n",
       "  (encoder): Sequential(\n",
       "    (0): Sequential(\n",
       "      (0): Linear(in_features=16170, out_features=256, bias=True)\n",
       "      (1): BatchNorm1d(256, eps=1e-05, momentum=0.1, affine=True, track_running_stats=True)\n",
       "      (2): Dropout(p=0.025, inplace=False)\n",
       "      (3): LeakyReLU(negative_slope=0.01)\n",
       "    )\n",
       "    (1): Sequential(\n",
       "      (0): Linear(in_features=256, out_features=128, bias=True)\n",
       "      (1): BatchNorm1d(128, eps=1e-05, momentum=0.1, affine=True, track_running_stats=True)\n",
       "      (2): Dropout(p=0.025, inplace=False)\n",
       "      (3): LeakyReLU(negative_slope=0.01)\n",
       "    )\n",
       "    (2): Sequential(\n",
       "      (0): Linear(in_features=128, out_features=64, bias=True)\n",
       "      (1): BatchNorm1d(64, eps=1e-05, momentum=0.1, affine=True, track_running_stats=True)\n",
       "      (2): Dropout(p=0.025, inplace=False)\n",
       "      (3): LeakyReLU(negative_slope=0.01)\n",
       "    )\n",
       "  )\n",
       "  (z_mu_sampler): Linear(in_features=64, out_features=3, bias=True)\n",
       "  (z_logvar_sampler): Linear(in_features=64, out_features=3, bias=True)\n",
       "  (upscale_z): Sequential(\n",
       "    (0): Linear(in_features=3, out_features=64, bias=True)\n",
       "    (1): BatchNorm1d(64, eps=1e-05, momentum=0.1, affine=True, track_running_stats=True)\n",
       "    (2): Dropout(p=0.025, inplace=False)\n",
       "    (3): LeakyReLU(negative_slope=0.01)\n",
       "  )\n",
       "  (decoder): Sequential(\n",
       "    (0): Sequential(\n",
       "      (0): Linear(in_features=64, out_features=128, bias=True)\n",
       "      (1): BatchNorm1d(128, eps=1e-05, momentum=0.1, affine=True, track_running_stats=True)\n",
       "      (2): Dropout(p=0.025, inplace=False)\n",
       "      (3): LeakyReLU(negative_slope=0.01)\n",
       "    )\n",
       "    (1): Sequential(\n",
       "      (0): Linear(in_features=128, out_features=256, bias=True)\n",
       "      (1): BatchNorm1d(256, eps=1e-05, momentum=0.1, affine=True, track_running_stats=True)\n",
       "      (2): Dropout(p=0.025, inplace=False)\n",
       "      (3): LeakyReLU(negative_slope=0.01)\n",
       "    )\n",
       "    (2): Sequential(\n",
       "      (0): Linear(in_features=256, out_features=16170, bias=True)\n",
       "      (1): BatchNorm1d(16170, eps=1e-05, momentum=0.1, affine=True, track_running_stats=True)\n",
       "      (2): LeakyReLU(negative_slope=0.01)\n",
       "    )\n",
       "  )\n",
       ")"
      ]
     },
     "execution_count": 2,
     "metadata": {},
     "output_type": "execute_result"
    }
   ],
   "source": [
    "with open(\"extant_config.yaml\", \"r\") as stream:\n",
    "    settings = yaml.safe_load(stream)\n",
    "\n",
    "seq_len = 770 # A4 Human length \n",
    "input_dims = seq_len * settings[\"AA_count\"]\n",
    "\n",
    "model = SeqVAE(\n",
    "    input_dims=input_dims,\n",
    "    latent_dims=settings[\"latent_dims\"],\n",
    "    hidden_dims=settings[\"hidden_dims\"],\n",
    "    config=settings,\n",
    ")\n",
    "\n",
    "device = \"cpu\"\n",
    "model.load_state_dict(torch.load(\"a4_extants_r1_model_state.pt\", map_location=device))\n",
    "model"
   ]
  },
  {
   "cell_type": "code",
   "execution_count": 3,
   "metadata": {},
   "outputs": [],
   "source": [
    "metadata = pd.read_csv(\"../data/DMS_substitutions.csv\")\n",
    "dms_data = pd.read_csv(\"A4_HUMAN_Seuma_2022.csv\")\n",
    "one_hot = dms_data[\"mutated_sequence\"].apply(st.seq_to_one_hot)\n",
    "dms_data[\"encoding\"] = one_hot\n",
    "\n",
    "wild_type = metadata[metadata[\"DMS_id\"] == \"A4_HUMAN_Seuma_2022\"][\"target_seq\"].to_numpy()[0]\n",
    "\n"
   ]
  },
  {
   "cell_type": "markdown",
   "metadata": {},
   "source": []
  },
  {
   "cell_type": "code",
   "execution_count": 4,
   "metadata": {},
   "outputs": [],
   "source": [
    "from evoVAE.utils.datasets import DMS_Dataset\n",
    "\n",
    "dms_dataset = DMS_Dataset(dms_data[\"encoding\"], dms_data[\"mutant\"], dms_data[\"DMS_score\"])\n",
    "dms_loader = torch.utils.data.DataLoader(\n",
    "    dms_dataset, batch_size=1, shuffle=True\n",
    ")"
   ]
  },
  {
   "cell_type": "code",
   "execution_count": 37,
   "metadata": {},
   "outputs": [
    {
     "name": "stdout",
     "output_type": "stream",
     "text": [
      "('E674G:V689A',)\n",
      "-10.30810546875 -0.325331966967053\n"
     ]
    }
   ],
   "source": [
    "from torch import Tensor\n",
    "\n",
    "def mean_elbo(one_hot_encoding: torch.Tensor, n_samples):\n",
    "\n",
    "    one_hot_encoding = one_hot_encoding.expand(n_samples, -1, -1)\n",
    "\n",
    "    wt_log_p, wt_z_sample, wt_z_mu, wt_z_logvar = model(one_hot_encoding)\n",
    "\n",
    "    kld = KL_divergence(wt_z_mu, wt_z_logvar, None, None)\n",
    "\n",
    "    log_PxGz = sequence_likelihood(wild_one_hot, wt_log_p)\n",
    "\n",
    "    wt_elbo = (-1) * (log_PxGz - kld)\n",
    "    wt_elbo_mean = wt_elbo.mean()\n",
    "    \n",
    "    return wt_elbo_mean\n",
    "\n",
    "n_samples = 3\n",
    "wild_one_hot = torch.Tensor(st.seq_to_one_hot(wild_type)).unsqueeze(0).float()\n",
    "\n",
    "model.eval()\n",
    "test = []\n",
    "with torch.no_grad():\n",
    "\n",
    "    wt_elbo_mean = mean_elbo(wild_one_hot, n_samples)\n",
    "\n",
    "    for variant_encoding, variant_id, score in dms_loader:\n",
    "        print(variant_id)\n",
    "\n",
    "        variant_encoding = variant_encoding.float().to(device)        \n",
    "        variant_elbo_mean = mean_elbo(variant_encoding, n_samples)\n",
    "\n",
    "        pred_fitness = variant_elbo_mean - wt_elbo_mean\n",
    "        print(pred_fitness.item(), score.item())\n",
    "        test.append(score.item())\n",
    "\n",
    "\n",
    "        break\n",
    "\n",
    "\n",
    "\n",
    "\n",
    "\n",
    "\n"
   ]
  }
 ],
 "metadata": {
  "kernelspec": {
   "display_name": "embed",
   "language": "python",
   "name": "python3"
  },
  "language_info": {
   "codemirror_mode": {
    "name": "ipython",
    "version": 3
   },
   "file_extension": ".py",
   "mimetype": "text/x-python",
   "name": "python",
   "nbconvert_exporter": "python",
   "pygments_lexer": "ipython3",
   "version": "3.8.18"
  }
 },
 "nbformat": 4,
 "nbformat_minor": 2
}
