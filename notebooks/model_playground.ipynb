{
 "cells": [
  {
   "cell_type": "code",
   "execution_count": 5,
   "metadata": {},
   "outputs": [],
   "source": [
    "import evoVAE.utils.seq_tools as st\n",
    "import evoVAE.utils.metrics as mt\n",
    "from evoVAE.models.seqVAE import SeqVAE\n",
    "from typing import List, Tuple\n",
    "from sklearn.model_selection import train_test_split\n",
    "import pandas as pd\n",
    "import torch\n",
    "import numpy as np\n",
    "import yaml\n",
    "from evoVAE.loss.standard_loss import KL_divergence, sequence_likelihood, elbo_importance_sampling\n"
   ]
  },
  {
   "cell_type": "markdown",
   "metadata": {},
   "source": []
  },
  {
   "cell_type": "markdown",
   "metadata": {},
   "source": [
    "This notebook can be used to test new features for a model without having to use the WandB service"
   ]
  },
  {
   "cell_type": "code",
   "execution_count": 2,
   "metadata": {},
   "outputs": [
    {
     "data": {
      "text/plain": [
       "SeqVAE(\n",
       "  (encoder): Sequential(\n",
       "    (0): Sequential(\n",
       "      (0): Linear(in_features=16170, out_features=256, bias=True)\n",
       "      (1): BatchNorm1d(256, eps=1e-05, momentum=0.1, affine=True, track_running_stats=True)\n",
       "      (2): Dropout(p=0.025, inplace=False)\n",
       "      (3): LeakyReLU(negative_slope=0.01)\n",
       "    )\n",
       "    (1): Sequential(\n",
       "      (0): Linear(in_features=256, out_features=128, bias=True)\n",
       "      (1): BatchNorm1d(128, eps=1e-05, momentum=0.1, affine=True, track_running_stats=True)\n",
       "      (2): Dropout(p=0.025, inplace=False)\n",
       "      (3): LeakyReLU(negative_slope=0.01)\n",
       "    )\n",
       "    (2): Sequential(\n",
       "      (0): Linear(in_features=128, out_features=64, bias=True)\n",
       "      (1): BatchNorm1d(64, eps=1e-05, momentum=0.1, affine=True, track_running_stats=True)\n",
       "      (2): Dropout(p=0.025, inplace=False)\n",
       "      (3): LeakyReLU(negative_slope=0.01)\n",
       "    )\n",
       "  )\n",
       "  (z_mu_sampler): Linear(in_features=64, out_features=3, bias=True)\n",
       "  (z_logvar_sampler): Linear(in_features=64, out_features=3, bias=True)\n",
       "  (upscale_z): Sequential(\n",
       "    (0): Linear(in_features=3, out_features=64, bias=True)\n",
       "    (1): BatchNorm1d(64, eps=1e-05, momentum=0.1, affine=True, track_running_stats=True)\n",
       "    (2): Dropout(p=0.025, inplace=False)\n",
       "    (3): LeakyReLU(negative_slope=0.01)\n",
       "  )\n",
       "  (decoder): Sequential(\n",
       "    (0): Sequential(\n",
       "      (0): Linear(in_features=64, out_features=128, bias=True)\n",
       "      (1): BatchNorm1d(128, eps=1e-05, momentum=0.1, affine=True, track_running_stats=True)\n",
       "      (2): Dropout(p=0.025, inplace=False)\n",
       "      (3): LeakyReLU(negative_slope=0.01)\n",
       "    )\n",
       "    (1): Sequential(\n",
       "      (0): Linear(in_features=128, out_features=256, bias=True)\n",
       "      (1): BatchNorm1d(256, eps=1e-05, momentum=0.1, affine=True, track_running_stats=True)\n",
       "      (2): Dropout(p=0.025, inplace=False)\n",
       "      (3): LeakyReLU(negative_slope=0.01)\n",
       "    )\n",
       "    (2): Sequential(\n",
       "      (0): Linear(in_features=256, out_features=16170, bias=True)\n",
       "      (1): BatchNorm1d(16170, eps=1e-05, momentum=0.1, affine=True, track_running_stats=True)\n",
       "      (2): LeakyReLU(negative_slope=0.01)\n",
       "    )\n",
       "  )\n",
       ")"
      ]
     },
     "execution_count": 2,
     "metadata": {},
     "output_type": "execute_result"
    }
   ],
   "source": [
    "with open(\"extant_config.yaml\", \"r\") as stream:\n",
    "    settings = yaml.safe_load(stream)\n",
    "\n",
    "seq_len = 770 # A4 Human length \n",
    "input_dims = seq_len * settings[\"AA_count\"]\n",
    "\n",
    "model = SeqVAE(\n",
    "    input_dims=input_dims,\n",
    "    latent_dims=settings[\"latent_dims\"],\n",
    "    hidden_dims=settings[\"hidden_dims\"],\n",
    "    config=settings,\n",
    ")\n",
    "\n",
    "device = \"cpu\"\n",
    "model.load_state_dict(torch.load(\"a4_extants_r1_model_state.pt\", map_location=device))\n",
    "model"
   ]
  },
  {
   "cell_type": "code",
   "execution_count": 3,
   "metadata": {},
   "outputs": [],
   "source": [
    "metadata = pd.read_csv(\"../data/DMS_substitutions.csv\")\n",
    "dms_data = pd.read_csv(\"A4_HUMAN_Seuma_2022.csv\")\n",
    "one_hot = dms_data[\"mutated_sequence\"].apply(st.seq_to_one_hot)\n",
    "dms_data[\"encoding\"] = one_hot\n",
    "\n"
   ]
  },
  {
   "cell_type": "markdown",
   "metadata": {},
   "source": []
  },
  {
   "cell_type": "code",
   "execution_count": 4,
   "metadata": {},
   "outputs": [],
   "source": [
    "from evoVAE.utils.datasets import DMS_Dataset\n",
    "\n",
    "dms_dataset = DMS_Dataset(dms_data[\"encoding\"], dms_data[\"mutant\"], dms_data[\"DMS_score\"], dms_data[\"DMS_score_bin\"])\n",
    "dms_loader = torch.utils.data.DataLoader(\n",
    "    dms_dataset, batch_size=1, shuffle=True\n",
    ")"
   ]
  },
  {
   "cell_type": "code",
   "execution_count": null,
   "metadata": {},
   "outputs": [
    {
     "data": {
      "text/plain": [
       "torch.Size([770, 21])"
      ]
     },
     "execution_count": 5,
     "metadata": {},
     "output_type": "execute_result"
    }
   ],
   "source": [
    "wild_type_hot = st.seq_to_one_hot(metadata[metadata[\"DMS_id\"] == \"A4_HUMAN_Seuma_2022\"][\"target_seq\"].values[0])\n",
    "# add dim to the front to allow model to process it\n",
    "wild_type_hot = torch.Tensor(wild_type_hot)\n",
    "wild_type_hot.shape"
   ]
  },
  {
   "cell_type": "code",
   "execution_count": null,
   "metadata": {},
   "outputs": [
    {
     "name": "stdout",
     "output_type": "stream",
     "text": [
      "torch.Size([3, 770, 21])\n",
      "torch.Size([3, 770, 21])\n",
      "torch.Size([3, 770, 21])\n",
      "torch.Size([3, 770, 21])\n",
      "torch.Size([3, 770, 21])\n"
     ]
    }
   ],
   "source": [
    "\n",
    "# encode the wild type\n",
    "n_samples = 3\n",
    "\n",
    "model.eval()\n",
    "actual_fitness = []\n",
    "actual_fitness_binned = []\n",
    "predicted_fitness = []\n",
    "ids = []\n",
    "count = 0\n",
    "with torch.no_grad():\n",
    "\n",
    "    wt_elbo_mean = elbo_importance_sampling(model, wild_type_hot, n_samples)\n",
    "\n",
    "    for variant_encoding, variant_id, score, score_bin in dms_loader:\n",
    "\n",
    "        variant_encoding = variant_encoding.float().to(device)\n",
    "        variant_elbo_mean = elbo_importance_sampling(\n",
    "            model, variant_encoding, n_samples\n",
    "        )\n",
    "\n",
    "        pred_fitness = variant_elbo_mean - wt_elbo_mean\n",
    "\n",
    "        predicted_fitness.append(pred_fitness.item())\n",
    "        actual_fitness.append(score.item())\n",
    "        actual_fitness_binned.append(score_bin.item())\n",
    "        ids.append(variant_id[0])\n",
    "\n",
    "\n",
    "\n",
    "\n"
   ]
  },
  {
   "cell_type": "code",
   "execution_count": null,
   "metadata": {},
   "outputs": [
    {
     "data": {
      "text/plain": [
       "([-5.13664821016175, -0.538036214384878, -5.29969629931686, -0.20128247286108],\n",
       " [-11.707142882755875,\n",
       "  -3.5574731605132683,\n",
       "  -16.21157337333318,\n",
       "  -8.225805559365085],\n",
       " [0, 1, 0, 1],\n",
       " 'G709V:I712L')"
      ]
     },
     "execution_count": 10,
     "metadata": {},
     "output_type": "execute_result"
    }
   ],
   "source": [
    "actual_fitness, predicted_fitness, actual_fitness_binned, ids[0]"
   ]
  },
  {
   "cell_type": "markdown",
   "metadata": {},
   "source": [
    "### Tanh VAE"
   ]
  },
  {
   "cell_type": "code",
   "execution_count": 8,
   "metadata": {},
   "outputs": [
    {
     "data": {
      "text/plain": [
       "torch.Size([770, 21])"
      ]
     },
     "execution_count": 8,
     "metadata": {},
     "output_type": "execute_result"
    }
   ],
   "source": [
    "from evoVAE.models.tanh_vae import tanhVAE\n",
    "\n",
    "metadata = pd.read_csv(\"../data/DMS_substitutions.csv\")\n",
    "dms_data = pd.read_csv(\"A4_HUMAN_Seuma_2022.csv\")\n",
    "one_hot = dms_data[\"mutated_sequence\"].apply(st.seq_to_one_hot)\n",
    "dms_data[\"encoding\"] = one_hot\n",
    "\n",
    "wild_type_hot = st.seq_to_one_hot(metadata[metadata[\"DMS_id\"] == \"A4_HUMAN_Seuma_2022\"][\"target_seq\"].values[0])\n",
    "# add dim to the front to allow model to process it\n",
    "wild_type_hot = torch.Tensor(wild_type_hot)\n",
    "wild_type_hot.shape"
   ]
  },
  {
   "cell_type": "code",
   "execution_count": 91,
   "metadata": {},
   "outputs": [
    {
     "name": "stdout",
     "output_type": "stream",
     "text": [
      "Sequence weight numpy array created with shape (num_seqs, columns):  (673, 238)\n"
     ]
    }
   ],
   "source": [
    "path = \"/Users/sebs_mac/uni_OneDrive/honours/data/gfp_alns/independent_runs/no_synthetic/alns/\"\n",
    "\n",
    "ancestors_extants_aln = pd.read_pickle(path + \"GFP_AEQVI_full_04-29-2022_b08_ancestors_extants_no_syn_no_dupes.pkl\")\n",
    "\n",
    "numpy_aln, _, _ = st.convert_msa_numpy_array(ancestors_extants_aln)\n",
    "weights = st.position_based_seq_weighting(numpy_aln, n_processes=8)\n",
    "#weights = st.reweight_by_seq_similarity(numpy_aln, 0.2)\n",
    "ancestors_extants_aln[\"weights\"] = weights\n",
    "# one-hot encode\n",
    "one_hot = ancestors_extants_aln[\"sequence\"].apply(st.seq_to_one_hot)\n",
    "ancestors_extants_aln[\"encoding\"] = one_hot"
   ]
  },
  {
   "cell_type": "code",
   "execution_count": 97,
   "metadata": {},
   "outputs": [],
   "source": [
    "from evoVAE.utils.datasets import MSA_Dataset\n",
    "\n",
    "ancestors_extants_aln.head()\n",
    "\n",
    "train, val = train_test_split(ancestors_extants_aln, test_size=0.2)\n",
    "\n",
    "\n",
    "\n",
    "train_dataset = MSA_Dataset(train[\"encoding\"], train[\"weights\"], train[\"id\"])\n",
    "train_loader = torch.utils.data.DataLoader(\n",
    "    train_dataset, batch_size=10, shuffle=True\n",
    ")"
   ]
  },
  {
   "cell_type": "code",
   "execution_count": 98,
   "metadata": {},
   "outputs": [
    {
     "data": {
      "text/plain": [
       "tanhVAE(\n",
       "  (encoder_linears): ModuleList(\n",
       "    (0): Linear(in_features=4998, out_features=150, bias=True)\n",
       "    (1): Linear(in_features=150, out_features=150, bias=True)\n",
       "  )\n",
       "  (encoder_mu): Linear(in_features=150, out_features=2, bias=True)\n",
       "  (encoder_logsigma): Linear(in_features=150, out_features=2, bias=True)\n",
       "  (decoder_linears): ModuleList(\n",
       "    (0): Linear(in_features=2, out_features=150, bias=True)\n",
       "    (1): Linear(in_features=150, out_features=150, bias=True)\n",
       "    (2): Linear(in_features=150, out_features=4998, bias=True)\n",
       "  )\n",
       ")"
      ]
     },
     "execution_count": 98,
     "metadata": {},
     "output_type": "execute_result"
    }
   ],
   "source": [
    "\n",
    "\n",
    "seq_len = 238 # A4 Human length \n",
    "input_dims = seq_len * 21 # Protein alpha + gap char \n",
    "\n",
    "model = tanhVAE(dim_latent_vars=2, dim_msa_vars=input_dims, num_hidden_units=[150, 150])\n",
    "model"
   ]
  },
  {
   "cell_type": "code",
   "execution_count": 125,
   "metadata": {},
   "outputs": [
    {
     "name": "stdout",
     "output_type": "stream",
     "text": [
      "tensor([0.0301, 0.0216, 0.0402, 0.0387, 0.0572, 0.1265, 0.0174, 0.0838, 0.0202,\n",
      "        0.5645], dtype=torch.float64)\n",
      "tensor([-728.7629, -727.6421, -726.7874, -729.8826, -731.9568, -724.7950,\n",
      "        -728.0815, -728.0460, -726.5470, -728.5621], dtype=torch.float64,\n",
      "       grad_fn=<SubBackward0>)\n",
      "tensor([ -21.9687,  -15.7301,  -29.1814,  -28.2138,  -41.8637,  -91.6569,\n",
      "         -12.6578,  -60.9740,  -14.6451, -411.2620], dtype=torch.float64,\n",
      "       grad_fn=<MulBackward0>)\n",
      "728.1536274991734\n"
     ]
    }
   ],
   "source": [
    "\n",
    "for x, weights, _ in train_loader:\n",
    "    x = torch.flatten(x, start_dim=1)\n",
    "    mu, sigma  = model.encoder(x)\n",
    "    eps = torch.randn_like(sigma)\n",
    "    z = mu + sigma * eps\n",
    "\n",
    "    log_p = model.decoder(z)\n",
    "    log_PxGz = torch.sum(x * log_p, -1)\n",
    "\n",
    "    c = 1 / 2\n",
    "\n",
    "    # compute elbo\n",
    "    elbo = log_PxGz - torch.sum(\n",
    "        c * (sigma**2 + mu**2 - 2 * torch.log(sigma) - 1), -1\n",
    "    )\n",
    "\n",
    "    weight = weights / torch.sum(weights)\n",
    "    print(weight)\n",
    "    print(elbo)\n",
    "    print(elbo * weight)\n",
    "    elbo = torch.sum(elbo * weight)\n",
    "    print(elbo.item() * -1)\n",
    "\n",
    "    break\n"
   ]
  },
  {
   "cell_type": "code",
   "execution_count": 124,
   "metadata": {},
   "outputs": [
    {
     "data": {
      "text/plain": [
       "tensor([-729.8930, -726.8428, -728.5695, -726.7931, -722.4523, -723.6292,\n",
       "        -731.6121, -724.1678, -724.1612, -728.6300], dtype=torch.float64,\n",
       "       grad_fn=<SumBackward1>)"
      ]
     },
     "execution_count": 124,
     "metadata": {},
     "output_type": "execute_result"
    }
   ],
   "source": [
    "torch.sum(log_p * x, -1)"
   ]
  },
  {
   "cell_type": "code",
   "execution_count": 103,
   "metadata": {},
   "outputs": [],
   "source": [
    "wt = metadata[metadata[\"DMS_id\"] == \"A4_HUMAN_Seuma_2022\"][\"target_seq\"].values[0]\n",
    "# add dim to the front to allow model to process it\n",
    "wild_one_hot = torch.Tensor(st.seq_to_one_hot(wt)).unsqueeze(0).float()"
   ]
  },
  {
   "cell_type": "code",
   "execution_count": 38,
   "metadata": {},
   "outputs": [
    {
     "data": {
      "text/plain": [
       "torch.Size([1, 770, 21])"
      ]
     },
     "execution_count": 38,
     "metadata": {},
     "output_type": "execute_result"
    }
   ],
   "source": [
    "wild_one_hot.shape"
   ]
  },
  {
   "cell_type": "code",
   "execution_count": 43,
   "metadata": {},
   "outputs": [
    {
     "data": {
      "text/plain": [
       "torch.Size([10, 770, 21])"
      ]
     },
     "execution_count": 43,
     "metadata": {},
     "output_type": "execute_result"
    }
   ],
   "source": [
    "wild_one_hot = wild_one_hot.expand(10, -1, -1)\n",
    "wild_one_hot.shape"
   ]
  },
  {
   "cell_type": "code",
   "execution_count": 45,
   "metadata": {},
   "outputs": [
    {
     "data": {
      "text/plain": [
       "torch.Size([10, 16170])"
      ]
     },
     "execution_count": 45,
     "metadata": {},
     "output_type": "execute_result"
    }
   ],
   "source": [
    "torch.flatten(wild_one_hot, start_dim=1).shape"
   ]
  },
  {
   "cell_type": "code",
   "execution_count": null,
   "metadata": {},
   "outputs": [],
   "source": []
  }
 ],
 "metadata": {
  "kernelspec": {
   "display_name": "embed",
   "language": "python",
   "name": "python3"
  },
  "language_info": {
   "codemirror_mode": {
    "name": "ipython",
    "version": 3
   },
   "file_extension": ".py",
   "mimetype": "text/x-python",
   "name": "python",
   "nbconvert_exporter": "python",
   "pygments_lexer": "ipython3",
   "version": "3.8.18"
  }
 },
 "nbformat": 4,
 "nbformat_minor": 2
}
