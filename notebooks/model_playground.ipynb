{
 "cells": [
  {
   "cell_type": "code",
   "execution_count": 14,
   "metadata": {},
   "outputs": [],
   "source": [
    "from evoVAE.utils.datasets import MSA_Dataset\n",
    "import evoVAE.utils.seq_tools as st\n",
    "import evoVAE.utils.metrics as mt\n",
    "from evoVAE.models.seqVAETest import SeqVAETest\n",
    "from evoVAE.trainer.seqVAE_train import seq_train\n",
    "from sklearn.model_selection import train_test_split\n",
    "import pandas as pd\n",
    "import torch\n",
    "import numpy as np\n",
    "\n",
    "pd.set_option(\"display.max_rows\", None)"
   ]
  },
  {
   "cell_type": "markdown",
   "metadata": {},
   "source": [
    "# Config"
   ]
  },
  {
   "cell_type": "code",
   "execution_count": 2,
   "metadata": {},
   "outputs": [
    {
     "data": {
      "text/plain": [
       "device(type='cpu')"
      ]
     },
     "execution_count": 2,
     "metadata": {},
     "output_type": "execute_result"
    }
   ],
   "source": [
    "config = {\n",
    "        # Dataset info\n",
    "        \"dataset\": \"playground\",\n",
    "        \"seq_theta\": 0.2, # reweighting \n",
    "        \"AA_count\": 21, # standard AA + gap\n",
    "        \n",
    "        # ADAM \n",
    "        \"learning_rate\": 1e-5, # ADAM\n",
    "        \"weight_decay\": 0.01, # ADAM\n",
    "\n",
    "        # Hidden units \n",
    "        \"momentum\": 0.1, \n",
    "        \"dropout\": 0.5,\n",
    "\n",
    "        # Training loop \n",
    "        \"epochs\": 100,\n",
    "        \"batch_size\": 128,\n",
    "        \"max_norm\": 1.0, # gradient clipping\n",
    "        \n",
    "        # Model info\n",
    "        \"architecture\": \"SeqVAETest\",\n",
    "        \"latent_dims\": 2,\n",
    "        \"hidden_dims\": [32, 16],\n",
    "    }\n",
    "\n",
    "device = torch.device(\"cuda\" if torch.cuda.is_available() else \"cpu\")\n",
    "device"
   ]
  },
  {
   "cell_type": "markdown",
   "metadata": {},
   "source": [
    "# Read in data"
   ]
  },
  {
   "cell_type": "code",
   "execution_count": 3,
   "metadata": {},
   "outputs": [
    {
     "name": "stdout",
     "output_type": "stream",
     "text": [
      "Reading the alignment: /Users/sebs_mac/OneDrive - The University of Queensland/honours/data/gfp_alns/independent_runs/no_synthetic/ancestors/seqs/run_14_ancestors.fa\n",
      "Checking for bad characters: ['B', 'J', 'X', 'Z']\n",
      "Performing one hot encoding\n",
      "Number of seqs: 359\n"
     ]
    }
   ],
   "source": [
    "from pathlib import Path\n",
    "DATA_PATH = \"/Users/sebs_mac/OneDrive - The University of Queensland/honours/data/gfp_alns/independent_runs/no_synthetic/ancestors/seqs/\"\n",
    "filepath = DATA_PATH + 'run_14_ancestors.fa'\n",
    "aln = st.read_aln_file(filepath)\n",
    "#aln\n"
   ]
  },
  {
   "cell_type": "code",
   "execution_count": 4,
   "metadata": {},
   "outputs": [
    {
     "name": "stdout",
     "output_type": "stream",
     "text": [
      "144 36\n"
     ]
    },
    {
     "data": {
      "text/plain": [
       "torch.Size([2, 238, 21])"
      ]
     },
     "execution_count": 4,
     "metadata": {},
     "output_type": "execute_result"
    }
   ],
   "source": [
    "\n",
    "train, val = train_test_split(aln, test_size=0.2)\n",
    "\n",
    "\n",
    "# TRAINING\n",
    "train_dataset = MSA_Dataset(\n",
    "    train[\"encoding\"], train.index, train[\"id\"]\n",
    ")\n",
    "\n",
    "# VALIDATION\n",
    "val_dataset = MSA_Dataset(\n",
    "    val[\"encoding\"], val.index, val[\"id\"]\n",
    ")\n",
    "\n",
    "# DATA LOADERS #\n",
    "train_loader = torch.utils.data.DataLoader(train_dataset, batch_size=2, shuffle=False)\n",
    "val_loader = torch.utils.data.DataLoader(val_dataset, batch_size=2, shuffle=False)\n",
    "\n",
    "print(len(train_loader), len(val_loader))\n",
    "next(iter(train_loader))[0].shape"
   ]
  },
  {
   "cell_type": "markdown",
   "metadata": {},
   "source": [
    "# Build model"
   ]
  },
  {
   "cell_type": "code",
   "execution_count": 5,
   "metadata": {},
   "outputs": [
    {
     "data": {
      "text/plain": [
       "SeqVAETest(\n",
       "  (encoder): Sequential(\n",
       "    (0): Sequential(\n",
       "      (0): Linear(in_features=4998, out_features=32, bias=True)\n",
       "      (1): LeakyReLU(negative_slope=0.01)\n",
       "      (2): Dropout(p=0.5, inplace=False)\n",
       "      (3): Linear(in_features=32, out_features=32, bias=True)\n",
       "      (4): LeakyReLU(negative_slope=0.01)\n",
       "      (5): BatchNorm1d(32, eps=1e-05, momentum=0.1, affine=True, track_running_stats=True)\n",
       "    )\n",
       "    (1): Sequential(\n",
       "      (0): Linear(in_features=32, out_features=16, bias=True)\n",
       "      (1): LeakyReLU(negative_slope=0.01)\n",
       "      (2): Dropout(p=0.5, inplace=False)\n",
       "      (3): Linear(in_features=16, out_features=16, bias=True)\n",
       "      (4): LeakyReLU(negative_slope=0.01)\n",
       "      (5): BatchNorm1d(16, eps=1e-05, momentum=0.1, affine=True, track_running_stats=True)\n",
       "    )\n",
       "  )\n",
       "  (z_mu_sampler): Linear(in_features=16, out_features=2, bias=True)\n",
       "  (z_logvar_sampler): Linear(in_features=16, out_features=2, bias=True)\n",
       "  (upscale_z): Linear(in_features=2, out_features=16, bias=True)\n",
       "  (decoder): Sequential(\n",
       "    (0): Sequential(\n",
       "      (0): Linear(in_features=16, out_features=32, bias=True)\n",
       "      (1): LeakyReLU(negative_slope=0.01)\n",
       "      (2): Dropout(p=0.5, inplace=False)\n",
       "      (3): Linear(in_features=32, out_features=32, bias=True)\n",
       "      (4): LeakyReLU(negative_slope=0.01)\n",
       "      (5): BatchNorm1d(32, eps=1e-05, momentum=0.1, affine=True, track_running_stats=True)\n",
       "    )\n",
       "    (1): Linear(in_features=32, out_features=4998, bias=True)\n",
       "  )\n",
       ")"
      ]
     },
     "execution_count": 5,
     "metadata": {},
     "output_type": "execute_result"
    }
   ],
   "source": [
    "# get the sequence length \n",
    "SEQ_LEN = 0\n",
    "BATCH_ZERO = 0\n",
    "SEQ_ZERO = 0\n",
    "seq_len = train_dataset[BATCH_ZERO][SEQ_ZERO].shape[SEQ_LEN]\n",
    "input_dims = seq_len * config['AA_count']\n",
    "\n",
    "seq_len, input_dims\n",
    "\n",
    "# use preset structure for hidden dimensions \n",
    "model = SeqVAETest(input_dims=input_dims, latent_dims=config['latent_dims'], hidden_dims=config['hidden_dims'], config=config) \n",
    "model"
   ]
  },
  {
   "cell_type": "code",
   "execution_count": 6,
   "metadata": {},
   "outputs": [
    {
     "name": "stdout",
     "output_type": "stream",
     "text": [
      "torch.Size([2, 238, 21])\n"
     ]
    }
   ],
   "source": [
    "# very small nummy data \n",
    "dummy = next(iter(train_loader))[0].float()\n",
    "print(dummy.shape)\n",
    "# reconstruct input, note it has been flattened \n",
    "log_p, z_sample, z_mu, z_logvar = model(dummy)\n",
    "\n",
    "# grab the shape of the input for reshaping\n",
    "orig_shape = log_p.shape[0:-1]\n",
    "\n",
    "# add on extra dim, then make it one-hot encoding shape (obs, seq_len, AA_count)\n",
    "log_p = torch.unsqueeze(log_p, -1)\n",
    "log_p = log_p.view(orig_shape + (-1, config['AA_count']))"
   ]
  },
  {
   "cell_type": "code",
   "execution_count": 7,
   "metadata": {},
   "outputs": [],
   "source": [
    "mut_data = pd.read_csv('../data/dms_data/GFP_AEQVI_Sarkisyan_2016.csv')\n",
    "subset = mut_data.copy()[0:10]"
   ]
  },
  {
   "cell_type": "code",
   "execution_count": 8,
   "metadata": {},
   "outputs": [
    {
     "name": "stdout",
     "output_type": "stream",
     "text": [
      "Encoding the sequences and calculating weights\n",
      "The sequence encoding has size: (10,)\n",
      "\n",
      "The sequence weight array has size: (10,)\n",
      "\n"
     ]
    },
    {
     "data": {
      "text/html": [
       "<div>\n",
       "<style scoped>\n",
       "    .dataframe tbody tr th:only-of-type {\n",
       "        vertical-align: middle;\n",
       "    }\n",
       "\n",
       "    .dataframe tbody tr th {\n",
       "        vertical-align: top;\n",
       "    }\n",
       "\n",
       "    .dataframe thead th {\n",
       "        text-align: right;\n",
       "    }\n",
       "</style>\n",
       "<table border=\"1\" class=\"dataframe\">\n",
       "  <thead>\n",
       "    <tr style=\"text-align: right;\">\n",
       "      <th></th>\n",
       "      <th>mutant</th>\n",
       "      <th>mutated_sequence</th>\n",
       "      <th>DMS_score</th>\n",
       "      <th>DMS_score_bin</th>\n",
       "      <th>encoding</th>\n",
       "      <th>weights</th>\n",
       "    </tr>\n",
       "  </thead>\n",
       "  <tbody>\n",
       "    <tr>\n",
       "      <th>0</th>\n",
       "      <td>K3R:V55A:Q94R:A110T:D117G:M153K:D216A</td>\n",
       "      <td>MSRGEELFTGVVPILVELDGDVNGHKFSVSGEGEGDATYGKLTLKF...</td>\n",
       "      <td>1.301030</td>\n",
       "      <td>0</td>\n",
       "      <td>[[0.0, 0.0, 0.0, 0.0, 0.0, 0.0, 0.0, 0.0, 0.0,...</td>\n",
       "      <td>0.1</td>\n",
       "    </tr>\n",
       "    <tr>\n",
       "      <th>1</th>\n",
       "      <td>K3Q:V16A:I167T:L195Q</td>\n",
       "      <td>MSQGEELFTGVVPILAELDGDVNGHKFSVSGEGEGDATYGKLTLKF...</td>\n",
       "      <td>3.137350</td>\n",
       "      <td>1</td>\n",
       "      <td>[[0.0, 0.0, 0.0, 0.0, 0.0, 0.0, 0.0, 0.0, 0.0,...</td>\n",
       "      <td>0.1</td>\n",
       "    </tr>\n",
       "    <tr>\n",
       "      <th>2</th>\n",
       "      <td>K3Q:Y143C:N164D:S205P:A227T</td>\n",
       "      <td>MSQGEELFTGVVPILVELDGDVNGHKFSVSGEGEGDATYGKLTLKF...</td>\n",
       "      <td>1.553913</td>\n",
       "      <td>0</td>\n",
       "      <td>[[0.0, 0.0, 0.0, 0.0, 0.0, 0.0, 0.0, 0.0, 0.0,...</td>\n",
       "      <td>0.1</td>\n",
       "    </tr>\n",
       "    <tr>\n",
       "      <th>3</th>\n",
       "      <td>K3Q:Y143N:V193A</td>\n",
       "      <td>MSQGEELFTGVVPILVELDGDVNGHKFSVSGEGEGDATYGKLTLKF...</td>\n",
       "      <td>3.404237</td>\n",
       "      <td>1</td>\n",
       "      <td>[[0.0, 0.0, 0.0, 0.0, 0.0, 0.0, 0.0, 0.0, 0.0,...</td>\n",
       "      <td>0.1</td>\n",
       "    </tr>\n",
       "    <tr>\n",
       "      <th>4</th>\n",
       "      <td>K3R</td>\n",
       "      <td>MSRGEELFTGVVPILVELDGDVNGHKFSVSGEGEGDATYGKLTLKF...</td>\n",
       "      <td>3.738586</td>\n",
       "      <td>1</td>\n",
       "      <td>[[0.0, 0.0, 0.0, 0.0, 0.0, 0.0, 0.0, 0.0, 0.0,...</td>\n",
       "      <td>0.1</td>\n",
       "    </tr>\n",
       "    <tr>\n",
       "      <th>5</th>\n",
       "      <td>K3R:A87T:D173G</td>\n",
       "      <td>MSRGEELFTGVVPILVELDGDVNGHKFSVSGEGEGDATYGKLTLKF...</td>\n",
       "      <td>3.851893</td>\n",
       "      <td>1</td>\n",
       "      <td>[[0.0, 0.0, 0.0, 0.0, 0.0, 0.0, 0.0, 0.0, 0.0,...</td>\n",
       "      <td>0.1</td>\n",
       "    </tr>\n",
       "    <tr>\n",
       "      <th>6</th>\n",
       "      <td>K3R:A87T:N144S:T225S</td>\n",
       "      <td>MSRGEELFTGVVPILVELDGDVNGHKFSVSGEGEGDATYGKLTLKF...</td>\n",
       "      <td>3.551648</td>\n",
       "      <td>1</td>\n",
       "      <td>[[0.0, 0.0, 0.0, 0.0, 0.0, 0.0, 0.0, 0.0, 0.0,...</td>\n",
       "      <td>0.1</td>\n",
       "    </tr>\n",
       "    <tr>\n",
       "      <th>7</th>\n",
       "      <td>K3R:C48R:D76G:M218K</td>\n",
       "      <td>MSRGEELFTGVVPILVELDGDVNGHKFSVSGEGEGDATYGKLTLKF...</td>\n",
       "      <td>1.480047</td>\n",
       "      <td>0</td>\n",
       "      <td>[[0.0, 0.0, 0.0, 0.0, 0.0, 0.0, 0.0, 0.0, 0.0,...</td>\n",
       "      <td>0.1</td>\n",
       "    </tr>\n",
       "    <tr>\n",
       "      <th>8</th>\n",
       "      <td>K3R:D102G:N185D:L195P:H231P:E235K</td>\n",
       "      <td>MSRGEELFTGVVPILVELDGDVNGHKFSVSGEGEGDATYGKLTLKF...</td>\n",
       "      <td>3.388889</td>\n",
       "      <td>1</td>\n",
       "      <td>[[0.0, 0.0, 0.0, 0.0, 0.0, 0.0, 0.0, 0.0, 0.0,...</td>\n",
       "      <td>0.1</td>\n",
       "    </tr>\n",
       "    <tr>\n",
       "      <th>9</th>\n",
       "      <td>K3R:D102G:Y151C:N170D:I229T</td>\n",
       "      <td>MSRGEELFTGVVPILVELDGDVNGHKFSVSGEGEGDATYGKLTLKF...</td>\n",
       "      <td>3.499501</td>\n",
       "      <td>1</td>\n",
       "      <td>[[0.0, 0.0, 0.0, 0.0, 0.0, 0.0, 0.0, 0.0, 0.0,...</td>\n",
       "      <td>0.1</td>\n",
       "    </tr>\n",
       "  </tbody>\n",
       "</table>\n",
       "</div>"
      ],
      "text/plain": [
       "                                  mutant  \\\n",
       "0  K3R:V55A:Q94R:A110T:D117G:M153K:D216A   \n",
       "1                   K3Q:V16A:I167T:L195Q   \n",
       "2            K3Q:Y143C:N164D:S205P:A227T   \n",
       "3                        K3Q:Y143N:V193A   \n",
       "4                                    K3R   \n",
       "5                         K3R:A87T:D173G   \n",
       "6                   K3R:A87T:N144S:T225S   \n",
       "7                    K3R:C48R:D76G:M218K   \n",
       "8      K3R:D102G:N185D:L195P:H231P:E235K   \n",
       "9            K3R:D102G:Y151C:N170D:I229T   \n",
       "\n",
       "                                    mutated_sequence  DMS_score  \\\n",
       "0  MSRGEELFTGVVPILVELDGDVNGHKFSVSGEGEGDATYGKLTLKF...   1.301030   \n",
       "1  MSQGEELFTGVVPILAELDGDVNGHKFSVSGEGEGDATYGKLTLKF...   3.137350   \n",
       "2  MSQGEELFTGVVPILVELDGDVNGHKFSVSGEGEGDATYGKLTLKF...   1.553913   \n",
       "3  MSQGEELFTGVVPILVELDGDVNGHKFSVSGEGEGDATYGKLTLKF...   3.404237   \n",
       "4  MSRGEELFTGVVPILVELDGDVNGHKFSVSGEGEGDATYGKLTLKF...   3.738586   \n",
       "5  MSRGEELFTGVVPILVELDGDVNGHKFSVSGEGEGDATYGKLTLKF...   3.851893   \n",
       "6  MSRGEELFTGVVPILVELDGDVNGHKFSVSGEGEGDATYGKLTLKF...   3.551648   \n",
       "7  MSRGEELFTGVVPILVELDGDVNGHKFSVSGEGEGDATYGKLTLKF...   1.480047   \n",
       "8  MSRGEELFTGVVPILVELDGDVNGHKFSVSGEGEGDATYGKLTLKF...   3.388889   \n",
       "9  MSRGEELFTGVVPILVELDGDVNGHKFSVSGEGEGDATYGKLTLKF...   3.499501   \n",
       "\n",
       "   DMS_score_bin                                           encoding  weights  \n",
       "0              0  [[0.0, 0.0, 0.0, 0.0, 0.0, 0.0, 0.0, 0.0, 0.0,...      0.1  \n",
       "1              1  [[0.0, 0.0, 0.0, 0.0, 0.0, 0.0, 0.0, 0.0, 0.0,...      0.1  \n",
       "2              0  [[0.0, 0.0, 0.0, 0.0, 0.0, 0.0, 0.0, 0.0, 0.0,...      0.1  \n",
       "3              1  [[0.0, 0.0, 0.0, 0.0, 0.0, 0.0, 0.0, 0.0, 0.0,...      0.1  \n",
       "4              1  [[0.0, 0.0, 0.0, 0.0, 0.0, 0.0, 0.0, 0.0, 0.0,...      0.1  \n",
       "5              1  [[0.0, 0.0, 0.0, 0.0, 0.0, 0.0, 0.0, 0.0, 0.0,...      0.1  \n",
       "6              1  [[0.0, 0.0, 0.0, 0.0, 0.0, 0.0, 0.0, 0.0, 0.0,...      0.1  \n",
       "7              0  [[0.0, 0.0, 0.0, 0.0, 0.0, 0.0, 0.0, 0.0, 0.0,...      0.1  \n",
       "8              1  [[0.0, 0.0, 0.0, 0.0, 0.0, 0.0, 0.0, 0.0, 0.0,...      0.1  \n",
       "9              1  [[0.0, 0.0, 0.0, 0.0, 0.0, 0.0, 0.0, 0.0, 0.0,...      0.1  "
      ]
     },
     "execution_count": 8,
     "metadata": {},
     "output_type": "execute_result"
    }
   ],
   "source": [
    "encoding, weights = st.encode_and_weight_seqs(subset['mutated_sequence'], 0.2)\n",
    "subset['encoding'] = encoding\n",
    "subset['weights'] = weights\n",
    "subset"
   ]
  },
  {
   "cell_type": "code",
   "execution_count": 9,
   "metadata": {},
   "outputs": [
    {
     "data": {
      "text/html": [
       "<div>\n",
       "<style scoped>\n",
       "    .dataframe tbody tr th:only-of-type {\n",
       "        vertical-align: middle;\n",
       "    }\n",
       "\n",
       "    .dataframe tbody tr th {\n",
       "        vertical-align: top;\n",
       "    }\n",
       "\n",
       "    .dataframe thead th {\n",
       "        text-align: right;\n",
       "    }\n",
       "</style>\n",
       "<table border=\"1\" class=\"dataframe\">\n",
       "  <thead>\n",
       "    <tr style=\"text-align: right;\">\n",
       "      <th></th>\n",
       "      <th>DMS_id</th>\n",
       "      <th>DMS_filename</th>\n",
       "      <th>UniProt_ID</th>\n",
       "      <th>taxon</th>\n",
       "      <th>source_organism</th>\n",
       "      <th>target_seq</th>\n",
       "      <th>seq_len</th>\n",
       "      <th>includes_multiple_mutants</th>\n",
       "      <th>DMS_total_number_mutants</th>\n",
       "      <th>DMS_number_single_mutants</th>\n",
       "      <th>...</th>\n",
       "      <th>MSA_num_significant_L</th>\n",
       "      <th>raw_DMS_filename</th>\n",
       "      <th>raw_DMS_phenotype_name</th>\n",
       "      <th>raw_DMS_directionality</th>\n",
       "      <th>raw_DMS_mutant_column</th>\n",
       "      <th>weight_file_name</th>\n",
       "      <th>pdb_file</th>\n",
       "      <th>ProteinGym_version</th>\n",
       "      <th>raw_mut_offset</th>\n",
       "      <th>coarse_selection_type</th>\n",
       "    </tr>\n",
       "  </thead>\n",
       "  <tbody>\n",
       "    <tr>\n",
       "      <th>67</th>\n",
       "      <td>GFP_AEQVI_Sarkisyan_2016</td>\n",
       "      <td>GFP_AEQVI_Sarkisyan_2016.csv</td>\n",
       "      <td>GFP_AEQVI</td>\n",
       "      <td>Eukaryote</td>\n",
       "      <td>Aequorea victoria</td>\n",
       "      <td>MSKGEELFTGVVPILVELDGDVNGHKFSVSGEGEGDATYGKLTLKF...</td>\n",
       "      <td>238</td>\n",
       "      <td>True</td>\n",
       "      <td>51714</td>\n",
       "      <td>1084</td>\n",
       "      <td>...</td>\n",
       "      <td>0.0</td>\n",
       "      <td>GFP_AEQVI_Sarkisyan_2016.csv</td>\n",
       "      <td>mean_medianBrightness_per_aaseq</td>\n",
       "      <td>1</td>\n",
       "      <td>mutant</td>\n",
       "      <td>GFP_AEQVI_theta_0.2.npy</td>\n",
       "      <td>GFP_AEQVI.pdb</td>\n",
       "      <td>0.1</td>\n",
       "      <td>NaN</td>\n",
       "      <td>Activity</td>\n",
       "    </tr>\n",
       "  </tbody>\n",
       "</table>\n",
       "<p>1 rows × 44 columns</p>\n",
       "</div>"
      ],
      "text/plain": [
       "                      DMS_id                  DMS_filename UniProt_ID  \\\n",
       "67  GFP_AEQVI_Sarkisyan_2016  GFP_AEQVI_Sarkisyan_2016.csv  GFP_AEQVI   \n",
       "\n",
       "        taxon    source_organism  \\\n",
       "67  Eukaryote  Aequorea victoria   \n",
       "\n",
       "                                           target_seq  seq_len  \\\n",
       "67  MSKGEELFTGVVPILVELDGDVNGHKFSVSGEGEGDATYGKLTLKF...      238   \n",
       "\n",
       "    includes_multiple_mutants  DMS_total_number_mutants  \\\n",
       "67                       True                     51714   \n",
       "\n",
       "    DMS_number_single_mutants  ...  MSA_num_significant_L  \\\n",
       "67                       1084  ...                    0.0   \n",
       "\n",
       "                raw_DMS_filename           raw_DMS_phenotype_name  \\\n",
       "67  GFP_AEQVI_Sarkisyan_2016.csv  mean_medianBrightness_per_aaseq   \n",
       "\n",
       "   raw_DMS_directionality raw_DMS_mutant_column         weight_file_name  \\\n",
       "67                      1                mutant  GFP_AEQVI_theta_0.2.npy   \n",
       "\n",
       "         pdb_file ProteinGym_version raw_mut_offset coarse_selection_type  \n",
       "67  GFP_AEQVI.pdb                0.1            NaN              Activity  \n",
       "\n",
       "[1 rows x 44 columns]"
      ]
     },
     "execution_count": 9,
     "metadata": {},
     "output_type": "execute_result"
    }
   ],
   "source": [
    "metadata = pd.read_csv(\"../data/dms_data/DMS_substitutions.csv\")\n",
    "metadata = metadata[metadata[\"DMS_id\"].str.contains(\"GFP\")]\n",
    "metadata"
   ]
  },
  {
   "cell_type": "code",
   "execution_count": 47,
   "metadata": {},
   "outputs": [
    {
     "data": {
      "text/plain": [
       "(0   -723.424438\n",
       " 1   -723.565063\n",
       " 2   -722.048584\n",
       " 3   -722.012512\n",
       " 4   -722.300354\n",
       " 5   -722.447144\n",
       " 6   -722.689453\n",
       " 7   -723.892822\n",
       " 8   -722.536987\n",
       " 9   -722.414734\n",
       " dtype: float64,\n",
       " 0    1.301030\n",
       " 1    3.137350\n",
       " 2    1.553913\n",
       " 3    3.404237\n",
       " 4    3.738586\n",
       " 5    3.851893\n",
       " 6    3.551648\n",
       " 7    1.480047\n",
       " 8    3.388889\n",
       " 9    3.499501\n",
       " Name: DMS_score, dtype: float64)"
      ]
     },
     "execution_count": 47,
     "metadata": {},
     "output_type": "execute_result"
    }
   ],
   "source": [
    "\n",
    "import sklearn\n",
    "import sklearn.preprocessing\n",
    "\n",
    "\n",
    "wild_type = metadata['target_seq'].to_numpy()[0]\n",
    "wild_one_hot = torch.Tensor(st.seq_to_one_hot(wild_type)).unsqueeze(0)\n",
    "\n",
    "model.eval()\n",
    "wild_model_encoding, _, _, _ = model(wild_one_hot)\n",
    "orig_shape = wild_model_encoding.shape[0:-1]\n",
    "\n",
    "wild_model_encoding = torch.unsqueeze(wild_model_encoding, -1)\n",
    "wild_model_encoding = wild_model_encoding.view(orig_shape + (-1, model.AA_COUNT))\n",
    "\n",
    "# get the wild type encoding \n",
    "wild_model_encoding = wild_model_encoding.squeeze(0)\n",
    "one_hot = wild_one_hot.squeeze(0)\n",
    "\n",
    "\n",
    "variant_encodings = torch.Tensor(np.stack(subset['encoding'].values))\n",
    "variant_model_outputs, _, _, _ = model(variant_encodings)\n",
    "\n",
    "model_scores =[]\n",
    "for variant, var_one_hot in zip(variant_model_outputs, variant_encodings):\n",
    "\n",
    "    var_model_encoding = torch.unsqueeze(variant, -1)\n",
    "    var_model_encoding = var_model_encoding.view(orig_shape + (-1, model.AA_COUNT))\n",
    "    var_model_encoding = var_model_encoding.squeeze(0)\n",
    "    log_prob = mt.seq_log_probability(var_one_hot, var_model_encoding)\n",
    "    \n",
    "    model_scores.append(log_prob)\n",
    "    \n",
    "model_scores = pd.Series(model_scores)\n",
    "actual_scores = subset['DMS_score']\n",
    "model_scores, actual_scores\n",
    "\n"
   ]
  },
  {
   "cell_type": "code",
   "execution_count": null,
   "metadata": {},
   "outputs": [],
   "source": [
    "spear_rho, k_recall, ndcg, roc_auc = mt.summary_stats(predictions=model_scores, actual=actual_scores, actual_binned=subset['DMS_score_bin'])\n",
    "spear_rho, k_recall, ndcg, roc_auc"
   ]
  }
 ],
 "metadata": {
  "kernelspec": {
   "display_name": "embed",
   "language": "python",
   "name": "python3"
  },
  "language_info": {
   "codemirror_mode": {
    "name": "ipython",
    "version": 3
   },
   "file_extension": ".py",
   "mimetype": "text/x-python",
   "name": "python",
   "nbconvert_exporter": "python",
   "pygments_lexer": "ipython3",
   "version": "3.8.18"
  }
 },
 "nbformat": 4,
 "nbformat_minor": 2
}
