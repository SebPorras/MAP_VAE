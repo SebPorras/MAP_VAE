{
 "cells": [
  {
   "cell_type": "code",
   "execution_count": 1,
   "metadata": {},
   "outputs": [],
   "source": [
    "import evoVAE.utils.seq_tools as st\n",
    "import evoVAE.utils.metrics as mt\n",
    "from evoVAE.models.seqVAE import SeqVAE\n",
    "from typing import List, Tuple\n",
    "from sklearn.model_selection import train_test_split\n",
    "import pandas as pd\n",
    "import torch\n",
    "import numpy as np\n",
    "import yaml\n",
    "from evoVAE.loss.standard_loss import KL_divergence, sequence_likelihood, elbo_importance_sampling\n"
   ]
  },
  {
   "cell_type": "markdown",
   "metadata": {},
   "source": [
    "This notebook can be used to test new features for a model without having to use the WandB service"
   ]
  },
  {
   "cell_type": "code",
   "execution_count": 23,
   "metadata": {},
   "outputs": [],
   "source": [
    "with open(\"../data/dummy_config.yaml\", \"r\") as stream:\n",
    "    settings = yaml.safe_load(stream)\n",
    "seq_len = 770 # A4 Human length \n",
    "input_dims = seq_len * settings[\"AA_count\"]\n",
    "\n",
    "\n",
    "model = SeqVAE(\n",
    "         dim_latent_vars=settings[\"latent_dims\"],\n",
    "         dim_msa_vars=input_dims,\n",
    "         num_hidden_units=settings[\"hidden_dims\"],\n",
    "         settings=settings,\n",
    "         num_aa_type=settings[\"AA_count\"],\n",
    "     )\n",
    "\n",
    "# device = \"cpu\"\n",
    "# model.load_state_dict(torch.load(\"a4_extants_r1_model_state.pt\", map_location=device))\n",
    "# model"
   ]
  },
  {
   "cell_type": "code",
   "execution_count": 3,
   "metadata": {},
   "outputs": [],
   "source": [
    "metadata = pd.read_csv(\"../data/DMS_substitutions.csv\")\n",
    "dms_data = pd.read_csv(\"A4_HUMAN_Seuma_2022.csv\")\n",
    "one_hot = dms_data[\"mutated_sequence\"].apply(st.seq_to_one_hot)\n",
    "dms_data[\"encoding\"] = one_hot\n",
    "\n"
   ]
  },
  {
   "cell_type": "markdown",
   "metadata": {},
   "source": []
  },
  {
   "cell_type": "code",
   "execution_count": 24,
   "metadata": {},
   "outputs": [
    {
     "name": "stdout",
     "output_type": "stream",
     "text": [
      "Reading the alignment: /Users/sebs_mac/uni_OneDrive/honours/data/a4_human/alns/a4_extants_no_dupes.fasta\n",
      "Checking for bad characters: ['B', 'J', 'Z', 'U']\n",
      "Number of seqs: 4936\n",
      "Sequence weight numpy array created with shape (num_seqs, columns):  (4936, 770)\n"
     ]
    }
   ],
   "source": [
    "from evoVAE.utils.datasets import DMS_Dataset, MSA_Dataset\n",
    "device = torch.device(\"cpu\")\n",
    "\n",
    "aln = st.read_aln_file(\"/Users/sebs_mac/uni_OneDrive/honours/data/a4_human/alns/a4_extants_no_dupes.fasta\")\n",
    "one_hot = aln[\"sequence\"].apply(st.seq_to_one_hot)\n",
    "aln[\"encoding\"] = one_hot\n",
    "\n",
    "\n",
    "numpy_aln, _, _ = st.convert_msa_numpy_array(aln)\n",
    "weights = st.position_based_seq_weighting(numpy_aln, n_processes=10)\n",
    "aln[\"weights\"] = weights\n",
    "\n",
    "aln = aln.loc[range(10)]\n",
    "msas = MSA_Dataset(aln[\"encoding\"], aln[\"weights\"], aln[\"id\"], device)\n",
    "train_loader = torch.utils.data.DataLoader(\n",
    "        msas, batch_size=1, shuffle=True\n",
    "    )\n"
   ]
  },
  {
   "cell_type": "code",
   "execution_count": 36,
   "metadata": {},
   "outputs": [
    {
     "data": {
      "text/plain": [
       "-2347.136310631539"
      ]
     },
     "execution_count": 36,
     "metadata": {},
     "output_type": "execute_result"
    }
   ],
   "source": [
    "num_samples = 10\n",
    "ebls = []\n",
    "with torch.no_grad():\n",
    "\n",
    "    for x, _, id, in train_loader:\n",
    "\n",
    "        elbo = model.compute_elbo_with_multiple_samples(x, 5000)\n",
    "        ebls.append(elbo)\n",
    "\n",
    "\n",
    "np.mean(ebls)"
   ]
  },
  {
   "cell_type": "code",
   "execution_count": null,
   "metadata": {},
   "outputs": [],
   "source": []
  }
 ],
 "metadata": {
  "kernelspec": {
   "display_name": "embed",
   "language": "python",
   "name": "python3"
  },
  "language_info": {
   "codemirror_mode": {
    "name": "ipython",
    "version": 3
   },
   "file_extension": ".py",
   "mimetype": "text/x-python",
   "name": "python",
   "nbconvert_exporter": "python",
   "pygments_lexer": "ipython3",
   "version": "3.8.18"
  }
 },
 "nbformat": 4,
 "nbformat_minor": 2
}
