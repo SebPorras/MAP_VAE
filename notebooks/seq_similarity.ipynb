{
 "cells": [
  {
   "cell_type": "code",
   "execution_count": 2,
   "metadata": {},
   "outputs": [],
   "source": [
    "import evoVAE.utils.seq_tools as st\n",
    "import numpy as np\n",
    "from sequence import *\n",
    "from sym import *\n",
    "import pandas as pd"
   ]
  },
  {
   "cell_type": "code",
   "execution_count": 4,
   "metadata": {},
   "outputs": [
    {
     "name": "stdout",
     "output_type": "stream",
     "text": [
      "Reading the alignment: /Users/sebs_mac/uni_OneDrive/honours/data/gb1/alns/gb1_all_extants.aln\n",
      "Checking for bad characters: ['B', 'J', 'X', 'Z', 'U']\n",
      "Number of seqs: 3084\n",
      "(2286, 2)\n"
     ]
    }
   ],
   "source": [
    "seqs = readFastaFile(\"/Users/sebs_mac/uni_OneDrive/honours/data/gb1/alns/gb1_all_extants.fasta\")\n",
    "\n",
    "\n",
    "print(orignal_aln.shape)\n",
    "\n",
    "b62 = readSubstMatrix('../data/blosum62.matrix', Protein_Alphabet)\n",
    "\n",
    "wt = Sequence(sequence=\"MEKEKKVKYFLRKSAFGLASVSAAFLVGSTVFAVDSPIEDTPIIRNGGELTNLLGNSETTLALRNEESATADLTAAAVADTVAAAAAENAGAAAWEAAAAADALAKAKADALKEFNKYGVSDYYKNLINNAKTVEGIKDLQAQVVESAKKARISEATDGLSDFLKSQTPAEDTVKSIELAEAKVLANRELDKYGVSDYHKNLINNAKTVEGVKELIDEILAALPKTDQYKLILNGKTLKGETTTEAVDAATAEKVFKQYANDNGVDGEWTYDDATKTFTVTEKPEVIDASELTPAVTTYKLVINGKTLKGETTTKAVDAETAEKAFKQYANDNGVDGVWTYDDATKTFTVTEMVTEVPGDAPTEPEKPEASIPLVPLTPATPIAKDDAKKDDTKKEDAKKPEAKKDDAKKAETLPTTGEGSNPFFTAAALAVMAGAGALAVASKRKED\", \n",
    "              name=\"SPG1_STRSG\")\n",
    "\n",
    "results = []\n",
    "for seq in seqs:\n",
    "\n",
    "    aln = alignGlobal(seq, wt, b62)\n",
    "\n",
    "    wt_aln = aln.seqs[1]\n",
    "    query = aln.seqs[0]\n",
    "\n",
    "    count = 0 \n",
    "    for x, y in zip(wt_aln, query):\n",
    "        if x == y and x != \"-\" and y != \"-\":\n",
    "            count += 1\n",
    "\n",
    "    results.append(count / len(wt_aln))"
   ]
  },
  {
   "cell_type": "code",
   "execution_count": 21,
   "metadata": {},
   "outputs": [
    {
     "name": "stdout",
     "output_type": "stream",
     "text": [
      "Reading the alignment: /Users/sebs_mac/uni_OneDrive/honours/data/gb1/alns/gb1_all_extants.aln\n",
      "Checking for bad characters: ['B', 'J', 'X', 'Z', 'U']\n",
      "Number of seqs: 3084\n"
     ]
    },
    {
     "data": {
      "text/plain": [
       "(486, 3)"
      ]
     },
     "execution_count": 21,
     "metadata": {},
     "output_type": "execute_result"
    }
   ],
   "source": [
    "orignal_aln = st.read_aln_file(\"/Users/sebs_mac/uni_OneDrive/honours/data/gb1/alns/gb1_all_extants.aln\")\n",
    "orignal_aln[\"similarity\"] = results\n",
    "\n",
    "trimmed = orignal_aln[orignal_aln[\"similarity\"] >= 0.32]\n",
    "trimmed.shape"
   ]
  },
  {
   "cell_type": "code",
   "execution_count": 22,
   "metadata": {},
   "outputs": [
    {
     "name": "stderr",
     "output_type": "stream",
     "text": [
      "/var/folders/tt/p2_ty_j96x33hxxx4tfrnsq40000gn/T/ipykernel_22815/4079906027.py:6: SettingWithCopyWarning: \n",
      "A value is trying to be set on a copy of a slice from a DataFrame.\n",
      "Try using .loc[row_indexer,col_indexer] = value instead\n",
      "\n",
      "See the caveats in the documentation: https://pandas.pydata.org/pandas-docs/stable/user_guide/indexing.html#returning-a-view-versus-a-copy\n",
      "  trimmed[\"sequence\"] = new\n"
     ]
    }
   ],
   "source": [
    "new = []\n",
    "for x in trimmed[\"sequence\"]:\n",
    "    seq = \"\".join([y for y in x if y != \"-\"])\n",
    "    new.append(seq)\n",
    "\n",
    "trimmed[\"sequence\"] = new\n",
    "st.write_fasta_file(\"gb1_32%.fasta\", trimmed)"
   ]
  },
  {
   "cell_type": "code",
   "execution_count": 59,
   "metadata": {},
   "outputs": [
    {
     "name": "stderr",
     "output_type": "stream",
     "text": [
      "/var/folders/tt/p2_ty_j96x33hxxx4tfrnsq40000gn/T/ipykernel_13699/3463085101.py:5: SettingWithCopyWarning: \n",
      "A value is trying to be set on a copy of a slice from a DataFrame\n",
      "\n",
      "See the caveats in the documentation: https://pandas.pydata.org/pandas-docs/stable/user_guide/indexing.html#returning-a-view-versus-a-copy\n",
      "  trimmed.drop_duplicates(subset=[\"sequence\"], inplace=True)\n"
     ]
    }
   ],
   "source": [
    "from evoVAE.utils.seq_tools import write_fasta_file\n",
    "\n",
    "\n",
    "\n",
    "trimmed\n",
    "write_fasta_file(\"gb1_orgi_extants_aln_0.32_sim_no_dupes.aln\", trimmed)"
   ]
  },
  {
   "cell_type": "code",
   "execution_count": 3,
   "metadata": {},
   "outputs": [
    {
     "data": {
      "text/html": [
       "<div>\n",
       "<style scoped>\n",
       "    .dataframe tbody tr th:only-of-type {\n",
       "        vertical-align: middle;\n",
       "    }\n",
       "\n",
       "    .dataframe tbody tr th {\n",
       "        vertical-align: top;\n",
       "    }\n",
       "\n",
       "    .dataframe thead th {\n",
       "        text-align: right;\n",
       "    }\n",
       "</style>\n",
       "<table border=\"1\" class=\"dataframe\">\n",
       "  <thead>\n",
       "    <tr style=\"text-align: right;\">\n",
       "      <th></th>\n",
       "      <th>id</th>\n",
       "      <th>sequence</th>\n",
       "    </tr>\n",
       "  </thead>\n",
       "  <tbody>\n",
       "    <tr>\n",
       "      <th>0</th>\n",
       "      <td>SPG1_STRSG/1-448</td>\n",
       "      <td>MEKEKKVKYFLRKSAFGLASVSAAFLVGSTVFAVDSPIEDTPIIRN...</td>\n",
       "    </tr>\n",
       "    <tr>\n",
       "      <th>1</th>\n",
       "      <td>UniRef100_Q93EM8/1-351</td>\n",
       "      <td>MEKEKKVKYFLRKSAFGLASVSAAFLVSGALENTITVSAE--TIPA...</td>\n",
       "    </tr>\n",
       "    <tr>\n",
       "      <th>2</th>\n",
       "      <td>UniRef100_Q53975/1-351</td>\n",
       "      <td>MEKEKKVKYFLRKSAFGLASVSAAFLVSGALENTITVSAE--TIPA...</td>\n",
       "    </tr>\n",
       "    <tr>\n",
       "      <th>3</th>\n",
       "      <td>UniRef100_A0A509DAN6/1-448</td>\n",
       "      <td>MEKEKKVKYFLRKSAFGLASVSAAFLVGSTVFAVDSPIEDTPIIRN...</td>\n",
       "    </tr>\n",
       "    <tr>\n",
       "      <th>4</th>\n",
       "      <td>UniRef100_A0A448DI38/1-351</td>\n",
       "      <td>MEKEKKMKYFLRKSAFGLASVSAAFLVGTTLDTTMTVSAEPAGIIA...</td>\n",
       "    </tr>\n",
       "  </tbody>\n",
       "</table>\n",
       "</div>"
      ],
      "text/plain": [
       "                           id  \\\n",
       "0            SPG1_STRSG/1-448   \n",
       "1      UniRef100_Q93EM8/1-351   \n",
       "2      UniRef100_Q53975/1-351   \n",
       "3  UniRef100_A0A509DAN6/1-448   \n",
       "4  UniRef100_A0A448DI38/1-351   \n",
       "\n",
       "                                            sequence  \n",
       "0  MEKEKKVKYFLRKSAFGLASVSAAFLVGSTVFAVDSPIEDTPIIRN...  \n",
       "1  MEKEKKVKYFLRKSAFGLASVSAAFLVSGALENTITVSAE--TIPA...  \n",
       "2  MEKEKKVKYFLRKSAFGLASVSAAFLVSGALENTITVSAE--TIPA...  \n",
       "3  MEKEKKVKYFLRKSAFGLASVSAAFLVGSTVFAVDSPIEDTPIIRN...  \n",
       "4  MEKEKKMKYFLRKSAFGLASVSAAFLVGTTLDTTMTVSAEPAGIIA...  "
      ]
     },
     "execution_count": 3,
     "metadata": {},
     "output_type": "execute_result"
    }
   ],
   "source": [
    "orignal_aln.head()"
   ]
  },
  {
   "cell_type": "code",
   "execution_count": 25,
   "metadata": {},
   "outputs": [],
   "source": [
    "wt = orignal_aln[orignal_aln[\"id\"] == \"SPG1_STRSG/1-448\"][\"sequence\"][0]\n"
   ]
  },
  {
   "cell_type": "code",
   "execution_count": 11,
   "metadata": {},
   "outputs": [
    {
     "data": {
      "text/html": [
       "<div>\n",
       "<style scoped>\n",
       "    .dataframe tbody tr th:only-of-type {\n",
       "        vertical-align: middle;\n",
       "    }\n",
       "\n",
       "    .dataframe tbody tr th {\n",
       "        vertical-align: top;\n",
       "    }\n",
       "\n",
       "    .dataframe thead th {\n",
       "        text-align: right;\n",
       "    }\n",
       "</style>\n",
       "<table border=\"1\" class=\"dataframe\">\n",
       "  <thead>\n",
       "    <tr style=\"text-align: right;\">\n",
       "      <th></th>\n",
       "      <th>id</th>\n",
       "      <th>sequence</th>\n",
       "    </tr>\n",
       "  </thead>\n",
       "  <tbody>\n",
       "    <tr>\n",
       "      <th>1</th>\n",
       "      <td>UniRef100_Q93EM8/1-351</td>\n",
       "      <td>MEKEKKVKYFLRKSAFGLASVSAAFLVSGALENTITVSAE--TIPA...</td>\n",
       "    </tr>\n",
       "    <tr>\n",
       "      <th>2</th>\n",
       "      <td>UniRef100_Q53975/1-351</td>\n",
       "      <td>MEKEKKVKYFLRKSAFGLASVSAAFLVSGALENTITVSAE--TIPA...</td>\n",
       "    </tr>\n",
       "    <tr>\n",
       "      <th>3</th>\n",
       "      <td>UniRef100_A0A509DAN6/1-448</td>\n",
       "      <td>MEKEKKVKYFLRKSAFGLASVSAAFLVGSTVFAVDSPIEDTPIIRN...</td>\n",
       "    </tr>\n",
       "    <tr>\n",
       "      <th>4</th>\n",
       "      <td>UniRef100_A0A448DI38/1-351</td>\n",
       "      <td>MEKEKKMKYFLRKSAFGLASVSAAFLVGTTLDTTMTVSAEPAGIIA...</td>\n",
       "    </tr>\n",
       "    <tr>\n",
       "      <th>5</th>\n",
       "      <td>UniRef100_A0A5Q2S0Z2/1-448</td>\n",
       "      <td>MEKEKKVKYFLRKSAFGLASVSAAFLVGSTVFAVDSPIEDTPIIRN...</td>\n",
       "    </tr>\n",
       "    <tr>\n",
       "      <th>...</th>\n",
       "      <td>...</td>\n",
       "      <td>...</td>\n",
       "    </tr>\n",
       "    <tr>\n",
       "      <th>3079</th>\n",
       "      <td>UniRef100_A0A6I3U7W1/5-423</td>\n",
       "      <td>-KSERKVHYSIRKFSIGVASVVVASLFLGGVVHAEGVRSKNNLTV-...</td>\n",
       "    </tr>\n",
       "    <tr>\n",
       "      <th>3080</th>\n",
       "      <td>UniRef100_UPI000768C351/5-423</td>\n",
       "      <td>-KSERKVHYSIRKFSIGVASVVVASLFLGGVVHAEGVRSKNNLTV-...</td>\n",
       "    </tr>\n",
       "    <tr>\n",
       "      <th>3081</th>\n",
       "      <td>UniRef100_UPI001454C06F/5-327</td>\n",
       "      <td>-KSERKVHYSIRKFSIGVASVVVASLVMGSVVHATEKEGITPVATS...</td>\n",
       "    </tr>\n",
       "    <tr>\n",
       "      <th>3082</th>\n",
       "      <td>UniRef100_UPI0007650374/5-424</td>\n",
       "      <td>-KSERKVHYSIRKFSIGVASVVVASLFLGGVVHAEGVRSKNNLTV-...</td>\n",
       "    </tr>\n",
       "    <tr>\n",
       "      <th>3083</th>\n",
       "      <td>UniRef100_A0A1B3PUX7/506-955</td>\n",
       "      <td>----------------------------------------------...</td>\n",
       "    </tr>\n",
       "  </tbody>\n",
       "</table>\n",
       "<p>3083 rows × 2 columns</p>\n",
       "</div>"
      ],
      "text/plain": [
       "                                 id  \\\n",
       "1            UniRef100_Q93EM8/1-351   \n",
       "2            UniRef100_Q53975/1-351   \n",
       "3        UniRef100_A0A509DAN6/1-448   \n",
       "4        UniRef100_A0A448DI38/1-351   \n",
       "5        UniRef100_A0A5Q2S0Z2/1-448   \n",
       "...                             ...   \n",
       "3079     UniRef100_A0A6I3U7W1/5-423   \n",
       "3080  UniRef100_UPI000768C351/5-423   \n",
       "3081  UniRef100_UPI001454C06F/5-327   \n",
       "3082  UniRef100_UPI0007650374/5-424   \n",
       "3083   UniRef100_A0A1B3PUX7/506-955   \n",
       "\n",
       "                                               sequence  \n",
       "1     MEKEKKVKYFLRKSAFGLASVSAAFLVSGALENTITVSAE--TIPA...  \n",
       "2     MEKEKKVKYFLRKSAFGLASVSAAFLVSGALENTITVSAE--TIPA...  \n",
       "3     MEKEKKVKYFLRKSAFGLASVSAAFLVGSTVFAVDSPIEDTPIIRN...  \n",
       "4     MEKEKKMKYFLRKSAFGLASVSAAFLVGTTLDTTMTVSAEPAGIIA...  \n",
       "5     MEKEKKVKYFLRKSAFGLASVSAAFLVGSTVFAVDSPIEDTPIIRN...  \n",
       "...                                                 ...  \n",
       "3079  -KSERKVHYSIRKFSIGVASVVVASLFLGGVVHAEGVRSKNNLTV-...  \n",
       "3080  -KSERKVHYSIRKFSIGVASVVVASLFLGGVVHAEGVRSKNNLTV-...  \n",
       "3081  -KSERKVHYSIRKFSIGVASVVVASLVMGSVVHATEKEGITPVATS...  \n",
       "3082  -KSERKVHYSIRKFSIGVASVVVASLFLGGVVHAEGVRSKNNLTV-...  \n",
       "3083  ----------------------------------------------...  \n",
       "\n",
       "[3083 rows x 2 columns]"
      ]
     },
     "execution_count": 11,
     "metadata": {},
     "output_type": "execute_result"
    }
   ],
   "source": [
    "extants = orignal_aln.loc[1:,:]\n",
    "extants"
   ]
  },
  {
   "cell_type": "code",
   "execution_count": 12,
   "metadata": {},
   "outputs": [
    {
     "name": "stderr",
     "output_type": "stream",
     "text": [
      "/var/folders/tt/p2_ty_j96x33hxxx4tfrnsq40000gn/T/ipykernel_13699/3771814272.py:10: SettingWithCopyWarning: \n",
      "A value is trying to be set on a copy of a slice from a DataFrame.\n",
      "Try using .loc[row_indexer,col_indexer] = value instead\n",
      "\n",
      "See the caveats in the documentation: https://pandas.pydata.org/pandas-docs/stable/user_guide/indexing.html#returning-a-view-versus-a-copy\n",
      "  extants[\"similarity\"] = similarity\n"
     ]
    }
   ],
   "source": [
    "\n",
    "similarity = []\n",
    "for id, seq in zip(extants[\"id\"], extants[\"sequence\"]):\n",
    "    sim_residues = 0\n",
    "    for wt_res, seq_res in zip(wt, seq):\n",
    "        if wt_res == seq_res and wt_res != \"-\" and seq_res != \"-\":\n",
    "            sim_residues += 1\n",
    "    similarity.append(sim_residues/len(wt))\n",
    "    \n",
    "\n",
    "extants[\"similarity\"] = similarity "
   ]
  },
  {
   "cell_type": "code",
   "execution_count": 17,
   "metadata": {},
   "outputs": [
    {
     "ename": "NameError",
     "evalue": "name 'extants' is not defined",
     "output_type": "error",
     "traceback": [
      "\u001b[0;31m---------------------------------------------------------------------------\u001b[0m",
      "\u001b[0;31mNameError\u001b[0m                                 Traceback (most recent call last)",
      "Cell \u001b[0;32mIn[17], line 1\u001b[0m\n\u001b[0;32m----> 1\u001b[0m \u001b[43mextants\u001b[49m[extants[\u001b[38;5;124m\"\u001b[39m\u001b[38;5;124msimilarity\u001b[39m\u001b[38;5;124m\"\u001b[39m] \u001b[38;5;241m>\u001b[39m\u001b[38;5;241m=\u001b[39m \u001b[38;5;241m0.32\u001b[39m]\n",
      "\u001b[0;31mNameError\u001b[0m: name 'extants' is not defined"
     ]
    }
   ],
   "source": [
    "extants[extants[\"similarity\"] >= 0.32]"
   ]
  },
  {
   "cell_type": "code",
   "execution_count": 26,
   "metadata": {},
   "outputs": [],
   "source": [
    "rejoin = pd.concat([orignal_aln[orignal_aln[\"id\"] == \"SPG1_STRSG/1-448\"], extants[extants[\"similarity\"] >= 0.15]])"
   ]
  },
  {
   "cell_type": "code",
   "execution_count": 27,
   "metadata": {},
   "outputs": [
    {
     "data": {
      "text/html": [
       "<div>\n",
       "<style scoped>\n",
       "    .dataframe tbody tr th:only-of-type {\n",
       "        vertical-align: middle;\n",
       "    }\n",
       "\n",
       "    .dataframe tbody tr th {\n",
       "        vertical-align: top;\n",
       "    }\n",
       "\n",
       "    .dataframe thead th {\n",
       "        text-align: right;\n",
       "    }\n",
       "</style>\n",
       "<table border=\"1\" class=\"dataframe\">\n",
       "  <thead>\n",
       "    <tr style=\"text-align: right;\">\n",
       "      <th></th>\n",
       "      <th>id</th>\n",
       "      <th>sequence</th>\n",
       "      <th>similarity</th>\n",
       "    </tr>\n",
       "  </thead>\n",
       "  <tbody>\n",
       "    <tr>\n",
       "      <th>0</th>\n",
       "      <td>SPG1_STRSG/1-448</td>\n",
       "      <td>MEKEKKVKYFLRKSAFGLASVSAAFLVGSTVFAVDSPIEDTPIIRN...</td>\n",
       "      <td>NaN</td>\n",
       "    </tr>\n",
       "    <tr>\n",
       "      <th>1</th>\n",
       "      <td>UniRef100_Q93EM8/1-351</td>\n",
       "      <td>MEKEKKVKYFLRKSAFGLASVSAAFLVSGALENTITVSAE--TIPA...</td>\n",
       "      <td>0.325893</td>\n",
       "    </tr>\n",
       "    <tr>\n",
       "      <th>2</th>\n",
       "      <td>UniRef100_Q53975/1-351</td>\n",
       "      <td>MEKEKKVKYFLRKSAFGLASVSAAFLVSGALENTITVSAE--TIPA...</td>\n",
       "      <td>0.334821</td>\n",
       "    </tr>\n",
       "    <tr>\n",
       "      <th>3</th>\n",
       "      <td>UniRef100_A0A509DAN6/1-448</td>\n",
       "      <td>MEKEKKVKYFLRKSAFGLASVSAAFLVGSTVFAVDSPIEDTPIIRN...</td>\n",
       "      <td>0.984375</td>\n",
       "    </tr>\n",
       "    <tr>\n",
       "      <th>4</th>\n",
       "      <td>UniRef100_A0A448DI38/1-351</td>\n",
       "      <td>MEKEKKMKYFLRKSAFGLASVSAAFLVGTTLDTTMTVSAEPAGIIA...</td>\n",
       "      <td>0.341518</td>\n",
       "    </tr>\n",
       "    <tr>\n",
       "      <th>...</th>\n",
       "      <td>...</td>\n",
       "      <td>...</td>\n",
       "      <td>...</td>\n",
       "    </tr>\n",
       "    <tr>\n",
       "      <th>2987</th>\n",
       "      <td>UniRef100_UPI000B590C52/5-481</td>\n",
       "      <td>-KSERKVHYSIRKFSVGVASVVVASLVMGSVVHATEKEGSTQVATS...</td>\n",
       "      <td>0.151786</td>\n",
       "    </tr>\n",
       "    <tr>\n",
       "      <th>2994</th>\n",
       "      <td>UniRef100_UPI001EEDE6BA/912-1357</td>\n",
       "      <td>--------------------------------------------DQ...</td>\n",
       "      <td>0.162946</td>\n",
       "    </tr>\n",
       "    <tr>\n",
       "      <th>3021</th>\n",
       "      <td>UniRef100_UPI00099136B4/2-443</td>\n",
       "      <td>---KKKNIYSIRKLGVGIASVTLGTLLISGGVTPAANAAQHDEAQQ...</td>\n",
       "      <td>0.151786</td>\n",
       "    </tr>\n",
       "    <tr>\n",
       "      <th>3027</th>\n",
       "      <td>UniRef100_UPI000B58A7CA/5-478</td>\n",
       "      <td>-KSERKVHYSIRKFSIGVASVVVASLFLGGVVHAEGVRSGTPKVTS...</td>\n",
       "      <td>0.156250</td>\n",
       "    </tr>\n",
       "    <tr>\n",
       "      <th>3030</th>\n",
       "      <td>UniRef100_UPI000A0040B9/5-488</td>\n",
       "      <td>-KSERKVHYSIRKFSIGVASVAVASLVMGSVVHATEKEVTTQVATS...</td>\n",
       "      <td>0.156250</td>\n",
       "    </tr>\n",
       "  </tbody>\n",
       "</table>\n",
       "<p>1420 rows × 3 columns</p>\n",
       "</div>"
      ],
      "text/plain": [
       "                                    id  \\\n",
       "0                     SPG1_STRSG/1-448   \n",
       "1               UniRef100_Q93EM8/1-351   \n",
       "2               UniRef100_Q53975/1-351   \n",
       "3           UniRef100_A0A509DAN6/1-448   \n",
       "4           UniRef100_A0A448DI38/1-351   \n",
       "...                                ...   \n",
       "2987     UniRef100_UPI000B590C52/5-481   \n",
       "2994  UniRef100_UPI001EEDE6BA/912-1357   \n",
       "3021     UniRef100_UPI00099136B4/2-443   \n",
       "3027     UniRef100_UPI000B58A7CA/5-478   \n",
       "3030     UniRef100_UPI000A0040B9/5-488   \n",
       "\n",
       "                                               sequence  similarity  \n",
       "0     MEKEKKVKYFLRKSAFGLASVSAAFLVGSTVFAVDSPIEDTPIIRN...         NaN  \n",
       "1     MEKEKKVKYFLRKSAFGLASVSAAFLVSGALENTITVSAE--TIPA...    0.325893  \n",
       "2     MEKEKKVKYFLRKSAFGLASVSAAFLVSGALENTITVSAE--TIPA...    0.334821  \n",
       "3     MEKEKKVKYFLRKSAFGLASVSAAFLVGSTVFAVDSPIEDTPIIRN...    0.984375  \n",
       "4     MEKEKKMKYFLRKSAFGLASVSAAFLVGTTLDTTMTVSAEPAGIIA...    0.341518  \n",
       "...                                                 ...         ...  \n",
       "2987  -KSERKVHYSIRKFSVGVASVVVASLVMGSVVHATEKEGSTQVATS...    0.151786  \n",
       "2994  --------------------------------------------DQ...    0.162946  \n",
       "3021  ---KKKNIYSIRKLGVGIASVTLGTLLISGGVTPAANAAQHDEAQQ...    0.151786  \n",
       "3027  -KSERKVHYSIRKFSIGVASVVVASLFLGGVVHAEGVRSGTPKVTS...    0.156250  \n",
       "3030  -KSERKVHYSIRKFSIGVASVAVASLVMGSVVHATEKEVTTQVATS...    0.156250  \n",
       "\n",
       "[1420 rows x 3 columns]"
      ]
     },
     "execution_count": 27,
     "metadata": {},
     "output_type": "execute_result"
    }
   ],
   "source": [
    "rejoin"
   ]
  },
  {
   "cell_type": "code",
   "execution_count": 28,
   "metadata": {},
   "outputs": [],
   "source": [
    "st.write_fasta_file(\"gb1_0.15_sim.aln\", rejoin)"
   ]
  },
  {
   "cell_type": "code",
   "execution_count": null,
   "metadata": {},
   "outputs": [],
   "source": []
  }
 ],
 "metadata": {
  "kernelspec": {
   "display_name": "embed",
   "language": "python",
   "name": "python3"
  },
  "language_info": {
   "codemirror_mode": {
    "name": "ipython",
    "version": 3
   },
   "file_extension": ".py",
   "mimetype": "text/x-python",
   "name": "python",
   "nbconvert_exporter": "python",
   "pygments_lexer": "ipython3",
   "version": "3.8.18"
  }
 },
 "nbformat": 4,
 "nbformat_minor": 2
}
