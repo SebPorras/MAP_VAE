{
 "cells": [
  {
   "cell_type": "code",
   "execution_count": 1,
   "metadata": {},
   "outputs": [],
   "source": [
    "import torch\n",
    "import matplotlib.pyplot as plt\n",
    "import numpy as np\n",
    "import pandas as pd\n",
    "import scipy\n",
    "from sklearn.model_selection import GridSearchCV, train_test_split\n",
    "from sklearn.decomposition import PCA\n",
    "from sklearn.pipeline import Pipeline\n",
    "import esm\n",
    "import evoVAE.utils.seq_tools as st\n",
    "from evoVAE.utils.datasets import MSA_Dataset\n",
    "from evoVAE.models.seqVAE import SeqVAE\n",
    "import yaml\n",
    "import evoVAE.utils.visualisation as vs \n",
    "from sklearn.linear_model import LassoLars, Ridge\n",
    "from typing import Tuple\n",
    "#dms_path = \"/Users/sebs_mac/git_repos/dms_data/DMS_ProteinGym_substitutions/\""
   ]
  },
  {
   "cell_type": "code",
   "execution_count": 2,
   "metadata": {},
   "outputs": [
    {
     "data": {
      "text/plain": [
       "True"
      ]
     },
     "execution_count": 2,
     "metadata": {},
     "output_type": "execute_result"
    }
   ],
   "source": [
    "torch.cuda.is_available()"
   ]
  },
  {
   "cell_type": "markdown",
   "metadata": {},
   "source": [
    "This notebook uses the ESM2 package to get sequence embeddings and then fits a regressor to this data\n",
    "\n",
    "I have to use the unaligned sequences because gaps are not included as tokens. \n",
    "\n",
    "First I'm going to use the MAFG variant dataset\n",
    "\n",
    "reference:\n",
    "ESM GitHub: https://github.com/facebookresearch/esm\n",
    "\n",
    "Supervised learning pipeline: https://colab.research.google.com/github/facebookresearch/esm/blob/main/examples/sup_variant_prediction.ipynb#scrollTo=8MpZ87vEbo4b"
   ]
  },
  {
   "cell_type": "code",
   "execution_count": 3,
   "metadata": {},
   "outputs": [],
   "source": [
    "def get_transformer_embeddings(model, alphabet, batch_converter, data, device, model_layer=-1) -> pd.DataFrame:\n",
    "    \"\"\"Get mean representation of sequence\"\"\"\n",
    "\n",
    "    id_seq_pair = [(id, seq) for id, seq in zip(data[\"mutant\"], data[\"mutated_sequence\"])]\n",
    "    batch_labels, batch_strs, batch_tokens = batch_converter(id_seq_pair)\n",
    "    batch_lens = (batch_tokens != alphabet.padding_idx).sum(1)\n",
    "    batch_tokens = batch_tokens.to(device)\n",
    "    \n",
    "    # Extract per-residue representations (on CPU)\n",
    "    with torch.no_grad():\n",
    "        results = model(batch_tokens, repr_layers=[model_layer])\n",
    "    token_representations = results[\"representations\"][model_layer]\n",
    "    print(\"Token shape\")\n",
    "    # (num_variants, seq_len_with_start/end_tokens, residue embedding length)\n",
    "    print(token_representations.shape)\n",
    "\n",
    "    # Generate per-sequence representations via averaging\n",
    "    # NOTE: token 0 is always a beginning-of-sequence token, so the first residue is token 1. Last token is special token that is ignored as well\n",
    "    sequence_representations = []\n",
    "    for i, tokens_len in enumerate(batch_lens):\n",
    "        sequence_representations.append(token_representations[i, 1 : tokens_len - 1].mean(0).cpu())\n",
    "\n",
    "    embeddings = pd.DataFrame({\"mutant\": batch_labels, \"embedding\": sequence_representations})\n",
    "\n",
    "    return embeddings\n",
    "\n",
    "def perform_grid_search(train_data, test_data, classifier_classes: list, \n",
    "                        grid_parameters: list, pipeline: Pipeline, cv=10) -> Tuple[list, list]:\n",
    "    result_list = []\n",
    "    grid_list = []\n",
    "    for cls_name, param_grid in zip(classifier_classes, grid_parameters):\n",
    "        print(cls_name)\n",
    "        grid = GridSearchCV(\n",
    "            estimator = pipeline,\n",
    "            param_grid = param_grid,\n",
    "            scoring = 'r2',\n",
    "            verbose = 0,\n",
    "            cv=cv,\n",
    "            n_jobs = -1 # use all available cores\n",
    "        )\n",
    "\n",
    "        grid.fit(train_data, test_data)\n",
    "        result_list.append(pd.DataFrame.from_dict(grid.cv_results_))\n",
    "        grid_list.append(grid)\n",
    "\n",
    "    return result_list, grid_list\n",
    "\n",
    "def setup_loader(data, device):\n",
    "    \n",
    "    dataset = MSA_Dataset(\n",
    "        data[\"one_hot\"],\n",
    "        np.arange(len(data[\"one_hot\"])),\n",
    "        data[\"mutant\"],\n",
    "        device=device,      \n",
    "    )\n",
    "    \n",
    "    print(f\"Dataset size: {len(dataset)}\")\n",
    "\n",
    "    loader = torch.utils.data.DataLoader(dataset, batch_size=len(dataset), shuffle=False)\n",
    "    return loader\n",
    "\n",
    "def instantiate_model(seq_len, device, state_dict, settings):\n",
    "    \n",
    "    model = SeqVAE(dim_latent_vars=settings[\"latent_dims\"],\n",
    "                dim_msa_vars= (seq_len * 21), \n",
    "                num_hidden_units=settings[\"hidden_dims\"],\n",
    "                settings=settings,\n",
    "                num_aa_type=settings[\"AA_count\"])\n",
    "\n",
    "    model = model.to(device)\n",
    "    model.load_state_dict(torch.load(state_dict, map_location=device))\n",
    "    return model \n",
    "\n",
    "\n",
    "def instantiate_top_models_and_pipe():\n",
    "    ridge_grid = [\n",
    "        {\n",
    "            'model': [Ridge()],\n",
    "            'model__alpha': np.logspace(-6, 6, 1000),\n",
    "            'model__solver': [\"auto\"]\n",
    "        }\n",
    "    ]\n",
    "\n",
    "    lasso_grid = [\n",
    "        {\n",
    "            'model': [LassoLars()],\n",
    "            'model__alpha': np.logspace(-6, 6, 1000),\n",
    "        }\n",
    "    ]\n",
    "\n",
    "    cls_list = [Ridge, LassoLars]\n",
    "    param_grid_list = [ridge_grid, lasso_grid]\n",
    "\n",
    "    pipe = Pipeline(\n",
    "        steps = [\n",
    "            ('model', 'passthrough')\n",
    "        ]\n",
    "    )\n",
    "\n",
    "    return cls_list, param_grid_list, pipe\n",
    "\n",
    "def one_hot_top_model(train_data, test_data):\n",
    "    xs_train = np.array([st.seq_to_one_hot(x).flatten() for x in  train_data[\"mutated_sequence\"]])\n",
    "    ys_train = np.array([float(y) for y in train_data[\"DMS_score\"]])\n",
    "    xs_test = np.array([st.seq_to_one_hot(x).flatten() for x in  test_data[\"mutated_sequence\"]])\n",
    "    ys_test = np.array([float(y) for y in test_data[\"DMS_score\"]])\n",
    "\n",
    "    cls_list, param_grid_list, pipe = instantiate_top_models_and_pipe()\n",
    "\n",
    "    results, grids = perform_grid_search(xs_train, ys_train, cls_list, param_grid_list, pipe)\n",
    "    for grid in grids:\n",
    "        print(grid.best_estimator_.get_params()[\"steps\"][0][1]) # get the model details from the estimator\n",
    "        print()\n",
    "        preds = grid.predict(xs_test)\n",
    "        print(f'{scipy.stats.spearmanr(ys_test, preds)}')\n",
    "        print('\\n', '-' * 80, '\\n')\n",
    "\n",
    "    return results, grids"
   ]
  },
  {
   "cell_type": "markdown",
   "metadata": {},
   "source": [
    "# MAFG"
   ]
  },
  {
   "cell_type": "code",
   "execution_count": 4,
   "metadata": {},
   "outputs": [
    {
     "data": {
      "text/html": [
       "<div>\n",
       "<style scoped>\n",
       "    .dataframe tbody tr th:only-of-type {\n",
       "        vertical-align: middle;\n",
       "    }\n",
       "\n",
       "    .dataframe tbody tr th {\n",
       "        vertical-align: top;\n",
       "    }\n",
       "\n",
       "    .dataframe thead th {\n",
       "        text-align: right;\n",
       "    }\n",
       "</style>\n",
       "<table border=\"1\" class=\"dataframe\">\n",
       "  <thead>\n",
       "    <tr style=\"text-align: right;\">\n",
       "      <th></th>\n",
       "      <th>mutant</th>\n",
       "      <th>mutated_sequence</th>\n",
       "      <th>DMS_score</th>\n",
       "      <th>DMS_score_bin</th>\n",
       "      <th>one_hot</th>\n",
       "    </tr>\n",
       "  </thead>\n",
       "  <tbody>\n",
       "    <tr>\n",
       "      <th>0</th>\n",
       "      <td>D3A</td>\n",
       "      <td>LTAEELVTMSVRELNQHLRGLSKEEIIQLKQRRRTLKNRGY</td>\n",
       "      <td>-1.274690</td>\n",
       "      <td>0</td>\n",
       "      <td>[[0.0, 0.0, 0.0, 0.0, 0.0, 0.0, 0.0, 0.0, 0.0,...</td>\n",
       "    </tr>\n",
       "    <tr>\n",
       "      <th>1</th>\n",
       "      <td>D3A:R32A</td>\n",
       "      <td>LTAEELVTMSVRELNQHLRGLSKEEIIQLKQARRTLKNRGY</td>\n",
       "      <td>-1.637233</td>\n",
       "      <td>0</td>\n",
       "      <td>[[0.0, 0.0, 0.0, 0.0, 0.0, 0.0, 0.0, 0.0, 0.0,...</td>\n",
       "    </tr>\n",
       "    <tr>\n",
       "      <th>2</th>\n",
       "      <td>D3A:R32C</td>\n",
       "      <td>LTAEELVTMSVRELNQHLRGLSKEEIIQLKQCRRTLKNRGY</td>\n",
       "      <td>-1.081258</td>\n",
       "      <td>0</td>\n",
       "      <td>[[0.0, 0.0, 0.0, 0.0, 0.0, 0.0, 0.0, 0.0, 0.0,...</td>\n",
       "    </tr>\n",
       "    <tr>\n",
       "      <th>3</th>\n",
       "      <td>D3A:R32D</td>\n",
       "      <td>LTAEELVTMSVRELNQHLRGLSKEEIIQLKQDRRTLKNRGY</td>\n",
       "      <td>-1.938164</td>\n",
       "      <td>0</td>\n",
       "      <td>[[0.0, 0.0, 0.0, 0.0, 0.0, 0.0, 0.0, 0.0, 0.0,...</td>\n",
       "    </tr>\n",
       "    <tr>\n",
       "      <th>4</th>\n",
       "      <td>D3A:R32E</td>\n",
       "      <td>LTAEELVTMSVRELNQHLRGLSKEEIIQLKQERRTLKNRGY</td>\n",
       "      <td>-1.893906</td>\n",
       "      <td>0</td>\n",
       "      <td>[[0.0, 0.0, 0.0, 0.0, 0.0, 0.0, 0.0, 0.0, 0.0,...</td>\n",
       "    </tr>\n",
       "    <tr>\n",
       "      <th>...</th>\n",
       "      <td>...</td>\n",
       "      <td>...</td>\n",
       "      <td>...</td>\n",
       "      <td>...</td>\n",
       "      <td>...</td>\n",
       "    </tr>\n",
       "    <tr>\n",
       "      <th>1424</th>\n",
       "      <td>Y41R</td>\n",
       "      <td>LTDEELVTMSVRELNQHLRGLSKEEIIQLKQRRRTLKNRGR</td>\n",
       "      <td>-0.184325</td>\n",
       "      <td>1</td>\n",
       "      <td>[[0.0, 0.0, 0.0, 0.0, 0.0, 0.0, 0.0, 0.0, 0.0,...</td>\n",
       "    </tr>\n",
       "    <tr>\n",
       "      <th>1425</th>\n",
       "      <td>Y41S</td>\n",
       "      <td>LTDEELVTMSVRELNQHLRGLSKEEIIQLKQRRRTLKNRGS</td>\n",
       "      <td>0.064654</td>\n",
       "      <td>1</td>\n",
       "      <td>[[0.0, 0.0, 0.0, 0.0, 0.0, 0.0, 0.0, 0.0, 0.0,...</td>\n",
       "    </tr>\n",
       "    <tr>\n",
       "      <th>1426</th>\n",
       "      <td>Y41T</td>\n",
       "      <td>LTDEELVTMSVRELNQHLRGLSKEEIIQLKQRRRTLKNRGT</td>\n",
       "      <td>0.104944</td>\n",
       "      <td>1</td>\n",
       "      <td>[[0.0, 0.0, 0.0, 0.0, 0.0, 0.0, 0.0, 0.0, 0.0,...</td>\n",
       "    </tr>\n",
       "    <tr>\n",
       "      <th>1427</th>\n",
       "      <td>Y41V</td>\n",
       "      <td>LTDEELVTMSVRELNQHLRGLSKEEIIQLKQRRRTLKNRGV</td>\n",
       "      <td>0.139744</td>\n",
       "      <td>1</td>\n",
       "      <td>[[0.0, 0.0, 0.0, 0.0, 0.0, 0.0, 0.0, 0.0, 0.0,...</td>\n",
       "    </tr>\n",
       "    <tr>\n",
       "      <th>1428</th>\n",
       "      <td>Y41W</td>\n",
       "      <td>LTDEELVTMSVRELNQHLRGLSKEEIIQLKQRRRTLKNRGW</td>\n",
       "      <td>0.024645</td>\n",
       "      <td>1</td>\n",
       "      <td>[[0.0, 0.0, 0.0, 0.0, 0.0, 0.0, 0.0, 0.0, 0.0,...</td>\n",
       "    </tr>\n",
       "  </tbody>\n",
       "</table>\n",
       "<p>1429 rows × 5 columns</p>\n",
       "</div>"
      ],
      "text/plain": [
       "        mutant                           mutated_sequence  DMS_score  \\\n",
       "0          D3A  LTAEELVTMSVRELNQHLRGLSKEEIIQLKQRRRTLKNRGY  -1.274690   \n",
       "1     D3A:R32A  LTAEELVTMSVRELNQHLRGLSKEEIIQLKQARRTLKNRGY  -1.637233   \n",
       "2     D3A:R32C  LTAEELVTMSVRELNQHLRGLSKEEIIQLKQCRRTLKNRGY  -1.081258   \n",
       "3     D3A:R32D  LTAEELVTMSVRELNQHLRGLSKEEIIQLKQDRRTLKNRGY  -1.938164   \n",
       "4     D3A:R32E  LTAEELVTMSVRELNQHLRGLSKEEIIQLKQERRTLKNRGY  -1.893906   \n",
       "...        ...                                        ...        ...   \n",
       "1424      Y41R  LTDEELVTMSVRELNQHLRGLSKEEIIQLKQRRRTLKNRGR  -0.184325   \n",
       "1425      Y41S  LTDEELVTMSVRELNQHLRGLSKEEIIQLKQRRRTLKNRGS   0.064654   \n",
       "1426      Y41T  LTDEELVTMSVRELNQHLRGLSKEEIIQLKQRRRTLKNRGT   0.104944   \n",
       "1427      Y41V  LTDEELVTMSVRELNQHLRGLSKEEIIQLKQRRRTLKNRGV   0.139744   \n",
       "1428      Y41W  LTDEELVTMSVRELNQHLRGLSKEEIIQLKQRRRTLKNRGW   0.024645   \n",
       "\n",
       "      DMS_score_bin                                            one_hot  \n",
       "0                 0  [[0.0, 0.0, 0.0, 0.0, 0.0, 0.0, 0.0, 0.0, 0.0,...  \n",
       "1                 0  [[0.0, 0.0, 0.0, 0.0, 0.0, 0.0, 0.0, 0.0, 0.0,...  \n",
       "2                 0  [[0.0, 0.0, 0.0, 0.0, 0.0, 0.0, 0.0, 0.0, 0.0,...  \n",
       "3                 0  [[0.0, 0.0, 0.0, 0.0, 0.0, 0.0, 0.0, 0.0, 0.0,...  \n",
       "4                 0  [[0.0, 0.0, 0.0, 0.0, 0.0, 0.0, 0.0, 0.0, 0.0,...  \n",
       "...             ...                                                ...  \n",
       "1424              1  [[0.0, 0.0, 0.0, 0.0, 0.0, 0.0, 0.0, 0.0, 0.0,...  \n",
       "1425              1  [[0.0, 0.0, 0.0, 0.0, 0.0, 0.0, 0.0, 0.0, 0.0,...  \n",
       "1426              1  [[0.0, 0.0, 0.0, 0.0, 0.0, 0.0, 0.0, 0.0, 0.0,...  \n",
       "1427              1  [[0.0, 0.0, 0.0, 0.0, 0.0, 0.0, 0.0, 0.0, 0.0,...  \n",
       "1428              1  [[0.0, 0.0, 0.0, 0.0, 0.0, 0.0, 0.0, 0.0, 0.0,...  \n",
       "\n",
       "[1429 rows x 5 columns]"
      ]
     },
     "execution_count": 4,
     "metadata": {},
     "output_type": "execute_result"
    }
   ],
   "source": [
    "dms_path = \"/scratch/user/s4646506/mafg/dms_data/\"\n",
    "mafg_variants = pd.read_csv(dms_path + \"MAFG_MOUSE_Tsuboyama_2023_1K1V.csv\")\n",
    "mafg_variants[\"one_hot\"] = mafg_variants[\"mutated_sequence\"].apply(st.seq_to_one_hot)\n",
    "mafg_variants"
   ]
  },
  {
   "cell_type": "code",
   "execution_count": 6,
   "metadata": {},
   "outputs": [
    {
     "data": {
      "text/plain": [
       "((1143, 5), (286, 5))"
      ]
     },
     "execution_count": 6,
     "metadata": {},
     "output_type": "execute_result"
    }
   ],
   "source": [
    "mafg_train, mafg_test = train_test_split(mafg_variants, train_size=0.8, random_state=42)\n",
    "mafg_train.shape, mafg_test.shape"
   ]
  },
  {
   "cell_type": "markdown",
   "metadata": {},
   "source": [
    "### ESM2\n",
    "\n",
    "Using the smallest model with 8M parameters, 6 layers trained on UniRef50.\n",
    "Has 320 embedding dimensions."
   ]
  },
  {
   "cell_type": "code",
   "execution_count": 7,
   "metadata": {},
   "outputs": [
    {
     "name": "stdout",
     "output_type": "stream",
     "text": [
      "Token shape\n",
      "torch.Size([1143, 43, 320])\n",
      "Token shape\n",
      "torch.Size([286, 43, 320])\n"
     ]
    }
   ],
   "source": [
    "### GET MEAN EMBEDDINGS ###\n",
    "device = torch.device(\"cuda\")\n",
    "model, alphabet = esm.pretrained.esm2_t6_8M_UR50D()\n",
    "batch_converter = alphabet.get_batch_converter()\n",
    "model = model.to(device)\n",
    "model.eval()\n",
    "\n",
    "train_mafg_esm = get_transformer_embeddings(model, alphabet, batch_converter, mafg_train, model_layer=6, device=device)\n",
    "mafg_train = mafg_train.merge(train_mafg_esm, on=\"mutant\")\n",
    "test_mafg_esm = get_transformer_embeddings(model, alphabet, batch_converter, mafg_test, model_layer=6, device=device)\n",
    "mafg_test = mafg_test.merge(test_mafg_esm, on=\"mutant\")"
   ]
  },
  {
   "cell_type": "code",
   "execution_count": 8,
   "metadata": {},
   "outputs": [],
   "source": [
    "### Turn into arrays for learning/visualisation ###\n",
    "\n",
    "\n",
    "mafg_Xs_train = np.stack(mafg_train[\"embedding\"])\n",
    "\n",
    "mafg_ys_train = np.array([float(y) for y in mafg_train[\"DMS_score\"]])\n",
    "\n",
    "mafg_Xs_test = np.stack(mafg_train[\"embedding\"])\n",
    "\n",
    "mafg_ys_test = np.array([float(y) for y in mafg_train[\"DMS_score\"]])\n"
   ]
  },
  {
   "cell_type": "code",
   "execution_count": 9,
   "metadata": {},
   "outputs": [
    {
     "data": {
      "text/plain": [
       "<matplotlib.colorbar.Colorbar at 0x7f860a6085e0>"
      ]
     },
     "execution_count": 9,
     "metadata": {},
     "output_type": "execute_result"
    },
    {
     "data": {
      "image/png": "[encoded data removed]",
      "text/plain": [
       "<Figure size 504x432 with 2 Axes>"
      ]
     },
     "metadata": {
      "needs_background": "light"
     },
     "output_type": "display_data"
    }
   ],
   "source": [
    "### Visualise what information the embeddings have captured ###\n",
    "num_pca_components = 50\n",
    "pca = PCA(num_pca_components)\n",
    "Xs_train_pca = pca.fit_transform(mafg_Xs_train)\n",
    "\n",
    "fig_dims = (7, 6)\n",
    "fig, ax = plt.subplots(figsize=fig_dims)\n",
    "sc = ax.scatter(Xs_train_pca[:,0], Xs_train_pca[:,1], c=mafg_ys_train, marker='.')\n",
    "ax.set_xlabel('PCA first principal component')\n",
    "ax.set_ylabel('PCA second principal component')\n",
    "plt.colorbar(sc, label='Variant Effect')"
   ]
  },
  {
   "cell_type": "code",
   "execution_count": 10,
   "metadata": {
    "scrolled": true
   },
   "outputs": [
    {
     "name": "stdout",
     "output_type": "stream",
     "text": [
      "<class 'sklearn.linear_model._ridge.Ridge'>\n",
      "<class 'sklearn.linear_model._least_angle.LassoLars'>\n",
      "Ridge(alpha=0.002245697995539774)\n",
      "\n",
      "SignificanceResult(statistic=0.9505269691122663, pvalue=0.0)\n",
      "\n",
      " -------------------------------------------------------------------------------- \n",
      "\n",
      "LassoLars(alpha=1.2052609368708414e-05)\n",
      "\n",
      "SignificanceResult(statistic=0.9491227006878509, pvalue=0.0)\n",
      "\n",
      " -------------------------------------------------------------------------------- \n",
      "\n"
     ]
    }
   ],
   "source": [
    "### Perform grid search for Lasso and Ridge regression ### \n",
    "cls_list, param_grid_list, pipe = instantiate_top_models_and_pipe()\n",
    "\n",
    "results, grids = perform_grid_search(mafg_Xs_train, mafg_ys_train, cls_list, param_grid_list, pipe)\n",
    "for grid in grids:\n",
    "    print(grid.best_estimator_.get_params()[\"steps\"][0][1]) # get the model details from the estimator\n",
    "    print()\n",
    "    preds = grid.predict(mafg_Xs_test)\n",
    "    print(f'{scipy.stats.spearmanr(mafg_ys_test, preds)}')\n",
    "    print('\\n', '-' * 80, '\\n')\n",
    "\n",
    "# Ridge results\n",
    "#results[0].sort_values('rank_test_score')[:5]\n",
    "# LassoLARS results\n",
    "#results[1].sort_values('rank_test_score')[:5]"
   ]
  },
  {
   "cell_type": "markdown",
   "metadata": {},
   "source": [
    "### One-hot encodings"
   ]
  },
  {
   "cell_type": "code",
   "execution_count": null,
   "metadata": {},
   "outputs": [],
   "source": [
    "cls_list, param_grid_list, pipe = instantiate_top_models_and_pipe()\n",
    "\n",
    "\n",
    "mafg_oh_xs_train = np.array([st.seq_to_one_hot(x).flatten() for x in  mafg_train[\"mutated_sequence\"]])\n",
    "print(mafg_oh_xs_train.shape)\n",
    "mafg_oh_ys_train = np.array([float(y) for y in mafg_train[\"DMS_score\"]])\n",
    "print(mafg_oh_ys_train.shape)\n",
    "\n",
    "mafg_oh_xs_test = np.array([st.seq_to_one_hot(x).flatten() for x in  mafg_test[\"mutated_sequence\"]])\n",
    "print(mafg_oh_xs_test.shape)\n",
    "mafg_oh_ys_test = np.array([float(y) for y in mafg_test[\"DMS_score\"]])\n",
    "print(mafg_oh_ys_test.shape)\n",
    "\n",
    "results, grids = perform_grid_search(mafg_oh_xs_train, mafg_oh_ys_train, cls_list, param_grid_list, pipe)\n",
    "for grid in grids:\n",
    "    print(grid.best_estimator_.get_params()[\"steps\"][0][1]) # get the model details from the estimator\n",
    "    print()\n",
    "    preds = grid.predict(mafg_oh_xs_test)\n",
    "    print(f'{scipy.stats.spearmanr(mafg_oh_ys_test, preds)}')\n",
    "    print('\\n', '-' * 80, '\\n')\n",
    "\n",
    "# Ridge results\n",
    "#results[0].sort_values('rank_test_score')[:5]\n",
    "# LassoLARS results\n",
    "#results[1].sort_values('rank_test_score')[:5]\n"
   ]
  },
  {
   "cell_type": "markdown",
   "metadata": {},
   "source": [
    "### VAE-MAP "
   ]
  },
  {
   "cell_type": "code",
   "execution_count": 26,
   "metadata": {},
   "outputs": [],
   "source": [
    "def pca_vis(xs, ys, title, num_pca_components = 2):\n",
    "    ### Visualise the a PCA of the VAE latent space\n",
    "    pca = PCA(num_pca_components)\n",
    "    Xs_train_pca = pca.fit_transform(xs)\n",
    "\n",
    "    fig_dims = (7, 6)\n",
    "    fig, ax = plt.subplots(figsize=fig_dims)\n",
    "    sc = ax.scatter(Xs_train_pca[:,0], Xs_train_pca[:,1], c=ys, marker='.')\n",
    "    ax.set_title(title)\n",
    "    ax.set_xlabel(f'PCA1 ({round(pca.explained_variance_[0] * 100, 2)}%)')\n",
    "    ax.set_ylabel(f'PCA2 ({round(pca.explained_variance_[1] * 100, 2)}%)')\n",
    "    plt.colorbar(sc, label='Variant Effect')\n",
    "\n",
    "def get_vae_latent(model, loader, orig_data):\n",
    "    \n",
    "    latent = vs.get_mu(model, loader)\n",
    "    latent.rename(columns={\"id\": \"mutant\"}, inplace=True)\n",
    "    latent = latent.merge(orig_data[[\"mutant\", \"DMS_score\"]], on=\"mutant\")\n",
    "\n",
    "    return latent\n",
    "\n",
    "def create_vae_data(model, loader, orig_data):\n",
    "\n",
    "    latent = get_vae_latent(model, loader, orig_data)    \n",
    "    Xs_train = np.stack(latent[\"mu\"])\n",
    "\n",
    "    #print(\"Xs\")\n",
    "    #print(Xs_train.shape)\n",
    "    ys_train = np.array([float(y) for y in latent[\"DMS_score\"]])\n",
    "    ##print(\"ys\")\n",
    "    #print(ys_train.shape)\n",
    "\n",
    "    return Xs_train, ys_train\n",
    "\n",
    "\n",
    "def train_and_fit_vae_top_model(train_data, test_data, states, labels, protein, cls_list, param_grid_list, pipe, settings):\n",
    "    \n",
    "    device = torch.device(\"mps\")\n",
    "    train_loader = setup_loader(train_data, device)\n",
    "    test_loader = setup_loader(test_data, device)\n",
    "\n",
    "    for state, label in zip(states, labels): \n",
    "        print(label)\n",
    "        seq_len = len(train_data[\"mutated_sequence\"].values[0])\n",
    "        model = instantiate_model(seq_len, device, state, settings)\n",
    "\n",
    "        Xs_train, ys_train = create_vae_data(model, train_loader, train_data)\n",
    "        Xs_test,  ys_test = create_vae_data(model, test_loader, test_data)\n",
    "\n",
    "        pca_vis(Xs_train, ys_train, f\"{protein} {label} model\")\n",
    "\n",
    "        results, grids = perform_grid_search(Xs_train, ys_train, cls_list, param_grid_list, pipe)\n",
    "        for grid in grids:\n",
    "            print(grid.best_estimator_.get_params()[\"steps\"][0][1]) # get the model details from the estimator\n",
    "            print()\n",
    "            preds = grid.predict(Xs_test)\n",
    "            print(f'{scipy.stats.spearmanr(ys_test, preds)}')\n",
    "            print('\\n', '-' * 80, '\\n')\n",
    "\n",
    "    return results, grids"
   ]
  },
  {
   "cell_type": "markdown",
   "metadata": {},
   "source": [
    "### MAFG ancestors/extant models"
   ]
  },
  {
   "cell_type": "code",
   "execution_count": 27,
   "metadata": {},
   "outputs": [
    {
     "ename": "FileNotFoundError",
     "evalue": "[Errno 2] No such file or directory: '../data/dummy_config_50_latent.yaml'",
     "output_type": "error",
     "traceback": [
      "\u001b[0;31m---------------------------------------------------------------------------\u001b[0m",
      "\u001b[0;31mFileNotFoundError\u001b[0m                         Traceback (most recent call last)",
      "Cell \u001b[0;32mIn[27], line 2\u001b[0m\n\u001b[1;32m      1\u001b[0m \u001b[38;5;66;03m# read in dummy config with correct dimensions \u001b[39;00m\n\u001b[0;32m----> 2\u001b[0m \u001b[38;5;28;01mwith\u001b[39;00m \u001b[38;5;28;43mopen\u001b[39;49m\u001b[43m(\u001b[49m\u001b[38;5;124;43m\"\u001b[39;49m\u001b[38;5;124;43m../data/dummy_config_50_latent.yaml\u001b[39;49m\u001b[38;5;124;43m\"\u001b[39;49m\u001b[43m,\u001b[49m\u001b[43m \u001b[49m\u001b[38;5;124;43m\"\u001b[39;49m\u001b[38;5;124;43mr\u001b[39;49m\u001b[38;5;124;43m\"\u001b[39;49m\u001b[43m)\u001b[49m \u001b[38;5;28;01mas\u001b[39;00m stream:\n\u001b[1;32m      3\u001b[0m     settings \u001b[38;5;241m=\u001b[39m yaml\u001b[38;5;241m.\u001b[39msafe_load(stream)\n\u001b[1;32m      5\u001b[0m cls_list, param_grid_list, pipe \u001b[38;5;241m=\u001b[39m instantiate_top_models_and_pipe()\n",
      "File \u001b[0;32m~/.conda/envs/seb_rocm/lib/python3.9/site-packages/IPython/core/interactiveshell.py:284\u001b[0m, in \u001b[0;36m_modified_open\u001b[0;34m(file, *args, **kwargs)\u001b[0m\n\u001b[1;32m    277\u001b[0m \u001b[38;5;28;01mif\u001b[39;00m file \u001b[38;5;129;01min\u001b[39;00m {\u001b[38;5;241m0\u001b[39m, \u001b[38;5;241m1\u001b[39m, \u001b[38;5;241m2\u001b[39m}:\n\u001b[1;32m    278\u001b[0m     \u001b[38;5;28;01mraise\u001b[39;00m \u001b[38;5;167;01mValueError\u001b[39;00m(\n\u001b[1;32m    279\u001b[0m         \u001b[38;5;124mf\u001b[39m\u001b[38;5;124m\"\u001b[39m\u001b[38;5;124mIPython won\u001b[39m\u001b[38;5;124m'\u001b[39m\u001b[38;5;124mt let you open fd=\u001b[39m\u001b[38;5;132;01m{\u001b[39;00mfile\u001b[38;5;132;01m}\u001b[39;00m\u001b[38;5;124m by default \u001b[39m\u001b[38;5;124m\"\u001b[39m\n\u001b[1;32m    280\u001b[0m         \u001b[38;5;124m\"\u001b[39m\u001b[38;5;124mas it is likely to crash IPython. If you know what you are doing, \u001b[39m\u001b[38;5;124m\"\u001b[39m\n\u001b[1;32m    281\u001b[0m         \u001b[38;5;124m\"\u001b[39m\u001b[38;5;124myou can use builtins\u001b[39m\u001b[38;5;124m'\u001b[39m\u001b[38;5;124m open.\u001b[39m\u001b[38;5;124m\"\u001b[39m\n\u001b[1;32m    282\u001b[0m     )\n\u001b[0;32m--> 284\u001b[0m \u001b[38;5;28;01mreturn\u001b[39;00m \u001b[43mio_open\u001b[49m\u001b[43m(\u001b[49m\u001b[43mfile\u001b[49m\u001b[43m,\u001b[49m\u001b[43m \u001b[49m\u001b[38;5;241;43m*\u001b[39;49m\u001b[43margs\u001b[49m\u001b[43m,\u001b[49m\u001b[43m \u001b[49m\u001b[38;5;241;43m*\u001b[39;49m\u001b[38;5;241;43m*\u001b[39;49m\u001b[43mkwargs\u001b[49m\u001b[43m)\u001b[49m\n",
      "\u001b[0;31mFileNotFoundError\u001b[0m: [Errno 2] No such file or directory: '../data/dummy_config_50_latent.yaml'"
     ]
    }
   ],
   "source": [
    "# read in dummy config with correct dimensions \n",
    "with open(\"../data/dummy_config_50_latent.yaml\", \"r\") as stream:\n",
    "    settings = yaml.safe_load(stream)\n",
    "\n",
    "cls_list, param_grid_list, pipe = instantiate_top_models_and_pipe()\n",
    "\n",
    "a_state_dict = \"/Users/sebs_mac/50_latent/mafg_a/mafg_a_r1_fold_1_model_state.pt\"\n",
    "e_state_dict = \"/Users/sebs_mac/50_latent/mafg_e/mafg_e_r1_fold_1_model_state.pt\"\n",
    "states = [a_state_dict, e_state_dict]\n",
    "labels = [\"Ancestors\", \"Extants\"]\n",
    "\n",
    "results, grids = train_and_fit_vae_top_model(mafg_train, mafg_test, states, labels, \"MAFG\",\n",
    "                                              cls_list, param_grid_list, pipe, settings)\n"
   ]
  },
  {
   "cell_type": "markdown",
   "metadata": {},
   "source": [
    "### MAFG clusters"
   ]
  },
  {
   "cell_type": "code",
   "execution_count": null,
   "metadata": {},
   "outputs": [],
   "source": [
    "with open(\"../data/dummy_config.yaml\", \"r\") as stream:\n",
    "    settings = yaml.safe_load(stream)\n",
    "\n",
    "\n",
    "cls_list, param_grid_list, pipe = instantiate_top_models_and_pipe()\n",
    "\n",
    "data_path = \"/Users/sebs_mac/uni_OneDrive/honours/data/seb_clustering_results/mafg_clusters/\"\n",
    "\n",
    "labels = [0.0, 0.05, 0.1, 0.15]\n",
    "\n",
    "states = [data_path + f\"mafg_{prop}/mafg_{prop}_r1/mafg_{prop}_r1_model_state.pt\" for prop in labels]\n",
    "results, grids = train_and_fit_vae_top_model(mafg_train, mafg_test, states, labels, \"MAFG\",\n",
    "                                               cls_list, param_grid_list, pipe, settings)\n"
   ]
  },
  {
   "cell_type": "markdown",
   "metadata": {},
   "source": [
    "# GCN4 \n"
   ]
  },
  {
   "cell_type": "code",
   "execution_count": 11,
   "metadata": {},
   "outputs": [
    {
     "data": {
      "text/html": [
       "<div>\n",
       "<style scoped>\n",
       "    .dataframe tbody tr th:only-of-type {\n",
       "        vertical-align: middle;\n",
       "    }\n",
       "\n",
       "    .dataframe tbody tr th {\n",
       "        vertical-align: top;\n",
       "    }\n",
       "\n",
       "    .dataframe thead th {\n",
       "        text-align: right;\n",
       "    }\n",
       "</style>\n",
       "<table border=\"1\" class=\"dataframe\">\n",
       "  <thead>\n",
       "    <tr style=\"text-align: right;\">\n",
       "      <th></th>\n",
       "      <th>mutant</th>\n",
       "      <th>mutated_sequence</th>\n",
       "      <th>DMS_score</th>\n",
       "      <th>DMS_score_bin</th>\n",
       "      <th>one_hot</th>\n",
       "    </tr>\n",
       "  </thead>\n",
       "  <tbody>\n",
       "    <tr>\n",
       "      <th>0</th>\n",
       "      <td>D103A</td>\n",
       "      <td>MSEYQPSLFALNPMGFSPLDGSKSTNENVSASTSTAKPMVGQLIFD...</td>\n",
       "      <td>1.543932</td>\n",
       "      <td>1</td>\n",
       "      <td>[[0.0, 0.0, 0.0, 0.0, 0.0, 0.0, 0.0, 0.0, 0.0,...</td>\n",
       "    </tr>\n",
       "    <tr>\n",
       "      <th>1</th>\n",
       "      <td>D103A:F108N:K118D:S122Q:V135I:D139W</td>\n",
       "      <td>MSEYQPSLFALNPMGFSPLDGSKSTNENVSASTSTAKPMVGQLIFD...</td>\n",
       "      <td>1.158042</td>\n",
       "      <td>0</td>\n",
       "      <td>[[0.0, 0.0, 0.0, 0.0, 0.0, 0.0, 0.0, 0.0, 0.0,...</td>\n",
       "    </tr>\n",
       "    <tr>\n",
       "      <th>2</th>\n",
       "      <td>D103A:S104T:T105I:P106T:M107L:F108T:E109S:N112...</td>\n",
       "      <td>MSEYQPSLFALNPMGFSPLDGSKSTNENVSASTSTAKPMVGQLIFD...</td>\n",
       "      <td>1.391235</td>\n",
       "      <td>1</td>\n",
       "      <td>[[0.0, 0.0, 0.0, 0.0, 0.0, 0.0, 0.0, 0.0, 0.0,...</td>\n",
       "    </tr>\n",
       "    <tr>\n",
       "      <th>3</th>\n",
       "      <td>D103A:S122A:V130Q:T132M:S144N</td>\n",
       "      <td>MSEYQPSLFALNPMGFSPLDGSKSTNENVSASTSTAKPMVGQLIFD...</td>\n",
       "      <td>1.243840</td>\n",
       "      <td>0</td>\n",
       "      <td>[[0.0, 0.0, 0.0, 0.0, 0.0, 0.0, 0.0, 0.0, 0.0,...</td>\n",
       "    </tr>\n",
       "    <tr>\n",
       "      <th>4</th>\n",
       "      <td>D103A:S122E:S136P:K140S:A141R</td>\n",
       "      <td>MSEYQPSLFALNPMGFSPLDGSKSTNENVSASTSTAKPMVGQLIFD...</td>\n",
       "      <td>1.678492</td>\n",
       "      <td>1</td>\n",
       "      <td>[[0.0, 0.0, 0.0, 0.0, 0.0, 0.0, 0.0, 0.0, 0.0,...</td>\n",
       "    </tr>\n",
       "  </tbody>\n",
       "</table>\n",
       "</div>"
      ],
      "text/plain": [
       "                                              mutant  \\\n",
       "0                                              D103A   \n",
       "1                D103A:F108N:K118D:S122Q:V135I:D139W   \n",
       "2  D103A:S104T:T105I:P106T:M107L:F108T:E109S:N112...   \n",
       "3                      D103A:S122A:V130Q:T132M:S144N   \n",
       "4                      D103A:S122E:S136P:K140S:A141R   \n",
       "\n",
       "                                    mutated_sequence  DMS_score  \\\n",
       "0  MSEYQPSLFALNPMGFSPLDGSKSTNENVSASTSTAKPMVGQLIFD...   1.543932   \n",
       "1  MSEYQPSLFALNPMGFSPLDGSKSTNENVSASTSTAKPMVGQLIFD...   1.158042   \n",
       "2  MSEYQPSLFALNPMGFSPLDGSKSTNENVSASTSTAKPMVGQLIFD...   1.391235   \n",
       "3  MSEYQPSLFALNPMGFSPLDGSKSTNENVSASTSTAKPMVGQLIFD...   1.243840   \n",
       "4  MSEYQPSLFALNPMGFSPLDGSKSTNENVSASTSTAKPMVGQLIFD...   1.678492   \n",
       "\n",
       "   DMS_score_bin                                            one_hot  \n",
       "0              1  [[0.0, 0.0, 0.0, 0.0, 0.0, 0.0, 0.0, 0.0, 0.0,...  \n",
       "1              0  [[0.0, 0.0, 0.0, 0.0, 0.0, 0.0, 0.0, 0.0, 0.0,...  \n",
       "2              1  [[0.0, 0.0, 0.0, 0.0, 0.0, 0.0, 0.0, 0.0, 0.0,...  \n",
       "3              0  [[0.0, 0.0, 0.0, 0.0, 0.0, 0.0, 0.0, 0.0, 0.0,...  \n",
       "4              1  [[0.0, 0.0, 0.0, 0.0, 0.0, 0.0, 0.0, 0.0, 0.0,...  "
      ]
     },
     "execution_count": 11,
     "metadata": {},
     "output_type": "execute_result"
    }
   ],
   "source": [
    "dms_path = \"/scratch/user/s4646506/gcn4/dms_data/\"\n",
    "gcn4_variants = pd.read_csv(dms_path + \"GCN4_YEAST_Staller_2018.csv\")\n",
    "gcn4_variants[\"one_hot\"] = gcn4_variants[\"mutated_sequence\"].apply(st.seq_to_one_hot)\n",
    "gcn4_variants.head()"
   ]
  },
  {
   "cell_type": "code",
   "execution_count": 12,
   "metadata": {},
   "outputs": [
    {
     "data": {
      "text/plain": [
       "((2110, 5), (528, 5))"
      ]
     },
     "execution_count": 12,
     "metadata": {},
     "output_type": "execute_result"
    }
   ],
   "source": [
    "gcn4_train, gcn4_test = train_test_split(gcn4_variants, train_size=0.8, random_state=42)\n",
    "gcn4_train.shape, gcn4_test.shape"
   ]
  },
  {
   "cell_type": "markdown",
   "metadata": {},
   "source": [
    "### ESM2"
   ]
  },
  {
   "cell_type": "code",
   "execution_count": 13,
   "metadata": {},
   "outputs": [
    {
     "name": "stdout",
     "output_type": "stream",
     "text": [
      "Token shape\n",
      "torch.Size([2110, 283, 320])\n",
      "Token shape\n",
      "torch.Size([528, 283, 320])\n"
     ]
    }
   ],
   "source": [
    "gnc4_model, alphabet = esm.pretrained.esm2_t6_8M_UR50D()\n",
    "batch_converter = alphabet.get_batch_converter()\n",
    "gnc4_model = gnc4_model.to(device)\n",
    "gnc4_model.eval()\n",
    "\n",
    "train_gcn4_esm = get_transformer_embeddings(gnc4_model, alphabet, batch_converter, gcn4_train, model_layer=6, device=device)\n",
    "gcn4_train = gcn4_train.merge(train_gcn4_esm, on=\"mutant\")\n",
    "\n",
    "test_gcn4_esm = get_transformer_embeddings(gnc4_model, alphabet, batch_converter, gcn4_test, model_layer=6, device=device)\n",
    "gcn4_test = gcn4_test.merge(test_gcn4_esm, on=\"mutant\")"
   ]
  },
  {
   "cell_type": "code",
   "execution_count": 14,
   "metadata": {},
   "outputs": [
    {
     "name": "stdout",
     "output_type": "stream",
     "text": [
      "Train data created\n",
      "Test data created\n"
     ]
    }
   ],
   "source": [
    "### Turn into arrays for learning/visualisation ###\n",
    "\n",
    "print(\"Train data created\")\n",
    "gcn4_Xs_train = np.stack(gcn4_train[\"embedding\"])\n",
    "gcn4_ys_train = np.array([float(y) for y in gcn4_train[\"DMS_score\"]])\n",
    "\n",
    "print(\"Test data created\")\n",
    "gcn4_Xs_test = np.stack(gcn4_train[\"embedding\"])\n",
    "gcn4_ys_test = np.array([float(y) for y in gcn4_train[\"DMS_score\"]])\n"
   ]
  },
  {
   "cell_type": "code",
   "execution_count": 15,
   "metadata": {},
   "outputs": [
    {
     "data": {
      "text/plain": [
       "<matplotlib.colorbar.Colorbar at 0x7f860a2daca0>"
      ]
     },
     "execution_count": 15,
     "metadata": {},
     "output_type": "execute_result"
    },
    {
     "data": {
      "image/png": "[encoded data removed]",
      "text/plain": [
       "<Figure size 504x432 with 2 Axes>"
      ]
     },
     "metadata": {
      "needs_background": "light"
     },
     "output_type": "display_data"
    }
   ],
   "source": [
    "### Visualise what information the embeddings have captured ###\n",
    "num_pca_components = 50\n",
    "pca = PCA(num_pca_components)\n",
    "Xs_train_pca = pca.fit_transform(gcn4_Xs_train)\n",
    "\n",
    "fig_dims = (7, 6)\n",
    "fig, ax = plt.subplots(figsize=fig_dims)\n",
    "sc = ax.scatter(Xs_train_pca[:,0], Xs_train_pca[:,1], c=gcn4_ys_train, marker='.')\n",
    "ax.set_xlabel('PCA first principal component')\n",
    "ax.set_ylabel('PCA second principal component')\n",
    "plt.colorbar(sc, label='Variant Effect')"
   ]
  },
  {
   "cell_type": "code",
   "execution_count": 16,
   "metadata": {},
   "outputs": [
    {
     "name": "stdout",
     "output_type": "stream",
     "text": [
      "<class 'sklearn.linear_model._ridge.Ridge'>\n",
      "<class 'sklearn.linear_model._least_angle.LassoLars'>\n",
      "Ridge(alpha=0.055557762223988776)\n",
      "\n",
      "SignificanceResult(statistic=0.5845709956038415, pvalue=1.189316223255225e-193)\n",
      "\n",
      " -------------------------------------------------------------------------------- \n",
      "\n",
      "LassoLars(alpha=2.840883690183301e-05)\n",
      "\n",
      "SignificanceResult(statistic=0.5654522334236953, pvalue=1.34598341464721e-178)\n",
      "\n",
      " -------------------------------------------------------------------------------- \n",
      "\n"
     ]
    }
   ],
   "source": [
    "\n",
    "cls_list, param_grid_list, pipe = instantiate_top_models_and_pipe()\n",
    "\n",
    "results, grids = perform_grid_search(gcn4_Xs_train, gcn4_ys_train, cls_list, param_grid_list, pipe)\n",
    "for grid in grids:\n",
    "    print(grid.best_estimator_.get_params()[\"steps\"][0][1]) # get the model details from the estimator\n",
    "    print()\n",
    "    preds = grid.predict(gcn4_Xs_test)\n",
    "    print(f'{scipy.stats.spearmanr(gcn4_ys_test, preds)}')\n",
    "    print('\\n', '-' * 80, '\\n')\n"
   ]
  },
  {
   "cell_type": "markdown",
   "metadata": {},
   "source": [
    "### One-Hot"
   ]
  },
  {
   "cell_type": "code",
   "execution_count": null,
   "metadata": {},
   "outputs": [],
   "source": [
    "gcn4_oh_xs_train = np.array([st.seq_to_one_hot(x).flatten() for x in  gcn4_train[\"mutated_sequence\"]])\n",
    "gcn4_oh_ys_train = np.array([float(y) for y in gcn4_train[\"DMS_score\"]])\n",
    "\n",
    "gcn4_oh_xs_test = np.array([st.seq_to_one_hot(x).flatten() for x in  gcn4_test[\"mutated_sequence\"]])\n",
    "gcn4_oh_ys_test = np.array([float(y) for y in gcn4_test[\"DMS_score\"]])\n"
   ]
  },
  {
   "cell_type": "code",
   "execution_count": null,
   "metadata": {},
   "outputs": [],
   "source": [
    "cls_list, param_grid_list, pipe = instantiate_top_models_and_pipe()\n",
    "\n",
    "results, grids = perform_grid_search(gcn4_oh_xs_train, gcn4_oh_ys_train, cls_list, param_grid_list, pipe)\n",
    "for grid in grids:\n",
    "    print(grid.best_estimator_.get_params()[\"steps\"][0][1]) # get the model details from the estimator\n",
    "    print()\n",
    "    preds = grid.predict(gcn4_oh_xs_test)\n",
    "    print(f'{scipy.stats.spearmanr(gcn4_oh_ys_test, preds)}')\n",
    "    print('\\n', '-' * 80, '\\n')"
   ]
  },
  {
   "cell_type": "markdown",
   "metadata": {},
   "source": [
    "### VAE-MAP"
   ]
  },
  {
   "cell_type": "markdown",
   "metadata": {},
   "source": [
    "### Ancestor/extant models"
   ]
  },
  {
   "cell_type": "code",
   "execution_count": null,
   "metadata": {},
   "outputs": [],
   "source": [
    "# read in dummy config with correct dimensions \n",
    "with open(\"../data/dummy_config_50_latent.yaml\", \"r\") as stream:\n",
    "    settings = yaml.safe_load(stream)\n",
    "\n",
    "# Top model grid search params \n",
    "cls_list, param_grid_list, pipe = instantiate_top_models_and_pipe()\n",
    "\n",
    "# set up the dataloaders \n",
    "device = torch.device(\"mps\")\n",
    "gcn4_a_state_dict = \"/Users/sebs_mac/50_latent/gcn4_a/gcn4_a_r1_fold_1_model_state.pt\"\n",
    "gcn4_e_state_dict = \"/Users/sebs_mac/50_latent/gcn4_e/gcn4_e_r1_fold_1_model_state.pt\"\n",
    "\n",
    "states = [gcn4_a_state_dict, gcn4_e_state_dict]\n",
    "labels = [\"Ancestors\", \"Extants\"]\n",
    "\n",
    "results, grids = train_and_fit_vae_top_model(gcn4_train, gcn4_test, states, labels, \"GCN4\",\n",
    "                                              cls_list, param_grid_list, pipe, settings)\n"
   ]
  },
  {
   "cell_type": "markdown",
   "metadata": {},
   "source": [
    "### GCN4 clusters"
   ]
  },
  {
   "cell_type": "code",
   "execution_count": null,
   "metadata": {},
   "outputs": [],
   "source": [
    "with open(\"../data/dummy_config.yaml\", \"r\") as stream:\n",
    "    settings = yaml.safe_load(stream)\n",
    "\n",
    "data_path = \"/Users/sebs_mac/uni_OneDrive/honours/data/seb_clustering_results/gcn4_seb_clusters/\"\n",
    "\n",
    "labels = [0.0, 0.02, 0.04, 0.06]\n",
    "\n",
    "states = [data_path + f\"gcn4_{prop}/gcn4_{prop}_extants_r1/gcn4_{prop}_extants_r1_model_state.pt\" for prop in labels]\n",
    "\n",
    "results, grids = train_and_fit_vae_top_model(gcn4_train, gcn4_test, states, labels, \"GCN4\",\n",
    "                                               cls_list, param_grid_list, pipe, settings)\n"
   ]
  },
  {
   "cell_type": "markdown",
   "metadata": {},
   "source": [
    "# GFP "
   ]
  },
  {
   "cell_type": "code",
   "execution_count": 16,
   "metadata": {},
   "outputs": [
    {
     "data": {
      "text/html": [
       "<div>\n",
       "<style scoped>\n",
       "    .dataframe tbody tr th:only-of-type {\n",
       "        vertical-align: middle;\n",
       "    }\n",
       "\n",
       "    .dataframe tbody tr th {\n",
       "        vertical-align: top;\n",
       "    }\n",
       "\n",
       "    .dataframe thead th {\n",
       "        text-align: right;\n",
       "    }\n",
       "</style>\n",
       "<table border=\"1\" class=\"dataframe\">\n",
       "  <thead>\n",
       "    <tr style=\"text-align: right;\">\n",
       "      <th></th>\n",
       "      <th>mutant</th>\n",
       "      <th>mutated_sequence</th>\n",
       "      <th>DMS_score</th>\n",
       "      <th>DMS_score_bin</th>\n",
       "      <th>one_hot</th>\n",
       "    </tr>\n",
       "  </thead>\n",
       "  <tbody>\n",
       "    <tr>\n",
       "      <th>0</th>\n",
       "      <td>K3R:V55A:Q94R:A110T:D117G:M153K:D216A</td>\n",
       "      <td>MSRGEELFTGVVPILVELDGDVNGHKFSVSGEGEGDATYGKLTLKF...</td>\n",
       "      <td>1.301030</td>\n",
       "      <td>0</td>\n",
       "      <td>[[0.0, 0.0, 0.0, 0.0, 0.0, 0.0, 0.0, 0.0, 0.0,...</td>\n",
       "    </tr>\n",
       "    <tr>\n",
       "      <th>1</th>\n",
       "      <td>K3Q:V16A:I167T:L195Q</td>\n",
       "      <td>MSQGEELFTGVVPILAELDGDVNGHKFSVSGEGEGDATYGKLTLKF...</td>\n",
       "      <td>3.137350</td>\n",
       "      <td>1</td>\n",
       "      <td>[[0.0, 0.0, 0.0, 0.0, 0.0, 0.0, 0.0, 0.0, 0.0,...</td>\n",
       "    </tr>\n",
       "    <tr>\n",
       "      <th>2</th>\n",
       "      <td>K3Q:Y143C:N164D:S205P:A227T</td>\n",
       "      <td>MSQGEELFTGVVPILVELDGDVNGHKFSVSGEGEGDATYGKLTLKF...</td>\n",
       "      <td>1.553913</td>\n",
       "      <td>0</td>\n",
       "      <td>[[0.0, 0.0, 0.0, 0.0, 0.0, 0.0, 0.0, 0.0, 0.0,...</td>\n",
       "    </tr>\n",
       "    <tr>\n",
       "      <th>3</th>\n",
       "      <td>K3Q:Y143N:V193A</td>\n",
       "      <td>MSQGEELFTGVVPILVELDGDVNGHKFSVSGEGEGDATYGKLTLKF...</td>\n",
       "      <td>3.404237</td>\n",
       "      <td>1</td>\n",
       "      <td>[[0.0, 0.0, 0.0, 0.0, 0.0, 0.0, 0.0, 0.0, 0.0,...</td>\n",
       "    </tr>\n",
       "    <tr>\n",
       "      <th>4</th>\n",
       "      <td>K3R</td>\n",
       "      <td>MSRGEELFTGVVPILVELDGDVNGHKFSVSGEGEGDATYGKLTLKF...</td>\n",
       "      <td>3.738586</td>\n",
       "      <td>1</td>\n",
       "      <td>[[0.0, 0.0, 0.0, 0.0, 0.0, 0.0, 0.0, 0.0, 0.0,...</td>\n",
       "    </tr>\n",
       "  </tbody>\n",
       "</table>\n",
       "</div>"
      ],
      "text/plain": [
       "                                  mutant  \\\n",
       "0  K3R:V55A:Q94R:A110T:D117G:M153K:D216A   \n",
       "1                   K3Q:V16A:I167T:L195Q   \n",
       "2            K3Q:Y143C:N164D:S205P:A227T   \n",
       "3                        K3Q:Y143N:V193A   \n",
       "4                                    K3R   \n",
       "\n",
       "                                    mutated_sequence  DMS_score  \\\n",
       "0  MSRGEELFTGVVPILVELDGDVNGHKFSVSGEGEGDATYGKLTLKF...   1.301030   \n",
       "1  MSQGEELFTGVVPILAELDGDVNGHKFSVSGEGEGDATYGKLTLKF...   3.137350   \n",
       "2  MSQGEELFTGVVPILVELDGDVNGHKFSVSGEGEGDATYGKLTLKF...   1.553913   \n",
       "3  MSQGEELFTGVVPILVELDGDVNGHKFSVSGEGEGDATYGKLTLKF...   3.404237   \n",
       "4  MSRGEELFTGVVPILVELDGDVNGHKFSVSGEGEGDATYGKLTLKF...   3.738586   \n",
       "\n",
       "   DMS_score_bin                                            one_hot  \n",
       "0              0  [[0.0, 0.0, 0.0, 0.0, 0.0, 0.0, 0.0, 0.0, 0.0,...  \n",
       "1              1  [[0.0, 0.0, 0.0, 0.0, 0.0, 0.0, 0.0, 0.0, 0.0,...  \n",
       "2              0  [[0.0, 0.0, 0.0, 0.0, 0.0, 0.0, 0.0, 0.0, 0.0,...  \n",
       "3              1  [[0.0, 0.0, 0.0, 0.0, 0.0, 0.0, 0.0, 0.0, 0.0,...  \n",
       "4              1  [[0.0, 0.0, 0.0, 0.0, 0.0, 0.0, 0.0, 0.0, 0.0,...  "
      ]
     },
     "execution_count": 16,
     "metadata": {},
     "output_type": "execute_result"
    }
   ],
   "source": [
    "dms_path = \"/scratch/user/s4646506/gfp/dms_data/\"\n",
    "gfp_variants = pd.read_csv(dms_path + \"GFP_AEQVI_Sarkisyan_2016.csv\")\n",
    "gfp_variants[\"one_hot\"] = gfp_variants[\"mutated_sequence\"].apply(st.seq_to_one_hot)\n",
    "gfp_variants.head()"
   ]
  },
  {
   "cell_type": "code",
   "execution_count": 17,
   "metadata": {},
   "outputs": [
    {
     "data": {
      "text/plain": [
       "((41371, 5), (10343, 5))"
      ]
     },
     "execution_count": 17,
     "metadata": {},
     "output_type": "execute_result"
    }
   ],
   "source": [
    "gfp_train, gfp_test = train_test_split(gfp_variants, train_size=0.8, random_state=42)\n",
    "gfp_train.shape, gfp_test.shape"
   ]
  },
  {
   "cell_type": "markdown",
   "metadata": {},
   "source": [
    "### ESM2"
   ]
  },
  {
   "cell_type": "code",
   "execution_count": 18,
   "metadata": {},
   "outputs": [
    {
     "ename": "RuntimeError",
     "evalue": "HIP error: invalid configuration argument\nHIP kernel errors might be asynchronously reported at some other API call, so the stacktrace below might be incorrect.\nFor debugging consider passing AMD_SERIALIZE_KERNEL=3.\nCompile with `TORCH_USE_HIP_DSA` to enable device-side assertions.\n",
     "output_type": "error",
     "traceback": [
      "\u001b[0;31m---------------------------------------------------------------------------\u001b[0m",
      "\u001b[0;31mRuntimeError\u001b[0m                              Traceback (most recent call last)",
      "Cell \u001b[0;32mIn[18], line 5\u001b[0m\n\u001b[1;32m      3\u001b[0m model \u001b[38;5;241m=\u001b[39m model\u001b[38;5;241m.\u001b[39mto(device)\n\u001b[1;32m      4\u001b[0m model\u001b[38;5;241m.\u001b[39meval()\n\u001b[0;32m----> 5\u001b[0m train_gfp_esm \u001b[38;5;241m=\u001b[39m \u001b[43mget_transformer_embeddings\u001b[49m\u001b[43m(\u001b[49m\u001b[43mmodel\u001b[49m\u001b[43m,\u001b[49m\u001b[43m \u001b[49m\u001b[43malphabet\u001b[49m\u001b[43m,\u001b[49m\u001b[43m \u001b[49m\u001b[43mbatch_converter\u001b[49m\u001b[43m,\u001b[49m\u001b[43m \u001b[49m\u001b[43mgfp_train\u001b[49m\u001b[43m,\u001b[49m\u001b[43m \u001b[49m\u001b[43mmodel_layer\u001b[49m\u001b[38;5;241;43m=\u001b[39;49m\u001b[38;5;241;43m6\u001b[39;49m\u001b[43m,\u001b[49m\u001b[43m \u001b[49m\u001b[43mdevice\u001b[49m\u001b[38;5;241;43m=\u001b[39;49m\u001b[43mdevice\u001b[49m\u001b[43m)\u001b[49m\n\u001b[1;32m      6\u001b[0m gfp_train \u001b[38;5;241m=\u001b[39m gfp_train\u001b[38;5;241m.\u001b[39mmerge(train_mafg_esm, on\u001b[38;5;241m=\u001b[39m\u001b[38;5;124m\"\u001b[39m\u001b[38;5;124mmutant\u001b[39m\u001b[38;5;124m\"\u001b[39m)\n\u001b[1;32m      8\u001b[0m test_gfp_esm \u001b[38;5;241m=\u001b[39m get_transformer_embeddings(model, alphabet, batch_converter, gfp_test, model_layer\u001b[38;5;241m=\u001b[39m\u001b[38;5;241m6\u001b[39m, device\u001b[38;5;241m=\u001b[39mdevice)\n",
      "Cell \u001b[0;32mIn[4], line 11\u001b[0m, in \u001b[0;36mget_transformer_embeddings\u001b[0;34m(model, alphabet, batch_converter, data, device, model_layer)\u001b[0m\n\u001b[1;32m      9\u001b[0m \u001b[38;5;66;03m# Extract per-residue representations (on CPU)\u001b[39;00m\n\u001b[1;32m     10\u001b[0m \u001b[38;5;28;01mwith\u001b[39;00m torch\u001b[38;5;241m.\u001b[39mno_grad():\n\u001b[0;32m---> 11\u001b[0m     results \u001b[38;5;241m=\u001b[39m \u001b[43mmodel\u001b[49m\u001b[43m(\u001b[49m\u001b[43mbatch_tokens\u001b[49m\u001b[43m,\u001b[49m\u001b[43m \u001b[49m\u001b[43mrepr_layers\u001b[49m\u001b[38;5;241;43m=\u001b[39;49m\u001b[43m[\u001b[49m\u001b[43mmodel_layer\u001b[49m\u001b[43m]\u001b[49m\u001b[43m)\u001b[49m\n\u001b[1;32m     12\u001b[0m token_representations \u001b[38;5;241m=\u001b[39m results[\u001b[38;5;124m\"\u001b[39m\u001b[38;5;124mrepresentations\u001b[39m\u001b[38;5;124m\"\u001b[39m][model_layer]\n\u001b[1;32m     13\u001b[0m \u001b[38;5;28mprint\u001b[39m(\u001b[38;5;124m\"\u001b[39m\u001b[38;5;124mToken shape\u001b[39m\u001b[38;5;124m\"\u001b[39m)\n",
      "File \u001b[0;32m~/.conda/envs/seb_rocm/lib/python3.9/site-packages/torch/nn/modules/module.py:1532\u001b[0m, in \u001b[0;36mModule._wrapped_call_impl\u001b[0;34m(self, *args, **kwargs)\u001b[0m\n\u001b[1;32m   1530\u001b[0m     \u001b[38;5;28;01mreturn\u001b[39;00m \u001b[38;5;28mself\u001b[39m\u001b[38;5;241m.\u001b[39m_compiled_call_impl(\u001b[38;5;241m*\u001b[39margs, \u001b[38;5;241m*\u001b[39m\u001b[38;5;241m*\u001b[39mkwargs)  \u001b[38;5;66;03m# type: ignore[misc]\u001b[39;00m\n\u001b[1;32m   1531\u001b[0m \u001b[38;5;28;01melse\u001b[39;00m:\n\u001b[0;32m-> 1532\u001b[0m     \u001b[38;5;28;01mreturn\u001b[39;00m \u001b[38;5;28;43mself\u001b[39;49m\u001b[38;5;241;43m.\u001b[39;49m\u001b[43m_call_impl\u001b[49m\u001b[43m(\u001b[49m\u001b[38;5;241;43m*\u001b[39;49m\u001b[43margs\u001b[49m\u001b[43m,\u001b[49m\u001b[43m \u001b[49m\u001b[38;5;241;43m*\u001b[39;49m\u001b[38;5;241;43m*\u001b[39;49m\u001b[43mkwargs\u001b[49m\u001b[43m)\u001b[49m\n",
      "File \u001b[0;32m~/.conda/envs/seb_rocm/lib/python3.9/site-packages/torch/nn/modules/module.py:1541\u001b[0m, in \u001b[0;36mModule._call_impl\u001b[0;34m(self, *args, **kwargs)\u001b[0m\n\u001b[1;32m   1536\u001b[0m \u001b[38;5;66;03m# If we don't have any hooks, we want to skip the rest of the logic in\u001b[39;00m\n\u001b[1;32m   1537\u001b[0m \u001b[38;5;66;03m# this function, and just call forward.\u001b[39;00m\n\u001b[1;32m   1538\u001b[0m \u001b[38;5;28;01mif\u001b[39;00m \u001b[38;5;129;01mnot\u001b[39;00m (\u001b[38;5;28mself\u001b[39m\u001b[38;5;241m.\u001b[39m_backward_hooks \u001b[38;5;129;01mor\u001b[39;00m \u001b[38;5;28mself\u001b[39m\u001b[38;5;241m.\u001b[39m_backward_pre_hooks \u001b[38;5;129;01mor\u001b[39;00m \u001b[38;5;28mself\u001b[39m\u001b[38;5;241m.\u001b[39m_forward_hooks \u001b[38;5;129;01mor\u001b[39;00m \u001b[38;5;28mself\u001b[39m\u001b[38;5;241m.\u001b[39m_forward_pre_hooks\n\u001b[1;32m   1539\u001b[0m         \u001b[38;5;129;01mor\u001b[39;00m _global_backward_pre_hooks \u001b[38;5;129;01mor\u001b[39;00m _global_backward_hooks\n\u001b[1;32m   1540\u001b[0m         \u001b[38;5;129;01mor\u001b[39;00m _global_forward_hooks \u001b[38;5;129;01mor\u001b[39;00m _global_forward_pre_hooks):\n\u001b[0;32m-> 1541\u001b[0m     \u001b[38;5;28;01mreturn\u001b[39;00m \u001b[43mforward_call\u001b[49m\u001b[43m(\u001b[49m\u001b[38;5;241;43m*\u001b[39;49m\u001b[43margs\u001b[49m\u001b[43m,\u001b[49m\u001b[43m \u001b[49m\u001b[38;5;241;43m*\u001b[39;49m\u001b[38;5;241;43m*\u001b[39;49m\u001b[43mkwargs\u001b[49m\u001b[43m)\u001b[49m\n\u001b[1;32m   1543\u001b[0m \u001b[38;5;28;01mtry\u001b[39;00m:\n\u001b[1;32m   1544\u001b[0m     result \u001b[38;5;241m=\u001b[39m \u001b[38;5;28;01mNone\u001b[39;00m\n",
      "File \u001b[0;32m~/.conda/envs/seb_rocm/lib/python3.9/site-packages/esm/model/esm2.py:84\u001b[0m, in \u001b[0;36mESM2.forward\u001b[0;34m(self, tokens, repr_layers, need_head_weights, return_contacts)\u001b[0m\n\u001b[1;32m     81\u001b[0m \u001b[38;5;28;01massert\u001b[39;00m tokens\u001b[38;5;241m.\u001b[39mndim \u001b[38;5;241m==\u001b[39m \u001b[38;5;241m2\u001b[39m\n\u001b[1;32m     82\u001b[0m padding_mask \u001b[38;5;241m=\u001b[39m tokens\u001b[38;5;241m.\u001b[39meq(\u001b[38;5;28mself\u001b[39m\u001b[38;5;241m.\u001b[39mpadding_idx)  \u001b[38;5;66;03m# B, T\u001b[39;00m\n\u001b[0;32m---> 84\u001b[0m x \u001b[38;5;241m=\u001b[39m \u001b[38;5;28mself\u001b[39m\u001b[38;5;241m.\u001b[39membed_scale \u001b[38;5;241m*\u001b[39m \u001b[38;5;28;43mself\u001b[39;49m\u001b[38;5;241;43m.\u001b[39;49m\u001b[43membed_tokens\u001b[49m\u001b[43m(\u001b[49m\u001b[43mtokens\u001b[49m\u001b[43m)\u001b[49m\n\u001b[1;32m     86\u001b[0m \u001b[38;5;28;01mif\u001b[39;00m \u001b[38;5;28mself\u001b[39m\u001b[38;5;241m.\u001b[39mtoken_dropout:\n\u001b[1;32m     87\u001b[0m     x\u001b[38;5;241m.\u001b[39mmasked_fill_((tokens \u001b[38;5;241m==\u001b[39m \u001b[38;5;28mself\u001b[39m\u001b[38;5;241m.\u001b[39mmask_idx)\u001b[38;5;241m.\u001b[39munsqueeze(\u001b[38;5;241m-\u001b[39m\u001b[38;5;241m1\u001b[39m), \u001b[38;5;241m0.0\u001b[39m)\n",
      "File \u001b[0;32m~/.conda/envs/seb_rocm/lib/python3.9/site-packages/torch/nn/modules/module.py:1532\u001b[0m, in \u001b[0;36mModule._wrapped_call_impl\u001b[0;34m(self, *args, **kwargs)\u001b[0m\n\u001b[1;32m   1530\u001b[0m     \u001b[38;5;28;01mreturn\u001b[39;00m \u001b[38;5;28mself\u001b[39m\u001b[38;5;241m.\u001b[39m_compiled_call_impl(\u001b[38;5;241m*\u001b[39margs, \u001b[38;5;241m*\u001b[39m\u001b[38;5;241m*\u001b[39mkwargs)  \u001b[38;5;66;03m# type: ignore[misc]\u001b[39;00m\n\u001b[1;32m   1531\u001b[0m \u001b[38;5;28;01melse\u001b[39;00m:\n\u001b[0;32m-> 1532\u001b[0m     \u001b[38;5;28;01mreturn\u001b[39;00m \u001b[38;5;28;43mself\u001b[39;49m\u001b[38;5;241;43m.\u001b[39;49m\u001b[43m_call_impl\u001b[49m\u001b[43m(\u001b[49m\u001b[38;5;241;43m*\u001b[39;49m\u001b[43margs\u001b[49m\u001b[43m,\u001b[49m\u001b[43m \u001b[49m\u001b[38;5;241;43m*\u001b[39;49m\u001b[38;5;241;43m*\u001b[39;49m\u001b[43mkwargs\u001b[49m\u001b[43m)\u001b[49m\n",
      "File \u001b[0;32m~/.conda/envs/seb_rocm/lib/python3.9/site-packages/torch/nn/modules/module.py:1541\u001b[0m, in \u001b[0;36mModule._call_impl\u001b[0;34m(self, *args, **kwargs)\u001b[0m\n\u001b[1;32m   1536\u001b[0m \u001b[38;5;66;03m# If we don't have any hooks, we want to skip the rest of the logic in\u001b[39;00m\n\u001b[1;32m   1537\u001b[0m \u001b[38;5;66;03m# this function, and just call forward.\u001b[39;00m\n\u001b[1;32m   1538\u001b[0m \u001b[38;5;28;01mif\u001b[39;00m \u001b[38;5;129;01mnot\u001b[39;00m (\u001b[38;5;28mself\u001b[39m\u001b[38;5;241m.\u001b[39m_backward_hooks \u001b[38;5;129;01mor\u001b[39;00m \u001b[38;5;28mself\u001b[39m\u001b[38;5;241m.\u001b[39m_backward_pre_hooks \u001b[38;5;129;01mor\u001b[39;00m \u001b[38;5;28mself\u001b[39m\u001b[38;5;241m.\u001b[39m_forward_hooks \u001b[38;5;129;01mor\u001b[39;00m \u001b[38;5;28mself\u001b[39m\u001b[38;5;241m.\u001b[39m_forward_pre_hooks\n\u001b[1;32m   1539\u001b[0m         \u001b[38;5;129;01mor\u001b[39;00m _global_backward_pre_hooks \u001b[38;5;129;01mor\u001b[39;00m _global_backward_hooks\n\u001b[1;32m   1540\u001b[0m         \u001b[38;5;129;01mor\u001b[39;00m _global_forward_hooks \u001b[38;5;129;01mor\u001b[39;00m _global_forward_pre_hooks):\n\u001b[0;32m-> 1541\u001b[0m     \u001b[38;5;28;01mreturn\u001b[39;00m \u001b[43mforward_call\u001b[49m\u001b[43m(\u001b[49m\u001b[38;5;241;43m*\u001b[39;49m\u001b[43margs\u001b[49m\u001b[43m,\u001b[49m\u001b[43m \u001b[49m\u001b[38;5;241;43m*\u001b[39;49m\u001b[38;5;241;43m*\u001b[39;49m\u001b[43mkwargs\u001b[49m\u001b[43m)\u001b[49m\n\u001b[1;32m   1543\u001b[0m \u001b[38;5;28;01mtry\u001b[39;00m:\n\u001b[1;32m   1544\u001b[0m     result \u001b[38;5;241m=\u001b[39m \u001b[38;5;28;01mNone\u001b[39;00m\n",
      "File \u001b[0;32m~/.conda/envs/seb_rocm/lib/python3.9/site-packages/torch/nn/modules/sparse.py:163\u001b[0m, in \u001b[0;36mEmbedding.forward\u001b[0;34m(self, input)\u001b[0m\n\u001b[1;32m    162\u001b[0m \u001b[38;5;28;01mdef\u001b[39;00m \u001b[38;5;21mforward\u001b[39m(\u001b[38;5;28mself\u001b[39m, \u001b[38;5;28minput\u001b[39m: Tensor) \u001b[38;5;241m-\u001b[39m\u001b[38;5;241m>\u001b[39m Tensor:\n\u001b[0;32m--> 163\u001b[0m     \u001b[38;5;28;01mreturn\u001b[39;00m \u001b[43mF\u001b[49m\u001b[38;5;241;43m.\u001b[39;49m\u001b[43membedding\u001b[49m\u001b[43m(\u001b[49m\n\u001b[1;32m    164\u001b[0m \u001b[43m        \u001b[49m\u001b[38;5;28;43minput\u001b[39;49m\u001b[43m,\u001b[49m\u001b[43m \u001b[49m\u001b[38;5;28;43mself\u001b[39;49m\u001b[38;5;241;43m.\u001b[39;49m\u001b[43mweight\u001b[49m\u001b[43m,\u001b[49m\u001b[43m \u001b[49m\u001b[38;5;28;43mself\u001b[39;49m\u001b[38;5;241;43m.\u001b[39;49m\u001b[43mpadding_idx\u001b[49m\u001b[43m,\u001b[49m\u001b[43m \u001b[49m\u001b[38;5;28;43mself\u001b[39;49m\u001b[38;5;241;43m.\u001b[39;49m\u001b[43mmax_norm\u001b[49m\u001b[43m,\u001b[49m\n\u001b[1;32m    165\u001b[0m \u001b[43m        \u001b[49m\u001b[38;5;28;43mself\u001b[39;49m\u001b[38;5;241;43m.\u001b[39;49m\u001b[43mnorm_type\u001b[49m\u001b[43m,\u001b[49m\u001b[43m \u001b[49m\u001b[38;5;28;43mself\u001b[39;49m\u001b[38;5;241;43m.\u001b[39;49m\u001b[43mscale_grad_by_freq\u001b[49m\u001b[43m,\u001b[49m\u001b[43m \u001b[49m\u001b[38;5;28;43mself\u001b[39;49m\u001b[38;5;241;43m.\u001b[39;49m\u001b[43msparse\u001b[49m\u001b[43m)\u001b[49m\n",
      "File \u001b[0;32m~/.conda/envs/seb_rocm/lib/python3.9/site-packages/torch/nn/functional.py:2264\u001b[0m, in \u001b[0;36membedding\u001b[0;34m(input, weight, padding_idx, max_norm, norm_type, scale_grad_by_freq, sparse)\u001b[0m\n\u001b[1;32m   2258\u001b[0m     \u001b[38;5;66;03m# Note [embedding_renorm set_grad_enabled]\u001b[39;00m\n\u001b[1;32m   2259\u001b[0m     \u001b[38;5;66;03m# XXX: equivalent to\u001b[39;00m\n\u001b[1;32m   2260\u001b[0m     \u001b[38;5;66;03m# with torch.no_grad():\u001b[39;00m\n\u001b[1;32m   2261\u001b[0m     \u001b[38;5;66;03m#   torch.embedding_renorm_\u001b[39;00m\n\u001b[1;32m   2262\u001b[0m     \u001b[38;5;66;03m# remove once script supports set_grad_enabled\u001b[39;00m\n\u001b[1;32m   2263\u001b[0m     _no_grad_embedding_renorm_(weight, \u001b[38;5;28minput\u001b[39m, max_norm, norm_type)\n\u001b[0;32m-> 2264\u001b[0m \u001b[38;5;28;01mreturn\u001b[39;00m \u001b[43mtorch\u001b[49m\u001b[38;5;241;43m.\u001b[39;49m\u001b[43membedding\u001b[49m\u001b[43m(\u001b[49m\u001b[43mweight\u001b[49m\u001b[43m,\u001b[49m\u001b[43m \u001b[49m\u001b[38;5;28;43minput\u001b[39;49m\u001b[43m,\u001b[49m\u001b[43m \u001b[49m\u001b[43mpadding_idx\u001b[49m\u001b[43m,\u001b[49m\u001b[43m \u001b[49m\u001b[43mscale_grad_by_freq\u001b[49m\u001b[43m,\u001b[49m\u001b[43m \u001b[49m\u001b[43msparse\u001b[49m\u001b[43m)\u001b[49m\n",
      "\u001b[0;31mRuntimeError\u001b[0m: HIP error: invalid configuration argument\nHIP kernel errors might be asynchronously reported at some other API call, so the stacktrace below might be incorrect.\nFor debugging consider passing AMD_SERIALIZE_KERNEL=3.\nCompile with `TORCH_USE_HIP_DSA` to enable device-side assertions.\n"
     ]
    }
   ],
   "source": [
    "model, alphabet = esm.pretrained.esm2_t6_8M_UR50D()\n",
    "batch_converter = alphabet.get_batch_converter()\n",
    "model = model.to(device)\n",
    "model.eval()\n",
    "train_gfp_esm = get_transformer_embeddings(model, alphabet, batch_converter, gfp_train, model_layer=6, device=device)\n",
    "gfp_train = gfp_train.merge(train_mafg_esm, on=\"mutant\")\n",
    "\n",
    "test_gfp_esm = get_transformer_embeddings(model, alphabet, batch_converter, gfp_test, model_layer=6, device=device)\n",
    "gfp_test = gfp_test.merge(test_gfp_esm, on=\"mutant\")"
   ]
  },
  {
   "cell_type": "code",
   "execution_count": null,
   "metadata": {},
   "outputs": [],
   "source": [
    "print(\"Train data created\")\n",
    "gfp_Xs_train = np.stack(gfp_train[\"embedding\"])\n",
    "gfp_ys_train = np.array([float(y) for y in gfp_train[\"DMS_score\"]])\n",
    "\n",
    "print(\"Test data created\")\n",
    "gfp_Xs_test = np.stack(gfp_train[\"embedding\"])\n",
    "gfp_ys_test = np.array([float(y) for y in gfp_train[\"DMS_score\"]])\n",
    "\n",
    "cls_list, param_grid_list, pipe = instantiate_top_models_and_pipe()\n",
    "\n",
    "results, grids = perform_grid_search(gfp_Xs_train, gfp_ys_train, cls_list, param_grid_list, pipe)\n",
    "for grid in grids:\n",
    "    print(grid.best_estimator_.get_params()[\"steps\"][0][1]) # get the model details from the estimator\n",
    "    print()\n",
    "    preds = grid.predict(gcn4_Xs_test)\n",
    "    print(f'{scipy.stats.spearmanr(gcn4_ys_test, preds)}')\n",
    "    print('\\n', '-' * 80, '\\n')"
   ]
  },
  {
   "cell_type": "code",
   "execution_count": null,
   "metadata": {},
   "outputs": [],
   "source": [
    "### Visualise what information the embeddings have captured ###\n",
    "num_pca_components = 50\n",
    "pca = PCA(num_pca_components)\n",
    "Xs_train_pca = pca.fit_transform(gfp_Xs_train)\n",
    "\n",
    "fig_dims = (7, 6)\n",
    "fig, ax = plt.subplots(figsize=fig_dims)\n",
    "sc = ax.scatter(Xs_train_pca[:,0], Xs_train_pca[:,1], c=gcn4_ys_train, marker='.')\n",
    "ax.set_xlabel('PCA first principal component')\n",
    "ax.set_ylabel('PCA second principal component')\n",
    "plt.colorbar(sc, label='Variant Effect')"
   ]
  },
  {
   "cell_type": "markdown",
   "metadata": {},
   "source": [
    "### One-hot"
   ]
  },
  {
   "cell_type": "code",
   "execution_count": null,
   "metadata": {},
   "outputs": [],
   "source": [
    "results, grids = one_hot_top_model(gfp_train, gfp_test)"
   ]
  },
  {
   "cell_type": "markdown",
   "metadata": {},
   "source": [
    "### GFP ancestors/extant models"
   ]
  },
  {
   "cell_type": "code",
   "execution_count": null,
   "metadata": {},
   "outputs": [],
   "source": [
    "# read in dummy config with correct dimensions \n",
    "with open(\"../data/dummy_config_50_latent.yaml\", \"r\") as stream:\n",
    "    settings = yaml.safe_load(stream)\n",
    "\n",
    "cls_list, param_grid_list, pipe = instantiate_top_models_and_pipe()\n",
    "\n",
    "a_state_dict = \"/Users/sebs_mac/50_latent/gfp_a/gfp_a_r1_wd_0.0_model_state.pt\"\n",
    "e_state_dict = \"/Users/sebs_mac/50_latent/gfp_e/gfp_e_r1_wd_0.0_model_state.pt\"\n",
    "states = [a_state_dict, e_state_dict]\n",
    "labels = [\"Ancestors\", \"Extants\"]\n",
    "\n",
    "results, grids = train_and_fit_vae_top_model(gfp_train, gfp_test, states, labels, \"GFP\",\n",
    "                                              cls_list, param_grid_list, pipe, settings)\n"
   ]
  },
  {
   "cell_type": "markdown",
   "metadata": {},
   "source": [
    "### GFP Clustering"
   ]
  },
  {
   "cell_type": "code",
   "execution_count": null,
   "metadata": {},
   "outputs": [],
   "source": [
    "with open(\"../data/dummy_config.yaml\", \"r\") as stream:\n",
    "    settings = yaml.safe_load(stream)\n",
    "\n",
    "cls_list, param_grid_list, pipe = instantiate_top_models_and_pipe()\n",
    "\n",
    "data_path = \"/Users/sebs_mac/uni_OneDrive/honours/data/seb_clustering_results/gfp_seb_clusters/\"\n",
    "\n",
    "labels = [0.0, 0.05, 0.1, 0.15, 0.2]\n",
    "\n",
    "states = [data_path + f\"gfp_{prop}/gfp_{prop}_extants_r1/gfp_{prop}_extants_r1_model_state.pt\" for prop in labels]\n",
    "results, grids = train_and_fit_vae_top_model(gfp_train, gfp_test, states, labels, \"GFP\",\n",
    "                                               cls_list, param_grid_list, pipe, settings)"
   ]
  },
  {
   "cell_type": "markdown",
   "metadata": {},
   "source": [
    "# A4"
   ]
  },
  {
   "cell_type": "code",
   "execution_count": 20,
   "metadata": {},
   "outputs": [
    {
     "data": {
      "text/html": [
       "<div>\n",
       "<style scoped>\n",
       "    .dataframe tbody tr th:only-of-type {\n",
       "        vertical-align: middle;\n",
       "    }\n",
       "\n",
       "    .dataframe tbody tr th {\n",
       "        vertical-align: top;\n",
       "    }\n",
       "\n",
       "    .dataframe thead th {\n",
       "        text-align: right;\n",
       "    }\n",
       "</style>\n",
       "<table border=\"1\" class=\"dataframe\">\n",
       "  <thead>\n",
       "    <tr style=\"text-align: right;\">\n",
       "      <th></th>\n",
       "      <th>mutant</th>\n",
       "      <th>mutated_sequence</th>\n",
       "      <th>DMS_score</th>\n",
       "      <th>DMS_score_bin</th>\n",
       "      <th>one_hot</th>\n",
       "    </tr>\n",
       "  </thead>\n",
       "  <tbody>\n",
       "    <tr>\n",
       "      <th>0</th>\n",
       "      <td>A673C</td>\n",
       "      <td>MLPGLALLLLAAWTARALEVPTDGNAGLLAEPQIAMFCGRLNMHMN...</td>\n",
       "      <td>-1.018869</td>\n",
       "      <td>1</td>\n",
       "      <td>[[0.0, 0.0, 0.0, 0.0, 0.0, 0.0, 0.0, 0.0, 0.0,...</td>\n",
       "    </tr>\n",
       "    <tr>\n",
       "      <th>1</th>\n",
       "      <td>A673D</td>\n",
       "      <td>MLPGLALLLLAAWTARALEVPTDGNAGLLAEPQIAMFCGRLNMHMN...</td>\n",
       "      <td>-0.605052</td>\n",
       "      <td>1</td>\n",
       "      <td>[[0.0, 0.0, 0.0, 0.0, 0.0, 0.0, 0.0, 0.0, 0.0,...</td>\n",
       "    </tr>\n",
       "    <tr>\n",
       "      <th>2</th>\n",
       "      <td>A673E</td>\n",
       "      <td>MLPGLALLLLAAWTARALEVPTDGNAGLLAEPQIAMFCGRLNMHMN...</td>\n",
       "      <td>-0.590857</td>\n",
       "      <td>1</td>\n",
       "      <td>[[0.0, 0.0, 0.0, 0.0, 0.0, 0.0, 0.0, 0.0, 0.0,...</td>\n",
       "    </tr>\n",
       "    <tr>\n",
       "      <th>3</th>\n",
       "      <td>A673E:A692E</td>\n",
       "      <td>MLPGLALLLLAAWTARALEVPTDGNAGLLAEPQIAMFCGRLNMHMN...</td>\n",
       "      <td>-2.443601</td>\n",
       "      <td>0</td>\n",
       "      <td>[[0.0, 0.0, 0.0, 0.0, 0.0, 0.0, 0.0, 0.0, 0.0,...</td>\n",
       "    </tr>\n",
       "    <tr>\n",
       "      <th>4</th>\n",
       "      <td>A673E:A692T</td>\n",
       "      <td>MLPGLALLLLAAWTARALEVPTDGNAGLLAEPQIAMFCGRLNMHMN...</td>\n",
       "      <td>-3.049893</td>\n",
       "      <td>0</td>\n",
       "      <td>[[0.0, 0.0, 0.0, 0.0, 0.0, 0.0, 0.0, 0.0, 0.0,...</td>\n",
       "    </tr>\n",
       "  </tbody>\n",
       "</table>\n",
       "</div>"
      ],
      "text/plain": [
       "        mutant                                   mutated_sequence  DMS_score  \\\n",
       "0        A673C  MLPGLALLLLAAWTARALEVPTDGNAGLLAEPQIAMFCGRLNMHMN...  -1.018869   \n",
       "1        A673D  MLPGLALLLLAAWTARALEVPTDGNAGLLAEPQIAMFCGRLNMHMN...  -0.605052   \n",
       "2        A673E  MLPGLALLLLAAWTARALEVPTDGNAGLLAEPQIAMFCGRLNMHMN...  -0.590857   \n",
       "3  A673E:A692E  MLPGLALLLLAAWTARALEVPTDGNAGLLAEPQIAMFCGRLNMHMN...  -2.443601   \n",
       "4  A673E:A692T  MLPGLALLLLAAWTARALEVPTDGNAGLLAEPQIAMFCGRLNMHMN...  -3.049893   \n",
       "\n",
       "   DMS_score_bin                                            one_hot  \n",
       "0              1  [[0.0, 0.0, 0.0, 0.0, 0.0, 0.0, 0.0, 0.0, 0.0,...  \n",
       "1              1  [[0.0, 0.0, 0.0, 0.0, 0.0, 0.0, 0.0, 0.0, 0.0,...  \n",
       "2              1  [[0.0, 0.0, 0.0, 0.0, 0.0, 0.0, 0.0, 0.0, 0.0,...  \n",
       "3              0  [[0.0, 0.0, 0.0, 0.0, 0.0, 0.0, 0.0, 0.0, 0.0,...  \n",
       "4              0  [[0.0, 0.0, 0.0, 0.0, 0.0, 0.0, 0.0, 0.0, 0.0,...  "
      ]
     },
     "execution_count": 20,
     "metadata": {},
     "output_type": "execute_result"
    }
   ],
   "source": [
    "dms_path = \"/scratch/user/s4646506/a4/dms_data/\"\n",
    "a4_variants = pd.read_csv(dms_path + \"A4_HUMAN_Seuma_2022.csv\")\n",
    "a4_variants[\"one_hot\"] = a4_variants[\"mutated_sequence\"].apply(st.seq_to_one_hot)\n",
    "a4_variants.head()"
   ]
  },
  {
   "cell_type": "code",
   "execution_count": 21,
   "metadata": {},
   "outputs": [
    {
     "data": {
      "text/plain": [
       "((11848, 5), (2963, 5))"
      ]
     },
     "execution_count": 21,
     "metadata": {},
     "output_type": "execute_result"
    }
   ],
   "source": [
    "a4_train, a4_test = train_test_split(a4_variants, train_size=0.8, random_state=42)\n",
    "a4_train.shape, a4_test.shape"
   ]
  },
  {
   "cell_type": "markdown",
   "metadata": {},
   "source": [
    "### ESM2"
   ]
  },
  {
   "cell_type": "code",
   "execution_count": 23,
   "metadata": {},
   "outputs": [
    {
     "ename": "RuntimeError",
     "evalue": "HIP error: invalid configuration argument\nHIP kernel errors might be asynchronously reported at some other API call, so the stacktrace below might be incorrect.\nFor debugging consider passing AMD_SERIALIZE_KERNEL=3.\nCompile with `TORCH_USE_HIP_DSA` to enable device-side assertions.\n",
     "output_type": "error",
     "traceback": [
      "\u001b[0;31m---------------------------------------------------------------------------\u001b[0m",
      "\u001b[0;31mRuntimeError\u001b[0m                              Traceback (most recent call last)",
      "Cell \u001b[0;32mIn[23], line 5\u001b[0m\n\u001b[1;32m      3\u001b[0m model\u001b[38;5;241m.\u001b[39meval()\n\u001b[1;32m      4\u001b[0m model \u001b[38;5;241m=\u001b[39m model\u001b[38;5;241m.\u001b[39mto(device)\n\u001b[0;32m----> 5\u001b[0m train_a4_esm \u001b[38;5;241m=\u001b[39m \u001b[43mget_transformer_embeddings\u001b[49m\u001b[43m(\u001b[49m\u001b[43mmodel\u001b[49m\u001b[43m,\u001b[49m\u001b[43m \u001b[49m\u001b[43malphabet\u001b[49m\u001b[43m,\u001b[49m\u001b[43m \u001b[49m\u001b[43mbatch_converter\u001b[49m\u001b[43m,\u001b[49m\u001b[43m \u001b[49m\u001b[43ma4_train\u001b[49m\u001b[43m,\u001b[49m\u001b[43m \u001b[49m\u001b[43mmodel_layer\u001b[49m\u001b[38;5;241;43m=\u001b[39;49m\u001b[38;5;241;43m6\u001b[39;49m\u001b[43m,\u001b[49m\u001b[43m \u001b[49m\u001b[43mdevice\u001b[49m\u001b[38;5;241;43m=\u001b[39;49m\u001b[43mdevice\u001b[49m\u001b[43m)\u001b[49m\n\u001b[1;32m      6\u001b[0m a4_train \u001b[38;5;241m=\u001b[39m a4_train\u001b[38;5;241m.\u001b[39mmerge(train_a4_esm, on\u001b[38;5;241m=\u001b[39m\u001b[38;5;124m\"\u001b[39m\u001b[38;5;124mmutant\u001b[39m\u001b[38;5;124m\"\u001b[39m)\n\u001b[1;32m      8\u001b[0m test_a4_esm \u001b[38;5;241m=\u001b[39m get_transformer_embeddings(model, alphabet, batch_converter, a4_test, model_layer\u001b[38;5;241m=\u001b[39m\u001b[38;5;241m6\u001b[39m, device\u001b[38;5;241m=\u001b[39mdevice)\n",
      "Cell \u001b[0;32mIn[4], line 11\u001b[0m, in \u001b[0;36mget_transformer_embeddings\u001b[0;34m(model, alphabet, batch_converter, data, device, model_layer)\u001b[0m\n\u001b[1;32m      9\u001b[0m \u001b[38;5;66;03m# Extract per-residue representations (on CPU)\u001b[39;00m\n\u001b[1;32m     10\u001b[0m \u001b[38;5;28;01mwith\u001b[39;00m torch\u001b[38;5;241m.\u001b[39mno_grad():\n\u001b[0;32m---> 11\u001b[0m     results \u001b[38;5;241m=\u001b[39m \u001b[43mmodel\u001b[49m\u001b[43m(\u001b[49m\u001b[43mbatch_tokens\u001b[49m\u001b[43m,\u001b[49m\u001b[43m \u001b[49m\u001b[43mrepr_layers\u001b[49m\u001b[38;5;241;43m=\u001b[39;49m\u001b[43m[\u001b[49m\u001b[43mmodel_layer\u001b[49m\u001b[43m]\u001b[49m\u001b[43m)\u001b[49m\n\u001b[1;32m     12\u001b[0m token_representations \u001b[38;5;241m=\u001b[39m results[\u001b[38;5;124m\"\u001b[39m\u001b[38;5;124mrepresentations\u001b[39m\u001b[38;5;124m\"\u001b[39m][model_layer]\n\u001b[1;32m     13\u001b[0m \u001b[38;5;28mprint\u001b[39m(\u001b[38;5;124m\"\u001b[39m\u001b[38;5;124mToken shape\u001b[39m\u001b[38;5;124m\"\u001b[39m)\n",
      "File \u001b[0;32m~/.conda/envs/seb_rocm/lib/python3.9/site-packages/torch/nn/modules/module.py:1532\u001b[0m, in \u001b[0;36mModule._wrapped_call_impl\u001b[0;34m(self, *args, **kwargs)\u001b[0m\n\u001b[1;32m   1530\u001b[0m     \u001b[38;5;28;01mreturn\u001b[39;00m \u001b[38;5;28mself\u001b[39m\u001b[38;5;241m.\u001b[39m_compiled_call_impl(\u001b[38;5;241m*\u001b[39margs, \u001b[38;5;241m*\u001b[39m\u001b[38;5;241m*\u001b[39mkwargs)  \u001b[38;5;66;03m# type: ignore[misc]\u001b[39;00m\n\u001b[1;32m   1531\u001b[0m \u001b[38;5;28;01melse\u001b[39;00m:\n\u001b[0;32m-> 1532\u001b[0m     \u001b[38;5;28;01mreturn\u001b[39;00m \u001b[38;5;28;43mself\u001b[39;49m\u001b[38;5;241;43m.\u001b[39;49m\u001b[43m_call_impl\u001b[49m\u001b[43m(\u001b[49m\u001b[38;5;241;43m*\u001b[39;49m\u001b[43margs\u001b[49m\u001b[43m,\u001b[49m\u001b[43m \u001b[49m\u001b[38;5;241;43m*\u001b[39;49m\u001b[38;5;241;43m*\u001b[39;49m\u001b[43mkwargs\u001b[49m\u001b[43m)\u001b[49m\n",
      "File \u001b[0;32m~/.conda/envs/seb_rocm/lib/python3.9/site-packages/torch/nn/modules/module.py:1541\u001b[0m, in \u001b[0;36mModule._call_impl\u001b[0;34m(self, *args, **kwargs)\u001b[0m\n\u001b[1;32m   1536\u001b[0m \u001b[38;5;66;03m# If we don't have any hooks, we want to skip the rest of the logic in\u001b[39;00m\n\u001b[1;32m   1537\u001b[0m \u001b[38;5;66;03m# this function, and just call forward.\u001b[39;00m\n\u001b[1;32m   1538\u001b[0m \u001b[38;5;28;01mif\u001b[39;00m \u001b[38;5;129;01mnot\u001b[39;00m (\u001b[38;5;28mself\u001b[39m\u001b[38;5;241m.\u001b[39m_backward_hooks \u001b[38;5;129;01mor\u001b[39;00m \u001b[38;5;28mself\u001b[39m\u001b[38;5;241m.\u001b[39m_backward_pre_hooks \u001b[38;5;129;01mor\u001b[39;00m \u001b[38;5;28mself\u001b[39m\u001b[38;5;241m.\u001b[39m_forward_hooks \u001b[38;5;129;01mor\u001b[39;00m \u001b[38;5;28mself\u001b[39m\u001b[38;5;241m.\u001b[39m_forward_pre_hooks\n\u001b[1;32m   1539\u001b[0m         \u001b[38;5;129;01mor\u001b[39;00m _global_backward_pre_hooks \u001b[38;5;129;01mor\u001b[39;00m _global_backward_hooks\n\u001b[1;32m   1540\u001b[0m         \u001b[38;5;129;01mor\u001b[39;00m _global_forward_hooks \u001b[38;5;129;01mor\u001b[39;00m _global_forward_pre_hooks):\n\u001b[0;32m-> 1541\u001b[0m     \u001b[38;5;28;01mreturn\u001b[39;00m \u001b[43mforward_call\u001b[49m\u001b[43m(\u001b[49m\u001b[38;5;241;43m*\u001b[39;49m\u001b[43margs\u001b[49m\u001b[43m,\u001b[49m\u001b[43m \u001b[49m\u001b[38;5;241;43m*\u001b[39;49m\u001b[38;5;241;43m*\u001b[39;49m\u001b[43mkwargs\u001b[49m\u001b[43m)\u001b[49m\n\u001b[1;32m   1543\u001b[0m \u001b[38;5;28;01mtry\u001b[39;00m:\n\u001b[1;32m   1544\u001b[0m     result \u001b[38;5;241m=\u001b[39m \u001b[38;5;28;01mNone\u001b[39;00m\n",
      "File \u001b[0;32m~/.conda/envs/seb_rocm/lib/python3.9/site-packages/esm/model/esm2.py:84\u001b[0m, in \u001b[0;36mESM2.forward\u001b[0;34m(self, tokens, repr_layers, need_head_weights, return_contacts)\u001b[0m\n\u001b[1;32m     81\u001b[0m \u001b[38;5;28;01massert\u001b[39;00m tokens\u001b[38;5;241m.\u001b[39mndim \u001b[38;5;241m==\u001b[39m \u001b[38;5;241m2\u001b[39m\n\u001b[1;32m     82\u001b[0m padding_mask \u001b[38;5;241m=\u001b[39m tokens\u001b[38;5;241m.\u001b[39meq(\u001b[38;5;28mself\u001b[39m\u001b[38;5;241m.\u001b[39mpadding_idx)  \u001b[38;5;66;03m# B, T\u001b[39;00m\n\u001b[0;32m---> 84\u001b[0m x \u001b[38;5;241m=\u001b[39m \u001b[38;5;28mself\u001b[39m\u001b[38;5;241m.\u001b[39membed_scale \u001b[38;5;241m*\u001b[39m \u001b[38;5;28;43mself\u001b[39;49m\u001b[38;5;241;43m.\u001b[39;49m\u001b[43membed_tokens\u001b[49m\u001b[43m(\u001b[49m\u001b[43mtokens\u001b[49m\u001b[43m)\u001b[49m\n\u001b[1;32m     86\u001b[0m \u001b[38;5;28;01mif\u001b[39;00m \u001b[38;5;28mself\u001b[39m\u001b[38;5;241m.\u001b[39mtoken_dropout:\n\u001b[1;32m     87\u001b[0m     x\u001b[38;5;241m.\u001b[39mmasked_fill_((tokens \u001b[38;5;241m==\u001b[39m \u001b[38;5;28mself\u001b[39m\u001b[38;5;241m.\u001b[39mmask_idx)\u001b[38;5;241m.\u001b[39munsqueeze(\u001b[38;5;241m-\u001b[39m\u001b[38;5;241m1\u001b[39m), \u001b[38;5;241m0.0\u001b[39m)\n",
      "File \u001b[0;32m~/.conda/envs/seb_rocm/lib/python3.9/site-packages/torch/nn/modules/module.py:1532\u001b[0m, in \u001b[0;36mModule._wrapped_call_impl\u001b[0;34m(self, *args, **kwargs)\u001b[0m\n\u001b[1;32m   1530\u001b[0m     \u001b[38;5;28;01mreturn\u001b[39;00m \u001b[38;5;28mself\u001b[39m\u001b[38;5;241m.\u001b[39m_compiled_call_impl(\u001b[38;5;241m*\u001b[39margs, \u001b[38;5;241m*\u001b[39m\u001b[38;5;241m*\u001b[39mkwargs)  \u001b[38;5;66;03m# type: ignore[misc]\u001b[39;00m\n\u001b[1;32m   1531\u001b[0m \u001b[38;5;28;01melse\u001b[39;00m:\n\u001b[0;32m-> 1532\u001b[0m     \u001b[38;5;28;01mreturn\u001b[39;00m \u001b[38;5;28;43mself\u001b[39;49m\u001b[38;5;241;43m.\u001b[39;49m\u001b[43m_call_impl\u001b[49m\u001b[43m(\u001b[49m\u001b[38;5;241;43m*\u001b[39;49m\u001b[43margs\u001b[49m\u001b[43m,\u001b[49m\u001b[43m \u001b[49m\u001b[38;5;241;43m*\u001b[39;49m\u001b[38;5;241;43m*\u001b[39;49m\u001b[43mkwargs\u001b[49m\u001b[43m)\u001b[49m\n",
      "File \u001b[0;32m~/.conda/envs/seb_rocm/lib/python3.9/site-packages/torch/nn/modules/module.py:1541\u001b[0m, in \u001b[0;36mModule._call_impl\u001b[0;34m(self, *args, **kwargs)\u001b[0m\n\u001b[1;32m   1536\u001b[0m \u001b[38;5;66;03m# If we don't have any hooks, we want to skip the rest of the logic in\u001b[39;00m\n\u001b[1;32m   1537\u001b[0m \u001b[38;5;66;03m# this function, and just call forward.\u001b[39;00m\n\u001b[1;32m   1538\u001b[0m \u001b[38;5;28;01mif\u001b[39;00m \u001b[38;5;129;01mnot\u001b[39;00m (\u001b[38;5;28mself\u001b[39m\u001b[38;5;241m.\u001b[39m_backward_hooks \u001b[38;5;129;01mor\u001b[39;00m \u001b[38;5;28mself\u001b[39m\u001b[38;5;241m.\u001b[39m_backward_pre_hooks \u001b[38;5;129;01mor\u001b[39;00m \u001b[38;5;28mself\u001b[39m\u001b[38;5;241m.\u001b[39m_forward_hooks \u001b[38;5;129;01mor\u001b[39;00m \u001b[38;5;28mself\u001b[39m\u001b[38;5;241m.\u001b[39m_forward_pre_hooks\n\u001b[1;32m   1539\u001b[0m         \u001b[38;5;129;01mor\u001b[39;00m _global_backward_pre_hooks \u001b[38;5;129;01mor\u001b[39;00m _global_backward_hooks\n\u001b[1;32m   1540\u001b[0m         \u001b[38;5;129;01mor\u001b[39;00m _global_forward_hooks \u001b[38;5;129;01mor\u001b[39;00m _global_forward_pre_hooks):\n\u001b[0;32m-> 1541\u001b[0m     \u001b[38;5;28;01mreturn\u001b[39;00m \u001b[43mforward_call\u001b[49m\u001b[43m(\u001b[49m\u001b[38;5;241;43m*\u001b[39;49m\u001b[43margs\u001b[49m\u001b[43m,\u001b[49m\u001b[43m \u001b[49m\u001b[38;5;241;43m*\u001b[39;49m\u001b[38;5;241;43m*\u001b[39;49m\u001b[43mkwargs\u001b[49m\u001b[43m)\u001b[49m\n\u001b[1;32m   1543\u001b[0m \u001b[38;5;28;01mtry\u001b[39;00m:\n\u001b[1;32m   1544\u001b[0m     result \u001b[38;5;241m=\u001b[39m \u001b[38;5;28;01mNone\u001b[39;00m\n",
      "File \u001b[0;32m~/.conda/envs/seb_rocm/lib/python3.9/site-packages/torch/nn/modules/sparse.py:163\u001b[0m, in \u001b[0;36mEmbedding.forward\u001b[0;34m(self, input)\u001b[0m\n\u001b[1;32m    162\u001b[0m \u001b[38;5;28;01mdef\u001b[39;00m \u001b[38;5;21mforward\u001b[39m(\u001b[38;5;28mself\u001b[39m, \u001b[38;5;28minput\u001b[39m: Tensor) \u001b[38;5;241m-\u001b[39m\u001b[38;5;241m>\u001b[39m Tensor:\n\u001b[0;32m--> 163\u001b[0m     \u001b[38;5;28;01mreturn\u001b[39;00m \u001b[43mF\u001b[49m\u001b[38;5;241;43m.\u001b[39;49m\u001b[43membedding\u001b[49m\u001b[43m(\u001b[49m\n\u001b[1;32m    164\u001b[0m \u001b[43m        \u001b[49m\u001b[38;5;28;43minput\u001b[39;49m\u001b[43m,\u001b[49m\u001b[43m \u001b[49m\u001b[38;5;28;43mself\u001b[39;49m\u001b[38;5;241;43m.\u001b[39;49m\u001b[43mweight\u001b[49m\u001b[43m,\u001b[49m\u001b[43m \u001b[49m\u001b[38;5;28;43mself\u001b[39;49m\u001b[38;5;241;43m.\u001b[39;49m\u001b[43mpadding_idx\u001b[49m\u001b[43m,\u001b[49m\u001b[43m \u001b[49m\u001b[38;5;28;43mself\u001b[39;49m\u001b[38;5;241;43m.\u001b[39;49m\u001b[43mmax_norm\u001b[49m\u001b[43m,\u001b[49m\n\u001b[1;32m    165\u001b[0m \u001b[43m        \u001b[49m\u001b[38;5;28;43mself\u001b[39;49m\u001b[38;5;241;43m.\u001b[39;49m\u001b[43mnorm_type\u001b[49m\u001b[43m,\u001b[49m\u001b[43m \u001b[49m\u001b[38;5;28;43mself\u001b[39;49m\u001b[38;5;241;43m.\u001b[39;49m\u001b[43mscale_grad_by_freq\u001b[49m\u001b[43m,\u001b[49m\u001b[43m \u001b[49m\u001b[38;5;28;43mself\u001b[39;49m\u001b[38;5;241;43m.\u001b[39;49m\u001b[43msparse\u001b[49m\u001b[43m)\u001b[49m\n",
      "File \u001b[0;32m~/.conda/envs/seb_rocm/lib/python3.9/site-packages/torch/nn/functional.py:2264\u001b[0m, in \u001b[0;36membedding\u001b[0;34m(input, weight, padding_idx, max_norm, norm_type, scale_grad_by_freq, sparse)\u001b[0m\n\u001b[1;32m   2258\u001b[0m     \u001b[38;5;66;03m# Note [embedding_renorm set_grad_enabled]\u001b[39;00m\n\u001b[1;32m   2259\u001b[0m     \u001b[38;5;66;03m# XXX: equivalent to\u001b[39;00m\n\u001b[1;32m   2260\u001b[0m     \u001b[38;5;66;03m# with torch.no_grad():\u001b[39;00m\n\u001b[1;32m   2261\u001b[0m     \u001b[38;5;66;03m#   torch.embedding_renorm_\u001b[39;00m\n\u001b[1;32m   2262\u001b[0m     \u001b[38;5;66;03m# remove once script supports set_grad_enabled\u001b[39;00m\n\u001b[1;32m   2263\u001b[0m     _no_grad_embedding_renorm_(weight, \u001b[38;5;28minput\u001b[39m, max_norm, norm_type)\n\u001b[0;32m-> 2264\u001b[0m \u001b[38;5;28;01mreturn\u001b[39;00m \u001b[43mtorch\u001b[49m\u001b[38;5;241;43m.\u001b[39;49m\u001b[43membedding\u001b[49m\u001b[43m(\u001b[49m\u001b[43mweight\u001b[49m\u001b[43m,\u001b[49m\u001b[43m \u001b[49m\u001b[38;5;28;43minput\u001b[39;49m\u001b[43m,\u001b[49m\u001b[43m \u001b[49m\u001b[43mpadding_idx\u001b[49m\u001b[43m,\u001b[49m\u001b[43m \u001b[49m\u001b[43mscale_grad_by_freq\u001b[49m\u001b[43m,\u001b[49m\u001b[43m \u001b[49m\u001b[43msparse\u001b[49m\u001b[43m)\u001b[49m\n",
      "\u001b[0;31mRuntimeError\u001b[0m: HIP error: invalid configuration argument\nHIP kernel errors might be asynchronously reported at some other API call, so the stacktrace below might be incorrect.\nFor debugging consider passing AMD_SERIALIZE_KERNEL=3.\nCompile with `TORCH_USE_HIP_DSA` to enable device-side assertions.\n"
     ]
    }
   ],
   "source": [
    "model, alphabet = esm.pretrained.esm2_t6_8M_UR50D()\n",
    "batch_converter = alphabet.get_batch_converter()\n",
    "model.eval()\n",
    "model = model.to(device)\n",
    "train_a4_esm = get_transformer_embeddings(model, alphabet, batch_converter, a4_train, model_layer=6, device=device)\n",
    "a4_train = a4_train.merge(train_a4_esm, on=\"mutant\")\n",
    "\n",
    "test_a4_esm = get_transformer_embeddings(model, alphabet, batch_converter, a4_test, model_layer=6, device=device)\n",
    "a4_test = a4_test.merge(test_a4_esm, on=\"mutant\")"
   ]
  },
  {
   "cell_type": "code",
   "execution_count": null,
   "metadata": {},
   "outputs": [],
   "source": [
    "\n",
    "a4_Xs_train = np.stack(a4_train[\"embedding\"])\n",
    "a4_ys_train = np.array([float(y) for y in a4_train[\"DMS_score\"]])\n",
    "a4_Xs_test = np.stack(a4_train[\"embedding\"])\n",
    "a4_ys_test = np.array([float(y) for y in a4_train[\"DMS_score\"]])\n",
    "\n",
    "cls_list, param_grid_list, pipe = instantiate_top_models_and_pipe()\n",
    "\n",
    "results, grids = perform_grid_search(a4_Xs_train, a4_ys_train, cls_list, param_grid_list, pipe)\n",
    "for grid in grids:\n",
    "    print(grid.best_estimator_.get_params()[\"steps\"][0][1]) # get the model details from the estimator\n",
    "    print()\n",
    "    preds = grid.predict(a4_Xs_test)\n",
    "    print(f'{scipy.stats.spearmanr(a4_ys_test, preds)}')\n",
    "    print('\\n', '-' * 80, '\\n')"
   ]
  },
  {
   "cell_type": "markdown",
   "metadata": {},
   "source": [
    "### One-hot"
   ]
  },
  {
   "cell_type": "code",
   "execution_count": null,
   "metadata": {},
   "outputs": [],
   "source": [
    "results, grids = one_hot_top_model(a4_train, a4_test)"
   ]
  },
  {
   "cell_type": "markdown",
   "metadata": {},
   "source": [
    "### A4 ancestors/extant models"
   ]
  },
  {
   "cell_type": "code",
   "execution_count": null,
   "metadata": {},
   "outputs": [],
   "source": [
    "# read in dummy config with correct dimensions \n",
    "with open(\"../data/dummy_config_50_latent.yaml\", \"r\") as stream:\n",
    "    settings = yaml.safe_load(stream)\n",
    "\n",
    "cls_list, param_grid_list, pipe = instantiate_top_models_and_pipe()\n",
    "\n",
    "a_state_dict = \"/Users/sebs_mac/50_latent/a4_a/a4_a_r1_wd_0.0_model_state.pt\"\n",
    "e_state_dict = \"/Users/sebs_mac/50_latent/a4_e/a4_e_r1_wd_0.0_model_state.pt\"\n",
    "states = [a_state_dict, e_state_dict]\n",
    "labels = [\"Ancestors\", \"Extants\"]\n",
    "\n",
    "results, grids = train_and_fit_vae_top_model(a4_train, a4_test, states, labels, \"A4\",\n",
    "                                              cls_list, param_grid_list, pipe, settings)"
   ]
  },
  {
   "cell_type": "markdown",
   "metadata": {},
   "source": [
    "### A4 clustering"
   ]
  },
  {
   "cell_type": "code",
   "execution_count": null,
   "metadata": {},
   "outputs": [],
   "source": [
    "with open(\"../data/dummy_config.yaml\", \"r\") as stream:\n",
    "    settings = yaml.safe_load(stream)\n",
    "\n",
    "cls_list, param_grid_list, pipe = instantiate_top_models_and_pipe()\n",
    "\n",
    "data_path = \"/Users/sebs_mac/uni_OneDrive/honours/data/seb_clustering_results/a4_seb_clusters/\"\n",
    "\n",
    "labels = [0.0, 0.05, 0.1, 0.15, 0.2]\n",
    "\n",
    "states = [data_path + f\"a4_{prop}/a4_{prop}_extants_r1/a4_{prop}_extants_r1_model_state.pt\" for prop in labels]\n",
    "results, grids = train_and_fit_vae_top_model(a4_train, a4_test, states, labels, \"A4\",\n",
    "                                               cls_list, param_grid_list, pipe, settings)"
   ]
  },
  {
   "cell_type": "markdown",
   "metadata": {},
   "source": [
    "# GB1"
   ]
  },
  {
   "cell_type": "code",
   "execution_count": null,
   "metadata": {},
   "outputs": [],
   "source": [
    "gb1_variants = pd.read_csv(dms_path + \"SPG1_STRSG_Wu_2016.csv\")\n",
    "gb1_variants[\"one_hot\"] = gb1_variants[\"mutated_sequence\"].apply(st.seq_to_one_hot)\n",
    "gb1_variants.head()"
   ]
  },
  {
   "cell_type": "code",
   "execution_count": null,
   "metadata": {},
   "outputs": [],
   "source": [
    "gb1_train, gb1_test = train_test_split(gb1_variants, train_size=0.8, random_state=42)\n",
    "gb1_train.shape, gb1_test.shape"
   ]
  },
  {
   "cell_type": "markdown",
   "metadata": {},
   "source": [
    "### ESM2"
   ]
  },
  {
   "cell_type": "code",
   "execution_count": null,
   "metadata": {},
   "outputs": [],
   "source": [
    "model, alphabet = esm.pretrained.esm2_t6_8M_UR50D()\n",
    "batch_converter = alphabet.get_batch_converter()\n",
    "model.eval()\n",
    "train_gb1_esm = get_transformer_embeddings(model, alphabet, batch_converter, gb1_train, model_layer=6)\n",
    "gb1_train = gb1_train.merge(train_gb1_esm, on=\"mutant\")\n",
    "\n",
    "test_gb1_esm = get_transformer_embeddings(model, alphabet, batch_converter, gb1_test, model_layer=6)\n",
    "gb1_test = gb1_test.merge(test_gb1_esm, on=\"mutant\")"
   ]
  },
  {
   "cell_type": "code",
   "execution_count": null,
   "metadata": {},
   "outputs": [],
   "source": [
    "gb1_Xs_train = np.stack(a4_train[\"embedding\"])\n",
    "gb1_ys_train = np.array([float(y) for y in gb1_train[\"DMS_score\"]])\n",
    "gb1_Xs_test = np.stack(a4_train[\"embedding\"])\n",
    "gb1_ys_test = np.array([float(y) for y in gb1_train[\"DMS_score\"]])\n",
    "\n",
    "cls_list, param_grid_list, pipe = instantiate_top_models_and_pipe()\n",
    "\n",
    "results, grids = perform_grid_search(gb1_Xs_train, gb1_ys_train, cls_list, param_grid_list, pipe)\n",
    "for grid in grids:\n",
    "    print(grid.best_estimator_.get_params()[\"steps\"][0][1]) # get the model details from the estimator\n",
    "    print()\n",
    "    preds = grid.predict(gb1_Xs_test)\n",
    "    print(f'{scipy.stats.spearmanr(gb1_ys_test, preds)}')\n",
    "    print('\\n', '-' * 80, '\\n')"
   ]
  },
  {
   "cell_type": "markdown",
   "metadata": {},
   "source": [
    "### One-hot"
   ]
  },
  {
   "cell_type": "code",
   "execution_count": null,
   "metadata": {},
   "outputs": [],
   "source": [
    "results, grids = one_hot_top_model(gb1_train, gb1_test)"
   ]
  },
  {
   "cell_type": "markdown",
   "metadata": {},
   "source": [
    "### GB1 ancestors/extant models"
   ]
  },
  {
   "cell_type": "code",
   "execution_count": null,
   "metadata": {},
   "outputs": [],
   "source": [
    "# read in dummy config with correct dimensions \n",
    "with open(\"../data/dummy_config_50_latent.yaml\", \"r\") as stream:\n",
    "    settings = yaml.safe_load(stream)\n",
    "\n",
    "cls_list, param_grid_list, pipe = instantiate_top_models_and_pipe()\n",
    "\n",
    "a_state_dict = \"/Users/sebs_mac/50_latent/gb1_a/gb1_a_r1_wd_0.0_model_state.pt\"\n",
    "e_state_dict = \"/Users/sebs_mac/50_latent/gb1_e/gb1_e_r1_wd_0.0_model_state.pt\"\n",
    "states = [a_state_dict, e_state_dict]\n",
    "labels = [\"Ancestors\", \"Extants\"]\n",
    "\n",
    "results, grids = train_and_fit_vae_top_model(gb1_train, gb1_test, states, labels, \"GB1\",\n",
    "                                              cls_list, param_grid_list, pipe, settings)"
   ]
  },
  {
   "cell_type": "markdown",
   "metadata": {},
   "source": [
    "### GB1 clustering "
   ]
  },
  {
   "cell_type": "code",
   "execution_count": null,
   "metadata": {},
   "outputs": [],
   "source": [
    "with open(\"../data/dummy_config.yaml\", \"r\") as stream:\n",
    "    settings = yaml.safe_load(stream)\n",
    "\n",
    "cls_list, param_grid_list, pipe = instantiate_top_models_and_pipe()\n",
    "\n",
    "data_path = \"/Users/sebs_mac/uni_OneDrive/honours/data/seb_clustering_results/gb1_seb_clusters/\"\n",
    "\n",
    "labels = [0.0, 0.05, 0.1, 0.15]\n",
    "\n",
    "states = [data_path + f\"gb1_{prop}/gb1_{prop}_r1/gb1_{prop}_r1_model_state.pt\" for prop in labels]\n",
    "results, grids = train_and_fit_vae_top_model(gb1_train, gb1_test, states, labels, \"GB1\",\n",
    "                                               cls_list, param_grid_list, pipe, settings)"
   ]
  }
 ],
 "metadata": {
  "kernelspec": {
   "display_name": "seb_rocm",
   "language": "python",
   "name": "seb_rocm"
  },
  "language_info": {
   "codemirror_mode": {
    "name": "ipython",
    "version": 3
   },
   "file_extension": ".py",
   "mimetype": "text/x-python",
   "name": "python",
   "nbconvert_exporter": "python",
   "pygments_lexer": "ipython3",
   "version": "3.9.18"
  }
 },
 "nbformat": 4,
 "nbformat_minor": 4
}
