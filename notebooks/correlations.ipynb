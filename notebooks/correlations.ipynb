{
 "cells": [
  {
   "cell_type": "code",
   "execution_count": 2,
   "id": "20cb1214-bf4e-4e8f-9b92-0c0e00142476",
   "metadata": {},
   "outputs": [],
   "source": [
    "from evoVAE.utils.datasets import MSA_Dataset\n",
    "import evoVAE.utils.seq_tools as st\n",
    "import evoVAE.utils.metrics as mt\n",
    "from evoVAE.models.seqVAETest import SeqVAETest\n",
    "import pandas as pd\n",
    "import torch\n",
    "import numpy as np\n",
    "\n",
    "pd.set_option(\"display.max_rows\", None)"
   ]
  },
  {
   "cell_type": "code",
   "execution_count": 3,
   "id": "99645d96-8747-4bef-8275-600ce352d345",
   "metadata": {
    "scrolled": true
   },
   "outputs": [
    {
     "data": {
      "text/plain": [
       "SeqVAETest(\n",
       "  (encoder): Sequential(\n",
       "    (0): Sequential(\n",
       "      (0): Linear(in_features=4998, out_features=256, bias=True)\n",
       "      (1): LeakyReLU(negative_slope=0.01)\n",
       "      (2): Linear(in_features=256, out_features=256, bias=True)\n",
       "      (3): LeakyReLU(negative_slope=0.01)\n",
       "    )\n",
       "    (1): Sequential(\n",
       "      (0): Linear(in_features=256, out_features=128, bias=True)\n",
       "      (1): LeakyReLU(negative_slope=0.01)\n",
       "      (2): Linear(in_features=128, out_features=128, bias=True)\n",
       "      (3): LeakyReLU(negative_slope=0.01)\n",
       "    )\n",
       "    (2): Sequential(\n",
       "      (0): Linear(in_features=128, out_features=64, bias=True)\n",
       "      (1): LeakyReLU(negative_slope=0.01)\n",
       "      (2): Linear(in_features=64, out_features=64, bias=True)\n",
       "      (3): LeakyReLU(negative_slope=0.01)\n",
       "    )\n",
       "  )\n",
       "  (z_mu_sampler): Linear(in_features=64, out_features=3, bias=True)\n",
       "  (z_logvar_sampler): Linear(in_features=64, out_features=3, bias=True)\n",
       "  (upscale_z): Linear(in_features=3, out_features=64, bias=True)\n",
       "  (decoder): Sequential(\n",
       "    (0): Sequential(\n",
       "      (0): Linear(in_features=64, out_features=128, bias=True)\n",
       "      (1): LeakyReLU(negative_slope=0.01)\n",
       "      (2): Linear(in_features=128, out_features=128, bias=True)\n",
       "      (3): LeakyReLU(negative_slope=0.01)\n",
       "    )\n",
       "    (1): Sequential(\n",
       "      (0): Linear(in_features=128, out_features=256, bias=True)\n",
       "      (1): LeakyReLU(negative_slope=0.01)\n",
       "      (2): Linear(in_features=256, out_features=256, bias=True)\n",
       "      (3): LeakyReLU(negative_slope=0.01)\n",
       "    )\n",
       "    (2): Linear(in_features=256, out_features=4998, bias=True)\n",
       "  )\n",
       ")"
      ]
     },
     "execution_count": 3,
     "metadata": {},
     "output_type": "execute_result"
    }
   ],
   "source": [
    "extants_aln = pd.read_pickle(\"../data/gfp/GFP_AEQVI_full_04-29-2022_b08_extants_no_syn_no_dupes.pkl\")\n",
    "\n",
    "train_dataset = MSA_Dataset(extants_aln[\"encoding\"], extants_aln[\"weights\"], extants_aln[\"id\"])\n",
    "train_loader = torch.utils.data.DataLoader(\n",
    "    train_dataset, batch_size=1, shuffle=False\n",
    ")\n",
    "\n",
    "SEQ_LEN = 0\n",
    "BATCH_ZERO = 0\n",
    "SEQ_ZERO = 0\n",
    "seq_len = train_dataset[BATCH_ZERO][SEQ_ZERO].shape[SEQ_LEN]\n",
    "input_dims = seq_len * 21\n",
    "\n",
    "\n",
    "config={\n",
    "            # Dataset info\n",
    "            \"alignment\": \"tets\",\n",
    "            \"seq_theta\": 0.2,  # reweighting\n",
    "            \"AA_count\": 21,  # standard AA + gap\n",
    "            \"test_split\": 0.2,\n",
    "            \"max_mutation\": 4,  # how many mutations the model will test up to\n",
    "            # ADAM\n",
    "            \"learning_rate\": 1e-2,  # ADAM\n",
    "            \"weight_decay\": 1e-4,  # ADAM\n",
    "            # Hidden units\n",
    "            \"momentum\": None,\n",
    "            \"dropout\": None,\n",
    "            # Training loop\n",
    "            \"epochs\": 500,\n",
    "            \"batch_size\": 128,\n",
    "            \"max_norm\": 10,  # gradient clipping\n",
    "            \"patience\": 3,\n",
    "            # Model info - default settings\n",
    "            \"architecture\": f\"SeqVAE_0.25_ancestors_R\",\n",
    "            \"latent_dims\": 3,\n",
    "            \"hidden_dims\": [256, 128, 64],\n",
    "            # DMS data\n",
    "            \"dms_file\": \"../data/SPG1_STRSG_Wu_2016.pkl\",\n",
    "            \"dms_metadata\": \"../data/DMS_substitutions.csv\",\n",
    "            \"dms_id\": \"SPG1_STRSG_Wu_2016\",\n",
    "}\n",
    "\n",
    "\n",
    "train_dataset = MSA_Dataset(extants_aln[\"encoding\"], extants_aln[\"weights\"], extants_aln[\"id\"])\n",
    "train_loader = torch.utils.data.DataLoader(\n",
    "    train_dataset, batch_size=4, shuffle=False\n",
    ")\n",
    "\n",
    "SEQ_LEN = 0\n",
    "BATCH_ZERO = 0\n",
    "SEQ_ZERO = 0\n",
    "seq_len = train_dataset[BATCH_ZERO][SEQ_ZERO].shape[SEQ_LEN]\n",
    "input_dims = seq_len * 21\n",
    "\n",
    "model = SeqVAETest(input_dims, 3, hidden_dims=config[\"hidden_dims\"], config=config)\n",
    "model.load_state_dict(torch.load(\"../data/gfp/model_weights/gfp_extants_no_duplicates_model_state.pt\"))\n",
    "model.eval()"
   ]
  },
  {
   "cell_type": "code",
   "execution_count": 4,
   "id": "6a180e85-360a-4177-9f25-b25a9c127d64",
   "metadata": {},
   "outputs": [
    {
     "data": {
      "text/html": [
       "<div>\n",
       "<style scoped>\n",
       "    .dataframe tbody tr th:only-of-type {\n",
       "        vertical-align: middle;\n",
       "    }\n",
       "\n",
       "    .dataframe tbody tr th {\n",
       "        vertical-align: top;\n",
       "    }\n",
       "\n",
       "    .dataframe thead th {\n",
       "        text-align: right;\n",
       "    }\n",
       "</style>\n",
       "<table border=\"1\" class=\"dataframe\">\n",
       "  <thead>\n",
       "    <tr style=\"text-align: right;\">\n",
       "      <th></th>\n",
       "      <th>id</th>\n",
       "      <th>sequence</th>\n",
       "      <th>encoding</th>\n",
       "      <th>weights</th>\n",
       "    </tr>\n",
       "  </thead>\n",
       "  <tbody>\n",
       "    <tr>\n",
       "      <th>0</th>\n",
       "      <td>GFP_AEQVI/1-238</td>\n",
       "      <td>MSKGEELFTGVVPILVELDGDVNGHKFSVSGEGEGDATYGKLTLKF...</td>\n",
       "      <td>[[0.0, 0.0, 0.0, 0.0, 0.0, 0.0, 0.0, 0.0, 0.0,...</td>\n",
       "      <td>0.003861</td>\n",
       "    </tr>\n",
       "    <tr>\n",
       "      <th>1</th>\n",
       "      <td>UniRef100_UPI0011C34247/2-231</td>\n",
       "      <td>VSKGEELFTGVVPILVELDGDVNGHKFSVSGEGEGDATYGKLTLKF...</td>\n",
       "      <td>[[0.0, 0.0, 0.0, 0.0, 0.0, 0.0, 0.0, 0.0, 0.0,...</td>\n",
       "      <td>0.004115</td>\n",
       "    </tr>\n",
       "    <tr>\n",
       "      <th>2</th>\n",
       "      <td>UniRef100_UPI0011C34247/384-556</td>\n",
       "      <td>VSKGEELFTGVVPILVELDGDVNGHKFSVRGEGEGDATNGKLTLKL...</td>\n",
       "      <td>[[0.0, 0.0, 0.0, 0.0, 0.0, 0.0, 0.0, 0.0, 0.0,...</td>\n",
       "      <td>0.062500</td>\n",
       "    </tr>\n",
       "    <tr>\n",
       "      <th>4</th>\n",
       "      <td>UniRef100_UPI0011C3426C/384-556</td>\n",
       "      <td>VSKGEELFTGVVPILVELDGDVNGHKFSVRGEGEGDATNGKLTLKL...</td>\n",
       "      <td>[[0.0, 0.0, 0.0, 0.0, 0.0, 0.0, 0.0, 0.0, 0.0,...</td>\n",
       "      <td>0.062500</td>\n",
       "    </tr>\n",
       "    <tr>\n",
       "      <th>5</th>\n",
       "      <td>UniRef100_UPI001C2E920B/3-240</td>\n",
       "      <td>MSKGEELFTGVVPILVELDGDVNGHKFSVSGEGEGDATYGKLTLKF...</td>\n",
       "      <td>[[0.0, 0.0, 0.0, 0.0, 0.0, 0.0, 0.0, 0.0, 0.0,...</td>\n",
       "      <td>0.003861</td>\n",
       "    </tr>\n",
       "  </tbody>\n",
       "</table>\n",
       "</div>"
      ],
      "text/plain": [
       "                                id  \\\n",
       "0                  GFP_AEQVI/1-238   \n",
       "1    UniRef100_UPI0011C34247/2-231   \n",
       "2  UniRef100_UPI0011C34247/384-556   \n",
       "4  UniRef100_UPI0011C3426C/384-556   \n",
       "5    UniRef100_UPI001C2E920B/3-240   \n",
       "\n",
       "                                            sequence  \\\n",
       "0  MSKGEELFTGVVPILVELDGDVNGHKFSVSGEGEGDATYGKLTLKF...   \n",
       "1  VSKGEELFTGVVPILVELDGDVNGHKFSVSGEGEGDATYGKLTLKF...   \n",
       "2  VSKGEELFTGVVPILVELDGDVNGHKFSVRGEGEGDATNGKLTLKL...   \n",
       "4  VSKGEELFTGVVPILVELDGDVNGHKFSVRGEGEGDATNGKLTLKL...   \n",
       "5  MSKGEELFTGVVPILVELDGDVNGHKFSVSGEGEGDATYGKLTLKF...   \n",
       "\n",
       "                                            encoding   weights  \n",
       "0  [[0.0, 0.0, 0.0, 0.0, 0.0, 0.0, 0.0, 0.0, 0.0,...  0.003861  \n",
       "1  [[0.0, 0.0, 0.0, 0.0, 0.0, 0.0, 0.0, 0.0, 0.0,...  0.004115  \n",
       "2  [[0.0, 0.0, 0.0, 0.0, 0.0, 0.0, 0.0, 0.0, 0.0,...  0.062500  \n",
       "4  [[0.0, 0.0, 0.0, 0.0, 0.0, 0.0, 0.0, 0.0, 0.0,...  0.062500  \n",
       "5  [[0.0, 0.0, 0.0, 0.0, 0.0, 0.0, 0.0, 0.0, 0.0,...  0.003861  "
      ]
     },
     "execution_count": 4,
     "metadata": {},
     "output_type": "execute_result"
    }
   ],
   "source": [
    "sub = extants_aln.head()\n",
    "ens = np.stack([x.flatten() for x in sub['encoding'].values])\n",
    "\n",
    "sub"
   ]
  },
  {
   "cell_type": "code",
   "execution_count": 5,
   "id": "844932b1-1519-4640-af2a-a82652669dbd",
   "metadata": {},
   "outputs": [
    {
     "name": "stdout",
     "output_type": "stream",
     "text": [
      "Sequence converted to numpy array with shape (5, 238)\n"
     ]
    },
    {
     "data": {
      "text/plain": [
       "(5, 238)"
      ]
     },
     "execution_count": 5,
     "metadata": {},
     "output_type": "execute_result"
    }
   ],
   "source": [
    "from evoVAE.utils.seq_tools import IDX_TO_AA, AA_TO_IDX\n",
    "\n",
    "\n",
    "# convert MSA to numpy array for inputing to VAE\n",
    "def convert_msa_numpy_array(aln):\n",
    "  sequence_pattern_dict = {}\n",
    "  seq_msa = []\n",
    "  seq_key = []\n",
    "  seq_label = []\n",
    "\n",
    "  lb = 0\n",
    "\n",
    "  for id, seq in zip(aln['id'], aln['sequence']):\n",
    "      seq_trns = [AA_TO_IDX[s] for s in seq]\n",
    "      seq_trns_m = ''.join([str(x) for x in seq_trns])\n",
    "      seq_msa.append(seq_trns)\n",
    "      seq_key.append(id)\n",
    "\n",
    "      if seq_trns_m not in sequence_pattern_dict:\n",
    "        sequence_pattern_dict.update({seq_trns_m: lb})\n",
    "        lb = lb + 1\n",
    "\n",
    "      seq_label.append(sequence_pattern_dict[seq_trns_m])\n",
    "\n",
    "  seq_msa = np.array(seq_msa)\n",
    "\n",
    "  print(\"Sequence converted to numpy array with shape\",seq_msa.shape)\n",
    "  return seq_msa,seq_key,seq_label\n",
    "\n",
    "seq_msa,seq_key,seq_label = convert_msa_numpy_array(sub)\n",
    "seq_msa.shape"
   ]
  },
  {
   "cell_type": "code",
   "execution_count": 7,
   "id": "01184cab-f9ca-4e7e-8569-cd43ccb47888",
   "metadata": {},
   "outputs": [
    {
     "name": "stdout",
     "output_type": "stream",
     "text": [
      "tensor([-696.0979, -696.5344, -699.2644, -699.3359], dtype=torch.float64,\n",
      "       grad_fn=<SumBackward1>)\n",
      "tensor([0.0131, 0.0131, 0.0131, 0.0131], grad_fn=<SumBackward1>)\n",
      "tensor([0.0039, 0.0041, 0.0625, 0.0625], dtype=torch.float64)\n",
      "tensor([-696.1110, -696.5474, -699.2774, -699.3490], dtype=torch.float64,\n",
      "       grad_fn=<SubBackward0>) tensor([0.0290, 0.0309, 0.4700, 0.4700], dtype=torch.float64)\n",
      "tensor(-699.1216, dtype=torch.float64, grad_fn=<SumBackward0>)\n",
      "tensor(0.0131, dtype=torch.float64, grad_fn=<SumBackward0>)\n",
      "tensor(-699.1346, dtype=torch.float64, grad_fn=<SumBackward0>)\n"
     ]
    }
   ],
   "source": [
    "\n",
    "names = []\n",
    "z_vals = []\n",
    "from evoVAE.loss.standard_loss import KL_divergence\n",
    "\n",
    "\n",
    "# SAMPLE Z VALUES FROM THE MODEL FOR EACH EXTANT\n",
    "for encoding, weights, name in train_loader:\n",
    "\n",
    "\n",
    "    xHat, zSample, zMu, zLogvar = model.forward(encoding.float())\n",
    "\n",
    "    # average KL across whole batch\n",
    "    KLD = KL_divergence(zMu, zLogvar, zSample, weights)\n",
    "\n",
    "    #input_shape = tuple(xHat.shape[0:-1])\n",
    "    #xHat = torch.unsqueeze(xHat, -1)\n",
    "    #xHat = xHat.view(input_shape + (-1, self.AA_COUNT))\n",
    "\n",
    "    flat_input = torch.flatten(encoding, start_dim=1)\n",
    "    log_PxGz = torch.sum(flat_input * xHat, -1)\n",
    "    print(log_PxGz)\n",
    "    print(KLD)\n",
    "    print(weights)\n",
    "\n",
    "    elbo = log_PxGz - KLD\n",
    "    norm_weight = weights / torch.sum(weights)\n",
    "    print(elbo, norm_weight)\n",
    "    elbo = torch.sum(elbo * norm_weight)\n",
    "    print(torch.sum(log_PxGz * norm_weight))\n",
    "    print(torch.sum(KLD * norm_weight))\n",
    "    print(elbo)\n",
    "    \n",
    "\n",
    "    # no weighting yet on KLD or recon\n",
    "    #print(log_PxGz[:, :2])\n",
    "    #elbo = log_PxGz - KLD\n",
    "    #print(elbo.shape)\n",
    "    #print(elbo[:, :2])\n",
    "    \n",
    "    #names.append(name[0])\n",
    "    #z_vals.append(z_sample.detach().numpy())\n",
    "    break \n",
    "\n",
    "\n"
   ]
  },
  {
   "cell_type": "code",
   "execution_count": 4,
   "id": "87cf86b3-556e-4fdc-a695-cc1a5c07aefe",
   "metadata": {},
   "outputs": [],
   "source": [
    "\n",
    "import torch.nn.functional as F\n",
    "import evoVAE.utils.seq_tools as st\n",
    "import evoVAE.utils.metrics as mt\n",
    "\n",
    "count = 0\n",
    "recons = []\n",
    "# EVALUATE DIFFERENCES BETWEEN THE RECONSTRUCTIONS AND INPUT \n",
    "for id, z in zip(id_to_z['id'], id_to_z['z']):\n",
    "    x_hat = model.decode(torch.tensor(z))\n",
    "    x_hat.shape\n",
    "    orig_shape = tuple(x_hat.shape[0:-1])\n",
    "    \n",
    "    x_hat = torch.unsqueeze(x_hat, -1)\n",
    "    x_hat = x_hat.view(orig_shape + (-1, 21))\n",
    "\n",
    "    print(x_hat[:, :1, :])\n",
    "\n",
    "    SEQ_POSITIONS = 0\n",
    "    indices = x_hat.max(dim=-1).indices.tolist()\n",
    "    \n",
    "    test = extants_aln[extants_aln['id'] == id]['sequence'].values[0]\n",
    "    print(test)\n",
    "    recon = \"\".join([st.GAPPY_PROTEIN_ALPHABET[x] for x in indices[SEQ_POSITIONS]])\n",
    "    print(recon)\n",
    "    print()\n",
    "    recons.append(recon)\n",
    "    count += 1\n",
    "    if count == 5:\n",
    "        break\n"
   ]
  },
  {
   "cell_type": "code",
   "execution_count": 9,
   "id": "1af933a5-2b7f-4dbe-a9f0-0b024cd5f139",
   "metadata": {
    "scrolled": true
   },
   "outputs": [
    {
     "data": {
      "text/plain": [
       "['-SKGAELFTGVVPILVELDGDVNGHKFSVRGEGEGDATTGKLTLKFICTTGKLPVPWPTLVTTLTYGVLCFARYPDHMK-HDFFKSAMPEGYVQERTISFKDDGNYKTRAEVKFEGGTLVNRIELKGIDFKEDGNILGHKLEYNYNSHNVYILADKQKNGIKVNFNIRHNVEDGSVQLADHYQQNTPIGDGPVLLPDYHYLSTQ-ALSKDPNEKRDHMVLLEFVTAAGIT--------',\n",
       " '-SKGAELFTGVVPILVELDGDVNGHKFSVRGEGEGDATTGKLTLKFICTTGKLPVPWPTLVTTLTYGVLCFARYPDHMK-HDFFKSAMPEGYVQERTISFKDDGNYKTRAEVKFEGGTLVNRIELKGIDFKEDGNILGHKLEYNYNSHNVYILADKQKNGIKVNFNIRHNVEDGSVQLADHYQQNTPIGDGPVLLPDYHYLSTQ-ALSKDPNEKRDHMVLLEFVTAAGIT--------',\n",
       " '-SKGAELFTGVVPILVELDGDVNGHKFSVRGEGEGDATTGKLTLKFICTTGKLPVPWPTLVTTLTYGVLCFARYPDHMK-HDFFKSAMPEGYVQERTISFKDDGNYKTRAEVKFEGGTLVNRIELKGIDFKEDGNILGHKLEYNYNSHNVYILADKQKNGIKVNFNIRHNVEDGSVQLADHYQQNTPIGDGPVLLPDYHYLSTQ-ALSKDPNEKRDHMVLLEFVTAAGIT--------',\n",
       " '-SKGAELFTGVVPILVELDGDVNGHKFSVRGEGEGDATTGKLTLKFICTTGKLPVPWPTLVTTLTYGVLCFARYPDHMK-HDFFKSAMPEGYVQERTISFKDDGNYKTRAEVKFEGGTLVNRIELKGIDFKEDGNILGHKLEYNYNSHNVYILADKQKNGIKVNFNIRHNVEDGSVQLADHYQQNTPIGDGPVLLPDYHYLSTQ-ALSKDPNEKRDHMVLLEFVTAAGIT--------',\n",
       " '-SKGAELFTGVVPILVELDGDVNGHKFSVRGEGEGDATTGKLTLKFICTTGKLPVPWPTLVTTLTYGVLCFARYPDHMK-HDFFKSAMPEGYVQERTISFKDDGNYKTRAEVKFEGGTLVNRIELKGIDFKEDGNILGHKLEYNYNSHNVYILADKQKNGIKVNFNIRHNVEDGSVQLADHYQQNTPIGDGPVLLPDYHYLSTQ-ALSKDPNEKRDHMVLLEFVTAAGIT--------']"
      ]
     },
     "execution_count": 9,
     "metadata": {},
     "output_type": "execute_result"
    }
   ],
   "source": [
    "recons[-5:]"
   ]
  },
  {
   "cell_type": "code",
   "execution_count": 10,
   "id": "968312aa-60e4-4855-bc1d-e06cc3396622",
   "metadata": {},
   "outputs": [
    {
     "data": {
      "text/plain": [
       "['-SKGAELFTGVVPILVELDGDVNGHKFSVRGEGEGDATTGKLTLKFICTTGKLPVPWPTLVTTLTYGVLCFARYPDHMK-HDFFKSAMPEGYVQERTISFKDDGNYKTRAEVKFEGGTLVNRIELKGIDFKEDGNILGHKLEYNYNSHNVYILADKQKNGIKVNFNIRHNVEDGSVQLADHYQQNTPIGDGPVLLPDYHYLSTQ-ALSKDPNEKRDHMVLLEFVTAAGIT--------',\n",
       " '-SKGAELFTGVVPILVELDGDVNGHKFSVRGEGEGDATTGKLTLKFICTTGKLPVPWPTLVTTLTYGVLCFARYPDHMK-HDFFKSAMPEGYVQERTISFKDDGNYKTRAEVKFEGGTLVNRIELKGIDFKEDGNILGHKLEYNYNSHNVYILADKQKNGIKVNFNIRHNVEDGSVQLADHYQQNTPIGDGPVLLPDYHYLSTQ-ALSKDPNEKRDHMVLLEFVTAAGIT--------',\n",
       " '-SKGAELFTGVVPILVELDGDVNGHKFSVRGEGEGDATTGKLTLKFICTTGKLPVPWPTLVTTLTYGVLCFARYPDHMK-HDFFKSAMPEGYVQERTISFKDDGNYKTRAEVKFEGGTLVNRIELKGIDFKEDGNILGHKLEYNYNSHNVYILADKQKNGIKVNFNIRHNVEDGSVQLADHYQQNTPIGDGPVLLPDYHYLSTQ-ALSKDPNEKRDHMVLLEFVTAAGIT--------',\n",
       " '-SKGAELFTGVVPILVELDGDVNGHKFSVRGEGEGDATTGKLTLKFICTTGKLPVPWPTLVTTLTYGVLCFARYPDHMK-HDFFKSAMPEGYVQERTISFKDDGNYKTRAEVKFEGGTLVNRIELKGIDFKEDGNILGHKLEYNYNSHNVYILADKQKNGIKVNFNIRHNVEDGSVQLADHYQQNTPIGDGPVLLPDYHYLSTQ-ALSKDPNEKRDHMVLLEFVTAAGIT--------',\n",
       " '-SKGAELFTGVVPILVELDGDVNGHKFSVRGEGEGDATTGKLTLKFICTTGKLPVPWPTLVTTLTYGVLCFARYPDHMK-HDFFKSAMPEGYVQERTISFKDDGNYKTRAEVKFEGGTLVNRIELKGIDFKEDGNILGHKLEYNYNSHNVYILADKQKNGIKVNFNIRHNVEDGSVQLADHYQQNTPIGDGPVLLPDYHYLSTQ-ALSKDPNEKRDHMVLLEFVTAAGIT--------']"
      ]
     },
     "execution_count": 10,
     "metadata": {},
     "output_type": "execute_result"
    }
   ],
   "source": [
    "recons[:5]"
   ]
  },
  {
   "cell_type": "code",
   "execution_count": null,
   "id": "22f4f5fb-1a2d-4bf7-93a0-246496ffdcc8",
   "metadata": {},
   "outputs": [],
   "source": []
  }
 ],
 "metadata": {
  "kernelspec": {
   "display_name": "Python 3",
   "language": "python",
   "name": "python3"
  },
  "language_info": {
   "codemirror_mode": {
    "name": "ipython",
    "version": 3
   },
   "file_extension": ".py",
   "mimetype": "text/x-python",
   "name": "python",
   "nbconvert_exporter": "python",
   "pygments_lexer": "ipython3",
   "version": "3.9.18"
  }
 },
 "nbformat": 4,
 "nbformat_minor": 5
}
